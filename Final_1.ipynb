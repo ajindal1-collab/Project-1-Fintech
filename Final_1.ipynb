{
 "cells": [
  {
   "cell_type": "markdown",
   "metadata": {},
   "source": [
    "## Pulling in Raw data into Dataframes"
   ]
  },
  {
   "cell_type": "code",
   "execution_count": 59,
   "metadata": {},
   "outputs": [],
   "source": [
    "# Create import files\n",
    "import pandas as pd\n",
    "from pathlib import Path\n",
    "\n",
    "# Import libraries for graphs\n",
    "import matplotlib.pyplot as plt\n",
    "import hvplot.pandas\n",
    "import seaborn as sns\n",
    "%matplotlib inline\n",
    "from panel.interact import interact\n",
    "from bokeh.models import ColumnDataSource, Slider, HoverTool, NumeralTickFormatter #Installation of bokeh is required\n",
    "from bokeh.plotting import figure, output_file, show\n",
    "import plotly.graph_objects as go\n",
    "import altair as alt  #Installation of Altair is required\n",
    "\n",
    "import numpy as np\n",
    "import panel as pn\n",
    "import plotly.express as px\n",
    "pn.extension(\"plotly\")"
   ]
  },
  {
   "cell_type": "code",
   "execution_count": 2,
   "metadata": {},
   "outputs": [],
   "source": [
    "# Set the CSV to use as Path Class\n",
    "closing_prices_path = Path(\"Raw_Data/Closing_prices.csv\")\n",
    "ESG_path = Path(\"Raw_Data/barrons_ESG.csv\")\n",
    "financial_path = Path(\"Raw_Data/Financial_Analysis.csv\")\n",
    "barron_path = Path(\"Raw_Data/barrons_Morningstars.csv\")"
   ]
  },
  {
   "cell_type": "code",
   "execution_count": 3,
   "metadata": {},
   "outputs": [],
   "source": [
    "# Import CSV into Dataframe\n",
    "\n",
    "closing_prices = pd.read_csv(closing_prices_path, index_col=\"Dates\", parse_dates=True, infer_datetime_format=True)\n",
    "ESG_data = pd.read_csv(ESG_path, index_col=\"Ticker\", parse_dates=True, infer_datetime_format=True)\n",
    "barron_data= pd.read_csv(barron_path, index_col=\"Ticker\", parse_dates=True, infer_datetime_format=True)\n",
    "financial_data = pd.read_csv(financial_path, parse_dates=True, infer_datetime_format=True)\n",
    "\n",
    "#Modify column name in financial_data to match name with other Indexes\n",
    "financial_data = financial_data.rename(columns={\"Tickers\": \"Ticker\"})\n",
    "financial_clean = financial_data.set_index('Ticker').dropna()"
   ]
  },
  {
   "cell_type": "code",
   "execution_count": 4,
   "metadata": {},
   "outputs": [],
   "source": [
    "# Rename SPX Index to match closing prices data\n",
    "ESG_data.rename(index = {\"SPY\": \"SPX_index\"}, inplace = True) \n",
    "financial_clean.rename(index = {\"SPY\": \"SPX_index\"}, inplace = True)\n",
    "barron_data.rename(index = {\"SPY\": \"SPX_index\"}, inplace = True)"
   ]
  },
  {
   "cell_type": "markdown",
   "metadata": {},
   "source": [
    "## Data cleaning"
   ]
  },
  {
   "cell_type": "code",
   "execution_count": 5,
   "metadata": {},
   "outputs": [],
   "source": [
    "# Drop Null Values\n",
    "closing_fixed = closing_prices.dropna(axis = 'columns')\n",
    "ESG_fixed = ESG_data.dropna()"
   ]
  },
  {
   "cell_type": "code",
   "execution_count": 6,
   "metadata": {},
   "outputs": [],
   "source": [
    "# Rename the columns\n",
    "closing_fixed.columns = closing_fixed.columns.str.replace(r'us equity', '')\n",
    "barron_data.columns = ['Name','10 year return', 'Dividend Yield TTM', 'Morningstar Risk', 'Turnover Ratio', 'SEC Dividend Yield', 'Morningstar Rating','Fund Category', 'Standard Deviation 3 year']\n",
    "barron_data = barron_data.dropna(subset=['10 year return'])"
   ]
  },
  {
   "cell_type": "code",
   "execution_count": 7,
   "metadata": {},
   "outputs": [],
   "source": [
    "# Delete unnessary columns and rows\n",
    "del financial_clean['Weight (%)']\n",
    "del barron_data['SEC Dividend Yield']\n",
    "del barron_data['Standard Deviation 3 year']\n",
    "barron_clean = barron_data.drop(['barrons_tickers'])"
   ]
  },
  {
   "cell_type": "markdown",
   "metadata": {},
   "source": [
    "## Correctly Formatted Dataframes for Team\n"
   ]
  },
  {
   "cell_type": "code",
   "execution_count": 8,
   "metadata": {},
   "outputs": [
    {
     "data": {
      "text/html": [
       "<div>\n",
       "<style scoped>\n",
       "    .dataframe tbody tr th:only-of-type {\n",
       "        vertical-align: middle;\n",
       "    }\n",
       "\n",
       "    .dataframe tbody tr th {\n",
       "        vertical-align: top;\n",
       "    }\n",
       "\n",
       "    .dataframe thead th {\n",
       "        text-align: right;\n",
       "    }\n",
       "</style>\n",
       "<table border=\"1\" class=\"dataframe\">\n",
       "  <thead>\n",
       "    <tr style=\"text-align: right;\">\n",
       "      <th></th>\n",
       "      <th>MXXVX</th>\n",
       "      <th>VLCGX</th>\n",
       "      <th>MIGFX</th>\n",
       "      <th>UMLGX</th>\n",
       "      <th>MGK</th>\n",
       "      <th>VIGRX</th>\n",
       "      <th>CSIEX</th>\n",
       "      <th>WLGAX</th>\n",
       "      <th>POGAX</th>\n",
       "      <th>BIAFX</th>\n",
       "      <th>...</th>\n",
       "      <th>SSHFX</th>\n",
       "      <th>HRCVX</th>\n",
       "      <th>FBCVX</th>\n",
       "      <th>NNGRX</th>\n",
       "      <th>TORYX</th>\n",
       "      <th>FDSAX</th>\n",
       "      <th>YAFFX</th>\n",
       "      <th>YACKX</th>\n",
       "      <th>SPX_index</th>\n",
       "      <th>GSIN index</th>\n",
       "    </tr>\n",
       "    <tr>\n",
       "      <th>Dates</th>\n",
       "      <th></th>\n",
       "      <th></th>\n",
       "      <th></th>\n",
       "      <th></th>\n",
       "      <th></th>\n",
       "      <th></th>\n",
       "      <th></th>\n",
       "      <th></th>\n",
       "      <th></th>\n",
       "      <th></th>\n",
       "      <th></th>\n",
       "      <th></th>\n",
       "      <th></th>\n",
       "      <th></th>\n",
       "      <th></th>\n",
       "      <th></th>\n",
       "      <th></th>\n",
       "      <th></th>\n",
       "      <th></th>\n",
       "      <th></th>\n",
       "      <th></th>\n",
       "    </tr>\n",
       "  </thead>\n",
       "  <tbody>\n",
       "    <tr>\n",
       "      <th>2010-01-01</th>\n",
       "      <td>11.83</td>\n",
       "      <td>10.04</td>\n",
       "      <td>13.43</td>\n",
       "      <td>10.14</td>\n",
       "      <td>41.8700</td>\n",
       "      <td>27.32</td>\n",
       "      <td>30.53</td>\n",
       "      <td>11.40</td>\n",
       "      <td>14.02</td>\n",
       "      <td>7.84</td>\n",
       "      <td>...</td>\n",
       "      <td>28.58</td>\n",
       "      <td>12.06</td>\n",
       "      <td>9.96</td>\n",
       "      <td>17.13</td>\n",
       "      <td>26.76</td>\n",
       "      <td>9.98</td>\n",
       "      <td>16.13</td>\n",
       "      <td>15.22</td>\n",
       "      <td>1115.10</td>\n",
       "      <td>72.81</td>\n",
       "    </tr>\n",
       "    <tr>\n",
       "      <th>2010-01-04</th>\n",
       "      <td>12.01</td>\n",
       "      <td>10.22</td>\n",
       "      <td>13.59</td>\n",
       "      <td>10.23</td>\n",
       "      <td>42.4699</td>\n",
       "      <td>27.76</td>\n",
       "      <td>30.97</td>\n",
       "      <td>11.58</td>\n",
       "      <td>14.26</td>\n",
       "      <td>7.93</td>\n",
       "      <td>...</td>\n",
       "      <td>29.10</td>\n",
       "      <td>12.22</td>\n",
       "      <td>10.20</td>\n",
       "      <td>17.45</td>\n",
       "      <td>27.08</td>\n",
       "      <td>10.12</td>\n",
       "      <td>16.33</td>\n",
       "      <td>15.41</td>\n",
       "      <td>1132.98</td>\n",
       "      <td>74.05</td>\n",
       "    </tr>\n",
       "    <tr>\n",
       "      <th>2010-01-05</th>\n",
       "      <td>12.07</td>\n",
       "      <td>10.24</td>\n",
       "      <td>13.57</td>\n",
       "      <td>10.27</td>\n",
       "      <td>42.5700</td>\n",
       "      <td>27.84</td>\n",
       "      <td>31.09</td>\n",
       "      <td>11.61</td>\n",
       "      <td>14.30</td>\n",
       "      <td>7.97</td>\n",
       "      <td>...</td>\n",
       "      <td>29.20</td>\n",
       "      <td>12.23</td>\n",
       "      <td>10.29</td>\n",
       "      <td>17.52</td>\n",
       "      <td>27.07</td>\n",
       "      <td>10.14</td>\n",
       "      <td>16.33</td>\n",
       "      <td>15.41</td>\n",
       "      <td>1136.52</td>\n",
       "      <td>74.24</td>\n",
       "    </tr>\n",
       "  </tbody>\n",
       "</table>\n",
       "<p>3 rows × 133 columns</p>\n",
       "</div>"
      ],
      "text/plain": [
       "             MXXVX    VLCGX    MIGFX    UMLGX      MGK    VIGRX    CSIEX   \\\n",
       "Dates                                                                       \n",
       "2010-01-01    11.83    10.04    13.43    10.14  41.8700    27.32    30.53   \n",
       "2010-01-04    12.01    10.22    13.59    10.23  42.4699    27.76    30.97   \n",
       "2010-01-05    12.07    10.24    13.57    10.27  42.5700    27.84    31.09   \n",
       "\n",
       "             WLGAX    POGAX    BIAFX   ...   SSHFX    HRCVX    FBCVX   \\\n",
       "Dates                                  ...                              \n",
       "2010-01-01    11.40    14.02     7.84  ...    28.58    12.06     9.96   \n",
       "2010-01-04    11.58    14.26     7.93  ...    29.10    12.22    10.20   \n",
       "2010-01-05    11.61    14.30     7.97  ...    29.20    12.23    10.29   \n",
       "\n",
       "             NNGRX    TORYX    FDSAX    YAFFX    YACKX   SPX_index  GSIN index  \n",
       "Dates                                                                           \n",
       "2010-01-01    17.13    26.76     9.98    16.13    15.22    1115.10       72.81  \n",
       "2010-01-04    17.45    27.08    10.12    16.33    15.41    1132.98       74.05  \n",
       "2010-01-05    17.52    27.07    10.14    16.33    15.41    1136.52       74.24  \n",
       "\n",
       "[3 rows x 133 columns]"
      ]
     },
     "execution_count": 8,
     "metadata": {},
     "output_type": "execute_result"
    }
   ],
   "source": [
    "closing_fixed.head(3)"
   ]
  },
  {
   "cell_type": "code",
   "execution_count": 9,
   "metadata": {},
   "outputs": [
    {
     "data": {
      "text/html": [
       "<div>\n",
       "<style scoped>\n",
       "    .dataframe tbody tr th:only-of-type {\n",
       "        vertical-align: middle;\n",
       "    }\n",
       "\n",
       "    .dataframe tbody tr th {\n",
       "        vertical-align: top;\n",
       "    }\n",
       "\n",
       "    .dataframe thead th {\n",
       "        text-align: right;\n",
       "    }\n",
       "</style>\n",
       "<table border=\"1\" class=\"dataframe\">\n",
       "  <thead>\n",
       "    <tr style=\"text-align: right;\">\n",
       "      <th></th>\n",
       "      <th>Name</th>\n",
       "      <th>P/E Forward</th>\n",
       "      <th>P/B</th>\n",
       "      <th>ROA</th>\n",
       "      <th>ROE</th>\n",
       "      <th>Projected EPS Growth (%)</th>\n",
       "      <th>Yield (%)</th>\n",
       "      <th>Market Cap($ mil)</th>\n",
       "    </tr>\n",
       "    <tr>\n",
       "      <th>Ticker</th>\n",
       "      <th></th>\n",
       "      <th></th>\n",
       "      <th></th>\n",
       "      <th></th>\n",
       "      <th></th>\n",
       "      <th></th>\n",
       "      <th></th>\n",
       "      <th></th>\n",
       "    </tr>\n",
       "  </thead>\n",
       "  <tbody>\n",
       "    <tr>\n",
       "      <th>AMFEX</th>\n",
       "      <td>AAMA Equity</td>\n",
       "      <td>16.21</td>\n",
       "      <td>2.81</td>\n",
       "      <td>9.91</td>\n",
       "      <td>28.25</td>\n",
       "      <td>9.79</td>\n",
       "      <td>0.87</td>\n",
       "      <td>114,361.73</td>\n",
       "    </tr>\n",
       "    <tr>\n",
       "      <th>AUIAX</th>\n",
       "      <td>AB Equity Income A</td>\n",
       "      <td>13.37</td>\n",
       "      <td>1.97</td>\n",
       "      <td>8.47</td>\n",
       "      <td>28.10</td>\n",
       "      <td>8.01</td>\n",
       "      <td>2.91</td>\n",
       "      <td>95,224.17</td>\n",
       "    </tr>\n",
       "    <tr>\n",
       "      <th>FDSAX</th>\n",
       "      <td>AIG Focused Dividend</td>\n",
       "      <td>10.79</td>\n",
       "      <td>2.23</td>\n",
       "      <td>5.90</td>\n",
       "      <td>23.64</td>\n",
       "      <td>7.17</td>\n",
       "      <td>3.95</td>\n",
       "      <td>50,471.18</td>\n",
       "    </tr>\n",
       "  </tbody>\n",
       "</table>\n",
       "</div>"
      ],
      "text/plain": [
       "                        Name  P/E Forward   P/B   ROA    ROE  \\\n",
       "Ticker                                                         \n",
       "AMFEX            AAMA Equity        16.21  2.81  9.91  28.25   \n",
       "AUIAX     AB Equity Income A        13.37  1.97  8.47  28.10   \n",
       "FDSAX   AIG Focused Dividend        10.79  2.23  5.90  23.64   \n",
       "\n",
       "        Projected EPS Growth (%)  Yield (%) Market Cap($ mil)  \n",
       "Ticker                                                         \n",
       "AMFEX                       9.79       0.87        114,361.73  \n",
       "AUIAX                       8.01       2.91         95,224.17  \n",
       "FDSAX                       7.17       3.95         50,471.18  "
      ]
     },
     "execution_count": 9,
     "metadata": {},
     "output_type": "execute_result"
    }
   ],
   "source": [
    "financial_clean.head(3)"
   ]
  },
  {
   "cell_type": "code",
   "execution_count": 10,
   "metadata": {},
   "outputs": [
    {
     "data": {
      "text/html": [
       "<div>\n",
       "<style scoped>\n",
       "    .dataframe tbody tr th:only-of-type {\n",
       "        vertical-align: middle;\n",
       "    }\n",
       "\n",
       "    .dataframe tbody tr th {\n",
       "        vertical-align: top;\n",
       "    }\n",
       "\n",
       "    .dataframe thead th {\n",
       "        text-align: right;\n",
       "    }\n",
       "</style>\n",
       "<table border=\"1\" class=\"dataframe\">\n",
       "  <thead>\n",
       "    <tr style=\"text-align: right;\">\n",
       "      <th></th>\n",
       "      <th>Name</th>\n",
       "      <th>E</th>\n",
       "      <th>S</th>\n",
       "      <th>G</th>\n",
       "      <th>Average (Current)</th>\n",
       "    </tr>\n",
       "    <tr>\n",
       "      <th>Ticker</th>\n",
       "      <th></th>\n",
       "      <th></th>\n",
       "      <th></th>\n",
       "      <th></th>\n",
       "      <th></th>\n",
       "    </tr>\n",
       "  </thead>\n",
       "  <tbody>\n",
       "    <tr>\n",
       "      <th>AUIAX</th>\n",
       "      <td>AB Equity Income A</td>\n",
       "      <td>4.80</td>\n",
       "      <td>11.02</td>\n",
       "      <td>8.35</td>\n",
       "      <td>24.38</td>\n",
       "    </tr>\n",
       "    <tr>\n",
       "      <th>FDSAX</th>\n",
       "      <td>AIG Focused Dividend Strategy A</td>\n",
       "      <td>5.59</td>\n",
       "      <td>10.89</td>\n",
       "      <td>7.62</td>\n",
       "      <td>24.10</td>\n",
       "    </tr>\n",
       "    <tr>\n",
       "      <th>AKRIX</th>\n",
       "      <td>Akre Focus Instl</td>\n",
       "      <td>2.77</td>\n",
       "      <td>9.97</td>\n",
       "      <td>8.04</td>\n",
       "      <td>20.91</td>\n",
       "    </tr>\n",
       "  </tbody>\n",
       "</table>\n",
       "</div>"
      ],
      "text/plain": [
       "                                   Name     E      S     G  Average (Current)\n",
       "Ticker                                                                       \n",
       "AUIAX                AB Equity Income A  4.80  11.02  8.35              24.38\n",
       "FDSAX   AIG Focused Dividend Strategy A  5.59  10.89  7.62              24.10\n",
       "AKRIX                  Akre Focus Instl  2.77   9.97  8.04              20.91"
      ]
     },
     "execution_count": 10,
     "metadata": {},
     "output_type": "execute_result"
    }
   ],
   "source": [
    "ESG_fixed.head(3)"
   ]
  },
  {
   "cell_type": "code",
   "execution_count": 11,
   "metadata": {},
   "outputs": [
    {
     "data": {
      "text/html": [
       "<div>\n",
       "<style scoped>\n",
       "    .dataframe tbody tr th:only-of-type {\n",
       "        vertical-align: middle;\n",
       "    }\n",
       "\n",
       "    .dataframe tbody tr th {\n",
       "        vertical-align: top;\n",
       "    }\n",
       "\n",
       "    .dataframe thead th {\n",
       "        text-align: right;\n",
       "    }\n",
       "</style>\n",
       "<table border=\"1\" class=\"dataframe\">\n",
       "  <thead>\n",
       "    <tr style=\"text-align: right;\">\n",
       "      <th></th>\n",
       "      <th>Name</th>\n",
       "      <th>10 year return</th>\n",
       "      <th>Dividend Yield TTM</th>\n",
       "      <th>Morningstar Risk</th>\n",
       "      <th>Turnover Ratio</th>\n",
       "      <th>Morningstar Rating</th>\n",
       "      <th>Fund Category</th>\n",
       "    </tr>\n",
       "    <tr>\n",
       "      <th>Ticker</th>\n",
       "      <th></th>\n",
       "      <th></th>\n",
       "      <th></th>\n",
       "      <th></th>\n",
       "      <th></th>\n",
       "      <th></th>\n",
       "      <th></th>\n",
       "    </tr>\n",
       "  </thead>\n",
       "  <tbody>\n",
       "    <tr>\n",
       "      <th>AUIAX</th>\n",
       "      <td>AB Equity Income A</td>\n",
       "      <td>9.28</td>\n",
       "      <td>2.91</td>\n",
       "      <td>Below Average</td>\n",
       "      <td>43.0</td>\n",
       "      <td>4.0</td>\n",
       "      <td>Large Value</td>\n",
       "    </tr>\n",
       "    <tr>\n",
       "      <th>FDSAX</th>\n",
       "      <td>AIG Focused Dividend Strategy A</td>\n",
       "      <td>9.39</td>\n",
       "      <td>3.95</td>\n",
       "      <td>Average</td>\n",
       "      <td>37.0</td>\n",
       "      <td>3.0</td>\n",
       "      <td>Large Value</td>\n",
       "    </tr>\n",
       "    <tr>\n",
       "      <th>AKRIX</th>\n",
       "      <td>Akre Focus Instl</td>\n",
       "      <td>16.95</td>\n",
       "      <td>0.00</td>\n",
       "      <td>Low</td>\n",
       "      <td>3.0</td>\n",
       "      <td>5.0</td>\n",
       "      <td>Large Growth</td>\n",
       "    </tr>\n",
       "  </tbody>\n",
       "</table>\n",
       "</div>"
      ],
      "text/plain": [
       "                                   Name  10 year return  Dividend Yield TTM  \\\n",
       "Ticker                                                                        \n",
       "AUIAX                AB Equity Income A            9.28                2.91   \n",
       "FDSAX   AIG Focused Dividend Strategy A            9.39                3.95   \n",
       "AKRIX                  Akre Focus Instl           16.95                0.00   \n",
       "\n",
       "       Morningstar Risk  Turnover Ratio  Morningstar Rating Fund Category  \n",
       "Ticker                                                                     \n",
       "AUIAX     Below Average            43.0                 4.0   Large Value  \n",
       "FDSAX           Average            37.0                 3.0   Large Value  \n",
       "AKRIX               Low             3.0                 5.0  Large Growth  "
      ]
     },
     "execution_count": 11,
     "metadata": {},
     "output_type": "execute_result"
    }
   ],
   "source": [
    "barron_data.head(3)"
   ]
  },
  {
   "cell_type": "markdown",
   "metadata": {},
   "source": [
    "## Concat ESG scores and Financial Metrics from Morningstar"
   ]
  },
  {
   "cell_type": "code",
   "execution_count": 12,
   "metadata": {},
   "outputs": [
    {
     "data": {
      "text/html": [
       "<div>\n",
       "<style scoped>\n",
       "    .dataframe tbody tr th:only-of-type {\n",
       "        vertical-align: middle;\n",
       "    }\n",
       "\n",
       "    .dataframe tbody tr th {\n",
       "        vertical-align: top;\n",
       "    }\n",
       "\n",
       "    .dataframe thead th {\n",
       "        text-align: right;\n",
       "    }\n",
       "</style>\n",
       "<table border=\"1\" class=\"dataframe\">\n",
       "  <thead>\n",
       "    <tr style=\"text-align: right;\">\n",
       "      <th></th>\n",
       "      <th>Name</th>\n",
       "      <th>Dividend Yield TTM</th>\n",
       "      <th>Morningstar Risk</th>\n",
       "      <th>Turnover Ratio</th>\n",
       "      <th>Morningstar Rating</th>\n",
       "      <th>Fund Category</th>\n",
       "      <th>E</th>\n",
       "      <th>S</th>\n",
       "      <th>G</th>\n",
       "      <th>Total ESG Score</th>\n",
       "      <th>P/E Forward</th>\n",
       "      <th>P/B</th>\n",
       "      <th>ROA</th>\n",
       "      <th>ROE</th>\n",
       "      <th>Projected EPS Growth (%)</th>\n",
       "      <th>Yield (%)</th>\n",
       "      <th>Market Cap($ mil)</th>\n",
       "    </tr>\n",
       "    <tr>\n",
       "      <th>Ticker</th>\n",
       "      <th></th>\n",
       "      <th></th>\n",
       "      <th></th>\n",
       "      <th></th>\n",
       "      <th></th>\n",
       "      <th></th>\n",
       "      <th></th>\n",
       "      <th></th>\n",
       "      <th></th>\n",
       "      <th></th>\n",
       "      <th></th>\n",
       "      <th></th>\n",
       "      <th></th>\n",
       "      <th></th>\n",
       "      <th></th>\n",
       "      <th></th>\n",
       "      <th></th>\n",
       "    </tr>\n",
       "  </thead>\n",
       "  <tbody>\n",
       "    <tr>\n",
       "      <th>AUIAX</th>\n",
       "      <td>AB Equity Income A</td>\n",
       "      <td>2.91</td>\n",
       "      <td>Below Average</td>\n",
       "      <td>43.0</td>\n",
       "      <td>4.0</td>\n",
       "      <td>Large Value</td>\n",
       "      <td>4.80</td>\n",
       "      <td>11.02</td>\n",
       "      <td>8.35</td>\n",
       "      <td>24.38</td>\n",
       "      <td>13.37</td>\n",
       "      <td>1.97</td>\n",
       "      <td>8.47</td>\n",
       "      <td>28.10</td>\n",
       "      <td>8.01</td>\n",
       "      <td>2.91</td>\n",
       "      <td>95,224.17</td>\n",
       "    </tr>\n",
       "    <tr>\n",
       "      <th>FDSAX</th>\n",
       "      <td>AIG Focused Dividend Strategy A</td>\n",
       "      <td>3.95</td>\n",
       "      <td>Average</td>\n",
       "      <td>37.0</td>\n",
       "      <td>3.0</td>\n",
       "      <td>Large Value</td>\n",
       "      <td>5.59</td>\n",
       "      <td>10.89</td>\n",
       "      <td>7.62</td>\n",
       "      <td>24.10</td>\n",
       "      <td>10.79</td>\n",
       "      <td>2.23</td>\n",
       "      <td>5.90</td>\n",
       "      <td>23.64</td>\n",
       "      <td>7.17</td>\n",
       "      <td>3.95</td>\n",
       "      <td>50,471.18</td>\n",
       "    </tr>\n",
       "    <tr>\n",
       "      <th>AKRIX</th>\n",
       "      <td>Akre Focus Instl</td>\n",
       "      <td>0.00</td>\n",
       "      <td>Low</td>\n",
       "      <td>3.0</td>\n",
       "      <td>5.0</td>\n",
       "      <td>Large Growth</td>\n",
       "      <td>2.77</td>\n",
       "      <td>9.97</td>\n",
       "      <td>8.04</td>\n",
       "      <td>20.91</td>\n",
       "      <td>29.46</td>\n",
       "      <td>6.75</td>\n",
       "      <td>10.37</td>\n",
       "      <td>40.51</td>\n",
       "      <td>12.77</td>\n",
       "      <td>0.00</td>\n",
       "      <td>62,286.32</td>\n",
       "    </tr>\n",
       "  </tbody>\n",
       "</table>\n",
       "</div>"
      ],
      "text/plain": [
       "                                   Name  Dividend Yield TTM Morningstar Risk  \\\n",
       "Ticker                                                                         \n",
       "AUIAX                AB Equity Income A                2.91    Below Average   \n",
       "FDSAX   AIG Focused Dividend Strategy A                3.95          Average   \n",
       "AKRIX                  Akre Focus Instl                0.00              Low   \n",
       "\n",
       "        Turnover Ratio  Morningstar Rating Fund Category     E      S     G  \\\n",
       "Ticker                                                                        \n",
       "AUIAX             43.0                 4.0   Large Value  4.80  11.02  8.35   \n",
       "FDSAX             37.0                 3.0   Large Value  5.59  10.89  7.62   \n",
       "AKRIX              3.0                 5.0  Large Growth  2.77   9.97  8.04   \n",
       "\n",
       "        Total ESG Score  P/E Forward   P/B    ROA    ROE  \\\n",
       "Ticker                                                     \n",
       "AUIAX             24.38        13.37  1.97   8.47  28.10   \n",
       "FDSAX             24.10        10.79  2.23   5.90  23.64   \n",
       "AKRIX             20.91        29.46  6.75  10.37  40.51   \n",
       "\n",
       "        Projected EPS Growth (%)  Yield (%) Market Cap($ mil)  \n",
       "Ticker                                                         \n",
       "AUIAX                       8.01       2.91         95,224.17  \n",
       "FDSAX                       7.17       3.95         50,471.18  \n",
       "AKRIX                      12.77       0.00         62,286.32  "
      ]
     },
     "execution_count": 12,
     "metadata": {},
     "output_type": "execute_result"
    }
   ],
   "source": [
    "esg_fm_barron = pd.concat([barron_clean.drop(columns = \"10 year return\", inplace = False),ESG_fixed.drop(columns = 'Name',inplace = False), financial_clean.drop(columns = 'Name',inplace = False)], axis = 'columns', join = 'inner')\n",
    "esg_fm_barron.rename(columns={'Average (Current)': \"Total ESG Score\"}, inplace=True)\n",
    "esg_fm_barron.head(3)"
   ]
  },
  {
   "cell_type": "markdown",
   "metadata": {},
   "source": [
    "## Performance anaylsis"
   ]
  },
  {
   "cell_type": "markdown",
   "metadata": {},
   "source": [
    "**Calculating Total Returns**"
   ]
  },
  {
   "cell_type": "code",
   "execution_count": 13,
   "metadata": {},
   "outputs": [
    {
     "data": {
      "text/plain": [
       " AKRIX     3.480354\n",
       " EGFIX     2.836653\n",
       " PWB       2.572099\n",
       " MGK       2.478863\n",
       " VIGRX     2.435944\n",
       " PKW       2.332915\n",
       " VFTNX     2.288288\n",
       " SPHQ      2.259358\n",
       " BIAFX     2.177296\n",
       " VHIAX     2.027778\n",
       "dtype: float64"
      ]
     },
     "execution_count": 13,
     "metadata": {},
     "output_type": "execute_result"
    }
   ],
   "source": [
    "closing_fixed_total_returns = (closing_fixed.iloc[-1] / closing_fixed.iloc[0]) - 1\n",
    "closing_fixed_total_returns.sort_values(ascending=False).head(10)"
   ]
  },
  {
   "cell_type": "markdown",
   "metadata": {},
   "source": [
    "**Calculating Annualized Returns**"
   ]
  },
  {
   "cell_type": "code",
   "execution_count": 14,
   "metadata": {},
   "outputs": [
    {
     "data": {
      "text/plain": [
       " AKRIX       0.161800\n",
       " EGFIX       0.143919\n",
       " PWB         0.135775\n",
       " MGK         0.132775\n",
       " VIGRX       0.131370\n",
       " PKW         0.127931\n",
       " VFTNX       0.126411\n",
       " SPHQ        0.125416\n",
       " BIAFX       0.122550\n",
       " VHIAX       0.117152\n",
       " FTCS        0.113928\n",
       " MEGBX       0.113537\n",
       "SPX_index    0.112242\n",
       " GTLLX       0.111903\n",
       " AFDAX       0.111357\n",
       " JPGSX       0.109881\n",
       " DSI         0.108951\n",
       " POGAX       0.107923\n",
       " GCEQX       0.107792\n",
       " SUSA        0.105853\n",
       "dtype: float64"
      ]
     },
     "execution_count": 14,
     "metadata": {},
     "output_type": "execute_result"
    }
   ],
   "source": [
    "closing_fixed_annualized_returns = ((1+closing_fixed_total_returns)**(1/10))-1\n",
    "closing_fixed_annualized_returns.sort_values(ascending=False).head(20)"
   ]
  },
  {
   "cell_type": "markdown",
   "metadata": {},
   "source": [
    "**Converting Series to DataFrame**"
   ]
  },
  {
   "cell_type": "code",
   "execution_count": 15,
   "metadata": {},
   "outputs": [],
   "source": [
    "results = pd.DataFrame( data = closing_fixed_annualized_returns)\n",
    "results.to_csv('Raw_Data/Funds_performance.csv')\n",
    "returns_path = Path(\"Raw_Data/Funds_performance.csv\")\n",
    "returns_df = pd.read_csv(returns_path, parse_dates=True, infer_datetime_format=True)\n",
    "returns_data = returns_df.rename(columns={\"Unnamed: 0\": \"Ticker\", \"0\": \"Returns\"})\n",
    "returns_data['Ticker'] = returns_data['Ticker'].str.strip()"
   ]
  },
  {
   "cell_type": "code",
   "execution_count": 16,
   "metadata": {},
   "outputs": [
    {
     "data": {
      "text/html": [
       "<div>\n",
       "<style scoped>\n",
       "    .dataframe tbody tr th:only-of-type {\n",
       "        vertical-align: middle;\n",
       "    }\n",
       "\n",
       "    .dataframe tbody tr th {\n",
       "        vertical-align: top;\n",
       "    }\n",
       "\n",
       "    .dataframe thead th {\n",
       "        text-align: right;\n",
       "    }\n",
       "</style>\n",
       "<table border=\"1\" class=\"dataframe\">\n",
       "  <thead>\n",
       "    <tr style=\"text-align: right;\">\n",
       "      <th></th>\n",
       "      <th>Ticker</th>\n",
       "      <th>Returns</th>\n",
       "    </tr>\n",
       "  </thead>\n",
       "  <tbody>\n",
       "    <tr>\n",
       "      <th>16</th>\n",
       "      <td>AKRIX</td>\n",
       "      <td>0.161800</td>\n",
       "    </tr>\n",
       "    <tr>\n",
       "      <th>20</th>\n",
       "      <td>EGFIX</td>\n",
       "      <td>0.143919</td>\n",
       "    </tr>\n",
       "    <tr>\n",
       "      <th>115</th>\n",
       "      <td>PWB</td>\n",
       "      <td>0.135775</td>\n",
       "    </tr>\n",
       "    <tr>\n",
       "      <th>4</th>\n",
       "      <td>MGK</td>\n",
       "      <td>0.132775</td>\n",
       "    </tr>\n",
       "    <tr>\n",
       "      <th>5</th>\n",
       "      <td>VIGRX</td>\n",
       "      <td>0.131370</td>\n",
       "    </tr>\n",
       "  </tbody>\n",
       "</table>\n",
       "</div>"
      ],
      "text/plain": [
       "    Ticker   Returns\n",
       "16   AKRIX  0.161800\n",
       "20   EGFIX  0.143919\n",
       "115    PWB  0.135775\n",
       "4      MGK  0.132775\n",
       "5    VIGRX  0.131370"
      ]
     },
     "execution_count": 16,
     "metadata": {},
     "output_type": "execute_result"
    }
   ],
   "source": [
    "# Show Top 5 funds sort by performance\n",
    "\n",
    "returns_data.sort_values(ascending=False, by='Returns').head(5)"
   ]
  },
  {
   "cell_type": "code",
   "execution_count": 17,
   "metadata": {},
   "outputs": [],
   "source": [
    "# Set Ticker as Index\n",
    "returns_df = returns_data.set_index('Ticker').dropna()"
   ]
  },
  {
   "cell_type": "code",
   "execution_count": 18,
   "metadata": {},
   "outputs": [
    {
     "data": {
      "text/html": [
       "<div>\n",
       "<style scoped>\n",
       "    .dataframe tbody tr th:only-of-type {\n",
       "        vertical-align: middle;\n",
       "    }\n",
       "\n",
       "    .dataframe tbody tr th {\n",
       "        vertical-align: top;\n",
       "    }\n",
       "\n",
       "    .dataframe thead th {\n",
       "        text-align: right;\n",
       "    }\n",
       "</style>\n",
       "<table border=\"1\" class=\"dataframe\">\n",
       "  <thead>\n",
       "    <tr style=\"text-align: right;\">\n",
       "      <th></th>\n",
       "      <th>Returns</th>\n",
       "      <th>Name</th>\n",
       "      <th>Dividend Yield TTM</th>\n",
       "      <th>Morningstar Risk</th>\n",
       "      <th>Turnover Ratio</th>\n",
       "      <th>Morningstar Rating</th>\n",
       "      <th>Fund Category</th>\n",
       "      <th>E</th>\n",
       "      <th>S</th>\n",
       "      <th>G</th>\n",
       "      <th>Total ESG Score</th>\n",
       "      <th>P/E Forward</th>\n",
       "      <th>P/B</th>\n",
       "      <th>ROA</th>\n",
       "      <th>ROE</th>\n",
       "      <th>Projected EPS Growth (%)</th>\n",
       "      <th>Yield (%)</th>\n",
       "      <th>Market Cap($ mil)</th>\n",
       "    </tr>\n",
       "    <tr>\n",
       "      <th>Ticker</th>\n",
       "      <th></th>\n",
       "      <th></th>\n",
       "      <th></th>\n",
       "      <th></th>\n",
       "      <th></th>\n",
       "      <th></th>\n",
       "      <th></th>\n",
       "      <th></th>\n",
       "      <th></th>\n",
       "      <th></th>\n",
       "      <th></th>\n",
       "      <th></th>\n",
       "      <th></th>\n",
       "      <th></th>\n",
       "      <th></th>\n",
       "      <th></th>\n",
       "      <th></th>\n",
       "      <th></th>\n",
       "    </tr>\n",
       "  </thead>\n",
       "  <tbody>\n",
       "    <tr>\n",
       "      <th>AKRIX</th>\n",
       "      <td>0.161800</td>\n",
       "      <td>Akre Focus Instl</td>\n",
       "      <td>0.00</td>\n",
       "      <td>Low</td>\n",
       "      <td>3.0</td>\n",
       "      <td>5.0</td>\n",
       "      <td>Large Growth</td>\n",
       "      <td>2.77</td>\n",
       "      <td>9.97</td>\n",
       "      <td>8.04</td>\n",
       "      <td>20.91</td>\n",
       "      <td>29.46</td>\n",
       "      <td>6.75</td>\n",
       "      <td>10.37</td>\n",
       "      <td>40.51</td>\n",
       "      <td>12.77</td>\n",
       "      <td>0.00</td>\n",
       "      <td>62,286.32</td>\n",
       "    </tr>\n",
       "    <tr>\n",
       "      <th>EGFIX</th>\n",
       "      <td>0.143919</td>\n",
       "      <td>Edgewood Growth Instl</td>\n",
       "      <td>0.00</td>\n",
       "      <td>Average</td>\n",
       "      <td>25.0</td>\n",
       "      <td>5.0</td>\n",
       "      <td>Large Growth</td>\n",
       "      <td>2.71</td>\n",
       "      <td>10.16</td>\n",
       "      <td>7.92</td>\n",
       "      <td>20.80</td>\n",
       "      <td>19.61</td>\n",
       "      <td>1.88</td>\n",
       "      <td>9.17</td>\n",
       "      <td>24.36</td>\n",
       "      <td>9.98</td>\n",
       "      <td>0.00</td>\n",
       "      <td>31,381.73</td>\n",
       "    </tr>\n",
       "    <tr>\n",
       "      <th>PWB</th>\n",
       "      <td>0.135775</td>\n",
       "      <td>Invesco Dynamic Large Cap Growth ETF</td>\n",
       "      <td>0.55</td>\n",
       "      <td>Below Average</td>\n",
       "      <td>181.0</td>\n",
       "      <td>4.0</td>\n",
       "      <td>Large Growth</td>\n",
       "      <td>3.30</td>\n",
       "      <td>10.72</td>\n",
       "      <td>7.71</td>\n",
       "      <td>21.74</td>\n",
       "      <td>15.37</td>\n",
       "      <td>2.47</td>\n",
       "      <td>9.66</td>\n",
       "      <td>28.24</td>\n",
       "      <td>9.61</td>\n",
       "      <td>0.77</td>\n",
       "      <td>119,082.32</td>\n",
       "    </tr>\n",
       "    <tr>\n",
       "      <th>MGK</th>\n",
       "      <td>0.132775</td>\n",
       "      <td>Vanguard Mega Cap Growth ETF</td>\n",
       "      <td>1.00</td>\n",
       "      <td>Average</td>\n",
       "      <td>14.0</td>\n",
       "      <td>4.0</td>\n",
       "      <td>Large Growth</td>\n",
       "      <td>2.71</td>\n",
       "      <td>11.41</td>\n",
       "      <td>8.23</td>\n",
       "      <td>22.58</td>\n",
       "      <td>23.60</td>\n",
       "      <td>4.71</td>\n",
       "      <td>12.33</td>\n",
       "      <td>33.24</td>\n",
       "      <td>12.75</td>\n",
       "      <td>1.00</td>\n",
       "      <td>220,639.69</td>\n",
       "    </tr>\n",
       "    <tr>\n",
       "      <th>VIGRX</th>\n",
       "      <td>0.131370</td>\n",
       "      <td>Vanguard Growth Index Investor</td>\n",
       "      <td>0.81</td>\n",
       "      <td>Average</td>\n",
       "      <td>11.0</td>\n",
       "      <td>4.0</td>\n",
       "      <td>Large Growth</td>\n",
       "      <td>3.01</td>\n",
       "      <td>11.36</td>\n",
       "      <td>8.11</td>\n",
       "      <td>22.76</td>\n",
       "      <td>23.52</td>\n",
       "      <td>4.40</td>\n",
       "      <td>11.57</td>\n",
       "      <td>30.97</td>\n",
       "      <td>12.54</td>\n",
       "      <td>0.81</td>\n",
       "      <td>143,713.81</td>\n",
       "    </tr>\n",
       "  </tbody>\n",
       "</table>\n",
       "</div>"
      ],
      "text/plain": [
       "         Returns                                  Name  Dividend Yield TTM  \\\n",
       "Ticker                                                                       \n",
       "AKRIX   0.161800                      Akre Focus Instl                0.00   \n",
       "EGFIX   0.143919                 Edgewood Growth Instl                0.00   \n",
       "PWB     0.135775  Invesco Dynamic Large Cap Growth ETF                0.55   \n",
       "MGK     0.132775          Vanguard Mega Cap Growth ETF                1.00   \n",
       "VIGRX   0.131370        Vanguard Growth Index Investor                0.81   \n",
       "\n",
       "       Morningstar Risk  Turnover Ratio  Morningstar Rating Fund Category  \\\n",
       "Ticker                                                                      \n",
       "AKRIX               Low             3.0                 5.0  Large Growth   \n",
       "EGFIX           Average            25.0                 5.0  Large Growth   \n",
       "PWB       Below Average           181.0                 4.0  Large Growth   \n",
       "MGK             Average            14.0                 4.0  Large Growth   \n",
       "VIGRX           Average            11.0                 4.0  Large Growth   \n",
       "\n",
       "           E      S     G  Total ESG Score  P/E Forward   P/B    ROA    ROE  \\\n",
       "Ticker                                                                        \n",
       "AKRIX   2.77   9.97  8.04            20.91        29.46  6.75  10.37  40.51   \n",
       "EGFIX   2.71  10.16  7.92            20.80        19.61  1.88   9.17  24.36   \n",
       "PWB     3.30  10.72  7.71            21.74        15.37  2.47   9.66  28.24   \n",
       "MGK     2.71  11.41  8.23            22.58        23.60  4.71  12.33  33.24   \n",
       "VIGRX   3.01  11.36  8.11            22.76        23.52  4.40  11.57  30.97   \n",
       "\n",
       "        Projected EPS Growth (%)  Yield (%) Market Cap($ mil)  \n",
       "Ticker                                                         \n",
       "AKRIX                      12.77       0.00         62,286.32  \n",
       "EGFIX                       9.98       0.00         31,381.73  \n",
       "PWB                         9.61       0.77        119,082.32  \n",
       "MGK                        12.75       1.00        220,639.69  \n",
       "VIGRX                      12.54       0.81        143,713.81  "
      ]
     },
     "execution_count": 18,
     "metadata": {},
     "output_type": "execute_result"
    }
   ],
   "source": [
    "# Combine 10 years annualized performance with ESG and Financial metrics\n",
    "\n",
    "combined = pd.concat([returns_df, esg_fm_barron], axis = 'columns', join = 'inner')\n",
    "combined_sorted = combined.sort_values(ascending=False, by='Returns')\n",
    "combined_sorted.head(5)"
   ]
  },
  {
   "cell_type": "markdown",
   "metadata": {},
   "source": [
    "### Calculating Investment Metrics"
   ]
  },
  {
   "cell_type": "markdown",
   "metadata": {},
   "source": [
    "**Summary of Investment Data**"
   ]
  },
  {
   "cell_type": "code",
   "execution_count": 19,
   "metadata": {},
   "outputs": [
    {
     "data": {
      "text/plain": [
       "count    129.000000\n",
       "mean       0.068975\n",
       "std        0.035055\n",
       "min       -0.018684\n",
       "25%        0.045105\n",
       "50%        0.069260\n",
       "75%        0.091184\n",
       "max        0.161800\n",
       "Name: Returns, dtype: float64"
      ]
     },
     "execution_count": 19,
     "metadata": {},
     "output_type": "execute_result"
    }
   ],
   "source": [
    "combined['Returns'].describe()"
   ]
  },
  {
   "cell_type": "markdown",
   "metadata": {},
   "source": [
    "- The average annualized return of all the sustainble funds is ~6.9%.\n",
    "- The highest performing sustainable fund achieved an annualized return of ~16.2%.\n",
    "- The worst performing fund had a negative annualized return of (~1.9)%"
   ]
  },
  {
   "cell_type": "markdown",
   "metadata": {},
   "source": [
    "**Filter by Top 20 Performing Funds**"
   ]
  },
  {
   "cell_type": "code",
   "execution_count": 20,
   "metadata": {},
   "outputs": [],
   "source": [
    "#Grab the 'Returns' and 'Name' columns\n",
    "top_funds = combined.loc[:, ['Returns', 'Name']]\n",
    "\n",
    "#Drop the extra 'Names' columns\n",
    "top_funds.drop(columns=['Name'], inplace=True)\n",
    "\n",
    "# Filter down to 20 highest performing funds\n",
    "top_funds_perf_df = top_funds.nlargest(20, 'Returns')\n"
   ]
  },
  {
   "cell_type": "markdown",
   "metadata": {},
   "source": [
    "**Plotting the returns of the top 20 funds**"
   ]
  },
  {
   "cell_type": "code",
   "execution_count": 21,
   "metadata": {},
   "outputs": [
    {
     "data": {
      "text/html": [
       "\n",
       "<div id=\"altair-viz-037a69bd359b4dd182604dd4ff9707fc\"></div>\n",
       "<script type=\"text/javascript\">\n",
       "  (function(spec, embedOpt){\n",
       "    let outputDiv = document.currentScript.previousElementSibling;\n",
       "    if (outputDiv.id !== \"altair-viz-037a69bd359b4dd182604dd4ff9707fc\") {\n",
       "      outputDiv = document.getElementById(\"altair-viz-037a69bd359b4dd182604dd4ff9707fc\");\n",
       "    }\n",
       "    const paths = {\n",
       "      \"vega\": \"https://cdn.jsdelivr.net/npm//vega@5?noext\",\n",
       "      \"vega-lib\": \"https://cdn.jsdelivr.net/npm//vega-lib?noext\",\n",
       "      \"vega-lite\": \"https://cdn.jsdelivr.net/npm//vega-lite@4.8.1?noext\",\n",
       "      \"vega-embed\": \"https://cdn.jsdelivr.net/npm//vega-embed@6?noext\",\n",
       "    };\n",
       "\n",
       "    function loadScript(lib) {\n",
       "      return new Promise(function(resolve, reject) {\n",
       "        var s = document.createElement('script');\n",
       "        s.src = paths[lib];\n",
       "        s.async = true;\n",
       "        s.onload = () => resolve(paths[lib]);\n",
       "        s.onerror = () => reject(`Error loading script: ${paths[lib]}`);\n",
       "        document.getElementsByTagName(\"head\")[0].appendChild(s);\n",
       "      });\n",
       "    }\n",
       "\n",
       "    function showError(err) {\n",
       "      outputDiv.innerHTML = `<div class=\"error\" style=\"color:red;\">${err}</div>`;\n",
       "      throw err;\n",
       "    }\n",
       "\n",
       "    function displayChart(vegaEmbed) {\n",
       "      vegaEmbed(outputDiv, spec, embedOpt)\n",
       "        .catch(err => showError(`Javascript Error: ${err.message}<br>This usually means there's a typo in your chart specification. See the javascript console for the full traceback.`));\n",
       "    }\n",
       "\n",
       "    if(typeof define === \"function\" && define.amd) {\n",
       "      requirejs.config({paths});\n",
       "      require([\"vega-embed\"], displayChart, err => showError(`Error loading script: ${err.message}`));\n",
       "    } else if (typeof vegaEmbed === \"function\") {\n",
       "      displayChart(vegaEmbed);\n",
       "    } else {\n",
       "      loadScript(\"vega\")\n",
       "        .then(() => loadScript(\"vega-lite\"))\n",
       "        .then(() => loadScript(\"vega-embed\"))\n",
       "        .catch(showError)\n",
       "        .then(() => displayChart(vegaEmbed));\n",
       "    }\n",
       "  })({\"config\": {\"view\": {\"continuousWidth\": 400, \"continuousHeight\": 300}}, \"data\": {\"name\": \"data-c93a3c027f22be49586f75d38b9635f2\"}, \"mark\": \"bar\", \"encoding\": {\"color\": {\"condition\": {\"value\": \"orange\", \"test\": \"(datum.Ticker === 'SPX_index')\"}, \"value\": \"steelblue\"}, \"x\": {\"type\": \"quantitative\", \"field\": \"Returns\"}, \"y\": {\"type\": \"nominal\", \"field\": \"Ticker\", \"sort\": \"-x\"}}, \"width\": 600, \"$schema\": \"https://vega.github.io/schema/vega-lite/v4.8.1.json\", \"datasets\": {\"data-c93a3c027f22be49586f75d38b9635f2\": [{\"Ticker\": \"AKRIX\", \"Returns\": 0.16179961821379418}, {\"Ticker\": \"EGFIX\", \"Returns\": 0.14391895540039235}, {\"Ticker\": \"PWB\", \"Returns\": 0.1357751091632926}, {\"Ticker\": \"MGK\", \"Returns\": 0.13277520545269095}, {\"Ticker\": \"VIGRX\", \"Returns\": 0.13136987940769673}, {\"Ticker\": \"PKW\", \"Returns\": 0.12793070245348082}, {\"Ticker\": \"VFTNX\", \"Returns\": 0.12641127397479354}, {\"Ticker\": \"SPHQ\", \"Returns\": 0.12541632425880533}, {\"Ticker\": \"BIAFX\", \"Returns\": 0.12255018681376505}, {\"Ticker\": \"VHIAX\", \"Returns\": 0.1171523404696233}, {\"Ticker\": \"FTCS\", \"Returns\": 0.11392817143382496}, {\"Ticker\": \"MEGBX\", \"Returns\": 0.11353655556590515}, {\"Ticker\": \"SPX_index\", \"Returns\": 0.11224216980094147}, {\"Ticker\": \"GTLLX\", \"Returns\": 0.1119029280251802}, {\"Ticker\": \"AFDAX\", \"Returns\": 0.11135724798837288}, {\"Ticker\": \"JPGSX\", \"Returns\": 0.10988114570349428}, {\"Ticker\": \"DSI\", \"Returns\": 0.10895057532219954}, {\"Ticker\": \"POGAX\", \"Returns\": 0.1079229018609158}, {\"Ticker\": \"GCEQX\", \"Returns\": 0.10779174061023557}, {\"Ticker\": \"SUSA\", \"Returns\": 0.10585288009148508}]}}, {\"mode\": \"vega-lite\"});\n",
       "</script>"
      ],
      "text/plain": [
       "alt.Chart(...)"
      ]
     },
     "execution_count": 21,
     "metadata": {},
     "output_type": "execute_result"
    }
   ],
   "source": [
    "top_20 = top_funds_perf_df.reset_index()\n",
    "\n",
    "top_performer_table =  alt.Chart(top_20).mark_bar().encode(\n",
    "    x='Returns:Q',\n",
    "    y= alt.Y('Ticker:N', sort='-x'),\n",
    "    # The highlight will be set on the result of a conditional statement\n",
    "    color=alt.condition(\n",
    "        alt.datum.Ticker == 'SPX_index',  # If the ticker is SPX_index this test returns True,\n",
    "        alt.value('orange'),     # which sets the bar orange.\n",
    "        alt.value('steelblue')   # And if it's not true it sets the bar steelblue.\n",
    "    )\n",
    ").properties(width=600)\n",
    "top_performer_table"
   ]
  },
  {
   "cell_type": "markdown",
   "metadata": {},
   "source": [
    "**Create a new dataframe for the 20 top performing funds to do calculations**"
   ]
  },
  {
   "cell_type": "code",
   "execution_count": 22,
   "metadata": {},
   "outputs": [
    {
     "data": {
      "text/html": [
       "<div>\n",
       "<style scoped>\n",
       "    .dataframe tbody tr th:only-of-type {\n",
       "        vertical-align: middle;\n",
       "    }\n",
       "\n",
       "    .dataframe tbody tr th {\n",
       "        vertical-align: top;\n",
       "    }\n",
       "\n",
       "    .dataframe thead th {\n",
       "        text-align: right;\n",
       "    }\n",
       "</style>\n",
       "<table border=\"1\" class=\"dataframe\">\n",
       "  <thead>\n",
       "    <tr style=\"text-align: right;\">\n",
       "      <th></th>\n",
       "      <th>AKRIX</th>\n",
       "      <th>EGFIX</th>\n",
       "      <th>PWB</th>\n",
       "      <th>MGK</th>\n",
       "      <th>VIGRX</th>\n",
       "      <th>PKW</th>\n",
       "      <th>VFTNX</th>\n",
       "      <th>SPHQ</th>\n",
       "      <th>BIAFX</th>\n",
       "      <th>VHIAX</th>\n",
       "      <th>FTCS</th>\n",
       "      <th>MEGBX</th>\n",
       "      <th>SPX_index</th>\n",
       "      <th>GTLLX</th>\n",
       "      <th>AFDAX</th>\n",
       "      <th>JPGSX</th>\n",
       "      <th>DSI</th>\n",
       "      <th>POGAX</th>\n",
       "      <th>GCEQX</th>\n",
       "      <th>SUSA</th>\n",
       "    </tr>\n",
       "    <tr>\n",
       "      <th>Dates</th>\n",
       "      <th></th>\n",
       "      <th></th>\n",
       "      <th></th>\n",
       "      <th></th>\n",
       "      <th></th>\n",
       "      <th></th>\n",
       "      <th></th>\n",
       "      <th></th>\n",
       "      <th></th>\n",
       "      <th></th>\n",
       "      <th></th>\n",
       "      <th></th>\n",
       "      <th></th>\n",
       "      <th></th>\n",
       "      <th></th>\n",
       "      <th></th>\n",
       "      <th></th>\n",
       "      <th></th>\n",
       "      <th></th>\n",
       "      <th></th>\n",
       "    </tr>\n",
       "  </thead>\n",
       "  <tbody>\n",
       "    <tr>\n",
       "      <th>2010-01-01</th>\n",
       "      <td>10.18</td>\n",
       "      <td>10.04</td>\n",
       "      <td>14.3865</td>\n",
       "      <td>41.8700</td>\n",
       "      <td>27.32</td>\n",
       "      <td>20.6966</td>\n",
       "      <td>6.66</td>\n",
       "      <td>11.22</td>\n",
       "      <td>7.84</td>\n",
       "      <td>7.20</td>\n",
       "      <td>20.52</td>\n",
       "      <td>32.12</td>\n",
       "      <td>1115.10</td>\n",
       "      <td>10.76</td>\n",
       "      <td>11.22</td>\n",
       "      <td>19.68</td>\n",
       "      <td>42.71</td>\n",
       "      <td>14.02</td>\n",
       "      <td>17.87</td>\n",
       "      <td>49.0000</td>\n",
       "    </tr>\n",
       "    <tr>\n",
       "      <th>2010-01-04</th>\n",
       "      <td>10.24</td>\n",
       "      <td>10.20</td>\n",
       "      <td>14.5300</td>\n",
       "      <td>42.4699</td>\n",
       "      <td>27.76</td>\n",
       "      <td>20.9500</td>\n",
       "      <td>6.76</td>\n",
       "      <td>11.35</td>\n",
       "      <td>7.93</td>\n",
       "      <td>7.30</td>\n",
       "      <td>20.69</td>\n",
       "      <td>32.60</td>\n",
       "      <td>1132.98</td>\n",
       "      <td>10.94</td>\n",
       "      <td>11.41</td>\n",
       "      <td>20.04</td>\n",
       "      <td>43.28</td>\n",
       "      <td>14.26</td>\n",
       "      <td>18.11</td>\n",
       "      <td>49.6080</td>\n",
       "    </tr>\n",
       "    <tr>\n",
       "      <th>2010-01-05</th>\n",
       "      <td>10.29</td>\n",
       "      <td>10.23</td>\n",
       "      <td>14.5700</td>\n",
       "      <td>42.5700</td>\n",
       "      <td>27.84</td>\n",
       "      <td>21.0700</td>\n",
       "      <td>6.79</td>\n",
       "      <td>11.42</td>\n",
       "      <td>7.97</td>\n",
       "      <td>7.31</td>\n",
       "      <td>20.72</td>\n",
       "      <td>32.68</td>\n",
       "      <td>1136.52</td>\n",
       "      <td>10.95</td>\n",
       "      <td>11.45</td>\n",
       "      <td>20.12</td>\n",
       "      <td>43.35</td>\n",
       "      <td>14.30</td>\n",
       "      <td>18.17</td>\n",
       "      <td>49.7592</td>\n",
       "    </tr>\n",
       "  </tbody>\n",
       "</table>\n",
       "</div>"
      ],
      "text/plain": [
       "            AKRIX  EGFIX      PWB      MGK  VIGRX      PKW  VFTNX   SPHQ  \\\n",
       "Dates                                                                      \n",
       "2010-01-01  10.18  10.04  14.3865  41.8700  27.32  20.6966   6.66  11.22   \n",
       "2010-01-04  10.24  10.20  14.5300  42.4699  27.76  20.9500   6.76  11.35   \n",
       "2010-01-05  10.29  10.23  14.5700  42.5700  27.84  21.0700   6.79  11.42   \n",
       "\n",
       "            BIAFX  VHIAX   FTCS  MEGBX  SPX_index  GTLLX  AFDAX  JPGSX    DSI  \\\n",
       "Dates                                                                           \n",
       "2010-01-01   7.84   7.20  20.52  32.12    1115.10  10.76  11.22  19.68  42.71   \n",
       "2010-01-04   7.93   7.30  20.69  32.60    1132.98  10.94  11.41  20.04  43.28   \n",
       "2010-01-05   7.97   7.31  20.72  32.68    1136.52  10.95  11.45  20.12  43.35   \n",
       "\n",
       "            POGAX  GCEQX     SUSA  \n",
       "Dates                              \n",
       "2010-01-01  14.02  17.87  49.0000  \n",
       "2010-01-04  14.26  18.11  49.6080  \n",
       "2010-01-05  14.30  18.17  49.7592  "
      ]
     },
     "execution_count": 22,
     "metadata": {},
     "output_type": "execute_result"
    }
   ],
   "source": [
    "top_funds_hist_df = closing_fixed.loc[:, [' AKRIX ' , ' EGFIX ', ' PWB ', ' MGK ', ' VIGRX ', ' PKW ', ' VFTNX ', ' SPHQ ', ' BIAFX ',\n",
    "' VHIAX ', ' FTCS ', ' MEGBX ', 'SPX_index', ' GTLLX ', ' AFDAX ', ' JPGSX ', ' DSI ', ' POGAX ', ' GCEQX ', ' SUSA ']]\n",
    "# Remove the empty spaces in the column names\n",
    "top_funds_hist_df.columns = top_funds_hist_df.columns.str.replace(' ', '')                                  \n",
    "top_funds_hist_df.head(3)"
   ]
  },
  {
   "cell_type": "markdown",
   "metadata": {},
   "source": [
    "**Calculate the daily standard deviation for the top 20 performing funds**"
   ]
  },
  {
   "cell_type": "code",
   "execution_count": 23,
   "metadata": {},
   "outputs": [
    {
     "data": {
      "text/plain": [
       "AKRIX    0.008324\n",
       "EGFIX    0.010741\n",
       "PWB      0.009846\n",
       "MGK      0.009565\n",
       "VIGRX    0.009722\n",
       "dtype: float64"
      ]
     },
     "execution_count": 23,
     "metadata": {},
     "output_type": "execute_result"
    }
   ],
   "source": [
    "# Calculate the daily standard deviation\n",
    "top_funds_return = top_funds_hist_df.pct_change()\n",
    "top_funds_std_daily = top_funds_return.std()\n",
    "top_funds_std_daily.head(5)"
   ]
  },
  {
   "cell_type": "markdown",
   "metadata": {},
   "source": [
    "**Calculate the annualized standard deviation for the top 20 performing funds**"
   ]
  },
  {
   "cell_type": "code",
   "execution_count": 24,
   "metadata": {},
   "outputs": [
    {
     "data": {
      "text/plain": [
       "AKRIX    0.132134\n",
       "EGFIX    0.170512\n",
       "PWB      0.156305\n",
       "MGK      0.151835\n",
       "VIGRX    0.154326\n",
       "dtype: float64"
      ]
     },
     "execution_count": 24,
     "metadata": {},
     "output_type": "execute_result"
    }
   ],
   "source": [
    "top_funds_std_annual = top_funds_std_daily * np.sqrt(252)\n",
    "top_funds_std_annual.head(5)"
   ]
  },
  {
   "cell_type": "markdown",
   "metadata": {},
   "source": [
    "**Put the annualized standard deviations for the top 20 performing funds into a dataframe**"
   ]
  },
  {
   "cell_type": "code",
   "execution_count": 25,
   "metadata": {},
   "outputs": [
    {
     "data": {
      "text/html": [
       "<div>\n",
       "<style scoped>\n",
       "    .dataframe tbody tr th:only-of-type {\n",
       "        vertical-align: middle;\n",
       "    }\n",
       "\n",
       "    .dataframe tbody tr th {\n",
       "        vertical-align: top;\n",
       "    }\n",
       "\n",
       "    .dataframe thead th {\n",
       "        text-align: right;\n",
       "    }\n",
       "</style>\n",
       "<table border=\"1\" class=\"dataframe\">\n",
       "  <thead>\n",
       "    <tr style=\"text-align: right;\">\n",
       "      <th></th>\n",
       "      <th>Annual Std Dev</th>\n",
       "    </tr>\n",
       "    <tr>\n",
       "      <th>Ticker</th>\n",
       "      <th></th>\n",
       "    </tr>\n",
       "  </thead>\n",
       "  <tbody>\n",
       "    <tr>\n",
       "      <th>AKRIX</th>\n",
       "      <td>0.132134</td>\n",
       "    </tr>\n",
       "    <tr>\n",
       "      <th>EGFIX</th>\n",
       "      <td>0.170512</td>\n",
       "    </tr>\n",
       "    <tr>\n",
       "      <th>PWB</th>\n",
       "      <td>0.156305</td>\n",
       "    </tr>\n",
       "    <tr>\n",
       "      <th>MGK</th>\n",
       "      <td>0.151835</td>\n",
       "    </tr>\n",
       "    <tr>\n",
       "      <th>VIGRX</th>\n",
       "      <td>0.154326</td>\n",
       "    </tr>\n",
       "  </tbody>\n",
       "</table>\n",
       "</div>"
      ],
      "text/plain": [
       "        Annual Std Dev\n",
       "Ticker                \n",
       "AKRIX         0.132134\n",
       "EGFIX         0.170512\n",
       "PWB           0.156305\n",
       "MGK           0.151835\n",
       "VIGRX         0.154326"
      ]
     },
     "execution_count": 25,
     "metadata": {},
     "output_type": "execute_result"
    }
   ],
   "source": [
    "top_funds_std_annual_df = top_funds_std_annual.to_frame()\n",
    "top_funds_std_annual_df = top_funds_std_annual_df.rename(columns={0: 'Annual Std Dev'})\n",
    "top_funds_std_annual_df.index.name = 'Ticker'\n",
    "top_funds_std_annual_df.head(5)"
   ]
  },
  {
   "cell_type": "markdown",
   "metadata": {},
   "source": [
    "**Concatenate the investment returns and standard deviation for the top 20 performing funds**"
   ]
  },
  {
   "cell_type": "code",
   "execution_count": 26,
   "metadata": {},
   "outputs": [
    {
     "data": {
      "text/html": [
       "<div>\n",
       "<style scoped>\n",
       "    .dataframe tbody tr th:only-of-type {\n",
       "        vertical-align: middle;\n",
       "    }\n",
       "\n",
       "    .dataframe tbody tr th {\n",
       "        vertical-align: top;\n",
       "    }\n",
       "\n",
       "    .dataframe thead th {\n",
       "        text-align: right;\n",
       "    }\n",
       "</style>\n",
       "<table border=\"1\" class=\"dataframe\">\n",
       "  <thead>\n",
       "    <tr style=\"text-align: right;\">\n",
       "      <th></th>\n",
       "      <th>Returns</th>\n",
       "      <th>Annual Std Dev</th>\n",
       "    </tr>\n",
       "    <tr>\n",
       "      <th>Ticker</th>\n",
       "      <th></th>\n",
       "      <th></th>\n",
       "    </tr>\n",
       "  </thead>\n",
       "  <tbody>\n",
       "    <tr>\n",
       "      <th>AKRIX</th>\n",
       "      <td>0.161800</td>\n",
       "      <td>0.132134</td>\n",
       "    </tr>\n",
       "    <tr>\n",
       "      <th>EGFIX</th>\n",
       "      <td>0.143919</td>\n",
       "      <td>0.170512</td>\n",
       "    </tr>\n",
       "    <tr>\n",
       "      <th>PWB</th>\n",
       "      <td>0.135775</td>\n",
       "      <td>0.156305</td>\n",
       "    </tr>\n",
       "    <tr>\n",
       "      <th>MGK</th>\n",
       "      <td>0.132775</td>\n",
       "      <td>0.151835</td>\n",
       "    </tr>\n",
       "    <tr>\n",
       "      <th>VIGRX</th>\n",
       "      <td>0.131370</td>\n",
       "      <td>0.154326</td>\n",
       "    </tr>\n",
       "  </tbody>\n",
       "</table>\n",
       "</div>"
      ],
      "text/plain": [
       "         Returns  Annual Std Dev\n",
       "Ticker                          \n",
       "AKRIX   0.161800        0.132134\n",
       "EGFIX   0.143919        0.170512\n",
       "PWB     0.135775        0.156305\n",
       "MGK     0.132775        0.151835\n",
       "VIGRX   0.131370        0.154326"
      ]
     },
     "execution_count": 26,
     "metadata": {},
     "output_type": "execute_result"
    }
   ],
   "source": [
    "top_20_ret_std_df = pd.concat([top_funds_perf_df, top_funds_std_annual_df], axis ='columns', join = 'inner', sort=False)\n",
    "top_20_ret_std_df.head(5)"
   ]
  },
  {
   "cell_type": "markdown",
   "metadata": {},
   "source": [
    "**Plotting the relationship between Investment Performance and Annual Std Dev**"
   ]
  },
  {
   "cell_type": "code",
   "execution_count": 27,
   "metadata": {},
   "outputs": [
    {
     "data": {},
     "metadata": {},
     "output_type": "display_data"
    },
    {
     "data": {
      "application/vnd.holoviews_exec.v0+json": "",
      "text/html": [
       "<div id='1001'>\n",
       "\n",
       "\n",
       "\n",
       "\n",
       "\n",
       "  <div class=\"bk-root\" id=\"24440920-7b44-40e3-8ad5-e7392c588db5\" data-root-id=\"1001\"></div>\n",
       "</div>\n",
       "<script type=\"application/javascript\">(function(root) {\n",
       "  function embed_document(root) {\n",
       "  var docs_json = {\"9d6cdee0-b725-448a-b337-c5b76150594f\":{\"roots\":{\"references\":[{\"attributes\":{},\"id\":\"1055\",\"type\":\"UnionRenderers\"},{\"attributes\":{},\"id\":\"1046\",\"type\":\"BasicTickFormatter\"},{\"attributes\":{\"axis\":{\"id\":\"1019\"},\"dimension\":1,\"grid_line_color\":null,\"ticker\":null},\"id\":\"1022\",\"type\":\"Grid\"},{\"attributes\":{},\"id\":\"1044\",\"type\":\"BasicTickFormatter\"},{\"attributes\":{},\"id\":\"1037\",\"type\":\"Selection\"},{\"attributes\":{\"children\":[{\"id\":\"1002\"},{\"id\":\"1006\"},{\"id\":\"1056\"}],\"margin\":[0,0,0,0],\"name\":\"Row01509\",\"tags\":[\"embedded\"]},\"id\":\"1001\",\"type\":\"Row\"},{\"attributes\":{\"axis_label\":\"Annual Std Dev\",\"bounds\":\"auto\",\"formatter\":{\"id\":\"1046\"},\"major_label_orientation\":\"horizontal\",\"ticker\":{\"id\":\"1020\"}},\"id\":\"1019\",\"type\":\"LinearAxis\"},{\"attributes\":{\"margin\":[5,5,5,5],\"name\":\"HSpacer01513\",\"sizing_mode\":\"stretch_width\"},\"id\":\"1002\",\"type\":\"Spacer\"},{\"attributes\":{\"text\":\"Relationship Between Investment Performance and Annual Std Dev for Top 20 Funds\",\"text_color\":{\"value\":\"black\"},\"text_font_size\":{\"value\":\"12pt\"}},\"id\":\"1007\",\"type\":\"Title\"},{\"attributes\":{},\"id\":\"1016\",\"type\":\"BasicTicker\"},{\"attributes\":{},\"id\":\"1013\",\"type\":\"LinearScale\"},{\"attributes\":{\"end\":0.18838268404827643,\"reset_end\":0.18838268404827643,\"reset_start\":0.12702029019468355,\"start\":0.12702029019468355,\"tags\":[[[\"Annual Std Dev\",\"Annual Std Dev\",null]]]},\"id\":\"1004\",\"type\":\"Range1d\"},{\"attributes\":{},\"id\":\"1011\",\"type\":\"LinearScale\"},{\"attributes\":{},\"id\":\"1023\",\"type\":\"SaveTool\"},{\"attributes\":{},\"id\":\"1025\",\"type\":\"WheelZoomTool\"},{\"attributes\":{},\"id\":\"1020\",\"type\":\"BasicTicker\"},{\"attributes\":{\"end\":0.16419733556189314,\"reset_end\":0.16419733556189314,\"reset_start\":0.10345516274338612,\"start\":0.10345516274338612,\"tags\":[[[\"Returns\",\"Returns\",null]]]},\"id\":\"1003\",\"type\":\"Range1d\"},{\"attributes\":{\"bottom_units\":\"screen\",\"fill_alpha\":0.5,\"fill_color\":\"lightgrey\",\"left_units\":\"screen\",\"level\":\"overlay\",\"line_alpha\":1.0,\"line_color\":\"black\",\"line_dash\":[4,4],\"line_width\":2,\"render_mode\":\"css\",\"right_units\":\"screen\",\"top_units\":\"screen\"},\"id\":\"1028\",\"type\":\"BoxAnnotation\"},{\"attributes\":{\"callback\":null,\"renderers\":[{\"id\":\"1042\"}],\"tags\":[\"hv_created\"],\"tooltips\":[[\"Returns\",\"@{Returns}\"],[\"Annual Std Dev\",\"@{Annual_Std_Dev}\"],[\"Ticker\",\"@{Ticker}\"]]},\"id\":\"1005\",\"type\":\"HoverTool\"},{\"attributes\":{},\"id\":\"1024\",\"type\":\"PanTool\"},{\"attributes\":{\"fill_color\":{\"value\":\"#1f77b3\"},\"line_color\":{\"value\":\"#1f77b3\"},\"size\":{\"units\":\"screen\",\"value\":5.477225575051661},\"x\":{\"field\":\"Returns\"},\"y\":{\"field\":\"Annual Std Dev\"}},\"id\":\"1039\",\"type\":\"Scatter\"},{\"attributes\":{\"margin\":[5,5,5,5],\"name\":\"HSpacer01514\",\"sizing_mode\":\"stretch_width\"},\"id\":\"1056\",\"type\":\"Spacer\"},{\"attributes\":{\"align\":null,\"below\":[{\"id\":\"1015\"}],\"center\":[{\"id\":\"1018\"},{\"id\":\"1022\"}],\"left\":[{\"id\":\"1019\"}],\"margin\":null,\"min_border_bottom\":10,\"min_border_left\":10,\"min_border_right\":10,\"min_border_top\":10,\"plot_height\":300,\"plot_width\":700,\"renderers\":[{\"id\":\"1042\"}],\"sizing_mode\":\"fixed\",\"title\":{\"id\":\"1007\"},\"toolbar\":{\"id\":\"1029\"},\"x_range\":{\"id\":\"1003\"},\"x_scale\":{\"id\":\"1011\"},\"y_range\":{\"id\":\"1004\"},\"y_scale\":{\"id\":\"1013\"}},\"id\":\"1006\",\"subtype\":\"Figure\",\"type\":\"Plot\"},{\"attributes\":{\"fill_alpha\":{\"value\":0.2},\"fill_color\":{\"value\":\"#1f77b3\"},\"line_alpha\":{\"value\":0.2},\"line_color\":{\"value\":\"#1f77b3\"},\"size\":{\"units\":\"screen\",\"value\":5.477225575051661},\"x\":{\"field\":\"Returns\"},\"y\":{\"field\":\"Annual Std Dev\"}},\"id\":\"1041\",\"type\":\"Scatter\"},{\"attributes\":{\"fill_alpha\":{\"value\":0.1},\"fill_color\":{\"value\":\"#1f77b3\"},\"line_alpha\":{\"value\":0.1},\"line_color\":{\"value\":\"#1f77b3\"},\"size\":{\"units\":\"screen\",\"value\":5.477225575051661},\"x\":{\"field\":\"Returns\"},\"y\":{\"field\":\"Annual Std Dev\"}},\"id\":\"1040\",\"type\":\"Scatter\"},{\"attributes\":{\"data\":{\"Annual Std Dev\":{\"__ndarray__\":\"azFG2MLpwD9AeHIaV9PFP22Es33RAcQ/Q9hIw1Vvwz947mVm8MDDPxk+9pUPWsI/c5j4kEScwz/ZLRSy477BP1oWePGNTsM/+3BxEV11xz/Q6+Xr6gPDP0Mlvl9KrsQ/7z5OteiRwj9gE4mm8TjGP5EZ+CVC+8I/vbV7wDrlxD84pa3+0WvCP/bGHcgEIsY/dQ6Pyq2Owj/DSb+eiFrCPw==\",\"dtype\":\"float64\",\"shape\":[20]},\"Annual_Std_Dev\":{\"__ndarray__\":\"azFG2MLpwD9AeHIaV9PFP22Es33RAcQ/Q9hIw1Vvwz947mVm8MDDPxk+9pUPWsI/c5j4kEScwz/ZLRSy477BP1oWePGNTsM/+3BxEV11xz/Q6+Xr6gPDP0Mlvl9KrsQ/7z5OteiRwj9gE4mm8TjGP5EZ+CVC+8I/vbV7wDrlxD84pa3+0WvCP/bGHcgEIsY/dQ6Pyq2Owj/DSb+eiFrCPw==\",\"dtype\":\"float64\",\"shape\":[20]},\"Returns\":{\"__ndarray__\":\"YORdktm1xD+wDVyz72vCP0jMuyoUYcE/YMqRJsf+wD+QJd5rutDAP7CTmIMIYMA/r6HInz4uwD+ovYlhpA3APw/be/RyX78/EIb3HrL9vT+Bv2aKZSq9P0FZDlG7EL0/f/GGIOe7vD/Q3TGYq6W8PwBaSJrogbw/QFc+tyshvD+wpONVL+S7P7Bn+9XVoLs/ISuzUD2Yuz+gKi6iLBm7Pw==\",\"dtype\":\"float64\",\"shape\":[20]},\"Ticker\":[\"AKRIX\",\"EGFIX\",\"PWB\",\"MGK\",\"VIGRX\",\"PKW\",\"VFTNX\",\"SPHQ\",\"BIAFX\",\"VHIAX\",\"FTCS\",\"MEGBX\",\"SPX_index\",\"GTLLX\",\"AFDAX\",\"JPGSX\",\"DSI\",\"POGAX\",\"GCEQX\",\"SUSA\"]},\"selected\":{\"id\":\"1037\"},\"selection_policy\":{\"id\":\"1055\"}},\"id\":\"1036\",\"type\":\"ColumnDataSource\"},{\"attributes\":{\"source\":{\"id\":\"1036\"}},\"id\":\"1043\",\"type\":\"CDSView\"},{\"attributes\":{\"overlay\":{\"id\":\"1028\"}},\"id\":\"1026\",\"type\":\"BoxZoomTool\"},{\"attributes\":{\"data_source\":{\"id\":\"1036\"},\"glyph\":{\"id\":\"1039\"},\"hover_glyph\":null,\"muted_glyph\":{\"id\":\"1041\"},\"nonselection_glyph\":{\"id\":\"1040\"},\"selection_glyph\":null,\"view\":{\"id\":\"1043\"}},\"id\":\"1042\",\"type\":\"GlyphRenderer\"},{\"attributes\":{\"axis_label\":\"Returns\",\"bounds\":\"auto\",\"formatter\":{\"id\":\"1044\"},\"major_label_orientation\":\"horizontal\",\"ticker\":{\"id\":\"1016\"}},\"id\":\"1015\",\"type\":\"LinearAxis\"},{\"attributes\":{},\"id\":\"1027\",\"type\":\"ResetTool\"},{\"attributes\":{\"axis\":{\"id\":\"1015\"},\"grid_line_color\":null,\"ticker\":null},\"id\":\"1018\",\"type\":\"Grid\"},{\"attributes\":{\"active_drag\":\"auto\",\"active_inspect\":\"auto\",\"active_multi\":null,\"active_scroll\":\"auto\",\"active_tap\":\"auto\",\"tools\":[{\"id\":\"1005\"},{\"id\":\"1023\"},{\"id\":\"1024\"},{\"id\":\"1025\"},{\"id\":\"1026\"},{\"id\":\"1027\"}]},\"id\":\"1029\",\"type\":\"Toolbar\"}],\"root_ids\":[\"1001\"]},\"title\":\"Bokeh Application\",\"version\":\"2.0.1\"}};\n",
       "  var render_items = [{\"docid\":\"9d6cdee0-b725-448a-b337-c5b76150594f\",\"root_ids\":[\"1001\"],\"roots\":{\"1001\":\"24440920-7b44-40e3-8ad5-e7392c588db5\"}}];\n",
       "  root.Bokeh.embed.embed_items_notebook(docs_json, render_items);\n",
       "  }\n",
       "if (root.Bokeh !== undefined) {\n",
       "    embed_document(root);\n",
       "  } else {\n",
       "    var attempts = 0;\n",
       "    var timer = setInterval(function(root) {\n",
       "      if (root.Bokeh !== undefined) {\n",
       "        clearInterval(timer);\n",
       "        embed_document(root);\n",
       "      } else if (document.readyState == \"complete\") {\n",
       "        attempts++;\n",
       "        if (attempts > 100) {\n",
       "          clearInterval(timer);\n",
       "          console.log(\"Bokeh: ERROR: Unable to run BokehJS code because BokehJS library is missing\");\n",
       "        }\n",
       "      }\n",
       "    }, 10, root)\n",
       "  }\n",
       "})(window);</script>"
      ],
      "text/plain": [
       ":Scatter   [Returns]   (Annual Std Dev,Ticker)"
      ]
     },
     "execution_count": 27,
     "metadata": {
      "application/vnd.holoviews_exec.v0+json": {
       "id": "1001"
      }
     },
     "output_type": "execute_result"
    }
   ],
   "source": [
    "top_20_ret_std_df_plot = top_20_ret_std_df.hvplot(kind='scatter', x='Returns', hover_cols=['Ticker'], use_index=True, y='Annual Std Dev', label=\"Relationship Between Investment Performance and Annual Std Dev for Top 20 Funds\")\n",
    "top_20_ret_std_df_plot"
   ]
  },
  {
   "cell_type": "code",
   "execution_count": 58,
   "metadata": {},
   "outputs": [
    {
     "data": {},
     "metadata": {},
     "output_type": "display_data"
    },
    {
     "data": {
      "application/vnd.holoviews_exec.v0+json": "",
      "text/html": [
       "<div id='2853'>\n",
       "\n",
       "\n",
       "\n",
       "\n",
       "\n",
       "  <div class=\"bk-root\" id=\"c6dca626-489d-4a15-8c23-8d413f6bd5a6\" data-root-id=\"2853\"></div>\n",
       "</div>\n",
       "<script type=\"application/javascript\">(function(root) {\n",
       "  function embed_document(root) {\n",
       "  var docs_json = {\"c7e2224a-8367-40ee-b535-ea1a6dab7289\":{\"roots\":{\"references\":[{\"attributes\":{\"data\":{\"marker.size\":[{\"__ndarray__\":\"YORdktm1xD+wDVyz72vCP0jMuyoUYcE/YMqRJsf+wD+QJd5rutDAP7CTmIMIYMA/r6HInz4uwD+ovYlhpA3APw/be/RyX78/EIb3HrL9vT+Bv2aKZSq9P0FZDlG7EL0/f/GGIOe7vD/Q3TGYq6W8PwBaSJrogbw/QFc+tyshvD+wpONVL+S7P7Bn+9XVoLs/ISuzUD2Yuz+gKi6iLBm7Pw==\",\"dtype\":\"float64\",\"shape\":[20]}],\"x\":[[\"AKRIX\",\"EGFIX\",\"PWB\",\"MGK\",\"VIGRX\",\"PKW\",\"VFTNX\",\"SPHQ\",\"BIAFX\",\"VHIAX\",\"FTCS\",\"MEGBX\",\"SPX_index\",\"GTLLX\",\"AFDAX\",\"JPGSX\",\"DSI\",\"POGAX\",\"GCEQX\",\"SUSA\"]],\"y\":[{\"__ndarray__\":\"azFG2MLpwD9AeHIaV9PFP22Es33RAcQ/Q9hIw1Vvwz947mVm8MDDPxk+9pUPWsI/c5j4kEScwz/ZLRSy477BP1oWePGNTsM/+3BxEV11xz/Q6+Xr6gPDP0Mlvl9KrsQ/7z5OteiRwj9gE4mm8TjGP5EZ+CVC+8I/vbV7wDrlxD84pa3+0WvCP/bGHcgEIsY/dQ6Pyq2Owj/DSb+eiFrCPw==\",\"dtype\":\"float64\",\"shape\":[20]}]},\"selected\":{\"id\":\"2854\"},\"selection_policy\":{\"id\":\"2855\"}},\"id\":\"2852\",\"type\":\"ColumnDataSource\"},{\"attributes\":{},\"id\":\"2854\",\"type\":\"Selection\"},{\"attributes\":{\"client_comm_id\":\"6de639c893fc4ff093de7da52ea5bbd4\",\"comm_id\":\"d5e9d291f93b4b6f86e5cc18558fd646\",\"plot_id\":\"2853\"},\"id\":\"2860\",\"type\":\"panel.models.comm_manager.CommManager\"},{\"attributes\":{\"_render_count\":0,\"config\":null,\"data\":[{\"hovertemplate\":\"x=%{x}<br>Annual Std Dev=%{y}<br>Returns=%{marker.size}<extra></extra>\",\"legendgroup\":\"\",\"marker\":{\"color\":\"#636efa\",\"sizemode\":\"area\",\"sizeref\":0.0004044990455344855,\"symbol\":\"circle\"},\"mode\":\"markers\",\"name\":\"\",\"showlegend\":false,\"type\":\"scatter\",\"xaxis\":\"x\",\"yaxis\":\"y\"}],\"data_sources\":[{\"id\":\"2852\"}],\"layout\":{\"legend\":{\"itemsizing\":\"constant\",\"tracegroupgap\":0},\"template\":{\"data\":{\"bar\":[{\"error_x\":{\"color\":\"#2a3f5f\"},\"error_y\":{\"color\":\"#2a3f5f\"},\"marker\":{\"line\":{\"color\":\"#E5ECF6\",\"width\":0.5}},\"type\":\"bar\"}],\"barpolar\":[{\"marker\":{\"line\":{\"color\":\"#E5ECF6\",\"width\":0.5}},\"type\":\"barpolar\"}],\"carpet\":[{\"aaxis\":{\"endlinecolor\":\"#2a3f5f\",\"gridcolor\":\"white\",\"linecolor\":\"white\",\"minorgridcolor\":\"white\",\"startlinecolor\":\"#2a3f5f\"},\"baxis\":{\"endlinecolor\":\"#2a3f5f\",\"gridcolor\":\"white\",\"linecolor\":\"white\",\"minorgridcolor\":\"white\",\"startlinecolor\":\"#2a3f5f\"},\"type\":\"carpet\"}],\"choropleth\":[{\"colorbar\":{\"outlinewidth\":0,\"ticks\":\"\"},\"type\":\"choropleth\"}],\"contour\":[{\"colorbar\":{\"outlinewidth\":0,\"ticks\":\"\"},\"colorscale\":[[0.0,\"#0d0887\"],[0.1111111111111111,\"#46039f\"],[0.2222222222222222,\"#7201a8\"],[0.3333333333333333,\"#9c179e\"],[0.4444444444444444,\"#bd3786\"],[0.5555555555555556,\"#d8576b\"],[0.6666666666666666,\"#ed7953\"],[0.7777777777777778,\"#fb9f3a\"],[0.8888888888888888,\"#fdca26\"],[1.0,\"#f0f921\"]],\"type\":\"contour\"}],\"contourcarpet\":[{\"colorbar\":{\"outlinewidth\":0,\"ticks\":\"\"},\"type\":\"contourcarpet\"}],\"heatmap\":[{\"colorbar\":{\"outlinewidth\":0,\"ticks\":\"\"},\"colorscale\":[[0.0,\"#0d0887\"],[0.1111111111111111,\"#46039f\"],[0.2222222222222222,\"#7201a8\"],[0.3333333333333333,\"#9c179e\"],[0.4444444444444444,\"#bd3786\"],[0.5555555555555556,\"#d8576b\"],[0.6666666666666666,\"#ed7953\"],[0.7777777777777778,\"#fb9f3a\"],[0.8888888888888888,\"#fdca26\"],[1.0,\"#f0f921\"]],\"type\":\"heatmap\"}],\"heatmapgl\":[{\"colorbar\":{\"outlinewidth\":0,\"ticks\":\"\"},\"colorscale\":[[0.0,\"#0d0887\"],[0.1111111111111111,\"#46039f\"],[0.2222222222222222,\"#7201a8\"],[0.3333333333333333,\"#9c179e\"],[0.4444444444444444,\"#bd3786\"],[0.5555555555555556,\"#d8576b\"],[0.6666666666666666,\"#ed7953\"],[0.7777777777777778,\"#fb9f3a\"],[0.8888888888888888,\"#fdca26\"],[1.0,\"#f0f921\"]],\"type\":\"heatmapgl\"}],\"histogram\":[{\"marker\":{\"colorbar\":{\"outlinewidth\":0,\"ticks\":\"\"}},\"type\":\"histogram\"}],\"histogram2d\":[{\"colorbar\":{\"outlinewidth\":0,\"ticks\":\"\"},\"colorscale\":[[0.0,\"#0d0887\"],[0.1111111111111111,\"#46039f\"],[0.2222222222222222,\"#7201a8\"],[0.3333333333333333,\"#9c179e\"],[0.4444444444444444,\"#bd3786\"],[0.5555555555555556,\"#d8576b\"],[0.6666666666666666,\"#ed7953\"],[0.7777777777777778,\"#fb9f3a\"],[0.8888888888888888,\"#fdca26\"],[1.0,\"#f0f921\"]],\"type\":\"histogram2d\"}],\"histogram2dcontour\":[{\"colorbar\":{\"outlinewidth\":0,\"ticks\":\"\"},\"colorscale\":[[0.0,\"#0d0887\"],[0.1111111111111111,\"#46039f\"],[0.2222222222222222,\"#7201a8\"],[0.3333333333333333,\"#9c179e\"],[0.4444444444444444,\"#bd3786\"],[0.5555555555555556,\"#d8576b\"],[0.6666666666666666,\"#ed7953\"],[0.7777777777777778,\"#fb9f3a\"],[0.8888888888888888,\"#fdca26\"],[1.0,\"#f0f921\"]],\"type\":\"histogram2dcontour\"}],\"mesh3d\":[{\"colorbar\":{\"outlinewidth\":0,\"ticks\":\"\"},\"type\":\"mesh3d\"}],\"parcoords\":[{\"line\":{\"colorbar\":{\"outlinewidth\":0,\"ticks\":\"\"}},\"type\":\"parcoords\"}],\"pie\":[{\"automargin\":true,\"type\":\"pie\"}],\"scatter\":[{\"marker\":{\"colorbar\":{\"outlinewidth\":0,\"ticks\":\"\"}},\"type\":\"scatter\"}],\"scatter3d\":[{\"line\":{\"colorbar\":{\"outlinewidth\":0,\"ticks\":\"\"}},\"marker\":{\"colorbar\":{\"outlinewidth\":0,\"ticks\":\"\"}},\"type\":\"scatter3d\"}],\"scattercarpet\":[{\"marker\":{\"colorbar\":{\"outlinewidth\":0,\"ticks\":\"\"}},\"type\":\"scattercarpet\"}],\"scattergeo\":[{\"marker\":{\"colorbar\":{\"outlinewidth\":0,\"ticks\":\"\"}},\"type\":\"scattergeo\"}],\"scattergl\":[{\"marker\":{\"colorbar\":{\"outlinewidth\":0,\"ticks\":\"\"}},\"type\":\"scattergl\"}],\"scattermapbox\":[{\"marker\":{\"colorbar\":{\"outlinewidth\":0,\"ticks\":\"\"}},\"type\":\"scattermapbox\"}],\"scatterpolar\":[{\"marker\":{\"colorbar\":{\"outlinewidth\":0,\"ticks\":\"\"}},\"type\":\"scatterpolar\"}],\"scatterpolargl\":[{\"marker\":{\"colorbar\":{\"outlinewidth\":0,\"ticks\":\"\"}},\"type\":\"scatterpolargl\"}],\"scatterternary\":[{\"marker\":{\"colorbar\":{\"outlinewidth\":0,\"ticks\":\"\"}},\"type\":\"scatterternary\"}],\"surface\":[{\"colorbar\":{\"outlinewidth\":0,\"ticks\":\"\"},\"colorscale\":[[0.0,\"#0d0887\"],[0.1111111111111111,\"#46039f\"],[0.2222222222222222,\"#7201a8\"],[0.3333333333333333,\"#9c179e\"],[0.4444444444444444,\"#bd3786\"],[0.5555555555555556,\"#d8576b\"],[0.6666666666666666,\"#ed7953\"],[0.7777777777777778,\"#fb9f3a\"],[0.8888888888888888,\"#fdca26\"],[1.0,\"#f0f921\"]],\"type\":\"surface\"}],\"table\":[{\"cells\":{\"fill\":{\"color\":\"#EBF0F8\"},\"line\":{\"color\":\"white\"}},\"header\":{\"fill\":{\"color\":\"#C8D4E3\"},\"line\":{\"color\":\"white\"}},\"type\":\"table\"}]},\"layout\":{\"annotationdefaults\":{\"arrowcolor\":\"#2a3f5f\",\"arrowhead\":0,\"arrowwidth\":1},\"coloraxis\":{\"colorbar\":{\"outlinewidth\":0,\"ticks\":\"\"}},\"colorscale\":{\"diverging\":[[0,\"#8e0152\"],[0.1,\"#c51b7d\"],[0.2,\"#de77ae\"],[0.3,\"#f1b6da\"],[0.4,\"#fde0ef\"],[0.5,\"#f7f7f7\"],[0.6,\"#e6f5d0\"],[0.7,\"#b8e186\"],[0.8,\"#7fbc41\"],[0.9,\"#4d9221\"],[1,\"#276419\"]],\"sequential\":[[0.0,\"#0d0887\"],[0.1111111111111111,\"#46039f\"],[0.2222222222222222,\"#7201a8\"],[0.3333333333333333,\"#9c179e\"],[0.4444444444444444,\"#bd3786\"],[0.5555555555555556,\"#d8576b\"],[0.6666666666666666,\"#ed7953\"],[0.7777777777777778,\"#fb9f3a\"],[0.8888888888888888,\"#fdca26\"],[1.0,\"#f0f921\"]],\"sequentialminus\":[[0.0,\"#0d0887\"],[0.1111111111111111,\"#46039f\"],[0.2222222222222222,\"#7201a8\"],[0.3333333333333333,\"#9c179e\"],[0.4444444444444444,\"#bd3786\"],[0.5555555555555556,\"#d8576b\"],[0.6666666666666666,\"#ed7953\"],[0.7777777777777778,\"#fb9f3a\"],[0.8888888888888888,\"#fdca26\"],[1.0,\"#f0f921\"]]},\"colorway\":[\"#636efa\",\"#EF553B\",\"#00cc96\",\"#ab63fa\",\"#FFA15A\",\"#19d3f3\",\"#FF6692\",\"#B6E880\",\"#FF97FF\",\"#FECB52\"],\"font\":{\"color\":\"#2a3f5f\"},\"geo\":{\"bgcolor\":\"white\",\"lakecolor\":\"white\",\"landcolor\":\"#E5ECF6\",\"showlakes\":true,\"showland\":true,\"subunitcolor\":\"white\"},\"hoverlabel\":{\"align\":\"left\"},\"hovermode\":\"closest\",\"mapbox\":{\"style\":\"light\"},\"paper_bgcolor\":\"white\",\"plot_bgcolor\":\"#E5ECF6\",\"polar\":{\"angularaxis\":{\"gridcolor\":\"white\",\"linecolor\":\"white\",\"ticks\":\"\"},\"bgcolor\":\"#E5ECF6\",\"radialaxis\":{\"gridcolor\":\"white\",\"linecolor\":\"white\",\"ticks\":\"\"}},\"scene\":{\"xaxis\":{\"backgroundcolor\":\"#E5ECF6\",\"gridcolor\":\"white\",\"gridwidth\":2,\"linecolor\":\"white\",\"showbackground\":true,\"ticks\":\"\",\"zerolinecolor\":\"white\"},\"yaxis\":{\"backgroundcolor\":\"#E5ECF6\",\"gridcolor\":\"white\",\"gridwidth\":2,\"linecolor\":\"white\",\"showbackground\":true,\"ticks\":\"\",\"zerolinecolor\":\"white\"},\"zaxis\":{\"backgroundcolor\":\"#E5ECF6\",\"gridcolor\":\"white\",\"gridwidth\":2,\"linecolor\":\"white\",\"showbackground\":true,\"ticks\":\"\",\"zerolinecolor\":\"white\"}},\"shapedefaults\":{\"line\":{\"color\":\"#2a3f5f\"}},\"ternary\":{\"aaxis\":{\"gridcolor\":\"white\",\"linecolor\":\"white\",\"ticks\":\"\"},\"baxis\":{\"gridcolor\":\"white\",\"linecolor\":\"white\",\"ticks\":\"\"},\"bgcolor\":\"#E5ECF6\",\"caxis\":{\"gridcolor\":\"white\",\"linecolor\":\"white\",\"ticks\":\"\"}},\"title\":{\"x\":0.05},\"xaxis\":{\"automargin\":true,\"gridcolor\":\"white\",\"linecolor\":\"white\",\"ticks\":\"\",\"title\":{\"standoff\":15},\"zerolinecolor\":\"white\",\"zerolinewidth\":2},\"yaxis\":{\"automargin\":true,\"gridcolor\":\"white\",\"linecolor\":\"white\",\"ticks\":\"\",\"title\":{\"standoff\":15},\"zerolinecolor\":\"white\",\"zerolinewidth\":2}}},\"title\":{\"text\":\"Relationship Between Investment Performance and Annual Std Dev for Top 20 Funds\"},\"xaxis\":{\"anchor\":\"y\",\"domain\":[0.0,1.0],\"title\":{\"text\":\"x\"}},\"yaxis\":{\"anchor\":\"x\",\"domain\":[0.0,1.0],\"title\":{\"text\":\"Annual Std Dev\"}}},\"margin\":[5,5,5,5],\"name\":\"Plotly02942\",\"viewport_update_throttle\":200},\"id\":\"2853\",\"type\":\"panel.models.plotly.PlotlyPlot\"},{\"attributes\":{},\"id\":\"2855\",\"type\":\"UnionRenderers\"}],\"root_ids\":[\"2853\",\"2860\"]},\"title\":\"Bokeh Application\",\"version\":\"2.0.1\"}};\n",
       "  var render_items = [{\"docid\":\"c7e2224a-8367-40ee-b535-ea1a6dab7289\",\"root_ids\":[\"2853\"],\"roots\":{\"2853\":\"c6dca626-489d-4a15-8c23-8d413f6bd5a6\"}}];\n",
       "  root.Bokeh.embed.embed_items_notebook(docs_json, render_items);\n",
       "  }\n",
       "if (root.Bokeh !== undefined) {\n",
       "    embed_document(root);\n",
       "  } else {\n",
       "    var attempts = 0;\n",
       "    var timer = setInterval(function(root) {\n",
       "      if (root.Bokeh !== undefined) {\n",
       "        clearInterval(timer);\n",
       "        embed_document(root);\n",
       "      } else if (document.readyState == \"complete\") {\n",
       "        attempts++;\n",
       "        if (attempts > 100) {\n",
       "          clearInterval(timer);\n",
       "          console.log(\"Bokeh: ERROR: Unable to run BokehJS code because BokehJS library is missing\");\n",
       "        }\n",
       "      }\n",
       "    }, 10, root)\n",
       "  }\n",
       "})(window);</script>"
      ],
      "text/plain": [
       "Plotly(Figure)"
      ]
     },
     "execution_count": 58,
     "metadata": {
      "application/vnd.holoviews_exec.v0+json": {
       "id": "2853"
      }
     },
     "output_type": "execute_result"
    }
   ],
   "source": [
    "# Planet plot for our Tab section\n",
    "plot = px.scatter(\n",
    "    top_20_ret_std_df,\n",
    "    x=top_20_ret_std_df.index,\n",
    "    y=\"Annual Std Dev\",\n",
    "    size='Returns',\n",
    "    title=\"Relationship Between Investment Performance and Annual Std Dev for Top 20 Funds\",\n",
    ")\n",
    "pane_total = pn.pane.Plotly(plot)\n",
    "pane_total"
   ]
  },
  {
   "cell_type": "markdown",
   "metadata": {},
   "source": [
    "**Correlation Analysis Between the Top 20 Funds**"
   ]
  },
  {
   "cell_type": "code",
   "execution_count": 29,
   "metadata": {},
   "outputs": [
    {
     "data": {
      "text/html": [
       "<div>\n",
       "<style scoped>\n",
       "    .dataframe tbody tr th:only-of-type {\n",
       "        vertical-align: middle;\n",
       "    }\n",
       "\n",
       "    .dataframe tbody tr th {\n",
       "        vertical-align: top;\n",
       "    }\n",
       "\n",
       "    .dataframe thead th {\n",
       "        text-align: right;\n",
       "    }\n",
       "</style>\n",
       "<table border=\"1\" class=\"dataframe\">\n",
       "  <thead>\n",
       "    <tr style=\"text-align: right;\">\n",
       "      <th></th>\n",
       "      <th>AKRIX</th>\n",
       "      <th>EGFIX</th>\n",
       "      <th>PWB</th>\n",
       "      <th>MGK</th>\n",
       "      <th>VIGRX</th>\n",
       "      <th>PKW</th>\n",
       "      <th>VFTNX</th>\n",
       "      <th>SPHQ</th>\n",
       "      <th>BIAFX</th>\n",
       "      <th>VHIAX</th>\n",
       "      <th>FTCS</th>\n",
       "      <th>MEGBX</th>\n",
       "      <th>SPX_index</th>\n",
       "      <th>GTLLX</th>\n",
       "      <th>AFDAX</th>\n",
       "      <th>JPGSX</th>\n",
       "      <th>DSI</th>\n",
       "      <th>POGAX</th>\n",
       "      <th>GCEQX</th>\n",
       "      <th>SUSA</th>\n",
       "    </tr>\n",
       "  </thead>\n",
       "  <tbody>\n",
       "    <tr>\n",
       "      <th>AKRIX</th>\n",
       "      <td>1.000000</td>\n",
       "      <td>0.875071</td>\n",
       "      <td>0.894734</td>\n",
       "      <td>0.896173</td>\n",
       "      <td>0.906797</td>\n",
       "      <td>0.870704</td>\n",
       "      <td>0.902294</td>\n",
       "      <td>0.874448</td>\n",
       "      <td>0.905842</td>\n",
       "      <td>0.874161</td>\n",
       "      <td>0.844612</td>\n",
       "      <td>0.894090</td>\n",
       "      <td>0.903791</td>\n",
       "      <td>0.862555</td>\n",
       "      <td>0.890686</td>\n",
       "      <td>0.864642</td>\n",
       "      <td>0.886262</td>\n",
       "      <td>0.861024</td>\n",
       "      <td>0.905679</td>\n",
       "      <td>0.881777</td>\n",
       "    </tr>\n",
       "    <tr>\n",
       "      <th>EGFIX</th>\n",
       "      <td>0.875071</td>\n",
       "      <td>1.000000</td>\n",
       "      <td>0.931534</td>\n",
       "      <td>0.945947</td>\n",
       "      <td>0.949225</td>\n",
       "      <td>0.850711</td>\n",
       "      <td>0.920529</td>\n",
       "      <td>0.871253</td>\n",
       "      <td>0.908450</td>\n",
       "      <td>0.921874</td>\n",
       "      <td>0.842185</td>\n",
       "      <td>0.942339</td>\n",
       "      <td>0.917753</td>\n",
       "      <td>0.865483</td>\n",
       "      <td>0.903666</td>\n",
       "      <td>0.899946</td>\n",
       "      <td>0.899871</td>\n",
       "      <td>0.903874</td>\n",
       "      <td>0.924756</td>\n",
       "      <td>0.887042</td>\n",
       "    </tr>\n",
       "    <tr>\n",
       "      <th>PWB</th>\n",
       "      <td>0.894734</td>\n",
       "      <td>0.931534</td>\n",
       "      <td>1.000000</td>\n",
       "      <td>0.959231</td>\n",
       "      <td>0.964340</td>\n",
       "      <td>0.882099</td>\n",
       "      <td>0.943718</td>\n",
       "      <td>0.912072</td>\n",
       "      <td>0.928040</td>\n",
       "      <td>0.921487</td>\n",
       "      <td>0.879046</td>\n",
       "      <td>0.951908</td>\n",
       "      <td>0.946769</td>\n",
       "      <td>0.892566</td>\n",
       "      <td>0.933191</td>\n",
       "      <td>0.918610</td>\n",
       "      <td>0.928859</td>\n",
       "      <td>0.913940</td>\n",
       "      <td>0.949526</td>\n",
       "      <td>0.918552</td>\n",
       "    </tr>\n",
       "    <tr>\n",
       "      <th>MGK</th>\n",
       "      <td>0.896173</td>\n",
       "      <td>0.945947</td>\n",
       "      <td>0.959231</td>\n",
       "      <td>1.000000</td>\n",
       "      <td>0.994661</td>\n",
       "      <td>0.903612</td>\n",
       "      <td>0.965077</td>\n",
       "      <td>0.924924</td>\n",
       "      <td>0.951005</td>\n",
       "      <td>0.938389</td>\n",
       "      <td>0.894425</td>\n",
       "      <td>0.969236</td>\n",
       "      <td>0.972736</td>\n",
       "      <td>0.903895</td>\n",
       "      <td>0.958141</td>\n",
       "      <td>0.941205</td>\n",
       "      <td>0.950223</td>\n",
       "      <td>0.937188</td>\n",
       "      <td>0.971223</td>\n",
       "      <td>0.938805</td>\n",
       "    </tr>\n",
       "    <tr>\n",
       "      <th>VIGRX</th>\n",
       "      <td>0.906797</td>\n",
       "      <td>0.949225</td>\n",
       "      <td>0.964340</td>\n",
       "      <td>0.994661</td>\n",
       "      <td>1.000000</td>\n",
       "      <td>0.912570</td>\n",
       "      <td>0.972185</td>\n",
       "      <td>0.933024</td>\n",
       "      <td>0.957041</td>\n",
       "      <td>0.946695</td>\n",
       "      <td>0.901834</td>\n",
       "      <td>0.972294</td>\n",
       "      <td>0.979055</td>\n",
       "      <td>0.914331</td>\n",
       "      <td>0.963905</td>\n",
       "      <td>0.946851</td>\n",
       "      <td>0.955546</td>\n",
       "      <td>0.942608</td>\n",
       "      <td>0.977255</td>\n",
       "      <td>0.946317</td>\n",
       "    </tr>\n",
       "  </tbody>\n",
       "</table>\n",
       "</div>"
      ],
      "text/plain": [
       "          AKRIX     EGFIX       PWB       MGK     VIGRX       PKW     VFTNX  \\\n",
       "AKRIX  1.000000  0.875071  0.894734  0.896173  0.906797  0.870704  0.902294   \n",
       "EGFIX  0.875071  1.000000  0.931534  0.945947  0.949225  0.850711  0.920529   \n",
       "PWB    0.894734  0.931534  1.000000  0.959231  0.964340  0.882099  0.943718   \n",
       "MGK    0.896173  0.945947  0.959231  1.000000  0.994661  0.903612  0.965077   \n",
       "VIGRX  0.906797  0.949225  0.964340  0.994661  1.000000  0.912570  0.972185   \n",
       "\n",
       "           SPHQ     BIAFX     VHIAX      FTCS     MEGBX  SPX_index     GTLLX  \\\n",
       "AKRIX  0.874448  0.905842  0.874161  0.844612  0.894090   0.903791  0.862555   \n",
       "EGFIX  0.871253  0.908450  0.921874  0.842185  0.942339   0.917753  0.865483   \n",
       "PWB    0.912072  0.928040  0.921487  0.879046  0.951908   0.946769  0.892566   \n",
       "MGK    0.924924  0.951005  0.938389  0.894425  0.969236   0.972736  0.903895   \n",
       "VIGRX  0.933024  0.957041  0.946695  0.901834  0.972294   0.979055  0.914331   \n",
       "\n",
       "          AFDAX     JPGSX       DSI     POGAX     GCEQX      SUSA  \n",
       "AKRIX  0.890686  0.864642  0.886262  0.861024  0.905679  0.881777  \n",
       "EGFIX  0.903666  0.899946  0.899871  0.903874  0.924756  0.887042  \n",
       "PWB    0.933191  0.918610  0.928859  0.913940  0.949526  0.918552  \n",
       "MGK    0.958141  0.941205  0.950223  0.937188  0.971223  0.938805  \n",
       "VIGRX  0.963905  0.946851  0.955546  0.942608  0.977255  0.946317  "
      ]
     },
     "execution_count": 29,
     "metadata": {},
     "output_type": "execute_result"
    }
   ],
   "source": [
    "correlation = top_funds_return.corr()\n",
    "correlation.head(5)"
   ]
  },
  {
   "cell_type": "markdown",
   "metadata": {},
   "source": [
    "**Creating a heatmap for the correlation analysis**"
   ]
  },
  {
   "cell_type": "code",
   "execution_count": 30,
   "metadata": {},
   "outputs": [
    {
     "data": {
      "image/png": "[encoded data removed]",
      "text/plain": [
       "<Figure size 432x288 with 2 Axes>"
      ]
     },
     "metadata": {
      "needs_background": "light"
     },
     "output_type": "display_data"
    }
   ],
   "source": [
    "heat_map = sns.heatmap(correlation)"
   ]
  },
  {
   "cell_type": "markdown",
   "metadata": {},
   "source": [
    "**Calculate sharpe ratios**"
   ]
  },
  {
   "cell_type": "code",
   "execution_count": 31,
   "metadata": {},
   "outputs": [],
   "source": [
    "# Calculate Sharpe Ratio\n",
    "sharpe_ratios = (top_funds_return.mean() * 252) / (top_funds_return.std() * np.sqrt(252))\n",
    "sharpe_ratios_df = pd.DataFrame(sharpe_ratios)\n",
    "sharpe_ratios_df.to_csv('Raw_Data/sharpe_ratios.csv')\n",
    "sharpe_ratios_csvpath = Path(\"Raw_Data/sharpe_ratios.csv\")\n",
    "sharpe_ratio_1 = pd.read_csv(sharpe_ratios_csvpath, header=None)\n",
    "columns = [\"Ticker\", \"Sharpe Ratio\"]\n",
    "sharpe_ratio_1.columns = columns\n",
    "sharpe_ratio_data = sharpe_ratio_1.drop([0])"
   ]
  },
  {
   "cell_type": "markdown",
   "metadata": {},
   "source": [
    "**Plot sharpe ratios**"
   ]
  },
  {
   "cell_type": "code",
   "execution_count": 32,
   "metadata": {},
   "outputs": [
    {
     "data": {
      "text/html": [
       "\n",
       "<div id=\"altair-viz-fe409c85a76f430e9cd0eb47fd0ba13f\"></div>\n",
       "<script type=\"text/javascript\">\n",
       "  (function(spec, embedOpt){\n",
       "    let outputDiv = document.currentScript.previousElementSibling;\n",
       "    if (outputDiv.id !== \"altair-viz-fe409c85a76f430e9cd0eb47fd0ba13f\") {\n",
       "      outputDiv = document.getElementById(\"altair-viz-fe409c85a76f430e9cd0eb47fd0ba13f\");\n",
       "    }\n",
       "    const paths = {\n",
       "      \"vega\": \"https://cdn.jsdelivr.net/npm//vega@5?noext\",\n",
       "      \"vega-lib\": \"https://cdn.jsdelivr.net/npm//vega-lib?noext\",\n",
       "      \"vega-lite\": \"https://cdn.jsdelivr.net/npm//vega-lite@4.8.1?noext\",\n",
       "      \"vega-embed\": \"https://cdn.jsdelivr.net/npm//vega-embed@6?noext\",\n",
       "    };\n",
       "\n",
       "    function loadScript(lib) {\n",
       "      return new Promise(function(resolve, reject) {\n",
       "        var s = document.createElement('script');\n",
       "        s.src = paths[lib];\n",
       "        s.async = true;\n",
       "        s.onload = () => resolve(paths[lib]);\n",
       "        s.onerror = () => reject(`Error loading script: ${paths[lib]}`);\n",
       "        document.getElementsByTagName(\"head\")[0].appendChild(s);\n",
       "      });\n",
       "    }\n",
       "\n",
       "    function showError(err) {\n",
       "      outputDiv.innerHTML = `<div class=\"error\" style=\"color:red;\">${err}</div>`;\n",
       "      throw err;\n",
       "    }\n",
       "\n",
       "    function displayChart(vegaEmbed) {\n",
       "      vegaEmbed(outputDiv, spec, embedOpt)\n",
       "        .catch(err => showError(`Javascript Error: ${err.message}<br>This usually means there's a typo in your chart specification. See the javascript console for the full traceback.`));\n",
       "    }\n",
       "\n",
       "    if(typeof define === \"function\" && define.amd) {\n",
       "      requirejs.config({paths});\n",
       "      require([\"vega-embed\"], displayChart, err => showError(`Error loading script: ${err.message}`));\n",
       "    } else if (typeof vegaEmbed === \"function\") {\n",
       "      displayChart(vegaEmbed);\n",
       "    } else {\n",
       "      loadScript(\"vega\")\n",
       "        .then(() => loadScript(\"vega-lite\"))\n",
       "        .then(() => loadScript(\"vega-embed\"))\n",
       "        .catch(showError)\n",
       "        .then(() => displayChart(vegaEmbed));\n",
       "    }\n",
       "  })({\"config\": {\"view\": {\"continuousWidth\": 400, \"continuousHeight\": 300}}, \"data\": {\"name\": \"data-07b7d2f59176f155178905a5e6dd2087\"}, \"mark\": \"bar\", \"encoding\": {\"color\": {\"condition\": {\"value\": \"orange\", \"test\": \"(datum.Ticker === 'SPX_index')\"}, \"value\": \"steelblue\"}, \"x\": {\"type\": \"quantitative\", \"field\": \"Sharpe Ratio\"}, \"y\": {\"type\": \"nominal\", \"field\": \"Ticker\", \"sort\": \"-x\"}}, \"width\": 600, \"$schema\": \"https://vega.github.io/schema/vega-lite/v4.8.1.json\", \"datasets\": {\"data-07b7d2f59176f155178905a5e6dd2087\": [{\"Ticker\": \"AKRIX\", \"Sharpe Ratio\": 1.1631466730633102}, {\"Ticker\": \"EGFIX\", \"Sharpe Ratio\": 0.8476752157935186}, {\"Ticker\": \"PWB\", \"Sharpe Ratio\": 0.8655749779500265}, {\"Ticker\": \"MGK\", \"Sharpe Ratio\": 0.8696431214065871}, {\"Ticker\": \"VIGRX\", \"Sharpe Ratio\": 0.8503097852659157}, {\"Ticker\": \"PKW\", \"Sharpe Ratio\": 0.8833969918775529}, {\"Ticker\": \"VFTNX\", \"Sharpe Ratio\": 0.8276760905379011}, {\"Ticker\": \"SPHQ\", \"Sharpe Ratio\": 0.8931095658422735}, {\"Ticker\": \"BIAFX\", \"Sharpe Ratio\": 0.8163362880262477}, {\"Ticker\": \"VHIAX\", \"Sharpe Ratio\": 0.6763206341927317}, {\"Ticker\": \"FTCS\", \"Sharpe Ratio\": 0.7763286602493804}, {\"Ticker\": \"MEGBX\", \"Sharpe Ratio\": 0.7242766151442878}, {\"Ticker\": \"SPX_index\", \"Sharpe Ratio\": 0.7813322967489037}, {\"Ticker\": \"GTLLX\", \"Sharpe Ratio\": 0.6785755985610947}, {\"Ticker\": \"AFDAX\", \"Sharpe Ratio\": 0.7624519434747833}, {\"Ticker\": \"JPGSX\", \"Sharpe Ratio\": 0.6993634059011257}, {\"Ticker\": \"DSI\", \"Sharpe Ratio\": 0.766552321289059}, {\"Ticker\": \"POGAX\", \"Sharpe Ratio\": 0.6600133895386261}, {\"Ticker\": \"GCEQX\", \"Sharpe Ratio\": 0.7550263922326761}, {\"Ticker\": \"SUSA\", \"Sharpe Ratio\": 0.7499927972158275}]}}, {\"mode\": \"vega-lite\"});\n",
       "</script>"
      ],
      "text/plain": [
       "alt.Chart(...)"
      ]
     },
     "execution_count": 32,
     "metadata": {},
     "output_type": "execute_result"
    }
   ],
   "source": [
    "top_sharpe_ratio =  alt.Chart(sharpe_ratio_data).mark_bar().encode(\n",
    "    x='Sharpe Ratio:Q',\n",
    "    y= alt.Y('Ticker:N', sort='-x'),\n",
    "    # The highlight will be set on the result of a conditional statement\n",
    "    color=alt.condition(\n",
    "        alt.datum.Ticker == 'SPX_index',  # If the ticker is SPX_index this test returns True,\n",
    "        alt.value('orange'),     # which sets the bar orange.\n",
    "        alt.value('steelblue')   # And if it's not true it sets the bar steelblue.\n",
    "    )\n",
    ").properties(width=600)\n",
    "top_sharpe_ratio"
   ]
  },
  {
   "cell_type": "markdown",
   "metadata": {},
   "source": [
    "**Plot Relationship Between All The Funds Performance,Projected EPS Growth and P/E Ratio**"
   ]
  },
  {
   "cell_type": "code",
   "execution_count": 33,
   "metadata": {},
   "outputs": [
    {
     "data": {},
     "metadata": {},
     "output_type": "display_data"
    },
    {
     "data": {
      "application/vnd.holoviews_exec.v0+json": "",
      "text/html": [
       "<div id='1117'>\n",
       "\n",
       "\n",
       "\n",
       "\n",
       "\n",
       "  <div class=\"bk-root\" id=\"b2c12619-3774-4e19-84bb-d2094c3b7e3d\" data-root-id=\"1117\"></div>\n",
       "</div>\n",
       "<script type=\"application/javascript\">(function(root) {\n",
       "  function embed_document(root) {\n",
       "  var docs_json = {\"5acbf7ff-b681-46a6-aef2-013b63eac2eb\":{\"roots\":{\"references\":[{\"attributes\":{},\"id\":\"1163\",\"type\":\"BasicTicker\"},{\"attributes\":{\"align\":null,\"below\":[{\"id\":\"1131\"}],\"center\":[{\"id\":\"1134\"},{\"id\":\"1138\"}],\"left\":[{\"id\":\"1135\"}],\"margin\":null,\"min_border_bottom\":10,\"min_border_left\":10,\"min_border_right\":10,\"min_border_top\":10,\"plot_height\":300,\"plot_width\":1000,\"renderers\":[{\"id\":\"1161\"}],\"right\":[{\"id\":\"1164\"}],\"sizing_mode\":\"fixed\",\"title\":{\"id\":\"1123\"},\"toolbar\":{\"id\":\"1145\"},\"x_range\":{\"id\":\"1119\"},\"x_scale\":{\"id\":\"1127\"},\"y_range\":{\"id\":\"1120\"},\"y_scale\":{\"id\":\"1129\"}},\"id\":\"1122\",\"subtype\":\"Figure\",\"type\":\"Plot\"},{\"attributes\":{\"source\":{\"id\":\"1153\"}},\"id\":\"1162\",\"type\":\"CDSView\"},{\"attributes\":{},\"id\":\"1136\",\"type\":\"BasicTicker\"},{\"attributes\":{\"axis_label\":\"Projected EPS Growth (%)\",\"bounds\":\"auto\",\"formatter\":{\"id\":\"1168\"},\"major_label_orientation\":\"horizontal\",\"ticker\":{\"id\":\"1136\"}},\"id\":\"1135\",\"type\":\"LinearAxis\"},{\"attributes\":{\"end\":18.26,\"reset_end\":18.26,\"reset_start\":-1.6600000000000001,\"start\":-1.6600000000000001,\"tags\":[[[\"Projected EPS Growth (%)\",\"Projected EPS Growth (%)\",null]]]},\"id\":\"1120\",\"type\":\"Range1d\"},{\"attributes\":{},\"id\":\"1171\",\"type\":\"BasicTickFormatter\"},{\"attributes\":{\"fill_color\":{\"field\":\"color\",\"transform\":{\"id\":\"1152\"}},\"line_color\":{\"field\":\"color\",\"transform\":{\"id\":\"1152\"}},\"size\":{\"units\":\"screen\",\"value\":5.477225575051661},\"x\":{\"field\":\"Returns\"},\"y\":{\"field\":\"Projected EPS Growth (%)\"}},\"id\":\"1158\",\"type\":\"Scatter\"},{\"attributes\":{\"text\":\"\",\"text_color\":{\"value\":\"black\"},\"text_font_size\":{\"value\":\"12pt\"}},\"id\":\"1123\",\"type\":\"Title\"},{\"attributes\":{},\"id\":\"1178\",\"type\":\"UnionRenderers\"},{\"attributes\":{\"margin\":[5,5,5,5],\"name\":\"HSpacer01686\",\"sizing_mode\":\"stretch_width\"},\"id\":\"1179\",\"type\":\"Spacer\"},{\"attributes\":{\"fill_color\":{\"field\":\"color\",\"transform\":{\"id\":\"1152\"}},\"line_color\":{\"field\":\"color\",\"transform\":{\"id\":\"1152\"}},\"size\":{\"units\":\"screen\",\"value\":5.477225575051661},\"x\":{\"field\":\"Returns\"},\"y\":{\"field\":\"Projected EPS Growth (%)\"}},\"id\":\"1156\",\"type\":\"Scatter\"},{\"attributes\":{\"bar_line_color\":{\"value\":\"black\"},\"color_mapper\":{\"id\":\"1152\"},\"formatter\":{\"id\":\"1171\"},\"label_standoff\":8,\"location\":[0,0],\"major_tick_line_color\":\"black\",\"ticker\":{\"id\":\"1163\"},\"title\":\"P/E Forward\"},\"id\":\"1164\",\"type\":\"ColorBar\"},{\"attributes\":{\"high\":34.35,\"low\":0.0,\"palette\":[\"#b3fef5\",\"#b0fef5\",\"#adfdf5\",\"#a9fcf5\",\"#a6fbf6\",\"#a3faf6\",\"#a0faf6\",\"#9df9f6\",\"#9af8f6\",\"#97f7f6\",\"#93f7f6\",\"#90f6f6\",\"#8df5f6\",\"#8af4f7\",\"#87f3f7\",\"#83f2f7\",\"#80f2f7\",\"#7df1f7\",\"#79f0f7\",\"#76eff7\",\"#73eef7\",\"#6fedf8\",\"#6cecf8\",\"#68ecf8\",\"#65ebf8\",\"#61eaf8\",\"#5ee9f8\",\"#5ae8f8\",\"#57e7f8\",\"#53e6f8\",\"#50e5f9\",\"#4ce4f9\",\"#49e3f9\",\"#45e2f9\",\"#42e1f9\",\"#3ee0f9\",\"#3bdff9\",\"#38def9\",\"#35ddf9\",\"#32dcf9\",\"#30dbfa\",\"#2ed9fa\",\"#2dd8fa\",\"#2cd7fa\",\"#2bd6fa\",\"#2bd5fa\",\"#2ad3fa\",\"#2ad2fa\",\"#29d1fa\",\"#29d0fb\",\"#29cffb\",\"#28cdfb\",\"#28ccfb\",\"#28cbfb\",\"#28cafb\",\"#28c8fb\",\"#28c7fb\",\"#29c6fb\",\"#29c5fb\",\"#29c4fb\",\"#29c2fb\",\"#2ac1fb\",\"#2ac0fb\",\"#2bbffb\",\"#2bbdfc\",\"#2cbcfc\",\"#2dbbfc\",\"#2db9fc\",\"#2eb8fc\",\"#2fb7fc\",\"#2fb6fc\",\"#30b4fc\",\"#31b3fc\",\"#32b2fc\",\"#32b0fc\",\"#33affc\",\"#33aefc\",\"#34adfc\",\"#34abfc\",\"#34aafc\",\"#35a9fc\",\"#35a8fc\",\"#35a6fc\",\"#35a5fc\",\"#35a4fc\",\"#35a3fc\",\"#35a1fc\",\"#35a0fc\",\"#359ffc\",\"#359dfc\",\"#359cfc\",\"#359bfc\",\"#349afd\",\"#3498fd\",\"#3497fd\",\"#3396fd\",\"#3395fd\",\"#3293fd\",\"#3292fd\",\"#3191fd\",\"#3090fd\",\"#308ffd\",\"#2f8dfd\",\"#2f8cfd\",\"#2e8bfd\",\"#2e8afd\",\"#2d88fd\",\"#2d87fd\",\"#2c86fd\",\"#2c84fd\",\"#2c83fd\",\"#2c82fd\",\"#2b81fd\",\"#2b7ffd\",\"#2b7efd\",\"#2b7dfd\",\"#2b7bfd\",\"#2b7afd\",\"#2b79fd\",\"#2b77fd\",\"#2b76fd\",\"#2b75fd\",\"#2b73fd\",\"#2c72fd\",\"#2c71fd\",\"#2c6ffd\",\"#2c6efd\",\"#2d6cfd\",\"#2d6bfd\",\"#2d6afc\",\"#2e68fc\",\"#2e67fc\",\"#2e65fc\",\"#2e64fc\",\"#2f62fc\",\"#2f61fc\",\"#2f5ffc\",\"#2f5efc\",\"#2f5dfc\",\"#2f5bfc\",\"#2f5afc\",\"#2f58fb\",\"#2f57fb\",\"#2f55fb\",\"#2f53fb\",\"#2f52fb\",\"#2f50fb\",\"#2f4ffb\",\"#2f4dfb\",\"#2e4cfb\",\"#2e4afb\",\"#2e48fb\",\"#2e47fa\",\"#2d45fa\",\"#2d43fa\",\"#2d42fa\",\"#2d40fa\",\"#2c3efa\",\"#2c3dfa\",\"#2b3bf9\",\"#2b39f9\",\"#2a37f9\",\"#2a36f8\",\"#2934f8\",\"#2832f7\",\"#2831f7\",\"#272ff6\",\"#262ef5\",\"#252cf5\",\"#252af4\",\"#2429f3\",\"#2327f2\",\"#2226f1\",\"#2124f0\",\"#2023ef\",\"#1f22ee\",\"#1e20ed\",\"#1d1feb\",\"#1c1eea\",\"#1b1ce9\",\"#1a1be7\",\"#181ae6\",\"#1719e5\",\"#1618e3\",\"#1417e1\",\"#1316e0\",\"#1215de\",\"#1014dc\",\"#0f13db\",\"#0e12d9\",\"#0d11d7\",\"#0c10d5\",\"#0b0fd3\",\"#0a0ed1\",\"#090dd0\",\"#080dce\",\"#080ccc\",\"#070bca\",\"#070ac8\",\"#0709c6\",\"#0708c4\",\"#0707c2\",\"#0707bf\",\"#0806bd\",\"#0806bb\",\"#0905b9\",\"#0904b7\",\"#0a04b5\",\"#0a04b2\",\"#0b03b0\",\"#0c03ae\",\"#0d02ab\",\"#0e02a9\",\"#0e02a7\",\"#0f02a4\",\"#0f01a2\",\"#1001a0\",\"#10019d\",\"#10019b\",\"#100199\",\"#100197\",\"#100194\",\"#0f0192\",\"#0f0190\",\"#0f018e\",\"#0e018b\",\"#0e0189\",\"#0d0187\",\"#0d0185\",\"#0c0183\",\"#0b0181\",\"#0b017e\",\"#0a017c\",\"#09017a\",\"#090178\",\"#080276\",\"#070274\",\"#060272\",\"#060270\",\"#05026e\",\"#04026c\",\"#030269\",\"#030267\",\"#020265\",\"#010263\",\"#010261\",\"#00025f\",\"#00025d\",\"#00025b\",\"#000259\",\"#000257\",\"#000255\",\"#000154\",\"#000152\",\"#000150\",\"#00004e\"]},\"id\":\"1152\",\"type\":\"LinearColorMapper\"},{\"attributes\":{\"end\":0.1672141408579359,\"reset_end\":0.1672141408579359,\"reset_start\":-0.024098992568404923,\"start\":-0.024098992568404923,\"tags\":[[[\"Returns\",\"Returns\",null]]]},\"id\":\"1119\",\"type\":\"Range1d\"},{\"attributes\":{},\"id\":\"1139\",\"type\":\"SaveTool\"},{\"attributes\":{\"fill_alpha\":{\"value\":0.1},\"fill_color\":{\"field\":\"color\",\"transform\":{\"id\":\"1152\"}},\"line_alpha\":{\"value\":0.1},\"line_color\":{\"field\":\"color\",\"transform\":{\"id\":\"1152\"}},\"size\":{\"units\":\"screen\",\"value\":5.477225575051661},\"x\":{\"field\":\"Returns\"},\"y\":{\"field\":\"Projected EPS Growth (%)\"}},\"id\":\"1157\",\"type\":\"Scatter\"},{\"attributes\":{\"data\":{\"Name\":[\"Matthew 25\",\"VALIC Company I Large Capital Growth\",\"MFS Massachusetts Inv Gr Stk A\",\"Columbia Select Large Cap Growth Inst\",\"Vanguard Mega Cap Growth ETF\",\"Vanguard Growth Index Investor\",\"Calvert Equity A\",\"Ivy Large Cap Growth A\",\"Putnam Growth Opportunities A\",\"Brown Advisory Flexible Equity Inv\",\"MFS Growth B\",\"TCW Select Equities I\",\"Putnam Sustainable Leaders A\",\"JPMorgan Growth Advantage A\",\"Pioneer Disciplined Growth A\",\"Akre Focus Instl\",\"BNY Mellon Appreciation Investor\",\"Glenmede Quant US Large Cap Gr Eq\",\"Gabelli Growth AAA\",\"Edgewood Growth Instl\",\"Weitz Value Investor\",\"Invesco BuyBack Achievers ETF\",\"BNY Mellon Sustainable US Eq Fd Z\",\"Vanguard FTSE Social Index I\",\"Pioneer Fundamental Growth A\",\"Invesco S&P 500\\u00ae Quality ETF\",\"American Century Sustainable Equity A\",\"Nicholas\",\"Nuveen Winslow Large-Cap Growth ESG I\",\"Vanguard US Growth Investor\",\"MainStay Winslow Large Cap Growth A\",\"Parnassus Endeavor Investor\",\"Harbor Capital Appreciation Instl\",\"Weitz Partners Value Investor\",\"JHFunds2 Capital Appreciation NAV\",\"SEI Large Cap Growth F (SIMT)\",\"Amana Growth Investor\",\"JHancock US Global Leaders Growth A\",\"PGIM Jennison Focused Growth Z\",\"Calvert US Large Cap Core Rspnb Idx I\",\"PGIM Jennison Growth A\",\"TIAA-CREF Quant Large-Cap Growth Instl\",\"AMG Managers Montag & Caldwell Growth N\",\"State Street Instl US Equity Inv\",\"GE RSP US Equity\",\"iShares MSCI USA ESG Select ETF\",\"PACE Large Co Growth Equity P\",\"Fidelity\\u00ae Independence\",\"Fidelity\\u00ae Disciplined Equity\",\"Invesco Oppenheimer Main Street A\",\"MFS Massachusetts Investors Tr A\",\"Nuveen Santa Barbara Dividend Growth I\",\"Diamond Hill Large Cap A\",\"GMO Quality IV\",\"Lazard US Equity Concentrated Instl\",\"VALIC Company II U.S. Socially Rspnb\",\"Domini Impact Equity Investor\",\"Carillon ClariVest Capital Apprec A\",\"TIAA-CREF Social Choice Eq Instl\",\"Pioneer Core Equity A\",\"Fidelity\\u00ae Focused Stock\",\"iShares MSCI KLD 400 Social ETF\",\"Hartford Stock HLS IA\",\"Fidelity\\u00ae Magellan\\u00ae\",\"Pioneer A\",\"Vanguard Dividend Growth Inv\",\"Green Century Equity Individual Investor\",\"TIAA-CREF Large-Cap Growth Inst\",\"Parnassus Core Equity Investor\",\"Nicholas Equity Income I\",\"MassMutual Select Growth Opps R5\",\"Touchstone Large Cap Focused A\",\"American Century Disciplined Growth I\",\"Parnassus Mid Cap Growth Investor\",\"ClearBridge Appreciation A\",\"Invesco Oppenheimer Rising Dividends A\",\"Pioneer Disciplined Value A\",\"MainStay MacKay Growth A\",\"Victory Diversified Stock A\",\"MassMutual Select Equity Opports R5\",\"JPMorgan Intrepid Growth I\",\"American Century NT Equity Growth G\",\"Invesco Charter A\",\"MFS Blended Research Core Equity I\",\"Fidelity\\u00ae Dividend Growth\",\"Columbia Select Large Cap Equity Inst\",\"ClearBridge Large Cap Value I\",\"Hartford Dividend and Growth HLS IA\",\"GMO US Equity III\",\"Fidelity Advisor\\u00ae Dividend Growth I\",\"Sterling Capital Special Opps Inst\",\"American Century Equity Growth Inv\",\"BNY Mellon US Equity I\",\"Hartford Dividend and Growth Y\",\"Wells Fargo Large Cap Core Inst\",\"Columbia Dividend Income Inst\",\"GuideMark\\u00ae Large Cap Core Service\",\"Vanguard PRIMECAP Core Inv\",\"USAA Growth\",\"Ave Maria Rising Dividend\",\"Russell Inv Sustainable Equity E\",\"Touchstone Focused Y\",\"Olstein All Cap Value C\",\"PRIMECAP Odyssey Stock\",\"Delaware US Growth A\",\"First Trust Capital Strength ETF\",\"Smead Value Investor\",\"Neuberger Berman Sustainable Eq Investor\",\"Goldman Sachs Rising Dividend Gr A\",\"Sterling Capital Equity Income Instl\",\"American Beacon Bridgeway Lg Cp Val R5\",\"Dodge & Cox Stock\",\"Invesco Dynamic Large Cap Growth ETF\",\"AB Equity Income A\",\"Delaware Growth Equity A\",\"Fidelity\\u00ae Value Discovery\",\"American Century Income and Growth Inv\",\"FMI Large Cap Investor\",\"VALIC Company I Dividend Value\",\"Glenmede Quant US Large Cap Core Eq\",\"Sound Shore Investor\",\"Carillon Eagle Growth & Income A\",\"Fidelity\\u00ae Blue Chip Value\",\"Nuveen Large-Cap Value I\",\"Torray\",\"AIG Focused Dividend Strategy A\",\"AMG Yacktman Focused N\",\"AMG Yacktman I\",\"SPDR\\u00ae S&P 500 ETF Trust\"],\"P_over_E_Forward\":{\"__ndarray__\":\"16NwPQpXPUDNzMzMzIw1QNejcD0KFzpACtejcD0KLkCamZmZmZk3QIXrUbgehTdAMzMzMzPzO0CkcD0K12M2QM3MzMzMTChA4XoUrkfhJkAK16NwPYorQClcj8L1aD1AzczMzMwMO0DsUbgehas+QM3MzMzMzC9A9ihcj8J1PUA9CtejcL0lQOxRuB6FayZAhetRuB6FOEBcj8L1KJwzQMP1KFyPwjJAH4XrUbheMUApXI/C9WgzQArXo3A9SjBAZmZmZmbmKEDXo3A9Cpc0QI/C9ShcDy1A7FG4HoUrMED2KFyPwvUuQPYoXI/CdTxA9ihcj8K1NEAUrkfhepQyQMP1KFyPwipAcT0K16NwMUCuR+F6FC46QD0K16NwPS9ASOF6FK6HN0BmZmZmZuYtQClcj8L1KDJA7FG4HoUrOEDXo3A9CrdAQArXo3A9ijRA4XoUrkehMEDXo3A9Ctc2QClcj8L1KDtA7FG4HoWrNUBmZmZmZuYkQI/C9ShczzlAhetRuB6FIkCF61G4HgU+QDMzMzMzszNAPQrXo3C9IEBI4XoUrgcxQPYoXI/C9TRAj8L1KFzPMEB7FK5H4boxQBSuR+F6FCRA7FG4HoVrJUAzMzMzMzMxQGZmZmZmZjFAKVyPwvUoJEDhehSuR2E1QB+F61G4Hi9AUrgehesRNUAzMzMzMzM+QD0K16NwfTRASOF6FK4HMUDD9Shcj0I5QFyPwvUonDpAUrgehevRMUBmZmZmZmYuQFK4HoXrETFAAAAAAAAAAAD2KFyPwvUkQM3MzMzMTDBAuB6F61G4LkB7FK5H4To1QHsUrkfhejJACtejcD2KKkBcj8L1KFw8QOxRuB6FazZApHA9CtcjOECuR+F6FC4uQK5H4XoUri1AUrgehetRL0A9CtejcL0sQD0K16Nw/TBAexSuR+H6PUD2KFyPwrUzQM3MzMzMLEFASOF6FK7HKEA9CtejcL04QI/C9Shcjy9A7FG4HoVrKkAUrkfhehQqQI/C9ShcjypAUrgehevRMEAfhetRuJ4uQB+F61G43jdACtejcD3KOUAAAAAAAMAyQArXo3A9CjBA16NwPQpXO0DXo3A9Clc6QLgehetRODFAzczMzMxMI0DXo3A9CtclQPYoXI/C9TBAj8L1KFzPNEDNzMzMzEwmQBSuR+F6lClAUrgehetRKUA9CtejcL0uQD0K16NwvSpAH4XrUbieN0Bcj8L1KFwjQHE9Ctej8CxACtejcD0KMEBcj8L1KFwmQBSuR+F61DZAzczMzMxMJ0DXo3A9ClcyQKRwPQrXIzBAXI/C9SjcJEBmZmZmZmYmQBSuR+F6lCVA4XoUrkchNkDsUbgehWsoQKRwPQrXIzVA\",\"dtype\":\"float64\",\"shape\":[129]},\"Projected EPS Growth (%)\":{\"__ndarray__\":\"j8L1KFwPL0B7FK5H4folQHE9CtejcCtAZmZmZmbmJEAAAAAAAIApQBSuR+F6FClAzczMzMxMJ0BI4XoUrkcgQBSuR+F6lCFAPQrXo3A9HEBxPQrXo/AjQNejcD0KVyxApHA9CtcjLUDNzMzMzEwuQFK4HoXr0SNACtejcD2KKUBI4XoUrkciQHsUrkfh+iJAFK5H4XoUJ0D2KFyPwvUjQBSuR+F6FCVAhetRuB6FIEDD9Shcj8IlQAAAAAAAACRAZmZmZmbmIEAK16NwPQoYQClcj8L1qCFAuB6F61E4IkBcj8L1KNwhQGZmZmZmZipAUrgehetRK0ApXI/C9SgiQK5H4XoULiNAcT0K16NwKECkcD0K16MpQOF6FK5H4RpAzczMzMxMJUAzMzMzM7MgQEjhehSuxyVACtejcD2KJkCamZmZmZkwQBSuR+F6FClArkfhehSuI0CamZmZmRkjQClcj8L1KClAUrgehevRIUAAAAAAAAAhQArXo3A9iipAmpmZmZmZH0CamZmZmRkoQB+F61G4HiVA7FG4HoVrIEAK16NwPQokQHE9CtejcCFAzczMzMxMKEC4HoXrUbgiQArXo3A9CiNArkfhehSuH0BmZmZmZuYiQClcj8L1qCNAMzMzMzOzIEB7FK5H4XohQM3MzMzMzB1Aw/UoXI/CIED2KFyPwvUuQNejcD0K1yFAAAAAAAAAIkCkcD0K1yMsQD0K16NwvShAj8L1KFyPI0CamZmZmRkhQHE9Ctej8CRAAAAAAAAAAAAfhetRuJ4gQB+F61G4HiBAPQrXo3A9I0BSuB6F61EnQDMzMzMzsyVAXI/C9ShcKEC4HoXrUTgtQFK4HoXrUSlAMzMzMzOzKkA9CtejcD0fQB+F61G4HiJAAAAAAAAAHkDNzMzMzMwgQKRwPQrXoyJA16NwPQrXLkBcj8L1KFwkQPYoXI/C9SxAAAAAAAAAI0AAAAAAAAArQArXo3A9iiVA9ihcj8J1IEAfhetRuJ4hQAAAAAAAAB9A4XoUrkdhI0AzMzMzMzMjQAAAAAAAACpAZmZmZmbmK0Bcj8L1KNwkQJqZmZmZGSVAFK5H4XqULEAAAAAAAIArQAAAAAAAAChAj8L1KFyPIkCPwvUoXI8iQK5H4XoUriNAXI/C9SjcIUCF61G4HoUjQK5H4XoULiBAexSuR+H6IkC4HoXrUTgjQIXrUbgeBSBASOF6FK5HJ0AK16NwPYoiQJqZmZmZmSFAhetRuB6FGkBcj8L1KFweQK5H4XoULiNAzczMzMzMJEAfhetRuB4oQD0K16NwPSNA7FG4HoVrJUBmZmZmZuYgQK5H4XoUrhxAZmZmZmZmKEC4HoXrUbgXQHsUrkfheiFA\",\"dtype\":\"float64\",\"shape\":[129]},\"Projected_EPS_Growth_left_parenthesis_percent_right_parenthesis\":{\"__ndarray__\":\"j8L1KFwPL0B7FK5H4folQHE9CtejcCtAZmZmZmbmJEAAAAAAAIApQBSuR+F6FClAzczMzMxMJ0BI4XoUrkcgQBSuR+F6lCFAPQrXo3A9HEBxPQrXo/AjQNejcD0KVyxApHA9CtcjLUDNzMzMzEwuQFK4HoXr0SNACtejcD2KKUBI4XoUrkciQHsUrkfh+iJAFK5H4XoUJ0D2KFyPwvUjQBSuR+F6FCVAhetRuB6FIEDD9Shcj8IlQAAAAAAAACRAZmZmZmbmIEAK16NwPQoYQClcj8L1qCFAuB6F61E4IkBcj8L1KNwhQGZmZmZmZipAUrgehetRK0ApXI/C9SgiQK5H4XoULiNAcT0K16NwKECkcD0K16MpQOF6FK5H4RpAzczMzMxMJUAzMzMzM7MgQEjhehSuxyVACtejcD2KJkCamZmZmZkwQBSuR+F6FClArkfhehSuI0CamZmZmRkjQClcj8L1KClAUrgehevRIUAAAAAAAAAhQArXo3A9iipAmpmZmZmZH0CamZmZmRkoQB+F61G4HiVA7FG4HoVrIEAK16NwPQokQHE9CtejcCFAzczMzMxMKEC4HoXrUbgiQArXo3A9CiNArkfhehSuH0BmZmZmZuYiQClcj8L1qCNAMzMzMzOzIEB7FK5H4XohQM3MzMzMzB1Aw/UoXI/CIED2KFyPwvUuQNejcD0K1yFAAAAAAAAAIkCkcD0K1yMsQD0K16NwvShAj8L1KFyPI0CamZmZmRkhQHE9Ctej8CRAAAAAAAAAAAAfhetRuJ4gQB+F61G4HiBAPQrXo3A9I0BSuB6F61EnQDMzMzMzsyVAXI/C9ShcKEC4HoXrUTgtQFK4HoXrUSlAMzMzMzOzKkA9CtejcD0fQB+F61G4HiJAAAAAAAAAHkDNzMzMzMwgQKRwPQrXoyJA16NwPQrXLkBcj8L1KFwkQPYoXI/C9SxAAAAAAAAAI0AAAAAAAAArQArXo3A9iiVA9ihcj8J1IEAfhetRuJ4hQAAAAAAAAB9A4XoUrkdhI0AzMzMzMzMjQAAAAAAAACpAZmZmZmbmK0Bcj8L1KNwkQJqZmZmZGSVAFK5H4XqULEAAAAAAAIArQAAAAAAAAChAj8L1KFyPIkCPwvUoXI8iQK5H4XoUriNAXI/C9SjcIUCF61G4HoUjQK5H4XoULiBAexSuR+H6IkC4HoXrUTgjQIXrUbgeBSBASOF6FK5HJ0AK16NwPYoiQJqZmZmZmSFAhetRuB6FGkBcj8L1KFweQK5H4XoULiNAzczMzMzMJEAfhetRuB4oQD0K16NwPSNA7FG4HoVrJUBmZmZmZuYgQK5H4XoUrhxAZmZmZmZmKEC4HoXrUbgXQHsUrkfheiFA\",\"dtype\":\"float64\",\"shape\":[129]},\"Returns\":{\"__ndarray__\":\"cGPyIgbSuj8Qt4aGjaywPx92cQjiCbg/gALLwdrCmT9gypEmx/7AP5Al3mu60MA/YIwgPjk4rz/wFkW1VF6zP7Bn+9XVoLs/D9t79HJfvz9BWQ5RuxC9P2BQdan/F7A/wNher+5BtT8Qhvcesv29P7+BPym5pqI/YORdktm1xD//H3Lzr5RAP9DdMZirpbw/IEt1V5tZtj+wDVyz72vCP2BPSGBjDLI/sJOYgwhgwD8AuHaNQgenP6+hyJ8+LsA/r2UpNgkyuT+ovYlhpA3APwBaSJrogbw/AKiYmYYLrD+hTOKznmmnPxB/8VSg0Lk/XxlUzrkvpT8wCb6ppNyxP8CP88q1NLY/v4jxhxnRsT9A8pmBMzqnP/AGtPPZ5LE/oGhph46dsz9/QZWnDY6xP6CmGbzAyLU/EDxV8ANnuj9/za51ZSK5P4ABv6X8164/oDIve++0kr/BwOFvBbuTPyB1X/IAGKc/oCouoiwZuz8fT/7grFKkP1ATryx4DrA/X0xMi0wIsT8gnEYfz0KsP4G7lTony7A/UDJvhng/tD8PMmkMsvazP0AFA7dSXpk/MLc6pwy7sT9QSagctVi4PyDlyGrl8q8/wRjdRolIrz9QoX8S4AW1P2AHZFEcHbU/kMjI5jAStz+wpONVL+S7PzCVOZ0HSLk/wLhQi4gtqD/AOxKNBSKTv0A8CUVTe7Y/ISuzUD2Yuz+A2o7p2Fe3P7DSUPVmTrE/QZGlrTAspT+AEeLh9cGbP6Bmkh3o4qY/UIfhXiGftT9AO1zEpVyjP1+7bcE1DLQ/oPISq8S5pD+Ajn+RkJiPvyCUsz2lFKY/QADqh0Zglz/A37UkK3OUP0BXPrcrIbw/gKOU314Fmz8AJ8wFDip4P+BWrqonsrY/AEj7rPfumz+AEpB9CYCbP6DcAJYk/7M/AE23v/HIlz//kJgqlJSUP4G1ADCul6o/4ICKFAPrqz+g2TDsTA2sPwA+97giCa4/QExau/a2pz/ASnZkevq0P+BSeoTrOrM/b5gyO9squT+gCv//b022Px8nAHdgKrM/AEpHtG78rD8xJnmVuoGyP3AocJneB7U/YI/y5aDWrz+xOQIj7r26P0Au9E/+0Ko/gb9mimUqvT+Bw4XjZgS7P+DvAb0EVa8/f/zKGn6OhL/h4CNdqoOuP1EaT6T0srU/sLnqop+Vsj9IzLsqFGHBP+BSy5zxvKU/YCtYEobstD+Avs7TC962P19pbkSap68/Iex/YZJsoT/fqeBQpOeqPyHmPcN3+7k/gRDlYo2cpD+/gW0KV0CvPzA4EgnazLM/oMhM9mQpoT+wyVOLkeSwP1+17RaOJK0/gD+39ENyiT+CBKSqFdqeP3/xhiDnu7w/\",\"dtype\":\"float64\",\"shape\":[129]},\"color\":{\"__ndarray__\":\"16NwPQpXPUDNzMzMzIw1QNejcD0KFzpACtejcD0KLkCamZmZmZk3QIXrUbgehTdAMzMzMzPzO0CkcD0K12M2QM3MzMzMTChA4XoUrkfhJkAK16NwPYorQClcj8L1aD1AzczMzMwMO0DsUbgehas+QM3MzMzMzC9A9ihcj8J1PUA9CtejcL0lQOxRuB6FayZAhetRuB6FOEBcj8L1KJwzQMP1KFyPwjJAH4XrUbheMUApXI/C9WgzQArXo3A9SjBAZmZmZmbmKEDXo3A9Cpc0QI/C9ShcDy1A7FG4HoUrMED2KFyPwvUuQPYoXI/CdTxA9ihcj8K1NEAUrkfhepQyQMP1KFyPwipAcT0K16NwMUCuR+F6FC46QD0K16NwPS9ASOF6FK6HN0BmZmZmZuYtQClcj8L1KDJA7FG4HoUrOEDXo3A9CrdAQArXo3A9ijRA4XoUrkehMEDXo3A9Ctc2QClcj8L1KDtA7FG4HoWrNUBmZmZmZuYkQI/C9ShczzlAhetRuB6FIkCF61G4HgU+QDMzMzMzszNAPQrXo3C9IEBI4XoUrgcxQPYoXI/C9TRAj8L1KFzPMEB7FK5H4boxQBSuR+F6FCRA7FG4HoVrJUAzMzMzMzMxQGZmZmZmZjFAKVyPwvUoJEDhehSuR2E1QB+F61G4Hi9AUrgehesRNUAzMzMzMzM+QD0K16NwfTRASOF6FK4HMUDD9Shcj0I5QFyPwvUonDpAUrgehevRMUBmZmZmZmYuQFK4HoXrETFAAAAAAAAAAAD2KFyPwvUkQM3MzMzMTDBAuB6F61G4LkB7FK5H4To1QHsUrkfhejJACtejcD2KKkBcj8L1KFw8QOxRuB6FazZApHA9CtcjOECuR+F6FC4uQK5H4XoUri1AUrgehetRL0A9CtejcL0sQD0K16Nw/TBAexSuR+H6PUD2KFyPwrUzQM3MzMzMLEFASOF6FK7HKEA9CtejcL04QI/C9Shcjy9A7FG4HoVrKkAUrkfhehQqQI/C9ShcjypAUrgehevRMEAfhetRuJ4uQB+F61G43jdACtejcD3KOUAAAAAAAMAyQArXo3A9CjBA16NwPQpXO0DXo3A9Clc6QLgehetRODFAzczMzMxMI0DXo3A9CtclQPYoXI/C9TBAj8L1KFzPNEDNzMzMzEwmQBSuR+F6lClAUrgehetRKUA9CtejcL0uQD0K16NwvSpAH4XrUbieN0Bcj8L1KFwjQHE9Ctej8CxACtejcD0KMEBcj8L1KFwmQBSuR+F61DZAzczMzMxMJ0DXo3A9ClcyQKRwPQrXIzBAXI/C9SjcJEBmZmZmZmYmQBSuR+F6lCVA4XoUrkchNkDsUbgehWsoQKRwPQrXIzVA\",\"dtype\":\"float64\",\"shape\":[129]}},\"selected\":{\"id\":\"1154\"},\"selection_policy\":{\"id\":\"1178\"}},\"id\":\"1153\",\"type\":\"ColumnDataSource\"},{\"attributes\":{},\"id\":\"1127\",\"type\":\"LinearScale\"},{\"attributes\":{},\"id\":\"1140\",\"type\":\"PanTool\"},{\"attributes\":{},\"id\":\"1154\",\"type\":\"Selection\"},{\"attributes\":{\"bottom_units\":\"screen\",\"fill_alpha\":0.5,\"fill_color\":\"lightgrey\",\"left_units\":\"screen\",\"level\":\"overlay\",\"line_alpha\":1.0,\"line_color\":\"black\",\"line_dash\":[4,4],\"line_width\":2,\"render_mode\":\"css\",\"right_units\":\"screen\",\"top_units\":\"screen\"},\"id\":\"1144\",\"type\":\"BoxAnnotation\"},{\"attributes\":{},\"id\":\"1141\",\"type\":\"WheelZoomTool\"},{\"attributes\":{\"active_drag\":\"auto\",\"active_inspect\":\"auto\",\"active_multi\":null,\"active_scroll\":\"auto\",\"active_tap\":\"auto\",\"tools\":[{\"id\":\"1121\"},{\"id\":\"1139\"},{\"id\":\"1140\"},{\"id\":\"1141\"},{\"id\":\"1142\"},{\"id\":\"1143\"}]},\"id\":\"1145\",\"type\":\"Toolbar\"},{\"attributes\":{\"overlay\":{\"id\":\"1144\"}},\"id\":\"1142\",\"type\":\"BoxZoomTool\"},{\"attributes\":{\"data_source\":{\"id\":\"1153\"},\"glyph\":{\"id\":\"1156\"},\"hover_glyph\":{\"id\":\"1159\"},\"muted_glyph\":{\"id\":\"1160\"},\"nonselection_glyph\":{\"id\":\"1157\"},\"selection_glyph\":{\"id\":\"1158\"},\"view\":{\"id\":\"1162\"}},\"id\":\"1161\",\"type\":\"GlyphRenderer\"},{\"attributes\":{\"axis_label\":\"Returns\",\"bounds\":\"auto\",\"formatter\":{\"id\":\"1166\"},\"major_label_orientation\":\"horizontal\",\"ticker\":{\"id\":\"1132\"}},\"id\":\"1131\",\"type\":\"LinearAxis\"},{\"attributes\":{\"children\":[{\"id\":\"1118\"},{\"id\":\"1122\"},{\"id\":\"1179\"}],\"margin\":[0,0,0,0],\"name\":\"Row01681\",\"tags\":[\"embedded\"]},\"id\":\"1117\",\"type\":\"Row\"},{\"attributes\":{\"callback\":null,\"renderers\":[{\"id\":\"1161\"}],\"tags\":[\"hv_created\"],\"tooltips\":[[\"Returns\",\"@{Returns}\"],[\"Projected EPS Growth (%)\",\"@{Projected_EPS_Growth_left_parenthesis_percent_right_parenthesis}\"],[\"P/E Forward\",\"@{P_over_E_Forward}\"],[\"Name\",\"@{Name}\"]]},\"id\":\"1121\",\"type\":\"HoverTool\"},{\"attributes\":{},\"id\":\"1143\",\"type\":\"ResetTool\"},{\"attributes\":{},\"id\":\"1132\",\"type\":\"BasicTicker\"},{\"attributes\":{\"margin\":[5,5,5,5],\"name\":\"HSpacer01685\",\"sizing_mode\":\"stretch_width\"},\"id\":\"1118\",\"type\":\"Spacer\"},{\"attributes\":{},\"id\":\"1166\",\"type\":\"BasicTickFormatter\"},{\"attributes\":{\"fill_alpha\":{\"value\":0.2},\"fill_color\":{\"field\":\"color\",\"transform\":{\"id\":\"1152\"}},\"line_alpha\":{\"value\":0.2},\"line_color\":{\"field\":\"color\",\"transform\":{\"id\":\"1152\"}},\"size\":{\"units\":\"screen\",\"value\":5.477225575051661},\"x\":{\"field\":\"Returns\"},\"y\":{\"field\":\"Projected EPS Growth (%)\"}},\"id\":\"1160\",\"type\":\"Scatter\"},{\"attributes\":{\"axis\":{\"id\":\"1135\"},\"dimension\":1,\"grid_line_color\":null,\"ticker\":null},\"id\":\"1138\",\"type\":\"Grid\"},{\"attributes\":{\"fill_color\":{\"field\":\"color\",\"transform\":{\"id\":\"1152\"}},\"line_color\":{\"field\":\"color\",\"transform\":{\"id\":\"1152\"}},\"size\":{\"units\":\"screen\",\"value\":5.477225575051661},\"x\":{\"field\":\"Returns\"},\"y\":{\"field\":\"Projected EPS Growth (%)\"}},\"id\":\"1159\",\"type\":\"Scatter\"},{\"attributes\":{},\"id\":\"1129\",\"type\":\"LinearScale\"},{\"attributes\":{},\"id\":\"1168\",\"type\":\"BasicTickFormatter\"},{\"attributes\":{\"axis\":{\"id\":\"1131\"},\"grid_line_color\":null,\"ticker\":null},\"id\":\"1134\",\"type\":\"Grid\"}],\"root_ids\":[\"1117\"]},\"title\":\"Bokeh Application\",\"version\":\"2.0.1\"}};\n",
       "  var render_items = [{\"docid\":\"5acbf7ff-b681-46a6-aef2-013b63eac2eb\",\"root_ids\":[\"1117\"],\"roots\":{\"1117\":\"b2c12619-3774-4e19-84bb-d2094c3b7e3d\"}}];\n",
       "  root.Bokeh.embed.embed_items_notebook(docs_json, render_items);\n",
       "  }\n",
       "if (root.Bokeh !== undefined) {\n",
       "    embed_document(root);\n",
       "  } else {\n",
       "    var attempts = 0;\n",
       "    var timer = setInterval(function(root) {\n",
       "      if (root.Bokeh !== undefined) {\n",
       "        clearInterval(timer);\n",
       "        embed_document(root);\n",
       "      } else if (document.readyState == \"complete\") {\n",
       "        attempts++;\n",
       "        if (attempts > 100) {\n",
       "          clearInterval(timer);\n",
       "          console.log(\"Bokeh: ERROR: Unable to run BokehJS code because BokehJS library is missing\");\n",
       "        }\n",
       "      }\n",
       "    }, 10, root)\n",
       "  }\n",
       "})(window);</script>"
      ],
      "text/plain": [
       ":Scatter   [Returns]   (Projected EPS Growth (%),P/E Forward,Name)"
      ]
     },
     "execution_count": 33,
     "metadata": {
      "application/vnd.holoviews_exec.v0+json": {
       "id": "1117"
      }
     },
     "output_type": "execute_result"
    }
   ],
   "source": [
    "performance_plot = combined.hvplot.scatter(hover_cols=['Name'], x='Returns', y='Projected EPS Growth (%)', c='P/E Forward',clabel='P/E Forward', width=1000)\n",
    "performance_plot"
   ]
  },
  {
   "cell_type": "code",
   "execution_count": 34,
   "metadata": {},
   "outputs": [
    {
     "data": {
      "text/html": [
       "\n",
       "\n",
       "\n",
       "\n",
       "\n",
       "\n",
       "  <div class=\"bk-root\" id=\"6b9adae9-695f-4a98-9311-1fac36db4ae5\" data-root-id=\"1226\"></div>\n"
      ]
     },
     "metadata": {},
     "output_type": "display_data"
    },
    {
     "data": {
      "application/javascript": [
       "(function(root) {\n",
       "  function embed_document(root) {\n",
       "    \n",
       "  var docs_json = {\"c800952e-66b4-4815-85e7-16bf6308fde9\":{\"roots\":{\"references\":[{\"attributes\":{\"below\":[{\"id\":\"1237\"}],\"center\":[{\"id\":\"1240\"},{\"id\":\"1244\"},{\"id\":\"1283\"}],\"left\":[{\"id\":\"1241\"}],\"renderers\":[{\"id\":\"1273\"},{\"id\":\"1288\"},{\"id\":\"1304\"},{\"id\":\"1322\"}],\"title\":{\"id\":\"1227\"},\"toolbar\":{\"id\":\"1257\"},\"x_range\":{\"id\":\"1229\"},\"x_scale\":{\"id\":\"1233\"},\"y_range\":{\"id\":\"1231\"},\"y_scale\":{\"id\":\"1235\"}},\"id\":\"1226\",\"subtype\":\"Figure\",\"type\":\"Plot\"},{\"attributes\":{},\"id\":\"1336\",\"type\":\"Selection\"},{\"attributes\":{},\"id\":\"1353\",\"type\":\"Selection\"},{\"attributes\":{\"axis\":{\"id\":\"1237\"},\"ticker\":null},\"id\":\"1240\",\"type\":\"Grid\"},{\"attributes\":{\"text\":\"Returns and Multiple analysis\"},\"id\":\"1227\",\"type\":\"Title\"},{\"attributes\":{\"source\":{\"id\":\"1319\"}},\"id\":\"1323\",\"type\":\"CDSView\"},{\"attributes\":{},\"id\":\"1242\",\"type\":\"BasicTicker\"},{\"attributes\":{\"format\":\"0.0%\"},\"id\":\"1268\",\"type\":\"NumeralTickFormatter\"},{\"attributes\":{\"active_drag\":\"auto\",\"active_inspect\":\"auto\",\"active_multi\":null,\"active_scroll\":\"auto\",\"active_tap\":\"auto\",\"tools\":[{\"id\":\"1245\"},{\"id\":\"1246\"},{\"id\":\"1247\"},{\"id\":\"1248\"},{\"id\":\"1249\"},{\"id\":\"1250\"},{\"id\":\"1251\"},{\"id\":\"1252\"},{\"id\":\"1266\"}]},\"id\":\"1257\",\"type\":\"Toolbar\"},{\"attributes\":{\"axis_label\":\"Multiple levels\",\"formatter\":{\"id\":\"1276\"},\"ticker\":{\"id\":\"1242\"}},\"id\":\"1241\",\"type\":\"LinearAxis\"},{\"attributes\":{\"fill_alpha\":{\"value\":0.1},\"fill_color\":{\"value\":\"blue\"},\"line_alpha\":{\"value\":0.1},\"line_color\":{\"value\":\"#1f77b4\"},\"size\":{\"units\":\"screen\",\"value\":6},\"x\":{\"field\":\"x\"},\"y\":{\"field\":\"y\"}},\"id\":\"1321\",\"type\":\"Circle\"},{\"attributes\":{},\"id\":\"1316\",\"type\":\"Selection\"},{\"attributes\":{\"source\":{\"id\":\"1270\"}},\"id\":\"1274\",\"type\":\"CDSView\"},{\"attributes\":{\"end\":40,\"start\":10},\"id\":\"1231\",\"type\":\"Range1d\"},{\"attributes\":{\"data_source\":{\"id\":\"1270\"},\"glyph\":{\"id\":\"1271\"},\"hover_glyph\":null,\"muted_glyph\":null,\"nonselection_glyph\":{\"id\":\"1272\"},\"selection_glyph\":null,\"view\":{\"id\":\"1274\"}},\"id\":\"1273\",\"type\":\"GlyphRenderer\"},{\"attributes\":{},\"id\":\"1276\",\"type\":\"BasicTickFormatter\"},{\"attributes\":{\"items\":[{\"id\":\"1284\"},{\"id\":\"1300\"},{\"id\":\"1318\"},{\"id\":\"1338\"}]},\"id\":\"1283\",\"type\":\"Legend\"},{\"attributes\":{\"fill_alpha\":{\"value\":0.1},\"fill_color\":{\"value\":\"white\"},\"line_alpha\":{\"value\":0.1},\"line_color\":{\"value\":\"#1f77b4\"},\"size\":{\"units\":\"screen\",\"value\":8},\"x\":{\"field\":\"x\"},\"y\":{\"field\":\"y\"}},\"id\":\"1272\",\"type\":\"Circle\"},{\"attributes\":{},\"id\":\"1238\",\"type\":\"BasicTicker\"},{\"attributes\":{\"source\":{\"id\":\"1301\"}},\"id\":\"1305\",\"type\":\"CDSView\"},{\"attributes\":{\"label\":{\"value\":\"ESG Average\"},\"renderers\":[{\"id\":\"1322\"}]},\"id\":\"1338\",\"type\":\"LegendItem\"},{\"attributes\":{\"label\":{\"value\":\"Return\"},\"renderers\":[{\"id\":\"1273\"}]},\"id\":\"1284\",\"type\":\"LegendItem\"},{\"attributes\":{\"fill_alpha\":0.5,\"fill_color\":\"lightgrey\",\"level\":\"overlay\",\"line_alpha\":1.0,\"line_color\":\"black\",\"line_dash\":[4,4],\"line_width\":2,\"xs_units\":\"screen\",\"ys_units\":\"screen\"},\"id\":\"1256\",\"type\":\"PolyAnnotation\"},{\"attributes\":{},\"id\":\"1337\",\"type\":\"UnionRenderers\"},{\"attributes\":{\"fill_color\":{\"value\":\"orange\"},\"line_color\":{\"value\":\"#1f77b4\"},\"size\":{\"units\":\"screen\",\"value\":6},\"x\":{\"field\":\"x\"},\"y\":{\"field\":\"y\"}},\"id\":\"1302\",\"type\":\"Circle\"},{\"attributes\":{\"fill_alpha\":{\"value\":0.1},\"fill_color\":{\"value\":\"orange\"},\"line_alpha\":{\"value\":0.1},\"line_color\":{\"value\":\"#1f77b4\"},\"size\":{\"units\":\"screen\",\"value\":6},\"x\":{\"field\":\"x\"},\"y\":{\"field\":\"y\"}},\"id\":\"1303\",\"type\":\"Circle\"},{\"attributes\":{},\"id\":\"1235\",\"type\":\"LinearScale\"},{\"attributes\":{\"data_source\":{\"id\":\"1285\"},\"glyph\":{\"id\":\"1286\"},\"hover_glyph\":null,\"muted_glyph\":null,\"nonselection_glyph\":{\"id\":\"1287\"},\"selection_glyph\":null,\"view\":{\"id\":\"1289\"}},\"id\":\"1288\",\"type\":\"GlyphRenderer\"},{\"attributes\":{\"data\":{\"x\":{\"__ndarray__\":\"YORdktm1xD+wDVyz72vCP0jMuyoUYcE/YMqRJsf+wD+QJd5rutDAP7CTmIMIYMA/r6HInz4uwD+ovYlhpA3APw/be/RyX78/EIb3HrL9vT+Bv2aKZSq9P0FZDlG7EL0/f/GGIOe7vD/Q3TGYq6W8PwBaSJrogbw/QFc+tyshvD+wpONVL+S7P7Bn+9XVoLs/ISuzUD2Yuz+gKi6iLBm7Pw==\",\"dtype\":\"float64\",\"shape\":[20]},\"y\":{\"__ndarray__\":\"CtejcD2KKUD2KFyPwvUjQLgehetROCNAAAAAAACAKUAUrkfhehQpQIXrUbgehSBAAAAAAAAAJEAK16NwPQoYQD0K16NwPRxAzczMzMxMLkCPwvUoXI8iQHE9Ctej8CNAexSuR+F6IUB7FK5H4foiQClcj8L1qCFAUrgehetRKUB7FK5H4XohQBSuR+F6lCFAAAAAAAAAIkBSuB6F69EhQA==\",\"dtype\":\"float64\",\"shape\":[20]}},\"selected\":{\"id\":\"1336\"},\"selection_policy\":{\"id\":\"1337\"}},\"id\":\"1301\",\"type\":\"ColumnDataSource\"},{\"attributes\":{\"callback\":null,\"tooltips\":[[\"index\",\"$index\"],[\"Returns\",\"@x{00.0%}\"],[\"P/E Forward\",\"@y\"]]},\"id\":\"1266\",\"type\":\"HoverTool\"},{\"attributes\":{\"fill_alpha\":0.5,\"fill_color\":\"lightgrey\",\"level\":\"overlay\",\"line_alpha\":1.0,\"line_color\":\"black\",\"line_dash\":[4,4],\"line_width\":2,\"xs_units\":\"screen\",\"ys_units\":\"screen\"},\"id\":\"1255\",\"type\":\"PolyAnnotation\"},{\"attributes\":{},\"id\":\"1245\",\"type\":\"PanTool\"},{\"attributes\":{},\"id\":\"1233\",\"type\":\"LinearScale\"},{\"attributes\":{},\"id\":\"1298\",\"type\":\"Selection\"},{\"attributes\":{\"bottom_units\":\"screen\",\"fill_alpha\":0.5,\"fill_color\":\"lightgrey\",\"left_units\":\"screen\",\"level\":\"overlay\",\"line_alpha\":1.0,\"line_color\":\"black\",\"line_dash\":[4,4],\"line_width\":2,\"render_mode\":\"css\",\"right_units\":\"screen\",\"top_units\":\"screen\"},\"id\":\"1254\",\"type\":\"BoxAnnotation\"},{\"attributes\":{},\"id\":\"1354\",\"type\":\"UnionRenderers\"},{\"attributes\":{\"overlay\":{\"id\":\"1254\"}},\"id\":\"1246\",\"type\":\"BoxZoomTool\"},{\"attributes\":{\"fill_color\":{\"value\":\"blue\"},\"line_color\":{\"value\":\"#1f77b4\"},\"size\":{\"units\":\"screen\",\"value\":6},\"x\":{\"field\":\"x\"},\"y\":{\"field\":\"y\"}},\"id\":\"1320\",\"type\":\"Circle\"},{\"attributes\":{\"label\":{\"value\":\"Projected EPS Growth (%)\"},\"renderers\":[{\"id\":\"1304\"}]},\"id\":\"1318\",\"type\":\"LegendItem\"},{\"attributes\":{\"source\":{\"id\":\"1285\"}},\"id\":\"1289\",\"type\":\"CDSView\"},{\"attributes\":{},\"id\":\"1247\",\"type\":\"SaveTool\"},{\"attributes\":{\"fill_color\":{\"value\":\"green\"},\"line_color\":{\"value\":\"#1f77b4\"},\"size\":{\"units\":\"screen\",\"value\":6},\"x\":{\"field\":\"x\"},\"y\":{\"field\":\"y\"}},\"id\":\"1286\",\"type\":\"Circle\"},{\"attributes\":{\"fill_alpha\":{\"value\":0.1},\"fill_color\":{\"value\":\"green\"},\"line_alpha\":{\"value\":0.1},\"line_color\":{\"value\":\"#1f77b4\"},\"size\":{\"units\":\"screen\",\"value\":6},\"x\":{\"field\":\"x\"},\"y\":{\"field\":\"y\"}},\"id\":\"1287\",\"type\":\"Circle\"},{\"attributes\":{\"axis_label\":\"Returns\",\"formatter\":{\"id\":\"1268\"},\"ticker\":{\"id\":\"1238\"}},\"id\":\"1237\",\"type\":\"LinearAxis\"},{\"attributes\":{},\"id\":\"1317\",\"type\":\"UnionRenderers\"},{\"attributes\":{\"overlay\":{\"id\":\"1253\"}},\"id\":\"1248\",\"type\":\"BoxSelectTool\"},{\"attributes\":{\"fill_color\":{\"value\":\"white\"},\"line_color\":{\"value\":\"#1f77b4\"},\"size\":{\"units\":\"screen\",\"value\":8},\"x\":{\"field\":\"x\"},\"y\":{\"field\":\"y\"}},\"id\":\"1271\",\"type\":\"Circle\"},{\"attributes\":{\"label\":{\"value\":\"P/E Forward\"},\"renderers\":[{\"id\":\"1288\"}]},\"id\":\"1300\",\"type\":\"LegendItem\"},{\"attributes\":{\"overlay\":{\"id\":\"1255\"}},\"id\":\"1249\",\"type\":\"LassoSelectTool\"},{\"attributes\":{\"bottom_units\":\"screen\",\"fill_alpha\":0.5,\"fill_color\":\"lightgrey\",\"left_units\":\"screen\",\"level\":\"overlay\",\"line_alpha\":1.0,\"line_color\":\"black\",\"line_dash\":[4,4],\"line_width\":2,\"render_mode\":\"css\",\"right_units\":\"screen\",\"top_units\":\"screen\"},\"id\":\"1253\",\"type\":\"BoxAnnotation\"},{\"attributes\":{\"data_source\":{\"id\":\"1301\"},\"glyph\":{\"id\":\"1302\"},\"hover_glyph\":null,\"muted_glyph\":null,\"nonselection_glyph\":{\"id\":\"1303\"},\"selection_glyph\":null,\"view\":{\"id\":\"1305\"}},\"id\":\"1304\",\"type\":\"GlyphRenderer\"},{\"attributes\":{\"axis\":{\"id\":\"1241\"},\"dimension\":1,\"ticker\":null},\"id\":\"1244\",\"type\":\"Grid\"},{\"attributes\":{\"data\":{\"x\":{\"__ndarray__\":\"YORdktm1xD+wDVyz72vCP0jMuyoUYcE/YMqRJsf+wD+QJd5rutDAP7CTmIMIYMA/r6HInz4uwD+ovYlhpA3APw/be/RyX78/EIb3HrL9vT+Bv2aKZSq9P0FZDlG7EL0/f/GGIOe7vD/Q3TGYq6W8PwBaSJrogbw/QFc+tyshvD+wpONVL+S7P7Bn+9XVoLs/ISuzUD2Yuz+gKi6iLBm7Pw==\",\"dtype\":\"float64\",\"shape\":[20]},\"y\":{\"__ndarray__\":\"9ihcj8J1PUBcj8L1KJwzQD0K16NwvS5AmpmZmZmZN0CF61G4HoU3QB+F61G4XjFACtejcD1KMEDXo3A9Cpc0QOF6FK5H4SZA7FG4HoWrPkDNzMzMzEwjQArXo3A9iitApHA9CtcjNUDsUbgehWsmQI/C9ShcDy1A7FG4HoVrNkDhehSuR2E1QM3MzMzMTChASOF6FK4HMUDsUbgehas1QA==\",\"dtype\":\"float64\",\"shape\":[20]}},\"selected\":{\"id\":\"1316\"},\"selection_policy\":{\"id\":\"1317\"}},\"id\":\"1285\",\"type\":\"ColumnDataSource\"},{\"attributes\":{},\"id\":\"1299\",\"type\":\"UnionRenderers\"},{\"attributes\":{\"overlay\":{\"id\":\"1256\"}},\"id\":\"1250\",\"type\":\"PolySelectTool\"},{\"attributes\":{},\"id\":\"1252\",\"type\":\"ResetTool\"},{\"attributes\":{},\"id\":\"1229\",\"type\":\"DataRange1d\"},{\"attributes\":{\"callback\":null},\"id\":\"1251\",\"type\":\"TapTool\"},{\"attributes\":{\"data\":{\"x\":{\"__ndarray__\":\"YORdktm1xD+wDVyz72vCP0jMuyoUYcE/YMqRJsf+wD+QJd5rutDAP7CTmIMIYMA/r6HInz4uwD+ovYlhpA3APw/be/RyX78/EIb3HrL9vT+Bv2aKZSq9P0FZDlG7EL0/f/GGIOe7vD/Q3TGYq6W8PwBaSJrogbw/QFc+tyshvD+wpONVL+S7P7Bn+9XVoLs/ISuzUD2Yuz+gKi6iLBm7Pw==\",\"dtype\":\"float64\",\"shape\":[20]},\"y\":{\"__ndarray__\":\"a1pZ+hEuMEBj1T+IpsgsQDBvxYKvJytANsxDLBeOKkCxGotII0YqQMNmnk0NlilAoXyp2UFIKUBWOGfYUBUpQCTDAM+RgihAvGAxKDNuJ0CdRSBUH8kmQLs1U1cStSZAq2xpkcxyJkBK9eYObmEmQFCGiLh9RSZAKrQoJ+r5JUCq2Bn7RMolQAJpLA+nlSVAsvkL5++OJUBNEbTeqislQA==\",\"dtype\":\"float64\",\"shape\":[20]}},\"selected\":{\"id\":\"1298\"},\"selection_policy\":{\"id\":\"1299\"}},\"id\":\"1270\",\"type\":\"ColumnDataSource\"},{\"attributes\":{\"data_source\":{\"id\":\"1319\"},\"glyph\":{\"id\":\"1320\"},\"hover_glyph\":null,\"muted_glyph\":null,\"nonselection_glyph\":{\"id\":\"1321\"},\"selection_glyph\":null,\"view\":{\"id\":\"1323\"}},\"id\":\"1322\",\"type\":\"GlyphRenderer\"},{\"attributes\":{\"data\":{\"x\":{\"__ndarray__\":\"YORdktm1xD+wDVyz72vCP0jMuyoUYcE/YMqRJsf+wD+QJd5rutDAP7CTmIMIYMA/r6HInz4uwD+ovYlhpA3APw/be/RyX78/EIb3HrL9vT+Bv2aKZSq9P0FZDlG7EL0/f/GGIOe7vD/Q3TGYq6W8PwBaSJrogbw/QFc+tyshvD+wpONVL+S7P7Bn+9XVoLs/ISuzUD2Yuz+gKi6iLBm7Pw==\",\"dtype\":\"float64\",\"shape\":[20]},\"y\":{\"__ndarray__\":\"AAAAAADAOEApXI/C9ag4QGZmZmZmpjhAFK5H4XqUOEBI4XoUroc4QIXrUbgehThAKVyPwvVoOEDhehSuR2E4QB+F61G4XjhAzczMzMxMOEDhehSuRyE4QJqZmZmZGThAmpmZmZkZOECamZmZmRk4QAAAAAAAADhAPQrXo3D9N0B7FK5H4fo3QHsUrkfh+jdAexSuR+H6N0CuR+F6FO43QA==\",\"dtype\":\"float64\",\"shape\":[20]}},\"selected\":{\"id\":\"1353\"},\"selection_policy\":{\"id\":\"1354\"}},\"id\":\"1319\",\"type\":\"ColumnDataSource\"}],\"root_ids\":[\"1226\"]},\"title\":\"Bokeh Application\",\"version\":\"2.0.1\"}};\n",
       "  var render_items = [{\"docid\":\"c800952e-66b4-4815-85e7-16bf6308fde9\",\"root_ids\":[\"1226\"],\"roots\":{\"1226\":\"6b9adae9-695f-4a98-9311-1fac36db4ae5\"}}];\n",
       "  root.Bokeh.embed.embed_items_notebook(docs_json, render_items);\n",
       "\n",
       "  }\n",
       "  if (root.Bokeh !== undefined) {\n",
       "    embed_document(root);\n",
       "  } else {\n",
       "    var attempts = 0;\n",
       "    var timer = setInterval(function(root) {\n",
       "      if (root.Bokeh !== undefined) {\n",
       "        clearInterval(timer);\n",
       "        embed_document(root);\n",
       "      } else {\n",
       "        attempts++;\n",
       "        if (attempts > 100) {\n",
       "          clearInterval(timer);\n",
       "          console.log(\"Bokeh: ERROR: Unable to run BokehJS code because BokehJS library is missing\");\n",
       "        }\n",
       "      }\n",
       "    }, 10, root)\n",
       "  }\n",
       "})(window);"
      ],
      "application/vnd.bokehjs_exec.v0+json": ""
     },
     "metadata": {
      "application/vnd.bokehjs_exec.v0+json": {
       "id": "1226"
      }
     },
     "output_type": "display_data"
    }
   ],
   "source": [
    "# Prepare some data\n",
    "x = combined.nlargest(20, 'Returns')['Returns']\n",
    "a = combined.nlargest(20, 'Returns')['Returns']*100\n",
    "y = combined.nlargest(20, 'Returns')['P/E Forward']\n",
    "z = combined.nlargest(20, 'Returns')['Projected EPS Growth (%)']\n",
    "e = combined.nlargest(20, 'Total ESG Score')['Total ESG Score']\n",
    "\n",
    "# output to static HTML file\n",
    "output_file(\"ESG_ratios.html\")\n",
    "\n",
    "select_tools = ['pan','box_zoom','save','box_select', 'lasso_select', 'poly_select', 'tap', 'reset']\n",
    "\n",
    "# create a new plot\n",
    "p = figure(y_axis_type=\"auto\", y_range=[10, 40], title=\"Returns and Multiple analysis\",\n",
    "   x_axis_label='Returns', y_axis_label='Multiple levels', tools=select_tools)\n",
    "\n",
    "\n",
    "tooltips = [(\"index\", \"$index\"), ('Returns', '@x{00.0%}'), ('P/E Forward', '@y')]\n",
    "\n",
    "# Add the HoverTool to the figure\n",
    "p.add_tools(HoverTool(tooltips=tooltips))\n",
    "\n",
    "# Add renders\n",
    "p.xaxis[0].formatter = NumeralTickFormatter(format='0.0%')\n",
    "p.circle(x, a, legend_label=\"Return\", fill_color=\"white\", size=8)\n",
    "p.circle(x, y, legend_label=\"P/E Forward\", fill_color=\"green\", size=6)\n",
    "p.circle(x, z, legend_label=\"Projected EPS Growth (%)\", fill_color=\"orange\", size=6)\n",
    "p.circle(x, e, legend_label=\"ESG Average\", fill_color=\"blue\", size=6)\n",
    "# show the results\n",
    "show(p)"
   ]
  },
  {
   "cell_type": "markdown",
   "metadata": {},
   "source": [
    "## Top 20 funds by category"
   ]
  },
  {
   "cell_type": "code",
   "execution_count": 35,
   "metadata": {},
   "outputs": [
    {
     "data": {
      "text/html": [
       "<div>\n",
       "<style scoped>\n",
       "    .dataframe tbody tr th:only-of-type {\n",
       "        vertical-align: middle;\n",
       "    }\n",
       "\n",
       "    .dataframe tbody tr th {\n",
       "        vertical-align: top;\n",
       "    }\n",
       "\n",
       "    .dataframe thead th {\n",
       "        text-align: right;\n",
       "    }\n",
       "</style>\n",
       "<table border=\"1\" class=\"dataframe\">\n",
       "  <thead>\n",
       "    <tr style=\"text-align: right;\">\n",
       "      <th></th>\n",
       "      <th>Returns</th>\n",
       "      <th>Dividend Yield TTM</th>\n",
       "      <th>Turnover Ratio</th>\n",
       "      <th>Morningstar Rating</th>\n",
       "      <th>E</th>\n",
       "      <th>S</th>\n",
       "      <th>G</th>\n",
       "      <th>Total ESG Score</th>\n",
       "      <th>P/E Forward</th>\n",
       "      <th>P/B</th>\n",
       "      <th>ROA</th>\n",
       "      <th>ROE</th>\n",
       "      <th>Projected EPS Growth (%)</th>\n",
       "      <th>Yield (%)</th>\n",
       "    </tr>\n",
       "    <tr>\n",
       "      <th>Fund Category</th>\n",
       "      <th></th>\n",
       "      <th></th>\n",
       "      <th></th>\n",
       "      <th></th>\n",
       "      <th></th>\n",
       "      <th></th>\n",
       "      <th></th>\n",
       "      <th></th>\n",
       "      <th></th>\n",
       "      <th></th>\n",
       "      <th></th>\n",
       "      <th></th>\n",
       "      <th></th>\n",
       "      <th></th>\n",
       "    </tr>\n",
       "  </thead>\n",
       "  <tbody>\n",
       "    <tr>\n",
       "      <th>Large Blend</th>\n",
       "      <td>0.114880</td>\n",
       "      <td>1.462857</td>\n",
       "      <td>39.857143</td>\n",
       "      <td>4.428571</td>\n",
       "      <td>3.790000</td>\n",
       "      <td>10.897143</td>\n",
       "      <td>7.925714</td>\n",
       "      <td>22.685714</td>\n",
       "      <td>17.892857</td>\n",
       "      <td>2.578571</td>\n",
       "      <td>9.031429</td>\n",
       "      <td>25.718571</td>\n",
       "      <td>8.644286</td>\n",
       "      <td>1.904286</td>\n",
       "    </tr>\n",
       "    <tr>\n",
       "      <th>Large Growth</th>\n",
       "      <td>0.124698</td>\n",
       "      <td>0.371667</td>\n",
       "      <td>44.333333</td>\n",
       "      <td>3.916667</td>\n",
       "      <td>2.744167</td>\n",
       "      <td>10.830000</td>\n",
       "      <td>7.856667</td>\n",
       "      <td>21.801667</td>\n",
       "      <td>19.187500</td>\n",
       "      <td>3.663333</td>\n",
       "      <td>9.841667</td>\n",
       "      <td>29.709167</td>\n",
       "      <td>10.814167</td>\n",
       "      <td>0.807500</td>\n",
       "    </tr>\n",
       "    <tr>\n",
       "      <th>Large Value</th>\n",
       "      <td>0.127931</td>\n",
       "      <td>1.940000</td>\n",
       "      <td>76.000000</td>\n",
       "      <td>4.000000</td>\n",
       "      <td>2.980000</td>\n",
       "      <td>11.440000</td>\n",
       "      <td>8.550000</td>\n",
       "      <td>23.930000</td>\n",
       "      <td>17.370000</td>\n",
       "      <td>2.550000</td>\n",
       "      <td>10.740000</td>\n",
       "      <td>28.660000</td>\n",
       "      <td>8.260000</td>\n",
       "      <td>1.970000</td>\n",
       "    </tr>\n",
       "  </tbody>\n",
       "</table>\n",
       "</div>"
      ],
      "text/plain": [
       "                Returns  Dividend Yield TTM  Turnover Ratio  \\\n",
       "Fund Category                                                 \n",
       "Large Blend    0.114880            1.462857       39.857143   \n",
       "Large Growth   0.124698            0.371667       44.333333   \n",
       "Large Value    0.127931            1.940000       76.000000   \n",
       "\n",
       "               Morningstar Rating         E          S         G  \\\n",
       "Fund Category                                                      \n",
       "Large Blend              4.428571  3.790000  10.897143  7.925714   \n",
       "Large Growth             3.916667  2.744167  10.830000  7.856667   \n",
       "Large Value              4.000000  2.980000  11.440000  8.550000   \n",
       "\n",
       "               Total ESG Score  P/E Forward       P/B        ROA        ROE  \\\n",
       "Fund Category                                                                 \n",
       "Large Blend          22.685714    17.892857  2.578571   9.031429  25.718571   \n",
       "Large Growth         21.801667    19.187500  3.663333   9.841667  29.709167   \n",
       "Large Value          23.930000    17.370000  2.550000  10.740000  28.660000   \n",
       "\n",
       "               Projected EPS Growth (%)  Yield (%)  \n",
       "Fund Category                                       \n",
       "Large Blend                    8.644286   1.904286  \n",
       "Large Growth                  10.814167   0.807500  \n",
       "Large Value                    8.260000   1.970000  "
      ]
     },
     "execution_count": 35,
     "metadata": {},
     "output_type": "execute_result"
    }
   ],
   "source": [
    "top_20_combined = combined_sorted.iloc[:20]\n",
    "top_20_combined_fund = top_20_combined.groupby('Fund Category').mean()\n",
    "top_20_combined_fund"
   ]
  },
  {
   "cell_type": "markdown",
   "metadata": {},
   "source": [
    "## Calculating Characterstics"
   ]
  },
  {
   "cell_type": "code",
   "execution_count": 36,
   "metadata": {},
   "outputs": [
    {
     "data": {
      "text/html": [
       "<div>\n",
       "<style scoped>\n",
       "    .dataframe tbody tr th:only-of-type {\n",
       "        vertical-align: middle;\n",
       "    }\n",
       "\n",
       "    .dataframe tbody tr th {\n",
       "        vertical-align: top;\n",
       "    }\n",
       "\n",
       "    .dataframe thead th {\n",
       "        text-align: right;\n",
       "    }\n",
       "</style>\n",
       "<table border=\"1\" class=\"dataframe\">\n",
       "  <thead>\n",
       "    <tr style=\"text-align: right;\">\n",
       "      <th></th>\n",
       "      <th>Name</th>\n",
       "      <th>Morningstar Risk</th>\n",
       "      <th>Morningstar Rating</th>\n",
       "      <th>Fund Category</th>\n",
       "    </tr>\n",
       "    <tr>\n",
       "      <th>Ticker</th>\n",
       "      <th></th>\n",
       "      <th></th>\n",
       "      <th></th>\n",
       "      <th></th>\n",
       "    </tr>\n",
       "  </thead>\n",
       "  <tbody>\n",
       "    <tr>\n",
       "      <th>MXXVX</th>\n",
       "      <td>Matthew 25</td>\n",
       "      <td>High</td>\n",
       "      <td>2.0</td>\n",
       "      <td>Large Blend</td>\n",
       "    </tr>\n",
       "    <tr>\n",
       "      <th>VLCGX</th>\n",
       "      <td>VALIC Company I Large Capital Growth</td>\n",
       "      <td>Below Average</td>\n",
       "      <td>3.0</td>\n",
       "      <td>Large Growth</td>\n",
       "    </tr>\n",
       "    <tr>\n",
       "      <th>MIGFX</th>\n",
       "      <td>MFS Massachusetts Inv Gr Stk A</td>\n",
       "      <td>Below Average</td>\n",
       "      <td>3.0</td>\n",
       "      <td>Large Growth</td>\n",
       "    </tr>\n",
       "    <tr>\n",
       "      <th>UMLGX</th>\n",
       "      <td>Columbia Select Large Cap Growth Inst</td>\n",
       "      <td>High</td>\n",
       "      <td>3.0</td>\n",
       "      <td>Large Growth</td>\n",
       "    </tr>\n",
       "    <tr>\n",
       "      <th>MGK</th>\n",
       "      <td>Vanguard Mega Cap Growth ETF</td>\n",
       "      <td>Average</td>\n",
       "      <td>4.0</td>\n",
       "      <td>Large Growth</td>\n",
       "    </tr>\n",
       "  </tbody>\n",
       "</table>\n",
       "</div>"
      ],
      "text/plain": [
       "                                         Name Morningstar Risk  \\\n",
       "Ticker                                                           \n",
       "MXXVX                              Matthew 25             High   \n",
       "VLCGX    VALIC Company I Large Capital Growth    Below Average   \n",
       "MIGFX          MFS Massachusetts Inv Gr Stk A    Below Average   \n",
       "UMLGX   Columbia Select Large Cap Growth Inst             High   \n",
       "MGK              Vanguard Mega Cap Growth ETF          Average   \n",
       "\n",
       "        Morningstar Rating Fund Category  \n",
       "Ticker                                    \n",
       "MXXVX                  2.0   Large Blend  \n",
       "VLCGX                  3.0  Large Growth  \n",
       "MIGFX                  3.0  Large Growth  \n",
       "UMLGX                  3.0  Large Growth  \n",
       "MGK                    4.0  Large Growth  "
      ]
     },
     "execution_count": 36,
     "metadata": {},
     "output_type": "execute_result"
    }
   ],
   "source": [
    "character_df = combined.drop(columns=['Returns', 'Dividend Yield TTM', 'Turnover Ratio', 'E','S','G','Total ESG Score','P/E Forward','P/B','ROA','ROE','Projected EPS Growth (%)','Yield (%)','Market Cap($ mil)'])\n",
    "character_df.head()"
   ]
  },
  {
   "cell_type": "code",
   "execution_count": 37,
   "metadata": {},
   "outputs": [
    {
     "data": {
      "text/html": [
       "<div>\n",
       "<style scoped>\n",
       "    .dataframe tbody tr th:only-of-type {\n",
       "        vertical-align: middle;\n",
       "    }\n",
       "\n",
       "    .dataframe tbody tr th {\n",
       "        vertical-align: top;\n",
       "    }\n",
       "\n",
       "    .dataframe thead th {\n",
       "        text-align: right;\n",
       "    }\n",
       "</style>\n",
       "<table border=\"1\" class=\"dataframe\">\n",
       "  <thead>\n",
       "    <tr style=\"text-align: right;\">\n",
       "      <th></th>\n",
       "      <th>Name</th>\n",
       "      <th>Morningstar Risk</th>\n",
       "      <th>Morningstar Rating</th>\n",
       "      <th>Fund Category</th>\n",
       "    </tr>\n",
       "    <tr>\n",
       "      <th>Ticker</th>\n",
       "      <th></th>\n",
       "      <th></th>\n",
       "      <th></th>\n",
       "      <th></th>\n",
       "    </tr>\n",
       "  </thead>\n",
       "  <tbody>\n",
       "    <tr>\n",
       "      <th>MXXVX</th>\n",
       "      <td>Matthew 25</td>\n",
       "      <td>High</td>\n",
       "      <td>2.0</td>\n",
       "      <td>Large Blend</td>\n",
       "    </tr>\n",
       "    <tr>\n",
       "      <th>PARNX</th>\n",
       "      <td>Parnassus Mid Cap Growth Investor</td>\n",
       "      <td>Above Average</td>\n",
       "      <td>2.0</td>\n",
       "      <td>Large Blend</td>\n",
       "    </tr>\n",
       "    <tr>\n",
       "      <th>SENCX</th>\n",
       "      <td>Touchstone Large Cap Focused A</td>\n",
       "      <td>Below Average</td>\n",
       "      <td>5.0</td>\n",
       "      <td>Large Blend</td>\n",
       "    </tr>\n",
       "    <tr>\n",
       "      <th>PRBLX</th>\n",
       "      <td>Parnassus Core Equity Investor</td>\n",
       "      <td>Low</td>\n",
       "      <td>5.0</td>\n",
       "      <td>Large Blend</td>\n",
       "    </tr>\n",
       "    <tr>\n",
       "      <th>VDIGX</th>\n",
       "      <td>Vanguard Dividend Growth Inv</td>\n",
       "      <td>Low</td>\n",
       "      <td>5.0</td>\n",
       "      <td>Large Blend</td>\n",
       "    </tr>\n",
       "    <tr>\n",
       "      <th>HSTAX</th>\n",
       "      <td>Hartford Stock HLS IA</td>\n",
       "      <td>Below Average</td>\n",
       "      <td>5.0</td>\n",
       "      <td>Large Blend</td>\n",
       "    </tr>\n",
       "    <tr>\n",
       "      <th>DSI</th>\n",
       "      <td>iShares MSCI KLD 400 Social ETF</td>\n",
       "      <td>Average</td>\n",
       "      <td>4.0</td>\n",
       "      <td>Large Blend</td>\n",
       "    </tr>\n",
       "    <tr>\n",
       "      <th>PIOTX</th>\n",
       "      <td>Pioneer Core Equity A</td>\n",
       "      <td>Average</td>\n",
       "      <td>3.0</td>\n",
       "      <td>Large Blend</td>\n",
       "    </tr>\n",
       "    <tr>\n",
       "      <th>TISCX</th>\n",
       "      <td>TIAA-CREF Social Choice Eq Instl</td>\n",
       "      <td>Average</td>\n",
       "      <td>3.0</td>\n",
       "      <td>Large Blend</td>\n",
       "    </tr>\n",
       "    <tr>\n",
       "      <th>DSEFX</th>\n",
       "      <td>Domini Impact Equity Investor</td>\n",
       "      <td>Below Average</td>\n",
       "      <td>3.0</td>\n",
       "      <td>Large Blend</td>\n",
       "    </tr>\n",
       "    <tr>\n",
       "      <th>VCSRX</th>\n",
       "      <td>VALIC Company II U.S. Socially Rspnb</td>\n",
       "      <td>Average</td>\n",
       "      <td>4.0</td>\n",
       "      <td>Large Blend</td>\n",
       "    </tr>\n",
       "    <tr>\n",
       "      <th>LEVIX</th>\n",
       "      <td>Lazard US Equity Concentrated Instl</td>\n",
       "      <td>Average</td>\n",
       "      <td>3.0</td>\n",
       "      <td>Large Blend</td>\n",
       "    </tr>\n",
       "    <tr>\n",
       "      <th>GQEFX</th>\n",
       "      <td>GMO Quality IV</td>\n",
       "      <td>Low</td>\n",
       "      <td>5.0</td>\n",
       "      <td>Large Blend</td>\n",
       "    </tr>\n",
       "    <tr>\n",
       "      <th>NSBRX</th>\n",
       "      <td>Nuveen Santa Barbara Dividend Growth I</td>\n",
       "      <td>Below Average</td>\n",
       "      <td>4.0</td>\n",
       "      <td>Large Blend</td>\n",
       "    </tr>\n",
       "    <tr>\n",
       "      <th>MITTX</th>\n",
       "      <td>MFS Massachusetts Investors Tr A</td>\n",
       "      <td>Average</td>\n",
       "      <td>4.0</td>\n",
       "      <td>Large Blend</td>\n",
       "    </tr>\n",
       "    <tr>\n",
       "      <th>MSIGX</th>\n",
       "      <td>Invesco Oppenheimer Main Street A</td>\n",
       "      <td>Average</td>\n",
       "      <td>3.0</td>\n",
       "      <td>Large Blend</td>\n",
       "    </tr>\n",
       "    <tr>\n",
       "      <th>FDEQX</th>\n",
       "      <td>Fidelity® Disciplined Equity</td>\n",
       "      <td>Average</td>\n",
       "      <td>3.0</td>\n",
       "      <td>Large Blend</td>\n",
       "    </tr>\n",
       "    <tr>\n",
       "      <th>SUSA</th>\n",
       "      <td>iShares MSCI USA ESG Select ETF</td>\n",
       "      <td>Average</td>\n",
       "      <td>4.0</td>\n",
       "      <td>Large Blend</td>\n",
       "    </tr>\n",
       "    <tr>\n",
       "      <th>SHAPX</th>\n",
       "      <td>ClearBridge Appreciation A</td>\n",
       "      <td>Below Average</td>\n",
       "      <td>4.0</td>\n",
       "      <td>Large Blend</td>\n",
       "    </tr>\n",
       "    <tr>\n",
       "      <th>OARDX</th>\n",
       "      <td>Invesco Oppenheimer Rising Dividends A</td>\n",
       "      <td>Below Average</td>\n",
       "      <td>2.0</td>\n",
       "      <td>Large Blend</td>\n",
       "    </tr>\n",
       "    <tr>\n",
       "      <th>SRVEX</th>\n",
       "      <td>Victory Diversified Stock A</td>\n",
       "      <td>Above Average</td>\n",
       "      <td>2.0</td>\n",
       "      <td>Large Blend</td>\n",
       "    </tr>\n",
       "    <tr>\n",
       "      <th>MFVSX</th>\n",
       "      <td>MassMutual Select Equity Opports R5</td>\n",
       "      <td>Above Average</td>\n",
       "      <td>3.0</td>\n",
       "      <td>Large Blend</td>\n",
       "    </tr>\n",
       "    <tr>\n",
       "      <th>GTLOX</th>\n",
       "      <td>Glenmede Quant US Large Cap Core Eq</td>\n",
       "      <td>Above Average</td>\n",
       "      <td>3.0</td>\n",
       "      <td>Large Blend</td>\n",
       "    </tr>\n",
       "    <tr>\n",
       "      <th>FMIHX</th>\n",
       "      <td>FMI Large Cap Investor</td>\n",
       "      <td>Below Average</td>\n",
       "      <td>2.0</td>\n",
       "      <td>Large Blend</td>\n",
       "    </tr>\n",
       "    <tr>\n",
       "      <th>GSRAX</th>\n",
       "      <td>Goldman Sachs Rising Dividend Gr A</td>\n",
       "      <td>Average</td>\n",
       "      <td>2.0</td>\n",
       "      <td>Large Blend</td>\n",
       "    </tr>\n",
       "    <tr>\n",
       "      <th>NBSRX</th>\n",
       "      <td>Neuberger Berman Sustainable Eq Investor</td>\n",
       "      <td>Average</td>\n",
       "      <td>2.0</td>\n",
       "      <td>Large Blend</td>\n",
       "    </tr>\n",
       "    <tr>\n",
       "      <th>FTCS</th>\n",
       "      <td>First Trust Capital Strength ETF</td>\n",
       "      <td>Average</td>\n",
       "      <td>4.0</td>\n",
       "      <td>Large Blend</td>\n",
       "    </tr>\n",
       "    <tr>\n",
       "      <th>POSKX</th>\n",
       "      <td>PRIMECAP Odyssey Stock</td>\n",
       "      <td>Above Average</td>\n",
       "      <td>3.0</td>\n",
       "      <td>Large Blend</td>\n",
       "    </tr>\n",
       "    <tr>\n",
       "      <th>TFFYX</th>\n",
       "      <td>Touchstone Focused Y</td>\n",
       "      <td>Above Average</td>\n",
       "      <td>3.0</td>\n",
       "      <td>Large Blend</td>\n",
       "    </tr>\n",
       "    <tr>\n",
       "      <th>REQEX</th>\n",
       "      <td>Russell Inv Sustainable Equity E</td>\n",
       "      <td>Low</td>\n",
       "      <td>4.0</td>\n",
       "      <td>Large Blend</td>\n",
       "    </tr>\n",
       "    <tr>\n",
       "      <th>...</th>\n",
       "      <td>...</td>\n",
       "      <td>...</td>\n",
       "      <td>...</td>\n",
       "      <td>...</td>\n",
       "    </tr>\n",
       "    <tr>\n",
       "      <th>MGRSX</th>\n",
       "      <td>MassMutual Select Growth Opps R5</td>\n",
       "      <td>Above Average</td>\n",
       "      <td>4.0</td>\n",
       "      <td>Large Growth</td>\n",
       "    </tr>\n",
       "    <tr>\n",
       "      <th>ADCIX</th>\n",
       "      <td>American Century Disciplined Growth I</td>\n",
       "      <td>Below Average</td>\n",
       "      <td>4.0</td>\n",
       "      <td>Large Growth</td>\n",
       "    </tr>\n",
       "    <tr>\n",
       "      <th>FVDFX</th>\n",
       "      <td>Fidelity® Value Discovery</td>\n",
       "      <td>Average</td>\n",
       "      <td>3.0</td>\n",
       "      <td>Large Value</td>\n",
       "    </tr>\n",
       "    <tr>\n",
       "      <th>BIGRX</th>\n",
       "      <td>American Century Income and Growth Inv</td>\n",
       "      <td>Below Average</td>\n",
       "      <td>4.0</td>\n",
       "      <td>Large Value</td>\n",
       "    </tr>\n",
       "    <tr>\n",
       "      <th>VCIGX</th>\n",
       "      <td>VALIC Company I Dividend Value</td>\n",
       "      <td>Below Average</td>\n",
       "      <td>4.0</td>\n",
       "      <td>Large Value</td>\n",
       "    </tr>\n",
       "    <tr>\n",
       "      <th>SSHFX</th>\n",
       "      <td>Sound Shore Investor</td>\n",
       "      <td>Above Average</td>\n",
       "      <td>2.0</td>\n",
       "      <td>Large Value</td>\n",
       "    </tr>\n",
       "    <tr>\n",
       "      <th>FBCVX</th>\n",
       "      <td>Fidelity® Blue Chip Value</td>\n",
       "      <td>Above Average</td>\n",
       "      <td>2.0</td>\n",
       "      <td>Large Value</td>\n",
       "    </tr>\n",
       "    <tr>\n",
       "      <th>NNGRX</th>\n",
       "      <td>Nuveen Large-Cap Value I</td>\n",
       "      <td>High</td>\n",
       "      <td>2.0</td>\n",
       "      <td>Large Value</td>\n",
       "    </tr>\n",
       "    <tr>\n",
       "      <th>TORYX</th>\n",
       "      <td>Torray</td>\n",
       "      <td>Below Average</td>\n",
       "      <td>2.0</td>\n",
       "      <td>Large Value</td>\n",
       "    </tr>\n",
       "    <tr>\n",
       "      <th>FDSAX</th>\n",
       "      <td>AIG Focused Dividend Strategy A</td>\n",
       "      <td>Average</td>\n",
       "      <td>3.0</td>\n",
       "      <td>Large Value</td>\n",
       "    </tr>\n",
       "    <tr>\n",
       "      <th>YAFFX</th>\n",
       "      <td>AMG Yacktman Focused N</td>\n",
       "      <td>Low</td>\n",
       "      <td>5.0</td>\n",
       "      <td>Large Value</td>\n",
       "    </tr>\n",
       "    <tr>\n",
       "      <th>HRCVX</th>\n",
       "      <td>Carillon Eagle Growth &amp; Income A</td>\n",
       "      <td>Below Average</td>\n",
       "      <td>5.0</td>\n",
       "      <td>Large Value</td>\n",
       "    </tr>\n",
       "    <tr>\n",
       "      <th>AUIAX</th>\n",
       "      <td>AB Equity Income A</td>\n",
       "      <td>Below Average</td>\n",
       "      <td>4.0</td>\n",
       "      <td>Large Value</td>\n",
       "    </tr>\n",
       "    <tr>\n",
       "      <th>DODGX</th>\n",
       "      <td>Dodge &amp; Cox Stock</td>\n",
       "      <td>Above Average</td>\n",
       "      <td>3.0</td>\n",
       "      <td>Large Value</td>\n",
       "    </tr>\n",
       "    <tr>\n",
       "      <th>HDGYX</th>\n",
       "      <td>Hartford Dividend and Growth Y</td>\n",
       "      <td>Below Average</td>\n",
       "      <td>5.0</td>\n",
       "      <td>Large Value</td>\n",
       "    </tr>\n",
       "    <tr>\n",
       "      <th>BRLVX</th>\n",
       "      <td>American Beacon Bridgeway Lg Cp Val R5</td>\n",
       "      <td>Above Average</td>\n",
       "      <td>3.0</td>\n",
       "      <td>Large Value</td>\n",
       "    </tr>\n",
       "    <tr>\n",
       "      <th>BEGIX</th>\n",
       "      <td>Sterling Capital Equity Income Instl</td>\n",
       "      <td>Average</td>\n",
       "      <td>4.0</td>\n",
       "      <td>Large Value</td>\n",
       "    </tr>\n",
       "    <tr>\n",
       "      <th>FDGFX</th>\n",
       "      <td>Fidelity® Dividend Growth</td>\n",
       "      <td>Above Average</td>\n",
       "      <td>3.0</td>\n",
       "      <td>Large Value</td>\n",
       "    </tr>\n",
       "    <tr>\n",
       "      <th>SMVLX</th>\n",
       "      <td>Smead Value Investor</td>\n",
       "      <td>Above Average</td>\n",
       "      <td>4.0</td>\n",
       "      <td>Large Value</td>\n",
       "    </tr>\n",
       "    <tr>\n",
       "      <th>DHLAX</th>\n",
       "      <td>Diamond Hill Large Cap A</td>\n",
       "      <td>Above Average</td>\n",
       "      <td>4.0</td>\n",
       "      <td>Large Value</td>\n",
       "    </tr>\n",
       "    <tr>\n",
       "      <th>CVFCX</th>\n",
       "      <td>Pioneer Disciplined Value A</td>\n",
       "      <td>Average</td>\n",
       "      <td>3.0</td>\n",
       "      <td>Large Value</td>\n",
       "    </tr>\n",
       "    <tr>\n",
       "      <th>OFALX</th>\n",
       "      <td>Olstein All Cap Value C</td>\n",
       "      <td>Above Average</td>\n",
       "      <td>2.0</td>\n",
       "      <td>Large Value</td>\n",
       "    </tr>\n",
       "    <tr>\n",
       "      <th>SAIFX</th>\n",
       "      <td>ClearBridge Large Cap Value I</td>\n",
       "      <td>Below Average</td>\n",
       "      <td>4.0</td>\n",
       "      <td>Large Value</td>\n",
       "    </tr>\n",
       "    <tr>\n",
       "      <th>HIADX</th>\n",
       "      <td>Hartford Dividend and Growth HLS IA</td>\n",
       "      <td>Below Average</td>\n",
       "      <td>5.0</td>\n",
       "      <td>Large Value</td>\n",
       "    </tr>\n",
       "    <tr>\n",
       "      <th>GMUEX</th>\n",
       "      <td>GMO US Equity III</td>\n",
       "      <td>Below Average</td>\n",
       "      <td>5.0</td>\n",
       "      <td>Large Value</td>\n",
       "    </tr>\n",
       "    <tr>\n",
       "      <th>FDGIX</th>\n",
       "      <td>Fidelity Advisor® Dividend Growth I</td>\n",
       "      <td>Above Average</td>\n",
       "      <td>3.0</td>\n",
       "      <td>Large Value</td>\n",
       "    </tr>\n",
       "    <tr>\n",
       "      <th>YACKX</th>\n",
       "      <td>AMG Yacktman I</td>\n",
       "      <td>Low</td>\n",
       "      <td>5.0</td>\n",
       "      <td>Large Value</td>\n",
       "    </tr>\n",
       "    <tr>\n",
       "      <th>GSFTX</th>\n",
       "      <td>Columbia Dividend Income Inst</td>\n",
       "      <td>Low</td>\n",
       "      <td>5.0</td>\n",
       "      <td>Large Value</td>\n",
       "    </tr>\n",
       "    <tr>\n",
       "      <th>NSEIX</th>\n",
       "      <td>Nicholas Equity Income I</td>\n",
       "      <td>Below Average</td>\n",
       "      <td>4.0</td>\n",
       "      <td>Large Value</td>\n",
       "    </tr>\n",
       "    <tr>\n",
       "      <th>PKW</th>\n",
       "      <td>Invesco BuyBack Achievers ETF</td>\n",
       "      <td>Above Average</td>\n",
       "      <td>4.0</td>\n",
       "      <td>Large Value</td>\n",
       "    </tr>\n",
       "  </tbody>\n",
       "</table>\n",
       "<p>129 rows × 4 columns</p>\n",
       "</div>"
      ],
      "text/plain": [
       "                                            Name Morningstar Risk  \\\n",
       "Ticker                                                              \n",
       "MXXVX                                 Matthew 25             High   \n",
       "PARNX          Parnassus Mid Cap Growth Investor    Above Average   \n",
       "SENCX             Touchstone Large Cap Focused A    Below Average   \n",
       "PRBLX             Parnassus Core Equity Investor              Low   \n",
       "VDIGX               Vanguard Dividend Growth Inv              Low   \n",
       "HSTAX                      Hartford Stock HLS IA    Below Average   \n",
       "DSI              iShares MSCI KLD 400 Social ETF          Average   \n",
       "PIOTX                      Pioneer Core Equity A          Average   \n",
       "TISCX           TIAA-CREF Social Choice Eq Instl          Average   \n",
       "DSEFX              Domini Impact Equity Investor    Below Average   \n",
       "VCSRX       VALIC Company II U.S. Socially Rspnb          Average   \n",
       "LEVIX        Lazard US Equity Concentrated Instl          Average   \n",
       "GQEFX                             GMO Quality IV              Low   \n",
       "NSBRX     Nuveen Santa Barbara Dividend Growth I    Below Average   \n",
       "MITTX           MFS Massachusetts Investors Tr A          Average   \n",
       "MSIGX          Invesco Oppenheimer Main Street A          Average   \n",
       "FDEQX               Fidelity® Disciplined Equity          Average   \n",
       "SUSA             iShares MSCI USA ESG Select ETF          Average   \n",
       "SHAPX                 ClearBridge Appreciation A    Below Average   \n",
       "OARDX     Invesco Oppenheimer Rising Dividends A    Below Average   \n",
       "SRVEX                Victory Diversified Stock A    Above Average   \n",
       "MFVSX        MassMutual Select Equity Opports R5    Above Average   \n",
       "GTLOX        Glenmede Quant US Large Cap Core Eq    Above Average   \n",
       "FMIHX                     FMI Large Cap Investor    Below Average   \n",
       "GSRAX         Goldman Sachs Rising Dividend Gr A          Average   \n",
       "NBSRX   Neuberger Berman Sustainable Eq Investor          Average   \n",
       "FTCS            First Trust Capital Strength ETF          Average   \n",
       "POSKX                     PRIMECAP Odyssey Stock    Above Average   \n",
       "TFFYX                       Touchstone Focused Y    Above Average   \n",
       "REQEX           Russell Inv Sustainable Equity E              Low   \n",
       "...                                          ...              ...   \n",
       "MGRSX           MassMutual Select Growth Opps R5    Above Average   \n",
       "ADCIX      American Century Disciplined Growth I    Below Average   \n",
       "FVDFX                  Fidelity® Value Discovery          Average   \n",
       "BIGRX     American Century Income and Growth Inv    Below Average   \n",
       "VCIGX             VALIC Company I Dividend Value    Below Average   \n",
       "SSHFX                       Sound Shore Investor    Above Average   \n",
       "FBCVX                  Fidelity® Blue Chip Value    Above Average   \n",
       "NNGRX                   Nuveen Large-Cap Value I             High   \n",
       "TORYX                                     Torray    Below Average   \n",
       "FDSAX            AIG Focused Dividend Strategy A          Average   \n",
       "YAFFX                     AMG Yacktman Focused N              Low   \n",
       "HRCVX           Carillon Eagle Growth & Income A    Below Average   \n",
       "AUIAX                         AB Equity Income A    Below Average   \n",
       "DODGX                          Dodge & Cox Stock    Above Average   \n",
       "HDGYX             Hartford Dividend and Growth Y    Below Average   \n",
       "BRLVX     American Beacon Bridgeway Lg Cp Val R5    Above Average   \n",
       "BEGIX       Sterling Capital Equity Income Instl          Average   \n",
       "FDGFX                  Fidelity® Dividend Growth    Above Average   \n",
       "SMVLX                       Smead Value Investor    Above Average   \n",
       "DHLAX                   Diamond Hill Large Cap A    Above Average   \n",
       "CVFCX                Pioneer Disciplined Value A          Average   \n",
       "OFALX                    Olstein All Cap Value C    Above Average   \n",
       "SAIFX              ClearBridge Large Cap Value I    Below Average   \n",
       "HIADX        Hartford Dividend and Growth HLS IA    Below Average   \n",
       "GMUEX                          GMO US Equity III    Below Average   \n",
       "FDGIX        Fidelity Advisor® Dividend Growth I    Above Average   \n",
       "YACKX                             AMG Yacktman I              Low   \n",
       "GSFTX              Columbia Dividend Income Inst              Low   \n",
       "NSEIX                   Nicholas Equity Income I    Below Average   \n",
       "PKW                Invesco BuyBack Achievers ETF    Above Average   \n",
       "\n",
       "        Morningstar Rating Fund Category  \n",
       "Ticker                                    \n",
       "MXXVX                  2.0   Large Blend  \n",
       "PARNX                  2.0   Large Blend  \n",
       "SENCX                  5.0   Large Blend  \n",
       "PRBLX                  5.0   Large Blend  \n",
       "VDIGX                  5.0   Large Blend  \n",
       "HSTAX                  5.0   Large Blend  \n",
       "DSI                    4.0   Large Blend  \n",
       "PIOTX                  3.0   Large Blend  \n",
       "TISCX                  3.0   Large Blend  \n",
       "DSEFX                  3.0   Large Blend  \n",
       "VCSRX                  4.0   Large Blend  \n",
       "LEVIX                  3.0   Large Blend  \n",
       "GQEFX                  5.0   Large Blend  \n",
       "NSBRX                  4.0   Large Blend  \n",
       "MITTX                  4.0   Large Blend  \n",
       "MSIGX                  3.0   Large Blend  \n",
       "FDEQX                  3.0   Large Blend  \n",
       "SUSA                   4.0   Large Blend  \n",
       "SHAPX                  4.0   Large Blend  \n",
       "OARDX                  2.0   Large Blend  \n",
       "SRVEX                  2.0   Large Blend  \n",
       "MFVSX                  3.0   Large Blend  \n",
       "GTLOX                  3.0   Large Blend  \n",
       "FMIHX                  2.0   Large Blend  \n",
       "GSRAX                  2.0   Large Blend  \n",
       "NBSRX                  2.0   Large Blend  \n",
       "FTCS                   4.0   Large Blend  \n",
       "POSKX                  3.0   Large Blend  \n",
       "TFFYX                  3.0   Large Blend  \n",
       "REQEX                  4.0   Large Blend  \n",
       "...                    ...           ...  \n",
       "MGRSX                  4.0  Large Growth  \n",
       "ADCIX                  4.0  Large Growth  \n",
       "FVDFX                  3.0   Large Value  \n",
       "BIGRX                  4.0   Large Value  \n",
       "VCIGX                  4.0   Large Value  \n",
       "SSHFX                  2.0   Large Value  \n",
       "FBCVX                  2.0   Large Value  \n",
       "NNGRX                  2.0   Large Value  \n",
       "TORYX                  2.0   Large Value  \n",
       "FDSAX                  3.0   Large Value  \n",
       "YAFFX                  5.0   Large Value  \n",
       "HRCVX                  5.0   Large Value  \n",
       "AUIAX                  4.0   Large Value  \n",
       "DODGX                  3.0   Large Value  \n",
       "HDGYX                  5.0   Large Value  \n",
       "BRLVX                  3.0   Large Value  \n",
       "BEGIX                  4.0   Large Value  \n",
       "FDGFX                  3.0   Large Value  \n",
       "SMVLX                  4.0   Large Value  \n",
       "DHLAX                  4.0   Large Value  \n",
       "CVFCX                  3.0   Large Value  \n",
       "OFALX                  2.0   Large Value  \n",
       "SAIFX                  4.0   Large Value  \n",
       "HIADX                  5.0   Large Value  \n",
       "GMUEX                  5.0   Large Value  \n",
       "FDGIX                  3.0   Large Value  \n",
       "YACKX                  5.0   Large Value  \n",
       "GSFTX                  5.0   Large Value  \n",
       "NSEIX                  4.0   Large Value  \n",
       "PKW                    4.0   Large Value  \n",
       "\n",
       "[129 rows x 4 columns]"
      ]
     },
     "execution_count": 37,
     "metadata": {},
     "output_type": "execute_result"
    }
   ],
   "source": [
    "character_df.sort_values(\"Fund Category\")"
   ]
  },
  {
   "cell_type": "markdown",
   "metadata": {},
   "source": [
    "## Find Categories of Funds"
   ]
  },
  {
   "cell_type": "code",
   "execution_count": 38,
   "metadata": {},
   "outputs": [
    {
     "data": {
      "text/html": [
       "<div>\n",
       "<style scoped>\n",
       "    .dataframe tbody tr th:only-of-type {\n",
       "        vertical-align: middle;\n",
       "    }\n",
       "\n",
       "    .dataframe tbody tr th {\n",
       "        vertical-align: top;\n",
       "    }\n",
       "\n",
       "    .dataframe thead th {\n",
       "        text-align: right;\n",
       "    }\n",
       "</style>\n",
       "<table border=\"1\" class=\"dataframe\">\n",
       "  <thead>\n",
       "    <tr style=\"text-align: right;\">\n",
       "      <th></th>\n",
       "      <th>Name</th>\n",
       "      <th>Morningstar Risk</th>\n",
       "      <th>Fund Category</th>\n",
       "    </tr>\n",
       "    <tr>\n",
       "      <th>Ticker</th>\n",
       "      <th></th>\n",
       "      <th></th>\n",
       "      <th></th>\n",
       "    </tr>\n",
       "  </thead>\n",
       "  <tbody>\n",
       "    <tr>\n",
       "      <th>MXXVX</th>\n",
       "      <td>Matthew 25</td>\n",
       "      <td>High</td>\n",
       "      <td>Large Blend</td>\n",
       "    </tr>\n",
       "    <tr>\n",
       "      <th>PARNX</th>\n",
       "      <td>Parnassus Mid Cap Growth Investor</td>\n",
       "      <td>Above Average</td>\n",
       "      <td>Large Blend</td>\n",
       "    </tr>\n",
       "    <tr>\n",
       "      <th>SENCX</th>\n",
       "      <td>Touchstone Large Cap Focused A</td>\n",
       "      <td>Below Average</td>\n",
       "      <td>Large Blend</td>\n",
       "    </tr>\n",
       "    <tr>\n",
       "      <th>PRBLX</th>\n",
       "      <td>Parnassus Core Equity Investor</td>\n",
       "      <td>Low</td>\n",
       "      <td>Large Blend</td>\n",
       "    </tr>\n",
       "    <tr>\n",
       "      <th>VDIGX</th>\n",
       "      <td>Vanguard Dividend Growth Inv</td>\n",
       "      <td>Low</td>\n",
       "      <td>Large Blend</td>\n",
       "    </tr>\n",
       "  </tbody>\n",
       "</table>\n",
       "</div>"
      ],
      "text/plain": [
       "                                     Name Morningstar Risk Fund Category\n",
       "Ticker                                                                  \n",
       "MXXVX                          Matthew 25             High   Large Blend\n",
       "PARNX   Parnassus Mid Cap Growth Investor    Above Average   Large Blend\n",
       "SENCX      Touchstone Large Cap Focused A    Below Average   Large Blend\n",
       "PRBLX      Parnassus Core Equity Investor              Low   Large Blend\n",
       "VDIGX        Vanguard Dividend Growth Inv              Low   Large Blend"
      ]
     },
     "execution_count": 38,
     "metadata": {},
     "output_type": "execute_result"
    }
   ],
   "source": [
    "category_df = character_df.drop(columns=['Morningstar Rating']).sort_values(\"Fund Category\")\n",
    "category_df.head()"
   ]
  },
  {
   "cell_type": "code",
   "execution_count": 39,
   "metadata": {},
   "outputs": [
    {
     "data": {
      "text/html": [
       "<div>\n",
       "<style scoped>\n",
       "    .dataframe tbody tr th:only-of-type {\n",
       "        vertical-align: middle;\n",
       "    }\n",
       "\n",
       "    .dataframe tbody tr th {\n",
       "        vertical-align: top;\n",
       "    }\n",
       "\n",
       "    .dataframe thead th {\n",
       "        text-align: right;\n",
       "    }\n",
       "</style>\n",
       "<table border=\"1\" class=\"dataframe\">\n",
       "  <thead>\n",
       "    <tr style=\"text-align: right;\">\n",
       "      <th></th>\n",
       "      <th>Name</th>\n",
       "      <th>Risk</th>\n",
       "      <th>Category</th>\n",
       "    </tr>\n",
       "    <tr>\n",
       "      <th>Ticker</th>\n",
       "      <th></th>\n",
       "      <th></th>\n",
       "      <th></th>\n",
       "    </tr>\n",
       "  </thead>\n",
       "  <tbody>\n",
       "    <tr>\n",
       "      <th>MXXVX</th>\n",
       "      <td>Matthew 25</td>\n",
       "      <td>High</td>\n",
       "      <td>Large Blend</td>\n",
       "    </tr>\n",
       "    <tr>\n",
       "      <th>PARNX</th>\n",
       "      <td>Parnassus Mid Cap Growth Investor</td>\n",
       "      <td>Above Average</td>\n",
       "      <td>Large Blend</td>\n",
       "    </tr>\n",
       "    <tr>\n",
       "      <th>SENCX</th>\n",
       "      <td>Touchstone Large Cap Focused A</td>\n",
       "      <td>Below Average</td>\n",
       "      <td>Large Blend</td>\n",
       "    </tr>\n",
       "  </tbody>\n",
       "</table>\n",
       "</div>"
      ],
      "text/plain": [
       "                                     Name           Risk     Category\n",
       "Ticker                                                               \n",
       "MXXVX                          Matthew 25           High  Large Blend\n",
       "PARNX   Parnassus Mid Cap Growth Investor  Above Average  Large Blend\n",
       "SENCX      Touchstone Large Cap Focused A  Below Average  Large Blend"
      ]
     },
     "execution_count": 39,
     "metadata": {},
     "output_type": "execute_result"
    }
   ],
   "source": [
    "category_df.rename(columns={'Fund Category':'Category', 'Morningstar Risk': 'Risk'}, inplace=True)\n",
    "category_df.head(3)"
   ]
  },
  {
   "cell_type": "code",
   "execution_count": 40,
   "metadata": {},
   "outputs": [],
   "source": [
    "large_blend = category_df[category_df.Category == 'Large Blend']\n",
    "large_value = category_df[category_df.Category == 'Large Value']\n",
    "large_growth = category_df[category_df.Category == 'Large Growth']"
   ]
  },
  {
   "cell_type": "markdown",
   "metadata": {},
   "source": [
    "## Find Average Risk for each Category"
   ]
  },
  {
   "cell_type": "code",
   "execution_count": 41,
   "metadata": {},
   "outputs": [
    {
     "name": "stderr",
     "output_type": "stream",
     "text": [
      "/Users/antondiezt/opt/anaconda3/lib/python3.7/site-packages/pandas/core/generic.py:8682: SettingWithCopyWarning:\n",
      "\n",
      "\n",
      "A value is trying to be set on a copy of a slice from a DataFrame\n",
      "\n",
      "See the caveats in the documentation: http://pandas.pydata.org/pandas-docs/stable/indexing.html#indexing-view-versus-copy\n",
      "\n",
      "/Users/antondiezt/opt/anaconda3/lib/python3.7/site-packages/IPython/core/interactiveshell.py:3331: SettingWithCopyWarning:\n",
      "\n",
      "\n",
      "A value is trying to be set on a copy of a slice from a DataFrame\n",
      "\n",
      "See the caveats in the documentation: http://pandas.pydata.org/pandas-docs/stable/indexing.html#indexing-view-versus-copy\n",
      "\n"
     ]
    }
   ],
   "source": [
    "# Replacing the Risks with Integers and calculating average risk for each category type\n",
    "\n",
    "large_blend.Risk[large_blend.Risk == 'Low'] = 0\n",
    "large_blend.Risk[large_blend.Risk == 'Below Average'] = 1\n",
    "large_blend.Risk[large_blend.Risk == 'Average'] = 2\n",
    "large_blend.Risk[large_blend.Risk == 'Above Average'] = 3\n",
    "large_blend.Risk[large_blend.Risk == 'High'] = 4"
   ]
  },
  {
   "cell_type": "code",
   "execution_count": 42,
   "metadata": {},
   "outputs": [],
   "source": [
    "pie_blend = large_blend[\"Risk\"].mean()"
   ]
  },
  {
   "cell_type": "code",
   "execution_count": 43,
   "metadata": {},
   "outputs": [],
   "source": [
    "large_value.Risk[large_value.Risk == 'Low'] = 0\n",
    "large_value.Risk[large_value.Risk == 'Below Average'] = 1\n",
    "large_value.Risk[large_value.Risk == 'Average'] = 2\n",
    "large_value.Risk[large_value.Risk == 'Above Average'] = 3\n",
    "large_value.Risk[large_value.Risk == 'High'] = 4"
   ]
  },
  {
   "cell_type": "code",
   "execution_count": 44,
   "metadata": {},
   "outputs": [],
   "source": [
    "pie_value = large_value[\"Risk\"].mean()"
   ]
  },
  {
   "cell_type": "code",
   "execution_count": 45,
   "metadata": {},
   "outputs": [],
   "source": [
    "large_growth.Risk[large_growth.Risk == 'Low'] = 0\n",
    "large_growth.Risk[large_growth.Risk == 'Below Average'] = 1\n",
    "large_growth.Risk[large_growth.Risk == 'Average'] = 2\n",
    "large_growth.Risk[large_growth.Risk == 'Above Average'] = 3\n",
    "large_growth.Risk[large_growth.Risk == 'High'] = 4"
   ]
  },
  {
   "cell_type": "code",
   "execution_count": 46,
   "metadata": {},
   "outputs": [],
   "source": [
    "pie_growth = large_growth[\"Risk\"].mean()"
   ]
  },
  {
   "cell_type": "code",
   "execution_count": 47,
   "metadata": {},
   "outputs": [],
   "source": [
    "#Create Dataframe with Fund Categories and average risk for plotting\n",
    "\n",
    "risk_category_df=pd.DataFrame({'Category':['Large Blend', 'Large Value','Large Growth'],'Average Risk':[pie_blend,pie_value,pie_growth]})"
   ]
  },
  {
   "cell_type": "code",
   "execution_count": 48,
   "metadata": {},
   "outputs": [
    {
     "data": {
      "text/html": [
       "<div>\n",
       "<style scoped>\n",
       "    .dataframe tbody tr th:only-of-type {\n",
       "        vertical-align: middle;\n",
       "    }\n",
       "\n",
       "    .dataframe tbody tr th {\n",
       "        vertical-align: top;\n",
       "    }\n",
       "\n",
       "    .dataframe thead th {\n",
       "        text-align: right;\n",
       "    }\n",
       "</style>\n",
       "<table border=\"1\" class=\"dataframe\">\n",
       "  <thead>\n",
       "    <tr style=\"text-align: right;\">\n",
       "      <th></th>\n",
       "      <th>Average Risk</th>\n",
       "    </tr>\n",
       "    <tr>\n",
       "      <th>Category</th>\n",
       "      <th></th>\n",
       "    </tr>\n",
       "  </thead>\n",
       "  <tbody>\n",
       "    <tr>\n",
       "      <th>Large Blend</th>\n",
       "      <td>1.960784</td>\n",
       "    </tr>\n",
       "    <tr>\n",
       "      <th>Large Value</th>\n",
       "      <td>1.857143</td>\n",
       "    </tr>\n",
       "    <tr>\n",
       "      <th>Large Growth</th>\n",
       "      <td>1.780000</td>\n",
       "    </tr>\n",
       "  </tbody>\n",
       "</table>\n",
       "</div>"
      ],
      "text/plain": [
       "              Average Risk\n",
       "Category                  \n",
       "Large Blend       1.960784\n",
       "Large Value       1.857143\n",
       "Large Growth      1.780000"
      ]
     },
     "execution_count": 48,
     "metadata": {},
     "output_type": "execute_result"
    }
   ],
   "source": [
    "risk_graph = risk_category_df.set_index(\"Category\")\n",
    "risk_graph"
   ]
  },
  {
   "cell_type": "code",
   "execution_count": 49,
   "metadata": {},
   "outputs": [
    {
     "data": {},
     "metadata": {},
     "output_type": "display_data"
    },
    {
     "data": {
      "application/vnd.holoviews_exec.v0+json": "",
      "text/html": [
       "<div id='1628'>\n",
       "\n",
       "\n",
       "\n",
       "\n",
       "\n",
       "  <div class=\"bk-root\" id=\"46988952-b8f1-452e-8754-9d0a328ad584\" data-root-id=\"1628\"></div>\n",
       "</div>\n",
       "<script type=\"application/javascript\">(function(root) {\n",
       "  function embed_document(root) {\n",
       "  var docs_json = {\"f8730401-ff80-48b4-960e-f2328e0adf2e\":{\"roots\":{\"references\":[{\"attributes\":{\"margin\":[5,5,5,5],\"name\":\"HSpacer01855\",\"sizing_mode\":\"stretch_width\"},\"id\":\"1629\",\"type\":\"Spacer\"},{\"attributes\":{\"axis_label\":\"Category\",\"bounds\":\"auto\",\"formatter\":{\"id\":\"1670\"},\"major_label_orientation\":\"horizontal\",\"ticker\":{\"id\":\"1643\"}},\"id\":\"1642\",\"type\":\"CategoricalAxis\"},{\"attributes\":{\"overlay\":{\"id\":\"1654\"}},\"id\":\"1652\",\"type\":\"BoxZoomTool\"},{\"attributes\":{},\"id\":\"1653\",\"type\":\"ResetTool\"},{\"attributes\":{},\"id\":\"1638\",\"type\":\"CategoricalScale\"},{\"attributes\":{\"fill_color\":{\"value\":\"#1f77b3\"},\"top\":{\"field\":\"Average_Risk\"},\"width\":{\"value\":0.8},\"x\":{\"field\":\"Category\"}},\"id\":\"1665\",\"type\":\"VBar\"},{\"attributes\":{\"callback\":null,\"renderers\":[{\"id\":\"1668\"}],\"tags\":[\"hv_created\"],\"tooltips\":[[\"Category\",\"@{Category}\"],[\"Average Risk\",\"@{Average_Risk}\"]]},\"id\":\"1632\",\"type\":\"HoverTool\"},{\"attributes\":{},\"id\":\"1643\",\"type\":\"CategoricalTicker\"},{\"attributes\":{\"axis_label\":\"Average Risk\",\"bounds\":\"auto\",\"formatter\":{\"id\":\"1672\"},\"major_label_orientation\":\"horizontal\",\"ticker\":{\"id\":\"1646\"}},\"id\":\"1645\",\"type\":\"LinearAxis\"},{\"attributes\":{},\"id\":\"1663\",\"type\":\"Selection\"},{\"attributes\":{\"data\":{\"Average_Risk\":{\"__ndarray__\":\"X19fX19f/z9u27Zt27b9P3sUrkfhevw/\",\"dtype\":\"float64\",\"shape\":[3]},\"Category\":[\"Large Blend\",\"Large Value\",\"Large Growth\"]},\"selected\":{\"id\":\"1663\"},\"selection_policy\":{\"id\":\"1681\"}},\"id\":\"1662\",\"type\":\"ColumnDataSource\"},{\"attributes\":{\"end\":1.9788627450980392,\"reset_end\":1.9788627450980392,\"reset_start\":0.0,\"tags\":[[[\"Average Risk\",\"Average Risk\",null]]]},\"id\":\"1631\",\"type\":\"Range1d\"},{\"attributes\":{\"bottom_units\":\"screen\",\"fill_alpha\":0.5,\"fill_color\":\"lightgrey\",\"left_units\":\"screen\",\"level\":\"overlay\",\"line_alpha\":1.0,\"line_color\":\"black\",\"line_dash\":[4,4],\"line_width\":2,\"render_mode\":\"css\",\"right_units\":\"screen\",\"top_units\":\"screen\"},\"id\":\"1654\",\"type\":\"BoxAnnotation\"},{\"attributes\":{\"align\":null,\"below\":[{\"id\":\"1642\"}],\"center\":[{\"id\":\"1644\"},{\"id\":\"1648\"}],\"left\":[{\"id\":\"1645\"}],\"margin\":null,\"min_border_bottom\":10,\"min_border_left\":10,\"min_border_right\":10,\"min_border_top\":10,\"plot_height\":400,\"plot_width\":700,\"renderers\":[{\"id\":\"1668\"}],\"sizing_mode\":\"fixed\",\"title\":{\"id\":\"1634\"},\"toolbar\":{\"id\":\"1655\"},\"x_range\":{\"id\":\"1630\"},\"x_scale\":{\"id\":\"1638\"},\"y_range\":{\"id\":\"1631\"},\"y_scale\":{\"id\":\"1640\"}},\"id\":\"1633\",\"subtype\":\"Figure\",\"type\":\"Plot\"},{\"attributes\":{\"data_source\":{\"id\":\"1662\"},\"glyph\":{\"id\":\"1665\"},\"hover_glyph\":null,\"muted_glyph\":{\"id\":\"1667\"},\"nonselection_glyph\":{\"id\":\"1666\"},\"selection_glyph\":null,\"view\":{\"id\":\"1669\"}},\"id\":\"1668\",\"type\":\"GlyphRenderer\"},{\"attributes\":{},\"id\":\"1649\",\"type\":\"SaveTool\"},{\"attributes\":{},\"id\":\"1681\",\"type\":\"UnionRenderers\"},{\"attributes\":{\"children\":[{\"id\":\"1629\"},{\"id\":\"1633\"},{\"id\":\"1682\"}],\"margin\":[0,0,0,0],\"name\":\"Row01851\",\"tags\":[\"embedded\"]},\"id\":\"1628\",\"type\":\"Row\"},{\"attributes\":{},\"id\":\"1670\",\"type\":\"CategoricalTickFormatter\"},{\"attributes\":{\"fill_alpha\":{\"value\":0.2},\"fill_color\":{\"value\":\"#1f77b3\"},\"line_alpha\":{\"value\":0.2},\"top\":{\"field\":\"Average_Risk\"},\"width\":{\"value\":0.8},\"x\":{\"field\":\"Category\"}},\"id\":\"1667\",\"type\":\"VBar\"},{\"attributes\":{},\"id\":\"1650\",\"type\":\"PanTool\"},{\"attributes\":{},\"id\":\"1640\",\"type\":\"LinearScale\"},{\"attributes\":{\"active_drag\":\"auto\",\"active_inspect\":\"auto\",\"active_multi\":null,\"active_scroll\":\"auto\",\"active_tap\":\"auto\",\"tools\":[{\"id\":\"1632\"},{\"id\":\"1649\"},{\"id\":\"1650\"},{\"id\":\"1651\"},{\"id\":\"1652\"},{\"id\":\"1653\"}]},\"id\":\"1655\",\"type\":\"Toolbar\"},{\"attributes\":{},\"id\":\"1651\",\"type\":\"WheelZoomTool\"},{\"attributes\":{},\"id\":\"1672\",\"type\":\"BasicTickFormatter\"},{\"attributes\":{\"factors\":[\"Large Blend\",\"Large Value\",\"Large Growth\"],\"tags\":[[[\"Category\",\"Category\",null]]]},\"id\":\"1630\",\"type\":\"FactorRange\"},{\"attributes\":{},\"id\":\"1646\",\"type\":\"BasicTicker\"},{\"attributes\":{\"text\":\"Average Risk per Fund Category\",\"text_color\":{\"value\":\"black\"},\"text_font_size\":{\"value\":\"12pt\"}},\"id\":\"1634\",\"type\":\"Title\"},{\"attributes\":{\"axis\":{\"id\":\"1642\"},\"grid_line_color\":null,\"ticker\":null},\"id\":\"1644\",\"type\":\"Grid\"},{\"attributes\":{\"axis\":{\"id\":\"1645\"},\"dimension\":1,\"grid_line_color\":null,\"ticker\":null},\"id\":\"1648\",\"type\":\"Grid\"},{\"attributes\":{\"source\":{\"id\":\"1662\"}},\"id\":\"1669\",\"type\":\"CDSView\"},{\"attributes\":{\"fill_alpha\":{\"value\":0.1},\"fill_color\":{\"value\":\"#1f77b3\"},\"line_alpha\":{\"value\":0.1},\"top\":{\"field\":\"Average_Risk\"},\"width\":{\"value\":0.8},\"x\":{\"field\":\"Category\"}},\"id\":\"1666\",\"type\":\"VBar\"},{\"attributes\":{\"margin\":[5,5,5,5],\"name\":\"HSpacer01856\",\"sizing_mode\":\"stretch_width\"},\"id\":\"1682\",\"type\":\"Spacer\"}],\"root_ids\":[\"1628\"]},\"title\":\"Bokeh Application\",\"version\":\"2.0.1\"}};\n",
       "  var render_items = [{\"docid\":\"f8730401-ff80-48b4-960e-f2328e0adf2e\",\"root_ids\":[\"1628\"],\"roots\":{\"1628\":\"46988952-b8f1-452e-8754-9d0a328ad584\"}}];\n",
       "  root.Bokeh.embed.embed_items_notebook(docs_json, render_items);\n",
       "  }\n",
       "if (root.Bokeh !== undefined) {\n",
       "    embed_document(root);\n",
       "  } else {\n",
       "    var attempts = 0;\n",
       "    var timer = setInterval(function(root) {\n",
       "      if (root.Bokeh !== undefined) {\n",
       "        clearInterval(timer);\n",
       "        embed_document(root);\n",
       "      } else if (document.readyState == \"complete\") {\n",
       "        attempts++;\n",
       "        if (attempts > 100) {\n",
       "          clearInterval(timer);\n",
       "          console.log(\"Bokeh: ERROR: Unable to run BokehJS code because BokehJS library is missing\");\n",
       "        }\n",
       "      }\n",
       "    }, 10, root)\n",
       "  }\n",
       "})(window);</script>"
      ],
      "text/plain": [
       ":Bars   [Category]   (Average Risk)"
      ]
     },
     "execution_count": 49,
     "metadata": {
      "application/vnd.holoviews_exec.v0+json": {
       "id": "1628"
      }
     },
     "output_type": "execute_result"
    }
   ],
   "source": [
    "risk_plot = risk_graph.hvplot.bar(x='Category', y='Average Risk', label =\"Average Risk per Fund Category\", height=400, use_index=True)\n",
    "risk_plot"
   ]
  },
  {
   "cell_type": "markdown",
   "metadata": {},
   "source": [
    "# Find the % of each fund category with all funds"
   ]
  },
  {
   "cell_type": "code",
   "execution_count": 50,
   "metadata": {},
   "outputs": [
    {
     "data": {
      "text/html": [
       "<div>\n",
       "<style scoped>\n",
       "    .dataframe tbody tr th:only-of-type {\n",
       "        vertical-align: middle;\n",
       "    }\n",
       "\n",
       "    .dataframe tbody tr th {\n",
       "        vertical-align: top;\n",
       "    }\n",
       "\n",
       "    .dataframe thead th {\n",
       "        text-align: right;\n",
       "    }\n",
       "</style>\n",
       "<table border=\"1\" class=\"dataframe\">\n",
       "  <thead>\n",
       "    <tr style=\"text-align: right;\">\n",
       "      <th></th>\n",
       "      <th>Category</th>\n",
       "    </tr>\n",
       "    <tr>\n",
       "      <th>Ticker</th>\n",
       "      <th></th>\n",
       "    </tr>\n",
       "  </thead>\n",
       "  <tbody>\n",
       "    <tr>\n",
       "      <th>MXXVX</th>\n",
       "      <td>Large Blend</td>\n",
       "    </tr>\n",
       "    <tr>\n",
       "      <th>TFFYX</th>\n",
       "      <td>Large Blend</td>\n",
       "    </tr>\n",
       "    <tr>\n",
       "      <th>REQEX</th>\n",
       "      <td>Large Blend</td>\n",
       "    </tr>\n",
       "    <tr>\n",
       "      <th>GESSX</th>\n",
       "      <td>Large Blend</td>\n",
       "    </tr>\n",
       "    <tr>\n",
       "      <th>AVEDX</th>\n",
       "      <td>Large Blend</td>\n",
       "    </tr>\n",
       "  </tbody>\n",
       "</table>\n",
       "</div>"
      ],
      "text/plain": [
       "           Category\n",
       "Ticker             \n",
       "MXXVX   Large Blend\n",
       "TFFYX   Large Blend\n",
       "REQEX   Large Blend\n",
       "GESSX   Large Blend\n",
       "AVEDX   Large Blend"
      ]
     },
     "execution_count": 50,
     "metadata": {},
     "output_type": "execute_result"
    }
   ],
   "source": [
    "perc_cat_fund = category_df.drop(columns=['Risk','Name']).sort_values(\"Category\")\n",
    "perc_cat_fund.head()"
   ]
  },
  {
   "cell_type": "code",
   "execution_count": 61,
   "metadata": {},
   "outputs": [
    {
     "data": {
      "application/vnd.plotly.v1+json": {
       "config": {
        "plotlyServerURL": "https://plot.ly"
       },
       "data": [
        {
         "labels": [
          "Large Blend",
          "Large Growth",
          "Large Value"
         ],
         "textinfo": "label+percent",
         "title": {
          "text": "Fund categories"
         },
         "type": "pie",
         "values": [
          51,
          50,
          28
         ]
        }
       ],
       "layout": {
        "autosize": true,
        "template": {
         "data": {
          "bar": [
           {
            "error_x": {
             "color": "#2a3f5f"
            },
            "error_y": {
             "color": "#2a3f5f"
            },
            "marker": {
             "line": {
              "color": "#E5ECF6",
              "width": 0.5
             }
            },
            "type": "bar"
           }
          ],
          "barpolar": [
           {
            "marker": {
             "line": {
              "color": "#E5ECF6",
              "width": 0.5
             }
            },
            "type": "barpolar"
           }
          ],
          "carpet": [
           {
            "aaxis": {
             "endlinecolor": "#2a3f5f",
             "gridcolor": "white",
             "linecolor": "white",
             "minorgridcolor": "white",
             "startlinecolor": "#2a3f5f"
            },
            "baxis": {
             "endlinecolor": "#2a3f5f",
             "gridcolor": "white",
             "linecolor": "white",
             "minorgridcolor": "white",
             "startlinecolor": "#2a3f5f"
            },
            "type": "carpet"
           }
          ],
          "choropleth": [
           {
            "colorbar": {
             "outlinewidth": 0,
             "ticks": ""
            },
            "type": "choropleth"
           }
          ],
          "contour": [
           {
            "colorbar": {
             "outlinewidth": 0,
             "ticks": ""
            },
            "colorscale": [
             [
              0,
              "#0d0887"
             ],
             [
              0.1111111111111111,
              "#46039f"
             ],
             [
              0.2222222222222222,
              "#7201a8"
             ],
             [
              0.3333333333333333,
              "#9c179e"
             ],
             [
              0.4444444444444444,
              "#bd3786"
             ],
             [
              0.5555555555555556,
              "#d8576b"
             ],
             [
              0.6666666666666666,
              "#ed7953"
             ],
             [
              0.7777777777777778,
              "#fb9f3a"
             ],
             [
              0.8888888888888888,
              "#fdca26"
             ],
             [
              1,
              "#f0f921"
             ]
            ],
            "type": "contour"
           }
          ],
          "contourcarpet": [
           {
            "colorbar": {
             "outlinewidth": 0,
             "ticks": ""
            },
            "type": "contourcarpet"
           }
          ],
          "heatmap": [
           {
            "colorbar": {
             "outlinewidth": 0,
             "ticks": ""
            },
            "colorscale": [
             [
              0,
              "#0d0887"
             ],
             [
              0.1111111111111111,
              "#46039f"
             ],
             [
              0.2222222222222222,
              "#7201a8"
             ],
             [
              0.3333333333333333,
              "#9c179e"
             ],
             [
              0.4444444444444444,
              "#bd3786"
             ],
             [
              0.5555555555555556,
              "#d8576b"
             ],
             [
              0.6666666666666666,
              "#ed7953"
             ],
             [
              0.7777777777777778,
              "#fb9f3a"
             ],
             [
              0.8888888888888888,
              "#fdca26"
             ],
             [
              1,
              "#f0f921"
             ]
            ],
            "type": "heatmap"
           }
          ],
          "heatmapgl": [
           {
            "colorbar": {
             "outlinewidth": 0,
             "ticks": ""
            },
            "colorscale": [
             [
              0,
              "#0d0887"
             ],
             [
              0.1111111111111111,
              "#46039f"
             ],
             [
              0.2222222222222222,
              "#7201a8"
             ],
             [
              0.3333333333333333,
              "#9c179e"
             ],
             [
              0.4444444444444444,
              "#bd3786"
             ],
             [
              0.5555555555555556,
              "#d8576b"
             ],
             [
              0.6666666666666666,
              "#ed7953"
             ],
             [
              0.7777777777777778,
              "#fb9f3a"
             ],
             [
              0.8888888888888888,
              "#fdca26"
             ],
             [
              1,
              "#f0f921"
             ]
            ],
            "type": "heatmapgl"
           }
          ],
          "histogram": [
           {
            "marker": {
             "colorbar": {
              "outlinewidth": 0,
              "ticks": ""
             }
            },
            "type": "histogram"
           }
          ],
          "histogram2d": [
           {
            "colorbar": {
             "outlinewidth": 0,
             "ticks": ""
            },
            "colorscale": [
             [
              0,
              "#0d0887"
             ],
             [
              0.1111111111111111,
              "#46039f"
             ],
             [
              0.2222222222222222,
              "#7201a8"
             ],
             [
              0.3333333333333333,
              "#9c179e"
             ],
             [
              0.4444444444444444,
              "#bd3786"
             ],
             [
              0.5555555555555556,
              "#d8576b"
             ],
             [
              0.6666666666666666,
              "#ed7953"
             ],
             [
              0.7777777777777778,
              "#fb9f3a"
             ],
             [
              0.8888888888888888,
              "#fdca26"
             ],
             [
              1,
              "#f0f921"
             ]
            ],
            "type": "histogram2d"
           }
          ],
          "histogram2dcontour": [
           {
            "colorbar": {
             "outlinewidth": 0,
             "ticks": ""
            },
            "colorscale": [
             [
              0,
              "#0d0887"
             ],
             [
              0.1111111111111111,
              "#46039f"
             ],
             [
              0.2222222222222222,
              "#7201a8"
             ],
             [
              0.3333333333333333,
              "#9c179e"
             ],
             [
              0.4444444444444444,
              "#bd3786"
             ],
             [
              0.5555555555555556,
              "#d8576b"
             ],
             [
              0.6666666666666666,
              "#ed7953"
             ],
             [
              0.7777777777777778,
              "#fb9f3a"
             ],
             [
              0.8888888888888888,
              "#fdca26"
             ],
             [
              1,
              "#f0f921"
             ]
            ],
            "type": "histogram2dcontour"
           }
          ],
          "mesh3d": [
           {
            "colorbar": {
             "outlinewidth": 0,
             "ticks": ""
            },
            "type": "mesh3d"
           }
          ],
          "parcoords": [
           {
            "line": {
             "colorbar": {
              "outlinewidth": 0,
              "ticks": ""
             }
            },
            "type": "parcoords"
           }
          ],
          "pie": [
           {
            "automargin": true,
            "type": "pie"
           }
          ],
          "scatter": [
           {
            "marker": {
             "colorbar": {
              "outlinewidth": 0,
              "ticks": ""
             }
            },
            "type": "scatter"
           }
          ],
          "scatter3d": [
           {
            "line": {
             "colorbar": {
              "outlinewidth": 0,
              "ticks": ""
             }
            },
            "marker": {
             "colorbar": {
              "outlinewidth": 0,
              "ticks": ""
             }
            },
            "type": "scatter3d"
           }
          ],
          "scattercarpet": [
           {
            "marker": {
             "colorbar": {
              "outlinewidth": 0,
              "ticks": ""
             }
            },
            "type": "scattercarpet"
           }
          ],
          "scattergeo": [
           {
            "marker": {
             "colorbar": {
              "outlinewidth": 0,
              "ticks": ""
             }
            },
            "type": "scattergeo"
           }
          ],
          "scattergl": [
           {
            "marker": {
             "colorbar": {
              "outlinewidth": 0,
              "ticks": ""
             }
            },
            "type": "scattergl"
           }
          ],
          "scattermapbox": [
           {
            "marker": {
             "colorbar": {
              "outlinewidth": 0,
              "ticks": ""
             }
            },
            "type": "scattermapbox"
           }
          ],
          "scatterpolar": [
           {
            "marker": {
             "colorbar": {
              "outlinewidth": 0,
              "ticks": ""
             }
            },
            "type": "scatterpolar"
           }
          ],
          "scatterpolargl": [
           {
            "marker": {
             "colorbar": {
              "outlinewidth": 0,
              "ticks": ""
             }
            },
            "type": "scatterpolargl"
           }
          ],
          "scatterternary": [
           {
            "marker": {
             "colorbar": {
              "outlinewidth": 0,
              "ticks": ""
             }
            },
            "type": "scatterternary"
           }
          ],
          "surface": [
           {
            "colorbar": {
             "outlinewidth": 0,
             "ticks": ""
            },
            "colorscale": [
             [
              0,
              "#0d0887"
             ],
             [
              0.1111111111111111,
              "#46039f"
             ],
             [
              0.2222222222222222,
              "#7201a8"
             ],
             [
              0.3333333333333333,
              "#9c179e"
             ],
             [
              0.4444444444444444,
              "#bd3786"
             ],
             [
              0.5555555555555556,
              "#d8576b"
             ],
             [
              0.6666666666666666,
              "#ed7953"
             ],
             [
              0.7777777777777778,
              "#fb9f3a"
             ],
             [
              0.8888888888888888,
              "#fdca26"
             ],
             [
              1,
              "#f0f921"
             ]
            ],
            "type": "surface"
           }
          ],
          "table": [
           {
            "cells": {
             "fill": {
              "color": "#EBF0F8"
             },
             "line": {
              "color": "white"
             }
            },
            "header": {
             "fill": {
              "color": "#C8D4E3"
             },
             "line": {
              "color": "white"
             }
            },
            "type": "table"
           }
          ]
         },
         "layout": {
          "annotationdefaults": {
           "arrowcolor": "#2a3f5f",
           "arrowhead": 0,
           "arrowwidth": 1
          },
          "coloraxis": {
           "colorbar": {
            "outlinewidth": 0,
            "ticks": ""
           }
          },
          "colorscale": {
           "diverging": [
            [
             0,
             "#8e0152"
            ],
            [
             0.1,
             "#c51b7d"
            ],
            [
             0.2,
             "#de77ae"
            ],
            [
             0.3,
             "#f1b6da"
            ],
            [
             0.4,
             "#fde0ef"
            ],
            [
             0.5,
             "#f7f7f7"
            ],
            [
             0.6,
             "#e6f5d0"
            ],
            [
             0.7,
             "#b8e186"
            ],
            [
             0.8,
             "#7fbc41"
            ],
            [
             0.9,
             "#4d9221"
            ],
            [
             1,
             "#276419"
            ]
           ],
           "sequential": [
            [
             0,
             "#0d0887"
            ],
            [
             0.1111111111111111,
             "#46039f"
            ],
            [
             0.2222222222222222,
             "#7201a8"
            ],
            [
             0.3333333333333333,
             "#9c179e"
            ],
            [
             0.4444444444444444,
             "#bd3786"
            ],
            [
             0.5555555555555556,
             "#d8576b"
            ],
            [
             0.6666666666666666,
             "#ed7953"
            ],
            [
             0.7777777777777778,
             "#fb9f3a"
            ],
            [
             0.8888888888888888,
             "#fdca26"
            ],
            [
             1,
             "#f0f921"
            ]
           ],
           "sequentialminus": [
            [
             0,
             "#0d0887"
            ],
            [
             0.1111111111111111,
             "#46039f"
            ],
            [
             0.2222222222222222,
             "#7201a8"
            ],
            [
             0.3333333333333333,
             "#9c179e"
            ],
            [
             0.4444444444444444,
             "#bd3786"
            ],
            [
             0.5555555555555556,
             "#d8576b"
            ],
            [
             0.6666666666666666,
             "#ed7953"
            ],
            [
             0.7777777777777778,
             "#fb9f3a"
            ],
            [
             0.8888888888888888,
             "#fdca26"
            ],
            [
             1,
             "#f0f921"
            ]
           ]
          },
          "colorway": [
           "#636efa",
           "#EF553B",
           "#00cc96",
           "#ab63fa",
           "#FFA15A",
           "#19d3f3",
           "#FF6692",
           "#B6E880",
           "#FF97FF",
           "#FECB52"
          ],
          "font": {
           "color": "#2a3f5f"
          },
          "geo": {
           "bgcolor": "white",
           "lakecolor": "white",
           "landcolor": "#E5ECF6",
           "showlakes": true,
           "showland": true,
           "subunitcolor": "white"
          },
          "hoverlabel": {
           "align": "left"
          },
          "hovermode": "closest",
          "mapbox": {
           "style": "light"
          },
          "paper_bgcolor": "white",
          "plot_bgcolor": "#E5ECF6",
          "polar": {
           "angularaxis": {
            "gridcolor": "white",
            "linecolor": "white",
            "ticks": ""
           },
           "bgcolor": "#E5ECF6",
           "radialaxis": {
            "gridcolor": "white",
            "linecolor": "white",
            "ticks": ""
           }
          },
          "scene": {
           "xaxis": {
            "backgroundcolor": "#E5ECF6",
            "gridcolor": "white",
            "gridwidth": 2,
            "linecolor": "white",
            "showbackground": true,
            "ticks": "",
            "zerolinecolor": "white"
           },
           "yaxis": {
            "backgroundcolor": "#E5ECF6",
            "gridcolor": "white",
            "gridwidth": 2,
            "linecolor": "white",
            "showbackground": true,
            "ticks": "",
            "zerolinecolor": "white"
           },
           "zaxis": {
            "backgroundcolor": "#E5ECF6",
            "gridcolor": "white",
            "gridwidth": 2,
            "linecolor": "white",
            "showbackground": true,
            "ticks": "",
            "zerolinecolor": "white"
           }
          },
          "shapedefaults": {
           "line": {
            "color": "#2a3f5f"
           }
          },
          "ternary": {
           "aaxis": {
            "gridcolor": "white",
            "linecolor": "white",
            "ticks": ""
           },
           "baxis": {
            "gridcolor": "white",
            "linecolor": "white",
            "ticks": ""
           },
           "bgcolor": "#E5ECF6",
           "caxis": {
            "gridcolor": "white",
            "linecolor": "white",
            "ticks": ""
           }
          },
          "title": {
           "x": 0.05
          },
          "xaxis": {
           "automargin": true,
           "gridcolor": "white",
           "linecolor": "white",
           "ticks": "",
           "title": {
            "standoff": 15
           },
           "zerolinecolor": "white",
           "zerolinewidth": 2
          },
          "yaxis": {
           "automargin": true,
           "gridcolor": "white",
           "linecolor": "white",
           "ticks": "",
           "title": {
            "standoff": 15
           },
           "zerolinecolor": "white",
           "zerolinewidth": 2
          }
         }
        }
       }
      },
      "image/png": "[encoded data removed]",
      "text/html": [
       "<div>\n",
       "        \n",
       "        \n",
       "            <div id=\"7238bdd9-0c32-4408-8e74-f79ce4aeccab\" class=\"plotly-graph-div\" style=\"height:525px; width:100%;\"></div>\n",
       "            <script type=\"text/javascript\">\n",
       "                require([\"plotly\"], function(Plotly) {\n",
       "                    window.PLOTLYENV=window.PLOTLYENV || {};\n",
       "                    \n",
       "                if (document.getElementById(\"7238bdd9-0c32-4408-8e74-f79ce4aeccab\")) {\n",
       "                    Plotly.newPlot(\n",
       "                        '7238bdd9-0c32-4408-8e74-f79ce4aeccab',\n",
       "                        [{\"labels\": [\"Large Blend\", \"Large Growth\", \"Large Value\"], \"textinfo\": \"label+percent\", \"title\": {\"text\": \"Fund categories\"}, \"type\": \"pie\", \"values\": [51, 50, 28]}],\n",
       "                        {\"template\": {\"data\": {\"bar\": [{\"error_x\": {\"color\": \"#2a3f5f\"}, \"error_y\": {\"color\": \"#2a3f5f\"}, \"marker\": {\"line\": {\"color\": \"#E5ECF6\", \"width\": 0.5}}, \"type\": \"bar\"}], \"barpolar\": [{\"marker\": {\"line\": {\"color\": \"#E5ECF6\", \"width\": 0.5}}, \"type\": \"barpolar\"}], \"carpet\": [{\"aaxis\": {\"endlinecolor\": \"#2a3f5f\", \"gridcolor\": \"white\", \"linecolor\": \"white\", \"minorgridcolor\": \"white\", \"startlinecolor\": \"#2a3f5f\"}, \"baxis\": {\"endlinecolor\": \"#2a3f5f\", \"gridcolor\": \"white\", \"linecolor\": \"white\", \"minorgridcolor\": \"white\", \"startlinecolor\": \"#2a3f5f\"}, \"type\": \"carpet\"}], \"choropleth\": [{\"colorbar\": {\"outlinewidth\": 0, \"ticks\": \"\"}, \"type\": \"choropleth\"}], \"contour\": [{\"colorbar\": {\"outlinewidth\": 0, \"ticks\": \"\"}, \"colorscale\": [[0.0, \"#0d0887\"], [0.1111111111111111, \"#46039f\"], [0.2222222222222222, \"#7201a8\"], [0.3333333333333333, \"#9c179e\"], [0.4444444444444444, \"#bd3786\"], [0.5555555555555556, \"#d8576b\"], [0.6666666666666666, \"#ed7953\"], [0.7777777777777778, \"#fb9f3a\"], [0.8888888888888888, \"#fdca26\"], [1.0, \"#f0f921\"]], \"type\": \"contour\"}], \"contourcarpet\": [{\"colorbar\": {\"outlinewidth\": 0, \"ticks\": \"\"}, \"type\": \"contourcarpet\"}], \"heatmap\": [{\"colorbar\": {\"outlinewidth\": 0, \"ticks\": \"\"}, \"colorscale\": [[0.0, \"#0d0887\"], [0.1111111111111111, \"#46039f\"], [0.2222222222222222, \"#7201a8\"], [0.3333333333333333, \"#9c179e\"], [0.4444444444444444, \"#bd3786\"], [0.5555555555555556, \"#d8576b\"], [0.6666666666666666, \"#ed7953\"], [0.7777777777777778, \"#fb9f3a\"], [0.8888888888888888, \"#fdca26\"], [1.0, \"#f0f921\"]], \"type\": \"heatmap\"}], \"heatmapgl\": [{\"colorbar\": {\"outlinewidth\": 0, \"ticks\": \"\"}, \"colorscale\": [[0.0, \"#0d0887\"], [0.1111111111111111, \"#46039f\"], [0.2222222222222222, \"#7201a8\"], [0.3333333333333333, \"#9c179e\"], [0.4444444444444444, \"#bd3786\"], [0.5555555555555556, \"#d8576b\"], [0.6666666666666666, \"#ed7953\"], [0.7777777777777778, \"#fb9f3a\"], [0.8888888888888888, \"#fdca26\"], [1.0, \"#f0f921\"]], \"type\": \"heatmapgl\"}], \"histogram\": [{\"marker\": {\"colorbar\": {\"outlinewidth\": 0, \"ticks\": \"\"}}, \"type\": \"histogram\"}], \"histogram2d\": [{\"colorbar\": {\"outlinewidth\": 0, \"ticks\": \"\"}, \"colorscale\": [[0.0, \"#0d0887\"], [0.1111111111111111, \"#46039f\"], [0.2222222222222222, \"#7201a8\"], [0.3333333333333333, \"#9c179e\"], [0.4444444444444444, \"#bd3786\"], [0.5555555555555556, \"#d8576b\"], [0.6666666666666666, \"#ed7953\"], [0.7777777777777778, \"#fb9f3a\"], [0.8888888888888888, \"#fdca26\"], [1.0, \"#f0f921\"]], \"type\": \"histogram2d\"}], \"histogram2dcontour\": [{\"colorbar\": {\"outlinewidth\": 0, \"ticks\": \"\"}, \"colorscale\": [[0.0, \"#0d0887\"], [0.1111111111111111, \"#46039f\"], [0.2222222222222222, \"#7201a8\"], [0.3333333333333333, \"#9c179e\"], [0.4444444444444444, \"#bd3786\"], [0.5555555555555556, \"#d8576b\"], [0.6666666666666666, \"#ed7953\"], [0.7777777777777778, \"#fb9f3a\"], [0.8888888888888888, \"#fdca26\"], [1.0, \"#f0f921\"]], \"type\": \"histogram2dcontour\"}], \"mesh3d\": [{\"colorbar\": {\"outlinewidth\": 0, \"ticks\": \"\"}, \"type\": \"mesh3d\"}], \"parcoords\": [{\"line\": {\"colorbar\": {\"outlinewidth\": 0, \"ticks\": \"\"}}, \"type\": \"parcoords\"}], \"pie\": [{\"automargin\": true, \"type\": \"pie\"}], \"scatter\": [{\"marker\": {\"colorbar\": {\"outlinewidth\": 0, \"ticks\": \"\"}}, \"type\": \"scatter\"}], \"scatter3d\": [{\"line\": {\"colorbar\": {\"outlinewidth\": 0, \"ticks\": \"\"}}, \"marker\": {\"colorbar\": {\"outlinewidth\": 0, \"ticks\": \"\"}}, \"type\": \"scatter3d\"}], \"scattercarpet\": [{\"marker\": {\"colorbar\": {\"outlinewidth\": 0, \"ticks\": \"\"}}, \"type\": \"scattercarpet\"}], \"scattergeo\": [{\"marker\": {\"colorbar\": {\"outlinewidth\": 0, \"ticks\": \"\"}}, \"type\": \"scattergeo\"}], \"scattergl\": [{\"marker\": {\"colorbar\": {\"outlinewidth\": 0, \"ticks\": \"\"}}, \"type\": \"scattergl\"}], \"scattermapbox\": [{\"marker\": {\"colorbar\": {\"outlinewidth\": 0, \"ticks\": \"\"}}, \"type\": \"scattermapbox\"}], \"scatterpolar\": [{\"marker\": {\"colorbar\": {\"outlinewidth\": 0, \"ticks\": \"\"}}, \"type\": \"scatterpolar\"}], \"scatterpolargl\": [{\"marker\": {\"colorbar\": {\"outlinewidth\": 0, \"ticks\": \"\"}}, \"type\": \"scatterpolargl\"}], \"scatterternary\": [{\"marker\": {\"colorbar\": {\"outlinewidth\": 0, \"ticks\": \"\"}}, \"type\": \"scatterternary\"}], \"surface\": [{\"colorbar\": {\"outlinewidth\": 0, \"ticks\": \"\"}, \"colorscale\": [[0.0, \"#0d0887\"], [0.1111111111111111, \"#46039f\"], [0.2222222222222222, \"#7201a8\"], [0.3333333333333333, \"#9c179e\"], [0.4444444444444444, \"#bd3786\"], [0.5555555555555556, \"#d8576b\"], [0.6666666666666666, \"#ed7953\"], [0.7777777777777778, \"#fb9f3a\"], [0.8888888888888888, \"#fdca26\"], [1.0, \"#f0f921\"]], \"type\": \"surface\"}], \"table\": [{\"cells\": {\"fill\": {\"color\": \"#EBF0F8\"}, \"line\": {\"color\": \"white\"}}, \"header\": {\"fill\": {\"color\": \"#C8D4E3\"}, \"line\": {\"color\": \"white\"}}, \"type\": \"table\"}]}, \"layout\": {\"annotationdefaults\": {\"arrowcolor\": \"#2a3f5f\", \"arrowhead\": 0, \"arrowwidth\": 1}, \"coloraxis\": {\"colorbar\": {\"outlinewidth\": 0, \"ticks\": \"\"}}, \"colorscale\": {\"diverging\": [[0, \"#8e0152\"], [0.1, \"#c51b7d\"], [0.2, \"#de77ae\"], [0.3, \"#f1b6da\"], [0.4, \"#fde0ef\"], [0.5, \"#f7f7f7\"], [0.6, \"#e6f5d0\"], [0.7, \"#b8e186\"], [0.8, \"#7fbc41\"], [0.9, \"#4d9221\"], [1, \"#276419\"]], \"sequential\": [[0.0, \"#0d0887\"], [0.1111111111111111, \"#46039f\"], [0.2222222222222222, \"#7201a8\"], [0.3333333333333333, \"#9c179e\"], [0.4444444444444444, \"#bd3786\"], [0.5555555555555556, \"#d8576b\"], [0.6666666666666666, \"#ed7953\"], [0.7777777777777778, \"#fb9f3a\"], [0.8888888888888888, \"#fdca26\"], [1.0, \"#f0f921\"]], \"sequentialminus\": [[0.0, \"#0d0887\"], [0.1111111111111111, \"#46039f\"], [0.2222222222222222, \"#7201a8\"], [0.3333333333333333, \"#9c179e\"], [0.4444444444444444, \"#bd3786\"], [0.5555555555555556, \"#d8576b\"], [0.6666666666666666, \"#ed7953\"], [0.7777777777777778, \"#fb9f3a\"], [0.8888888888888888, \"#fdca26\"], [1.0, \"#f0f921\"]]}, \"colorway\": [\"#636efa\", \"#EF553B\", \"#00cc96\", \"#ab63fa\", \"#FFA15A\", \"#19d3f3\", \"#FF6692\", \"#B6E880\", \"#FF97FF\", \"#FECB52\"], \"font\": {\"color\": \"#2a3f5f\"}, \"geo\": {\"bgcolor\": \"white\", \"lakecolor\": \"white\", \"landcolor\": \"#E5ECF6\", \"showlakes\": true, \"showland\": true, \"subunitcolor\": \"white\"}, \"hoverlabel\": {\"align\": \"left\"}, \"hovermode\": \"closest\", \"mapbox\": {\"style\": \"light\"}, \"paper_bgcolor\": \"white\", \"plot_bgcolor\": \"#E5ECF6\", \"polar\": {\"angularaxis\": {\"gridcolor\": \"white\", \"linecolor\": \"white\", \"ticks\": \"\"}, \"bgcolor\": \"#E5ECF6\", \"radialaxis\": {\"gridcolor\": \"white\", \"linecolor\": \"white\", \"ticks\": \"\"}}, \"scene\": {\"xaxis\": {\"backgroundcolor\": \"#E5ECF6\", \"gridcolor\": \"white\", \"gridwidth\": 2, \"linecolor\": \"white\", \"showbackground\": true, \"ticks\": \"\", \"zerolinecolor\": \"white\"}, \"yaxis\": {\"backgroundcolor\": \"#E5ECF6\", \"gridcolor\": \"white\", \"gridwidth\": 2, \"linecolor\": \"white\", \"showbackground\": true, \"ticks\": \"\", \"zerolinecolor\": \"white\"}, \"zaxis\": {\"backgroundcolor\": \"#E5ECF6\", \"gridcolor\": \"white\", \"gridwidth\": 2, \"linecolor\": \"white\", \"showbackground\": true, \"ticks\": \"\", \"zerolinecolor\": \"white\"}}, \"shapedefaults\": {\"line\": {\"color\": \"#2a3f5f\"}}, \"ternary\": {\"aaxis\": {\"gridcolor\": \"white\", \"linecolor\": \"white\", \"ticks\": \"\"}, \"baxis\": {\"gridcolor\": \"white\", \"linecolor\": \"white\", \"ticks\": \"\"}, \"bgcolor\": \"#E5ECF6\", \"caxis\": {\"gridcolor\": \"white\", \"linecolor\": \"white\", \"ticks\": \"\"}}, \"title\": {\"x\": 0.05}, \"xaxis\": {\"automargin\": true, \"gridcolor\": \"white\", \"linecolor\": \"white\", \"ticks\": \"\", \"title\": {\"standoff\": 15}, \"zerolinecolor\": \"white\", \"zerolinewidth\": 2}, \"yaxis\": {\"automargin\": true, \"gridcolor\": \"white\", \"linecolor\": \"white\", \"ticks\": \"\", \"title\": {\"standoff\": 15}, \"zerolinecolor\": \"white\", \"zerolinewidth\": 2}}}},\n",
       "                        {\"responsive\": true}\n",
       "                    ).then(function(){\n",
       "                            \n",
       "var gd = document.getElementById('7238bdd9-0c32-4408-8e74-f79ce4aeccab');\n",
       "var x = new MutationObserver(function (mutations, observer) {{\n",
       "        var display = window.getComputedStyle(gd).display;\n",
       "        if (!display || display === 'none') {{\n",
       "            console.log([gd, 'removed!']);\n",
       "            Plotly.purge(gd);\n",
       "            observer.disconnect();\n",
       "        }}\n",
       "}});\n",
       "\n",
       "// Listen for the removal of the full notebook cells\n",
       "var notebookContainer = gd.closest('#notebook-container');\n",
       "if (notebookContainer) {{\n",
       "    x.observe(notebookContainer, {childList: true});\n",
       "}}\n",
       "\n",
       "// Listen for the clearing of the current output cell\n",
       "var outputEl = gd.closest('.output');\n",
       "if (outputEl) {{\n",
       "    x.observe(outputEl, {childList: true});\n",
       "}}\n",
       "\n",
       "                        })\n",
       "                };\n",
       "                });\n",
       "            </script>\n",
       "        </div>"
      ]
     },
     "metadata": {},
     "output_type": "display_data"
    }
   ],
   "source": [
    "values = perc_cat_fund['Category'].value_counts()\n",
    "labels = ['Large Blend', 'Large Growth', 'Large Value']\n",
    "\n",
    "Fund_category_plot = go.Figure(data=[go.Pie(labels=labels, values=values, title= \"Fund categories\", textinfo='label+percent')])\n",
    "Fund_category_plot.show()\n"
   ]
  },
  {
   "cell_type": "markdown",
   "metadata": {},
   "source": [
    "## ESG Analysis"
   ]
  },
  {
   "cell_type": "code",
   "execution_count": 52,
   "metadata": {},
   "outputs": [
    {
     "data": {
      "text/html": [
       "<div>\n",
       "<style scoped>\n",
       "    .dataframe tbody tr th:only-of-type {\n",
       "        vertical-align: middle;\n",
       "    }\n",
       "\n",
       "    .dataframe tbody tr th {\n",
       "        vertical-align: top;\n",
       "    }\n",
       "\n",
       "    .dataframe thead th {\n",
       "        text-align: right;\n",
       "    }\n",
       "</style>\n",
       "<table border=\"1\" class=\"dataframe\">\n",
       "  <thead>\n",
       "    <tr style=\"text-align: right;\">\n",
       "      <th></th>\n",
       "      <th>E</th>\n",
       "      <th>S</th>\n",
       "      <th>G</th>\n",
       "      <th>Total ESG Score</th>\n",
       "      <th>Returns</th>\n",
       "    </tr>\n",
       "    <tr>\n",
       "      <th>Ticker</th>\n",
       "      <th></th>\n",
       "      <th></th>\n",
       "      <th></th>\n",
       "      <th></th>\n",
       "      <th></th>\n",
       "    </tr>\n",
       "  </thead>\n",
       "  <tbody>\n",
       "    <tr>\n",
       "      <th>AKRIX</th>\n",
       "      <td>2.77</td>\n",
       "      <td>9.97</td>\n",
       "      <td>8.04</td>\n",
       "      <td>20.91</td>\n",
       "      <td>0.161800</td>\n",
       "    </tr>\n",
       "    <tr>\n",
       "      <th>EGFIX</th>\n",
       "      <td>2.71</td>\n",
       "      <td>10.16</td>\n",
       "      <td>7.92</td>\n",
       "      <td>20.80</td>\n",
       "      <td>0.143919</td>\n",
       "    </tr>\n",
       "    <tr>\n",
       "      <th>PWB</th>\n",
       "      <td>3.30</td>\n",
       "      <td>10.72</td>\n",
       "      <td>7.71</td>\n",
       "      <td>21.74</td>\n",
       "      <td>0.135775</td>\n",
       "    </tr>\n",
       "    <tr>\n",
       "      <th>MGK</th>\n",
       "      <td>2.71</td>\n",
       "      <td>11.41</td>\n",
       "      <td>8.23</td>\n",
       "      <td>22.58</td>\n",
       "      <td>0.132775</td>\n",
       "    </tr>\n",
       "    <tr>\n",
       "      <th>VIGRX</th>\n",
       "      <td>3.01</td>\n",
       "      <td>11.36</td>\n",
       "      <td>8.11</td>\n",
       "      <td>22.76</td>\n",
       "      <td>0.131370</td>\n",
       "    </tr>\n",
       "    <tr>\n",
       "      <th>PKW</th>\n",
       "      <td>2.98</td>\n",
       "      <td>11.44</td>\n",
       "      <td>8.55</td>\n",
       "      <td>23.93</td>\n",
       "      <td>0.127931</td>\n",
       "    </tr>\n",
       "    <tr>\n",
       "      <th>VFTNX</th>\n",
       "      <td>3.02</td>\n",
       "      <td>11.29</td>\n",
       "      <td>8.19</td>\n",
       "      <td>22.51</td>\n",
       "      <td>0.126411</td>\n",
       "    </tr>\n",
       "    <tr>\n",
       "      <th>SPHQ</th>\n",
       "      <td>3.83</td>\n",
       "      <td>11.28</td>\n",
       "      <td>8.42</td>\n",
       "      <td>23.54</td>\n",
       "      <td>0.125416</td>\n",
       "    </tr>\n",
       "    <tr>\n",
       "      <th>BIAFX</th>\n",
       "      <td>2.94</td>\n",
       "      <td>10.44</td>\n",
       "      <td>8.23</td>\n",
       "      <td>22.25</td>\n",
       "      <td>0.122550</td>\n",
       "    </tr>\n",
       "    <tr>\n",
       "      <th>VHIAX</th>\n",
       "      <td>2.65</td>\n",
       "      <td>10.45</td>\n",
       "      <td>7.59</td>\n",
       "      <td>22.46</td>\n",
       "      <td>0.117152</td>\n",
       "    </tr>\n",
       "    <tr>\n",
       "      <th>FTCS</th>\n",
       "      <td>4.25</td>\n",
       "      <td>11.40</td>\n",
       "      <td>8.19</td>\n",
       "      <td>23.85</td>\n",
       "      <td>0.113928</td>\n",
       "    </tr>\n",
       "    <tr>\n",
       "      <th>MEGBX</th>\n",
       "      <td>2.25</td>\n",
       "      <td>11.62</td>\n",
       "      <td>8.00</td>\n",
       "      <td>21.87</td>\n",
       "      <td>0.113537</td>\n",
       "    </tr>\n",
       "    <tr>\n",
       "      <th>SPX_index</th>\n",
       "      <td>4.02</td>\n",
       "      <td>11.36</td>\n",
       "      <td>8.19</td>\n",
       "      <td>23.84</td>\n",
       "      <td>0.112242</td>\n",
       "    </tr>\n",
       "    <tr>\n",
       "      <th>GTLLX</th>\n",
       "      <td>2.44</td>\n",
       "      <td>10.35</td>\n",
       "      <td>7.22</td>\n",
       "      <td>20.01</td>\n",
       "      <td>0.111903</td>\n",
       "    </tr>\n",
       "    <tr>\n",
       "      <th>AFDAX</th>\n",
       "      <td>3.66</td>\n",
       "      <td>10.72</td>\n",
       "      <td>7.81</td>\n",
       "      <td>22.19</td>\n",
       "      <td>0.111357</td>\n",
       "    </tr>\n",
       "    <tr>\n",
       "      <th>JPGSX</th>\n",
       "      <td>2.64</td>\n",
       "      <td>11.54</td>\n",
       "      <td>7.66</td>\n",
       "      <td>22.64</td>\n",
       "      <td>0.109881</td>\n",
       "    </tr>\n",
       "    <tr>\n",
       "      <th>DSI</th>\n",
       "      <td>3.76</td>\n",
       "      <td>10.41</td>\n",
       "      <td>7.46</td>\n",
       "      <td>21.84</td>\n",
       "      <td>0.108951</td>\n",
       "    </tr>\n",
       "    <tr>\n",
       "      <th>POGAX</th>\n",
       "      <td>2.41</td>\n",
       "      <td>11.51</td>\n",
       "      <td>7.99</td>\n",
       "      <td>22.30</td>\n",
       "      <td>0.107923</td>\n",
       "    </tr>\n",
       "    <tr>\n",
       "      <th>GCEQX</th>\n",
       "      <td>3.10</td>\n",
       "      <td>10.43</td>\n",
       "      <td>7.58</td>\n",
       "      <td>21.30</td>\n",
       "      <td>0.107792</td>\n",
       "    </tr>\n",
       "    <tr>\n",
       "      <th>SUSA</th>\n",
       "      <td>3.99</td>\n",
       "      <td>9.82</td>\n",
       "      <td>7.22</td>\n",
       "      <td>21.03</td>\n",
       "      <td>0.105853</td>\n",
       "    </tr>\n",
       "  </tbody>\n",
       "</table>\n",
       "</div>"
      ],
      "text/plain": [
       "              E      S     G  Total ESG Score   Returns\n",
       "Ticker                                                 \n",
       "AKRIX      2.77   9.97  8.04            20.91  0.161800\n",
       "EGFIX      2.71  10.16  7.92            20.80  0.143919\n",
       "PWB        3.30  10.72  7.71            21.74  0.135775\n",
       "MGK        2.71  11.41  8.23            22.58  0.132775\n",
       "VIGRX      3.01  11.36  8.11            22.76  0.131370\n",
       "PKW        2.98  11.44  8.55            23.93  0.127931\n",
       "VFTNX      3.02  11.29  8.19            22.51  0.126411\n",
       "SPHQ       3.83  11.28  8.42            23.54  0.125416\n",
       "BIAFX      2.94  10.44  8.23            22.25  0.122550\n",
       "VHIAX      2.65  10.45  7.59            22.46  0.117152\n",
       "FTCS       4.25  11.40  8.19            23.85  0.113928\n",
       "MEGBX      2.25  11.62  8.00            21.87  0.113537\n",
       "SPX_index  4.02  11.36  8.19            23.84  0.112242\n",
       "GTLLX      2.44  10.35  7.22            20.01  0.111903\n",
       "AFDAX      3.66  10.72  7.81            22.19  0.111357\n",
       "JPGSX      2.64  11.54  7.66            22.64  0.109881\n",
       "DSI        3.76  10.41  7.46            21.84  0.108951\n",
       "POGAX      2.41  11.51  7.99            22.30  0.107923\n",
       "GCEQX      3.10  10.43  7.58            21.30  0.107792\n",
       "SUSA       3.99   9.82  7.22            21.03  0.105853"
      ]
     },
     "execution_count": 52,
     "metadata": {},
     "output_type": "execute_result"
    }
   ],
   "source": [
    "ESG = combined[['E','S','G','Total ESG Score']]\n",
    "ESG_Top20 = ESG.join(top_funds_perf_df, how='inner')\n",
    "ESG_Refined = ESG_Top20.sort_values(by='Returns', ascending=False)\n",
    "ESG_Refined"
   ]
  },
  {
   "cell_type": "code",
   "execution_count": 53,
   "metadata": {},
   "outputs": [
    {
     "data": {
      "image/png": "[encoded data removed]",
      "text/plain": [
       "<Figure size 432x288 with 1 Axes>"
      ]
     },
     "metadata": {},
     "output_type": "display_data"
    }
   ],
   "source": [
    "## Lower scores mean less risk\n",
    "labels = 'E','S','G'\n",
    "sizes = [ESG_Refined['E'].mean(), ESG_Refined['S'].mean(), ESG_Refined['G'].mean()]\n",
    "explode = (0.12, 0, 0)\n",
    "\n",
    "fig1, ax1 = plt.subplots()\n",
    "ax1.pie(sizes, explode=explode, labels=labels, autopct='%1.1f%%',\n",
    "        shadow=True, startangle=0)\n",
    "ax1.axis('equal')\n",
    "ax1.set_title('ESG Makeup')\n",
    "plt.show()"
   ]
  },
  {
   "cell_type": "markdown",
   "metadata": {},
   "source": [
    "## Shows that companies are most proficient in the E category, Environmental"
   ]
  },
  {
   "cell_type": "code",
   "execution_count": 54,
   "metadata": {},
   "outputs": [
    {
     "data": {},
     "metadata": {},
     "output_type": "display_data"
    },
    {
     "data": {
      "application/vnd.holoviews_exec.v0+json": "",
      "text/html": [
       "<div id='1724'>\n",
       "\n",
       "\n",
       "\n",
       "\n",
       "\n",
       "  <div class=\"bk-root\" id=\"9a62e35e-f380-4f0a-9d23-e55141c4d6a8\" data-root-id=\"1724\"></div>\n",
       "</div>\n",
       "<script type=\"application/javascript\">(function(root) {\n",
       "  function embed_document(root) {\n",
       "  var docs_json = {\"6532ddb2-f720-4587-a81f-758853c35229\":{\"roots\":{\"references\":[{\"attributes\":{},\"id\":\"1735\",\"type\":\"CategoricalScale\"},{\"attributes\":{\"data\":{\"Morningstar_Rating\":{\"__ndarray__\":\"pHA9CtcjIUAfhetRuB4iQD0K16NwvSBACtejcD2KIkCPwvUoXI8ZQJqZmZmZmSJAuB6F61G4IkB7FK5H4XoiQA==\",\"dtype\":\"float64\",\"shape\":[8]},\"index\":[\"S\",\"S\",\"S\",\"G\",\"G\",\"G\",\"G\",\"G\"]},\"selected\":{\"id\":\"1808\"},\"selection_policy\":{\"id\":\"1809\"}},\"id\":\"1756\",\"type\":\"ColumnDataSource\"},{\"attributes\":{\"bottom_units\":\"screen\",\"fill_alpha\":0.5,\"fill_color\":\"lightgrey\",\"left_units\":\"screen\",\"level\":\"overlay\",\"line_alpha\":1.0,\"line_color\":\"black\",\"line_dash\":[4,4],\"line_width\":2,\"render_mode\":\"css\",\"right_units\":\"screen\",\"top_units\":\"screen\"},\"id\":\"1749\",\"type\":\"BoxAnnotation\"},{\"attributes\":{\"axis\":{\"id\":\"1737\"},\"grid_line_color\":null,\"ticker\":null},\"id\":\"1740\",\"type\":\"Grid\"},{\"attributes\":{\"line_alpha\":{\"value\":0.1},\"x0\":{\"field\":\"y0\"},\"x1\":{\"field\":\"y1\"},\"y0\":{\"field\":\"x0\"},\"y1\":{\"field\":\"x1\"}},\"id\":\"1789\",\"type\":\"Segment\"},{\"attributes\":{},\"id\":\"1818\",\"type\":\"Selection\"},{\"attributes\":{},\"id\":\"1742\",\"type\":\"CategoricalTicker\"},{\"attributes\":{\"end\":13.174,\"reset_end\":13.174,\"reset_start\":0.8859999999999999,\"start\":0.8859999999999999,\"tags\":[[[\"Morningstar Rating\",\"Morningstar Rating\",null]]]},\"id\":\"1726\",\"type\":\"Range1d\"},{\"attributes\":{\"factors\":[\"E\",\"S\",\"G\"],\"tags\":[[[\"ESG Score\",\"ESG Score\",null]]]},\"id\":\"1727\",\"type\":\"FactorRange\"},{\"attributes\":{\"data_source\":{\"id\":\"1768\"},\"glyph\":{\"id\":\"1770\"},\"hover_glyph\":null,\"muted_glyph\":null,\"nonselection_glyph\":{\"id\":\"1771\"},\"selection_glyph\":null,\"view\":{\"id\":\"1773\"}},\"id\":\"1772\",\"type\":\"GlyphRenderer\"},{\"attributes\":{},\"id\":\"1798\",\"type\":\"BasicTickFormatter\"},{\"attributes\":{},\"id\":\"1819\",\"type\":\"UnionRenderers\"},{\"attributes\":{},\"id\":\"1821\",\"type\":\"UnionRenderers\"},{\"attributes\":{},\"id\":\"1820\",\"type\":\"Selection\"},{\"attributes\":{\"fill_alpha\":{\"value\":0.1},\"fill_color\":{\"value\":\"#1f77b3\"},\"height\":{\"value\":0.7},\"left\":{\"field\":\"top\"},\"line_alpha\":{\"value\":0.1},\"right\":{\"field\":\"bottom\"},\"y\":{\"field\":\"index\"}},\"id\":\"1765\",\"type\":\"HBar\"},{\"attributes\":{\"data_source\":{\"id\":\"1786\"},\"glyph\":{\"id\":\"1788\"},\"hover_glyph\":null,\"muted_glyph\":null,\"nonselection_glyph\":{\"id\":\"1789\"},\"selection_glyph\":null,\"view\":{\"id\":\"1791\"}},\"id\":\"1790\",\"type\":\"GlyphRenderer\"},{\"attributes\":{\"data_source\":{\"id\":\"1756\"},\"glyph\":{\"id\":\"1758\"},\"hover_glyph\":null,\"muted_glyph\":null,\"nonselection_glyph\":{\"id\":\"1759\"},\"selection_glyph\":null,\"view\":{\"id\":\"1761\"}},\"id\":\"1760\",\"type\":\"GlyphRenderer\"},{\"attributes\":{\"line_alpha\":{\"value\":0.1},\"x0\":{\"field\":\"y0\"},\"x1\":{\"field\":\"y1\"},\"y0\":{\"field\":\"x0\"},\"y1\":{\"field\":\"x1\"}},\"id\":\"1777\",\"type\":\"Segment\"},{\"attributes\":{\"source\":{\"id\":\"1780\"}},\"id\":\"1785\",\"type\":\"CDSView\"},{\"attributes\":{\"data_source\":{\"id\":\"1780\"},\"glyph\":{\"id\":\"1782\"},\"hover_glyph\":null,\"muted_glyph\":null,\"nonselection_glyph\":{\"id\":\"1783\"},\"selection_glyph\":null,\"view\":{\"id\":\"1785\"}},\"id\":\"1784\",\"type\":\"GlyphRenderer\"},{\"attributes\":{\"source\":{\"id\":\"1756\"}},\"id\":\"1761\",\"type\":\"CDSView\"},{\"attributes\":{\"axis\":{\"id\":\"1741\"},\"dimension\":1,\"grid_line_color\":null,\"ticker\":null},\"id\":\"1743\",\"type\":\"Grid\"},{\"attributes\":{\"fill_alpha\":{\"value\":0.1},\"fill_color\":{\"value\":\"black\"},\"line_alpha\":{\"value\":0.1},\"x\":{\"field\":\"Morningstar_Rating\"},\"y\":{\"field\":\"index\"}},\"id\":\"1759\",\"type\":\"Circle\"},{\"attributes\":{\"fill_color\":{\"value\":\"#1f77b3\"},\"height\":{\"value\":0.7},\"left\":{\"field\":\"top\"},\"right\":{\"field\":\"bottom\"},\"y\":{\"field\":\"index\"}},\"id\":\"1764\",\"type\":\"HBar\"},{\"attributes\":{\"data\":{\"x0\":[\"E\",\"S\",\"G\"],\"x1\":[\"E\",\"S\",\"G\"],\"y0\":{\"__ndarray__\":\"uB6F61G4FkDNzMzMzEwoQIXrUbgeBSJA\",\"dtype\":\"float64\",\"shape\":[3]},\"y1\":{\"__ndarray__\":\"XI/C9ShcEEDhehSuR+EmQIXrUbgehSBA\",\"dtype\":\"float64\",\"shape\":[3]}},\"selected\":{\"id\":\"1814\"},\"selection_policy\":{\"id\":\"1815\"}},\"id\":\"1774\",\"type\":\"ColumnDataSource\"},{\"attributes\":{},\"id\":\"1800\",\"type\":\"CategoricalTickFormatter\"},{\"attributes\":{},\"id\":\"1738\",\"type\":\"BasicTicker\"},{\"attributes\":{\"data\":{\"x0\":[\"E\",\"S\",\"G\"],\"x1\":[\"E\",\"S\",\"G\"],\"y0\":{\"__ndarray__\":\"j8L1KFyP/j8zMzMzM7MiQM3MzMzMzBtA\",\"dtype\":\"float64\",\"shape\":[3]},\"y1\":{\"__ndarray__\":\"AAAAAAAABkB7FK5H4fokQLgehetRuB5A\",\"dtype\":\"float64\",\"shape\":[3]}},\"selected\":{\"id\":\"1816\"},\"selection_policy\":{\"id\":\"1817\"}},\"id\":\"1780\",\"type\":\"ColumnDataSource\"},{\"attributes\":{\"axis_label\":\"ESG Score\",\"bounds\":\"auto\",\"formatter\":{\"id\":\"1800\"},\"major_label_orientation\":\"horizontal\",\"ticker\":{\"id\":\"1742\"}},\"id\":\"1741\",\"type\":\"CategoricalAxis\"},{\"attributes\":{\"data_source\":{\"id\":\"1792\"},\"glyph\":{\"id\":\"1794\"},\"hover_glyph\":null,\"muted_glyph\":null,\"nonselection_glyph\":{\"id\":\"1795\"},\"selection_glyph\":null,\"view\":{\"id\":\"1797\"}},\"id\":\"1796\",\"type\":\"GlyphRenderer\"},{\"attributes\":{\"axis_label\":\"Morningstar Rating\",\"bounds\":\"auto\",\"formatter\":{\"id\":\"1798\"},\"major_label_orientation\":\"horizontal\",\"ticker\":{\"id\":\"1738\"}},\"id\":\"1737\",\"type\":\"LinearAxis\"},{\"attributes\":{\"data\":{\"bottom\":{\"__ndarray__\":\"XI/C9ShcEEDhehSuR+EmQIXrUbgehSBA\",\"dtype\":\"float64\",\"shape\":[3]},\"index\":[\"E\",\"S\",\"G\"],\"top\":{\"__ndarray__\":\"rkfhehSuC0AK16NwPQomQAAAAAAAACBA\",\"dtype\":\"float64\",\"shape\":[3]}},\"selected\":{\"id\":\"1810\"},\"selection_policy\":{\"id\":\"1811\"}},\"id\":\"1762\",\"type\":\"ColumnDataSource\"},{\"attributes\":{\"data\":{\"bottom\":{\"__ndarray__\":\"rkfhehSuC0AK16NwPQomQAAAAAAAACBA\",\"dtype\":\"float64\",\"shape\":[3]},\"index\":[\"E\",\"S\",\"G\"],\"top\":{\"__ndarray__\":\"AAAAAAAABkB7FK5H4fokQLgehetRuB5A\",\"dtype\":\"float64\",\"shape\":[3]}},\"selected\":{\"id\":\"1812\"},\"selection_policy\":{\"id\":\"1813\"}},\"id\":\"1768\",\"type\":\"ColumnDataSource\"},{\"attributes\":{\"x0\":{\"field\":\"y0\"},\"x1\":{\"field\":\"y1\"},\"y0\":{\"field\":\"x0\"},\"y1\":{\"field\":\"x1\"}},\"id\":\"1788\",\"type\":\"Segment\"},{\"attributes\":{\"fill_color\":{\"value\":\"black\"},\"x\":{\"field\":\"Morningstar_Rating\"},\"y\":{\"field\":\"index\"}},\"id\":\"1758\",\"type\":\"Circle\"},{\"attributes\":{\"source\":{\"id\":\"1774\"}},\"id\":\"1779\",\"type\":\"CDSView\"},{\"attributes\":{\"text\":\"Variation in ESG categories\",\"text_color\":{\"value\":\"black\"},\"text_font_size\":{\"value\":\"12pt\"}},\"id\":\"1729\",\"type\":\"Title\"},{\"attributes\":{\"data_source\":{\"id\":\"1774\"},\"glyph\":{\"id\":\"1776\"},\"hover_glyph\":null,\"muted_glyph\":null,\"nonselection_glyph\":{\"id\":\"1777\"},\"selection_glyph\":null,\"view\":{\"id\":\"1779\"}},\"id\":\"1778\",\"type\":\"GlyphRenderer\"},{\"attributes\":{\"source\":{\"id\":\"1768\"}},\"id\":\"1773\",\"type\":\"CDSView\"},{\"attributes\":{\"fill_color\":{\"value\":\"#1f77b3\"},\"height\":{\"value\":0.7},\"left\":{\"field\":\"top\"},\"right\":{\"field\":\"bottom\"},\"y\":{\"field\":\"index\"}},\"id\":\"1770\",\"type\":\"HBar\"},{\"attributes\":{\"line_alpha\":{\"value\":0.1},\"x0\":{\"field\":\"y0\"},\"x1\":{\"field\":\"y1\"},\"y0\":{\"field\":\"x0\"},\"y1\":{\"field\":\"x1\"}},\"id\":\"1783\",\"type\":\"Segment\"},{\"attributes\":{},\"id\":\"1733\",\"type\":\"LinearScale\"},{\"attributes\":{\"line_alpha\":{\"value\":0.1},\"x0\":{\"field\":\"y0\"},\"x1\":{\"field\":\"y1\"},\"y0\":{\"field\":\"x0\"},\"y1\":{\"field\":\"x1\"}},\"id\":\"1795\",\"type\":\"Segment\"},{\"attributes\":{\"x0\":{\"field\":\"y0\"},\"x1\":{\"field\":\"y1\"},\"y0\":{\"field\":\"x0\"},\"y1\":{\"field\":\"x1\"}},\"id\":\"1782\",\"type\":\"Segment\"},{\"attributes\":{\"data\":{\"x0\":[[\"E\",-0.2],[\"S\",-0.2],[\"G\",-0.2]],\"x1\":[[\"E\",0.2],[\"S\",0.2],[\"G\",0.2]],\"y0\":[1.91,9.35,6.95],\"y1\":[1.91,9.35,6.95]},\"selected\":{\"id\":\"1818\"},\"selection_policy\":{\"id\":\"1819\"}},\"id\":\"1786\",\"type\":\"ColumnDataSource\"},{\"attributes\":{},\"id\":\"1810\",\"type\":\"Selection\"},{\"attributes\":{},\"id\":\"1813\",\"type\":\"UnionRenderers\"},{\"attributes\":{},\"id\":\"1746\",\"type\":\"WheelZoomTool\"},{\"attributes\":{},\"id\":\"1816\",\"type\":\"Selection\"},{\"attributes\":{\"margin\":[5,5,5,5],\"name\":\"HSpacer02029\",\"sizing_mode\":\"stretch_width\"},\"id\":\"1822\",\"type\":\"Spacer\"},{\"attributes\":{\"x0\":{\"field\":\"y0\"},\"x1\":{\"field\":\"y1\"},\"y0\":{\"field\":\"x0\"},\"y1\":{\"field\":\"x1\"}},\"id\":\"1776\",\"type\":\"Segment\"},{\"attributes\":{\"source\":{\"id\":\"1786\"}},\"id\":\"1791\",\"type\":\"CDSView\"},{\"attributes\":{},\"id\":\"1815\",\"type\":\"UnionRenderers\"},{\"attributes\":{},\"id\":\"1748\",\"type\":\"ResetTool\"},{\"attributes\":{},\"id\":\"1817\",\"type\":\"UnionRenderers\"},{\"attributes\":{\"data\":{\"x0\":[[\"E\",-0.2],[\"S\",-0.2],[\"G\",-0.2]],\"x1\":[[\"E\",0.2],[\"S\",0.2],[\"G\",0.2]],\"y0\":[5.68,12.15,9.01],\"y1\":[5.68,12.15,9.01]},\"selected\":{\"id\":\"1820\"},\"selection_policy\":{\"id\":\"1821\"}},\"id\":\"1792\",\"type\":\"ColumnDataSource\"},{\"attributes\":{\"fill_alpha\":{\"value\":0.1},\"fill_color\":{\"value\":\"#1f77b3\"},\"height\":{\"value\":0.7},\"left\":{\"field\":\"top\"},\"line_alpha\":{\"value\":0.1},\"right\":{\"field\":\"bottom\"},\"y\":{\"field\":\"index\"}},\"id\":\"1771\",\"type\":\"HBar\"},{\"attributes\":{\"x0\":{\"field\":\"y0\"},\"x1\":{\"field\":\"y1\"},\"y0\":{\"field\":\"x0\"},\"y1\":{\"field\":\"x1\"}},\"id\":\"1794\",\"type\":\"Segment\"},{\"attributes\":{},\"id\":\"1812\",\"type\":\"Selection\"},{\"attributes\":{},\"id\":\"1808\",\"type\":\"Selection\"},{\"attributes\":{},\"id\":\"1745\",\"type\":\"PanTool\"},{\"attributes\":{\"source\":{\"id\":\"1792\"}},\"id\":\"1797\",\"type\":\"CDSView\"},{\"attributes\":{},\"id\":\"1814\",\"type\":\"Selection\"},{\"attributes\":{\"data_source\":{\"id\":\"1762\"},\"glyph\":{\"id\":\"1764\"},\"hover_glyph\":null,\"muted_glyph\":null,\"nonselection_glyph\":{\"id\":\"1765\"},\"selection_glyph\":null,\"view\":{\"id\":\"1767\"}},\"id\":\"1766\",\"type\":\"GlyphRenderer\"},{\"attributes\":{\"align\":null,\"below\":[{\"id\":\"1737\"}],\"center\":[{\"id\":\"1740\"},{\"id\":\"1743\"}],\"left\":[{\"id\":\"1741\"}],\"margin\":null,\"min_border_bottom\":10,\"min_border_left\":10,\"min_border_right\":10,\"min_border_top\":10,\"plot_height\":300,\"plot_width\":500,\"renderers\":[{\"id\":\"1760\"},{\"id\":\"1766\"},{\"id\":\"1772\"},{\"id\":\"1778\"},{\"id\":\"1784\"},{\"id\":\"1790\"},{\"id\":\"1796\"}],\"sizing_mode\":\"fixed\",\"title\":{\"id\":\"1729\"},\"toolbar\":{\"id\":\"1750\"},\"x_range\":{\"id\":\"1726\"},\"x_scale\":{\"id\":\"1733\"},\"y_range\":{\"id\":\"1727\"},\"y_scale\":{\"id\":\"1735\"}},\"id\":\"1728\",\"subtype\":\"Figure\",\"type\":\"Plot\"},{\"attributes\":{\"overlay\":{\"id\":\"1749\"}},\"id\":\"1747\",\"type\":\"BoxZoomTool\"},{\"attributes\":{},\"id\":\"1809\",\"type\":\"UnionRenderers\"},{\"attributes\":{\"children\":[{\"id\":\"1725\"},{\"id\":\"1728\"},{\"id\":\"1822\"}],\"margin\":[0,0,0,0],\"name\":\"Row02024\",\"tags\":[\"embedded\"]},\"id\":\"1724\",\"type\":\"Row\"},{\"attributes\":{\"source\":{\"id\":\"1762\"}},\"id\":\"1767\",\"type\":\"CDSView\"},{\"attributes\":{},\"id\":\"1811\",\"type\":\"UnionRenderers\"},{\"attributes\":{\"margin\":[5,5,5,5],\"name\":\"HSpacer02028\",\"sizing_mode\":\"stretch_width\"},\"id\":\"1725\",\"type\":\"Spacer\"},{\"attributes\":{\"active_drag\":\"auto\",\"active_inspect\":\"auto\",\"active_multi\":null,\"active_scroll\":\"auto\",\"active_tap\":\"auto\",\"tools\":[{\"id\":\"1744\"},{\"id\":\"1745\"},{\"id\":\"1746\"},{\"id\":\"1747\"},{\"id\":\"1748\"}]},\"id\":\"1750\",\"type\":\"Toolbar\"},{\"attributes\":{},\"id\":\"1744\",\"type\":\"SaveTool\"}],\"root_ids\":[\"1724\"]},\"title\":\"Bokeh Application\",\"version\":\"2.0.1\"}};\n",
       "  var render_items = [{\"docid\":\"6532ddb2-f720-4587-a81f-758853c35229\",\"root_ids\":[\"1724\"],\"roots\":{\"1724\":\"9a62e35e-f380-4f0a-9d23-e55141c4d6a8\"}}];\n",
       "  root.Bokeh.embed.embed_items_notebook(docs_json, render_items);\n",
       "  }\n",
       "if (root.Bokeh !== undefined) {\n",
       "    embed_document(root);\n",
       "  } else {\n",
       "    var attempts = 0;\n",
       "    var timer = setInterval(function(root) {\n",
       "      if (root.Bokeh !== undefined) {\n",
       "        clearInterval(timer);\n",
       "        embed_document(root);\n",
       "      } else if (document.readyState == \"complete\") {\n",
       "        attempts++;\n",
       "        if (attempts > 100) {\n",
       "          clearInterval(timer);\n",
       "          console.log(\"Bokeh: ERROR: Unable to run BokehJS code because BokehJS library is missing\");\n",
       "        }\n",
       "      }\n",
       "    }, 10, root)\n",
       "  }\n",
       "})(window);</script>"
      ],
      "text/plain": [
       ":BoxWhisker   [ESG Score]   (Morningstar Rating)"
      ]
     },
     "execution_count": 54,
     "metadata": {
      "application/vnd.holoviews_exec.v0+json": {
       "id": "1724"
      }
     },
     "output_type": "execute_result"
    }
   ],
   "source": [
    "import hvplot.dask\n",
    "SDplot = combined[['E','S','G']].copy()\n",
    "columns = ['E', 'S', 'G']\n",
    "ESG_plot = SDplot.hvplot.box(y=columns, group_label='ESG Score', legend=False, label = 'Variation in ESG categories',\n",
    "                  value_label='Morningstar Rating', invert=True, width=500)\n",
    "ESG_plot"
   ]
  },
  {
   "cell_type": "markdown",
   "metadata": {},
   "source": [
    "# Final summary"
   ]
  },
  {
   "cell_type": "code",
   "execution_count": 60,
   "metadata": {},
   "outputs": [
    {
     "data": {},
     "metadata": {},
     "output_type": "display_data"
    },
    {
     "data": {},
     "metadata": {},
     "output_type": "display_data"
    },
    {
     "data": {
      "application/vnd.holoviews_exec.v0+json": "",
      "text/html": [
       "<div id='2872'>\n",
       "\n",
       "\n",
       "\n",
       "\n",
       "\n",
       "  <div class=\"bk-root\" id=\"13f35291-b6ac-466d-a3da-ad2a305561f7\" data-root-id=\"2872\"></div>\n",
       "</div>\n",
       "<script type=\"application/javascript\">(function(root) {\n",
       "  function embed_document(root) {\n",
       "  var docs_json = {\"41a898a2-ee98-47ae-b42b-789f16cdc02e\":{\"roots\":{\"references\":[{\"attributes\":{\"factors\":[\"E\",\"S\",\"G\"],\"tags\":[[[\"ESG Score\",\"ESG Score\",null]]]},\"id\":\"3115\",\"type\":\"FactorRange\"},{\"attributes\":{},\"id\":\"3132\",\"type\":\"SaveTool\"},{\"attributes\":{},\"id\":\"3057\",\"type\":\"WheelZoomTool\"},{\"attributes\":{},\"id\":\"1316\",\"type\":\"Selection\"},{\"attributes\":{},\"id\":\"3056\",\"type\":\"PanTool\"},{\"attributes\":{\"data\":{\"x0\":[\"E\",\"S\",\"G\"],\"x1\":[\"E\",\"S\",\"G\"],\"y0\":{\"__ndarray__\":\"uB6F61G4FkDNzMzMzEwoQIXrUbgeBSJA\",\"dtype\":\"float64\",\"shape\":[3]},\"y1\":{\"__ndarray__\":\"XI/C9ShcEEDhehSuR+EmQIXrUbgehSBA\",\"dtype\":\"float64\",\"shape\":[3]}},\"selected\":{\"id\":\"3202\"},\"selection_policy\":{\"id\":\"3203\"}},\"id\":\"3162\",\"type\":\"ColumnDataSource\"},{\"attributes\":{\"bottom_units\":\"screen\",\"fill_alpha\":0.5,\"fill_color\":\"lightgrey\",\"left_units\":\"screen\",\"level\":\"overlay\",\"line_alpha\":1.0,\"line_color\":\"black\",\"line_dash\":[4,4],\"line_width\":2,\"render_mode\":\"css\",\"right_units\":\"screen\",\"top_units\":\"screen\"},\"id\":\"2944\",\"type\":\"BoxAnnotation\"},{\"attributes\":{\"source\":{\"id\":\"1270\"}},\"id\":\"1274\",\"type\":\"CDSView\"},{\"attributes\":{\"data_source\":{\"id\":\"3162\"},\"glyph\":{\"id\":\"3164\"},\"hover_glyph\":null,\"muted_glyph\":null,\"nonselection_glyph\":{\"id\":\"3165\"},\"selection_glyph\":null,\"view\":{\"id\":\"3167\"}},\"id\":\"3166\",\"type\":\"GlyphRenderer\"},{\"attributes\":{\"end\":40,\"start\":10},\"id\":\"1231\",\"type\":\"Range1d\"},{\"attributes\":{},\"id\":\"1276\",\"type\":\"BasicTickFormatter\"},{\"attributes\":{\"items\":[{\"id\":\"1284\"},{\"id\":\"1300\"},{\"id\":\"1318\"},{\"id\":\"1338\"}]},\"id\":\"1283\",\"type\":\"Legend\"},{\"attributes\":{},\"id\":\"1238\",\"type\":\"BasicTicker\"},{\"attributes\":{},\"id\":\"2999\",\"type\":\"ResetTool\"},{\"attributes\":{\"line_alpha\":{\"value\":0.1},\"x0\":{\"field\":\"y0\"},\"x1\":{\"field\":\"y1\"},\"y0\":{\"field\":\"x0\"},\"y1\":{\"field\":\"x1\"}},\"id\":\"3165\",\"type\":\"Segment\"},{\"attributes\":{\"align\":null,\"below\":[{\"id\":\"3125\"}],\"center\":[{\"id\":\"3128\"},{\"id\":\"3131\"}],\"left\":[{\"id\":\"3129\"}],\"margin\":null,\"min_border_bottom\":10,\"min_border_left\":10,\"min_border_right\":10,\"min_border_top\":10,\"plot_height\":300,\"plot_width\":500,\"renderers\":[{\"id\":\"3148\"},{\"id\":\"3154\"},{\"id\":\"3160\"},{\"id\":\"3166\"},{\"id\":\"3172\"},{\"id\":\"3178\"},{\"id\":\"3184\"}],\"sizing_mode\":\"fixed\",\"title\":{\"id\":\"3117\"},\"toolbar\":{\"id\":\"3138\"},\"x_range\":{\"id\":\"3114\"},\"x_scale\":{\"id\":\"3121\"},\"y_range\":{\"id\":\"3115\"},\"y_scale\":{\"id\":\"3123\"}},\"id\":\"3116\",\"subtype\":\"Figure\",\"type\":\"Plot\"},{\"attributes\":{\"overlay\":{\"id\":\"3000\"}},\"id\":\"2998\",\"type\":\"BoxZoomTool\"},{\"attributes\":{\"label\":{\"value\":\"Return\"},\"renderers\":[{\"id\":\"1273\"}]},\"id\":\"1284\",\"type\":\"LegendItem\"},{\"attributes\":{\"end\":0.18838268404827643,\"reset_end\":0.18838268404827643,\"reset_start\":0.12702029019468355,\"start\":0.12702029019468355,\"tags\":[[[\"Annual Std Dev\",\"Annual Std Dev\",null]]]},\"id\":\"2920\",\"type\":\"Range1d\"},{\"attributes\":{\"fill_alpha\":0.5,\"fill_color\":\"lightgrey\",\"level\":\"overlay\",\"line_alpha\":1.0,\"line_color\":\"black\",\"line_dash\":[4,4],\"line_width\":2,\"xs_units\":\"screen\",\"ys_units\":\"screen\"},\"id\":\"1256\",\"type\":\"PolyAnnotation\"},{\"attributes\":{\"x0\":{\"field\":\"y0\"},\"x1\":{\"field\":\"y1\"},\"y0\":{\"field\":\"x0\"},\"y1\":{\"field\":\"x1\"}},\"id\":\"3164\",\"type\":\"Segment\"},{\"attributes\":{},\"id\":\"3130\",\"type\":\"CategoricalTicker\"},{\"attributes\":{},\"id\":\"3206\",\"type\":\"Selection\"},{\"attributes\":{},\"id\":\"1235\",\"type\":\"LinearScale\"},{\"attributes\":{\"active_drag\":\"auto\",\"active_inspect\":\"auto\",\"active_multi\":null,\"active_scroll\":\"auto\",\"active_tap\":\"auto\",\"tools\":[{\"id\":\"2977\"},{\"id\":\"2995\"},{\"id\":\"2996\"},{\"id\":\"2997\"},{\"id\":\"2998\"},{\"id\":\"2999\"}]},\"id\":\"3001\",\"type\":\"Toolbar\"},{\"attributes\":{\"fill_alpha\":{\"value\":0.2},\"fill_color\":{\"value\":\"#1f77b3\"},\"line_alpha\":{\"value\":0.2},\"top\":{\"field\":\"Average_Risk\"},\"width\":{\"value\":0.8},\"x\":{\"field\":\"Category\"}},\"id\":\"3073\",\"type\":\"VBar\"},{\"attributes\":{\"data_source\":{\"id\":\"1285\"},\"glyph\":{\"id\":\"1286\"},\"hover_glyph\":null,\"muted_glyph\":null,\"nonselection_glyph\":{\"id\":\"1287\"},\"selection_glyph\":null,\"view\":{\"id\":\"1289\"}},\"id\":\"1288\",\"type\":\"GlyphRenderer\"},{\"attributes\":{\"data\":{\"x\":{\"__ndarray__\":\"YORdktm1xD+wDVyz72vCP0jMuyoUYcE/YMqRJsf+wD+QJd5rutDAP7CTmIMIYMA/r6HInz4uwD+ovYlhpA3APw/be/RyX78/EIb3HrL9vT+Bv2aKZSq9P0FZDlG7EL0/f/GGIOe7vD/Q3TGYq6W8PwBaSJrogbw/QFc+tyshvD+wpONVL+S7P7Bn+9XVoLs/ISuzUD2Yuz+gKi6iLBm7Pw==\",\"dtype\":\"float64\",\"shape\":[20]},\"y\":{\"__ndarray__\":\"CtejcD2KKUD2KFyPwvUjQLgehetROCNAAAAAAACAKUAUrkfhehQpQIXrUbgehSBAAAAAAAAAJEAK16NwPQoYQD0K16NwPRxAzczMzMxMLkCPwvUoXI8iQHE9Ctej8CNAexSuR+F6IUB7FK5H4foiQClcj8L1qCFAUrgehetRKUB7FK5H4XohQBSuR+F6lCFAAAAAAAAAIkBSuB6F69EhQA==\",\"dtype\":\"float64\",\"shape\":[20]}},\"selected\":{\"id\":\"1336\"},\"selection_policy\":{\"id\":\"1337\"}},\"id\":\"1301\",\"type\":\"ColumnDataSource\"},{\"attributes\":{},\"id\":\"2997\",\"type\":\"WheelZoomTool\"},{\"attributes\":{},\"id\":\"3133\",\"type\":\"PanTool\"},{\"attributes\":{},\"id\":\"3027\",\"type\":\"BasicTickFormatter\"},{\"attributes\":{\"fill_alpha\":0.5,\"fill_color\":\"lightgrey\",\"level\":\"overlay\",\"line_alpha\":1.0,\"line_color\":\"black\",\"line_dash\":[4,4],\"line_width\":2,\"xs_units\":\"screen\",\"ys_units\":\"screen\"},\"id\":\"1255\",\"type\":\"PolyAnnotation\"},{\"attributes\":{},\"id\":\"1233\",\"type\":\"LinearScale\"},{\"attributes\":{},\"id\":\"1298\",\"type\":\"Selection\"},{\"attributes\":{\"source\":{\"id\":\"3156\"}},\"id\":\"3161\",\"type\":\"CDSView\"},{\"attributes\":{\"data\":{\"x0\":[[\"E\",-0.2],[\"S\",-0.2],[\"G\",-0.2]],\"x1\":[[\"E\",0.2],[\"S\",0.2],[\"G\",0.2]],\"y0\":[1.91,9.35,6.95],\"y1\":[1.91,9.35,6.95]},\"selected\":{\"id\":\"3206\"},\"selection_policy\":{\"id\":\"3207\"}},\"id\":\"3174\",\"type\":\"ColumnDataSource\"},{\"attributes\":{},\"id\":\"3196\",\"type\":\"Selection\"},{\"attributes\":{},\"id\":\"2995\",\"type\":\"SaveTool\"},{\"attributes\":{},\"id\":\"3256\",\"type\":\"UnionRenderers\"},{\"attributes\":{\"data\":{\"x0\":[\"E\",\"S\",\"G\"],\"x1\":[\"E\",\"S\",\"G\"],\"y0\":{\"__ndarray__\":\"j8L1KFyP/j8zMzMzM7MiQM3MzMzMzBtA\",\"dtype\":\"float64\",\"shape\":[3]},\"y1\":{\"__ndarray__\":\"AAAAAAAABkB7FK5H4fokQLgehetRuB5A\",\"dtype\":\"float64\",\"shape\":[3]}},\"selected\":{\"id\":\"3204\"},\"selection_policy\":{\"id\":\"3205\"}},\"id\":\"3168\",\"type\":\"ColumnDataSource\"},{\"attributes\":{\"source\":{\"id\":\"1285\"}},\"id\":\"1289\",\"type\":\"CDSView\"},{\"attributes\":{},\"id\":\"3200\",\"type\":\"Selection\"},{\"attributes\":{\"fill_alpha\":{\"value\":0.1},\"fill_color\":{\"value\":\"green\"},\"line_alpha\":{\"value\":0.1},\"line_color\":{\"value\":\"#1f77b4\"},\"size\":{\"units\":\"screen\",\"value\":6},\"x\":{\"field\":\"x\"},\"y\":{\"field\":\"y\"}},\"id\":\"1287\",\"type\":\"Circle\"},{\"attributes\":{},\"id\":\"3241\",\"type\":\"UnionRenderers\"},{\"attributes\":{\"axis_label\":\"Returns\",\"formatter\":{\"id\":\"1268\"},\"ticker\":{\"id\":\"1238\"}},\"id\":\"1237\",\"type\":\"LinearAxis\"},{\"attributes\":{},\"id\":\"1317\",\"type\":\"UnionRenderers\"},{\"attributes\":{},\"id\":\"2996\",\"type\":\"PanTool\"},{\"attributes\":{},\"id\":\"2971\",\"type\":\"UnionRenderers\"},{\"attributes\":{},\"id\":\"3022\",\"type\":\"BasicTickFormatter\"},{\"attributes\":{\"data_source\":{\"id\":\"3156\"},\"glyph\":{\"id\":\"3158\"},\"hover_glyph\":null,\"muted_glyph\":null,\"nonselection_glyph\":{\"id\":\"3159\"},\"selection_glyph\":null,\"view\":{\"id\":\"3161\"}},\"id\":\"3160\",\"type\":\"GlyphRenderer\"},{\"attributes\":{},\"id\":\"2943\",\"type\":\"ResetTool\"},{\"attributes\":{\"overlay\":{\"id\":\"3137\"}},\"id\":\"3135\",\"type\":\"BoxZoomTool\"},{\"attributes\":{\"bottom_units\":\"screen\",\"fill_alpha\":0.5,\"fill_color\":\"lightgrey\",\"left_units\":\"screen\",\"level\":\"overlay\",\"line_alpha\":1.0,\"line_color\":\"black\",\"line_dash\":[4,4],\"line_width\":2,\"render_mode\":\"css\",\"right_units\":\"screen\",\"top_units\":\"screen\"},\"id\":\"1253\",\"type\":\"BoxAnnotation\"},{\"attributes\":{\"axis\":{\"id\":\"1241\"},\"dimension\":1,\"ticker\":null},\"id\":\"1244\",\"type\":\"Grid\"},{\"attributes\":{\"high\":34.35,\"low\":0.0,\"palette\":[\"#b3fef5\",\"#b0fef5\",\"#adfdf5\",\"#a9fcf5\",\"#a6fbf6\",\"#a3faf6\",\"#a0faf6\",\"#9df9f6\",\"#9af8f6\",\"#97f7f6\",\"#93f7f6\",\"#90f6f6\",\"#8df5f6\",\"#8af4f7\",\"#87f3f7\",\"#83f2f7\",\"#80f2f7\",\"#7df1f7\",\"#79f0f7\",\"#76eff7\",\"#73eef7\",\"#6fedf8\",\"#6cecf8\",\"#68ecf8\",\"#65ebf8\",\"#61eaf8\",\"#5ee9f8\",\"#5ae8f8\",\"#57e7f8\",\"#53e6f8\",\"#50e5f9\",\"#4ce4f9\",\"#49e3f9\",\"#45e2f9\",\"#42e1f9\",\"#3ee0f9\",\"#3bdff9\",\"#38def9\",\"#35ddf9\",\"#32dcf9\",\"#30dbfa\",\"#2ed9fa\",\"#2dd8fa\",\"#2cd7fa\",\"#2bd6fa\",\"#2bd5fa\",\"#2ad3fa\",\"#2ad2fa\",\"#29d1fa\",\"#29d0fb\",\"#29cffb\",\"#28cdfb\",\"#28ccfb\",\"#28cbfb\",\"#28cafb\",\"#28c8fb\",\"#28c7fb\",\"#29c6fb\",\"#29c5fb\",\"#29c4fb\",\"#29c2fb\",\"#2ac1fb\",\"#2ac0fb\",\"#2bbffb\",\"#2bbdfc\",\"#2cbcfc\",\"#2dbbfc\",\"#2db9fc\",\"#2eb8fc\",\"#2fb7fc\",\"#2fb6fc\",\"#30b4fc\",\"#31b3fc\",\"#32b2fc\",\"#32b0fc\",\"#33affc\",\"#33aefc\",\"#34adfc\",\"#34abfc\",\"#34aafc\",\"#35a9fc\",\"#35a8fc\",\"#35a6fc\",\"#35a5fc\",\"#35a4fc\",\"#35a3fc\",\"#35a1fc\",\"#35a0fc\",\"#359ffc\",\"#359dfc\",\"#359cfc\",\"#359bfc\",\"#349afd\",\"#3498fd\",\"#3497fd\",\"#3396fd\",\"#3395fd\",\"#3293fd\",\"#3292fd\",\"#3191fd\",\"#3090fd\",\"#308ffd\",\"#2f8dfd\",\"#2f8cfd\",\"#2e8bfd\",\"#2e8afd\",\"#2d88fd\",\"#2d87fd\",\"#2c86fd\",\"#2c84fd\",\"#2c83fd\",\"#2c82fd\",\"#2b81fd\",\"#2b7ffd\",\"#2b7efd\",\"#2b7dfd\",\"#2b7bfd\",\"#2b7afd\",\"#2b79fd\",\"#2b77fd\",\"#2b76fd\",\"#2b75fd\",\"#2b73fd\",\"#2c72fd\",\"#2c71fd\",\"#2c6ffd\",\"#2c6efd\",\"#2d6cfd\",\"#2d6bfd\",\"#2d6afc\",\"#2e68fc\",\"#2e67fc\",\"#2e65fc\",\"#2e64fc\",\"#2f62fc\",\"#2f61fc\",\"#2f5ffc\",\"#2f5efc\",\"#2f5dfc\",\"#2f5bfc\",\"#2f5afc\",\"#2f58fb\",\"#2f57fb\",\"#2f55fb\",\"#2f53fb\",\"#2f52fb\",\"#2f50fb\",\"#2f4ffb\",\"#2f4dfb\",\"#2e4cfb\",\"#2e4afb\",\"#2e48fb\",\"#2e47fa\",\"#2d45fa\",\"#2d43fa\",\"#2d42fa\",\"#2d40fa\",\"#2c3efa\",\"#2c3dfa\",\"#2b3bf9\",\"#2b39f9\",\"#2a37f9\",\"#2a36f8\",\"#2934f8\",\"#2832f7\",\"#2831f7\",\"#272ff6\",\"#262ef5\",\"#252cf5\",\"#252af4\",\"#2429f3\",\"#2327f2\",\"#2226f1\",\"#2124f0\",\"#2023ef\",\"#1f22ee\",\"#1e20ed\",\"#1d1feb\",\"#1c1eea\",\"#1b1ce9\",\"#1a1be7\",\"#181ae6\",\"#1719e5\",\"#1618e3\",\"#1417e1\",\"#1316e0\",\"#1215de\",\"#1014dc\",\"#0f13db\",\"#0e12d9\",\"#0d11d7\",\"#0c10d5\",\"#0b0fd3\",\"#0a0ed1\",\"#090dd0\",\"#080dce\",\"#080ccc\",\"#070bca\",\"#070ac8\",\"#0709c6\",\"#0708c4\",\"#0707c2\",\"#0707bf\",\"#0806bd\",\"#0806bb\",\"#0905b9\",\"#0904b7\",\"#0a04b5\",\"#0a04b2\",\"#0b03b0\",\"#0c03ae\",\"#0d02ab\",\"#0e02a9\",\"#0e02a7\",\"#0f02a4\",\"#0f01a2\",\"#1001a0\",\"#10019d\",\"#10019b\",\"#100199\",\"#100197\",\"#100194\",\"#0f0192\",\"#0f0190\",\"#0f018e\",\"#0e018b\",\"#0e0189\",\"#0d0187\",\"#0d0185\",\"#0c0183\",\"#0b0181\",\"#0b017e\",\"#0a017c\",\"#09017a\",\"#090178\",\"#080276\",\"#070274\",\"#060272\",\"#060270\",\"#05026e\",\"#04026c\",\"#030269\",\"#030267\",\"#020265\",\"#010263\",\"#010261\",\"#00025f\",\"#00025d\",\"#00025b\",\"#000259\",\"#000257\",\"#000255\",\"#000154\",\"#000152\",\"#000150\",\"#00004e\"]},\"id\":\"3008\",\"type\":\"LinearColorMapper\"},{\"attributes\":{},\"id\":\"3204\",\"type\":\"Selection\"},{\"attributes\":{},\"id\":\"1299\",\"type\":\"UnionRenderers\"},{\"attributes\":{},\"id\":\"3254\",\"type\":\"UnionRenderers\"},{\"attributes\":{\"axis\":{\"id\":\"2987\"},\"grid_line_color\":null,\"ticker\":null},\"id\":\"2990\",\"type\":\"Grid\"},{\"attributes\":{\"fill_color\":{\"value\":\"#1f77b3\"},\"line_color\":{\"value\":\"#1f77b3\"},\"size\":{\"units\":\"screen\",\"value\":5.477225575051661},\"x\":{\"field\":\"Returns\"},\"y\":{\"field\":\"Annual Std Dev\"}},\"id\":\"2955\",\"type\":\"Scatter\"},{\"attributes\":{},\"id\":\"3010\",\"type\":\"Selection\"},{\"attributes\":{\"axis_label\":\"Projected EPS Growth (%)\",\"bounds\":\"auto\",\"formatter\":{\"id\":\"3024\"},\"major_label_orientation\":\"horizontal\",\"ticker\":{\"id\":\"2992\"}},\"id\":\"2991\",\"type\":\"LinearAxis\"},{\"attributes\":{},\"id\":\"3227\",\"type\":\"UnionRenderers\"},{\"attributes\":{},\"id\":\"2960\",\"type\":\"BasicTickFormatter\"},{\"attributes\":{},\"id\":\"3136\",\"type\":\"ResetTool\"},{\"attributes\":{},\"id\":\"2992\",\"type\":\"BasicTicker\"},{\"attributes\":{\"active_drag\":\"auto\",\"active_inspect\":\"auto\",\"active_multi\":null,\"active_scroll\":\"auto\",\"active_tap\":\"auto\",\"tools\":[{\"id\":\"3132\"},{\"id\":\"3133\"},{\"id\":\"3134\"},{\"id\":\"3135\"},{\"id\":\"3136\"}]},\"id\":\"3138\",\"type\":\"Toolbar\"},{\"attributes\":{},\"id\":\"3240\",\"type\":\"Selection\"},{\"attributes\":{\"fill_alpha\":{\"value\":0.2},\"fill_color\":{\"value\":\"#1f77b3\"},\"line_alpha\":{\"value\":0.2},\"line_color\":{\"value\":\"#1f77b3\"},\"size\":{\"units\":\"screen\",\"value\":5.477225575051661},\"x\":{\"field\":\"Returns\"},\"y\":{\"field\":\"Annual Std Dev\"}},\"id\":\"2957\",\"type\":\"Scatter\"},{\"attributes\":{\"data_source\":{\"id\":\"1319\"},\"glyph\":{\"id\":\"1320\"},\"hover_glyph\":null,\"muted_glyph\":null,\"nonselection_glyph\":{\"id\":\"1321\"},\"selection_glyph\":null,\"view\":{\"id\":\"1323\"}},\"id\":\"1322\",\"type\":\"GlyphRenderer\"},{\"attributes\":{},\"id\":\"3255\",\"type\":\"Selection\"},{\"attributes\":{\"source\":{\"id\":\"3162\"}},\"id\":\"3167\",\"type\":\"CDSView\"},{\"attributes\":{\"end\":0.16419733556189314,\"reset_end\":0.16419733556189314,\"reset_start\":0.10345516274338612,\"start\":0.10345516274338612,\"tags\":[[[\"Returns\",\"Returns\",null]]]},\"id\":\"2919\",\"type\":\"Range1d\"},{\"attributes\":{\"label\":{\"value\":\"P/E Forward\"},\"renderers\":[{\"id\":\"1288\"}]},\"id\":\"1300\",\"type\":\"LegendItem\"},{\"attributes\":{\"data_source\":{\"id\":\"2952\"},\"glyph\":{\"id\":\"2955\"},\"hover_glyph\":null,\"muted_glyph\":{\"id\":\"2957\"},\"nonselection_glyph\":{\"id\":\"2956\"},\"selection_glyph\":null,\"view\":{\"id\":\"2959\"}},\"id\":\"2958\",\"type\":\"GlyphRenderer\"},{\"attributes\":{\"fill_alpha\":{\"value\":0.1},\"fill_color\":{\"value\":\"#1f77b3\"},\"height\":{\"value\":0.7},\"left\":{\"field\":\"top\"},\"line_alpha\":{\"value\":0.1},\"right\":{\"field\":\"bottom\"},\"y\":{\"field\":\"index\"}},\"id\":\"3159\",\"type\":\"HBar\"},{\"attributes\":{},\"id\":\"3024\",\"type\":\"BasicTickFormatter\"},{\"attributes\":{},\"id\":\"1336\",\"type\":\"Selection\"},{\"attributes\":{},\"id\":\"3134\",\"type\":\"WheelZoomTool\"},{\"attributes\":{\"source\":{\"id\":\"3068\"}},\"id\":\"3075\",\"type\":\"CDSView\"},{\"attributes\":{\"fill_color\":{\"value\":\"#1f77b3\"},\"height\":{\"value\":0.7},\"left\":{\"field\":\"top\"},\"right\":{\"field\":\"bottom\"},\"y\":{\"field\":\"index\"}},\"id\":\"3158\",\"type\":\"HBar\"},{\"attributes\":{\"axis\":{\"id\":\"1237\"},\"ticker\":null},\"id\":\"1240\",\"type\":\"Grid\"},{\"attributes\":{\"data\":{\"Sharpe Ratio\":{\"__ndarray__\":\"RCGUrz+c8j8e0C7GJyDrP0kA0UvKsus/qT60zx3U6z/R8uXdvDXrP7n2r8TJROw/UVORkVJ86j/BMSGDWpTsP26Lc0dtH+o/6PeuK2uk5T+k/tYzr9foP2Ws6SZGLec/IQu7lqwA6T9z33Us5LblP+HdP54BZug/DaqLXS9h5j8mgNO7mIfoPz2yX2bUHuU/5DLIGy0p6D+Z4Qjl8P/nPw==\",\"dtype\":\"float64\",\"shape\":[20]},\"Ticker\":[\"AKRIX\",\"EGFIX\",\"PWB\",\"MGK\",\"VIGRX\",\"PKW\",\"VFTNX\",\"SPHQ\",\"BIAFX\",\"VHIAX\",\"FTCS\",\"MEGBX\",\"SPX_index\",\"GTLLX\",\"AFDAX\",\"JPGSX\",\"DSI\",\"POGAX\",\"GCEQX\",\"SUSA\"],\"index\":[1,2,3,4,5,6,7,8,9,10,11,12,13,14,15,16,17,18,19,20]},\"selected\":{\"id\":\"3255\"},\"selection_policy\":{\"id\":\"3256\"}},\"id\":\"3107\",\"type\":\"ColumnDataSource\"},{\"attributes\":{},\"id\":\"3226\",\"type\":\"Selection\"},{\"attributes\":{\"bottom_units\":\"screen\",\"fill_alpha\":0.5,\"fill_color\":\"lightgrey\",\"left_units\":\"screen\",\"level\":\"overlay\",\"line_alpha\":1.0,\"line_color\":\"black\",\"line_dash\":[4,4],\"line_width\":2,\"render_mode\":\"css\",\"right_units\":\"screen\",\"top_units\":\"screen\"},\"id\":\"3137\",\"type\":\"BoxAnnotation\"},{\"attributes\":{\"text\":\"Returns and Multiple analysis\",\"text_color\":{\"value\":\"black\"},\"text_font_size\":{\"value\":\"12pt\"}},\"id\":\"1227\",\"type\":\"Title\"},{\"attributes\":{\"source\":{\"id\":\"1319\"}},\"id\":\"1323\",\"type\":\"CDSView\"},{\"attributes\":{},\"id\":\"1242\",\"type\":\"BasicTicker\"},{\"attributes\":{},\"id\":\"3205\",\"type\":\"UnionRenderers\"},{\"attributes\":{\"active_drag\":\"auto\",\"active_inspect\":\"auto\",\"active_multi\":null,\"active_scroll\":\"auto\",\"active_tap\":\"auto\",\"tools\":[{\"id\":\"1245\"},{\"id\":\"1246\"},{\"id\":\"1247\"},{\"id\":\"1248\"},{\"id\":\"1249\"},{\"id\":\"1250\"},{\"id\":\"1251\"},{\"id\":\"1252\"},{\"id\":\"1266\"}]},\"id\":\"1257\",\"type\":\"Toolbar\"},{\"attributes\":{\"axis_label\":\"Multiple levels\",\"formatter\":{\"id\":\"1276\"},\"ticker\":{\"id\":\"1242\"}},\"id\":\"1241\",\"type\":\"LinearAxis\"},{\"attributes\":{},\"id\":\"2983\",\"type\":\"LinearScale\"},{\"attributes\":{\"fill_alpha\":{\"value\":0.1},\"fill_color\":{\"value\":\"blue\"},\"line_alpha\":{\"value\":0.1},\"line_color\":{\"value\":\"#1f77b4\"},\"size\":{\"units\":\"screen\",\"value\":6},\"x\":{\"field\":\"x\"},\"y\":{\"field\":\"y\"}},\"id\":\"1321\",\"type\":\"Circle\"},{\"attributes\":{},\"id\":\"2985\",\"type\":\"LinearScale\"},{\"attributes\":{},\"id\":\"3214\",\"type\":\"UnionRenderers\"},{\"attributes\":{\"text\":\"Variation in ESG categories\",\"text_color\":{\"value\":\"black\"},\"text_font_size\":{\"value\":\"12pt\"}},\"id\":\"3117\",\"type\":\"Title\"},{\"attributes\":{},\"id\":\"2941\",\"type\":\"WheelZoomTool\"},{\"attributes\":{},\"id\":\"3253\",\"type\":\"Selection\"},{\"attributes\":{},\"id\":\"3201\",\"type\":\"UnionRenderers\"},{\"attributes\":{\"data_source\":{\"id\":\"1270\"},\"glyph\":{\"id\":\"1271\"},\"hover_glyph\":null,\"muted_glyph\":null,\"nonselection_glyph\":{\"id\":\"1272\"},\"selection_glyph\":null,\"view\":{\"id\":\"1274\"}},\"id\":\"1273\",\"type\":\"GlyphRenderer\"},{\"attributes\":{\"fill_alpha\":{\"value\":0.1},\"fill_color\":{\"value\":\"white\"},\"line_alpha\":{\"value\":0.1},\"line_color\":{\"value\":\"#1f77b4\"},\"size\":{\"units\":\"screen\",\"value\":8},\"x\":{\"field\":\"x\"},\"y\":{\"field\":\"y\"}},\"id\":\"1272\",\"type\":\"Circle\"},{\"attributes\":{\"fill_color\":{\"field\":\"color\",\"transform\":{\"id\":\"3008\"}},\"line_color\":{\"field\":\"color\",\"transform\":{\"id\":\"3008\"}},\"size\":{\"units\":\"screen\",\"value\":5.477225575051661},\"x\":{\"field\":\"Returns\"},\"y\":{\"field\":\"Projected EPS Growth (%)\"}},\"id\":\"3012\",\"type\":\"Scatter\"},{\"attributes\":{\"source\":{\"id\":\"1301\"}},\"id\":\"1305\",\"type\":\"CDSView\"},{\"attributes\":{\"label\":{\"value\":\"ESG Average\"},\"renderers\":[{\"id\":\"1322\"}]},\"id\":\"1338\",\"type\":\"LegendItem\"},{\"attributes\":{\"data\":{\"Name\":[\"Matthew 25\",\"VALIC Company I Large Capital Growth\",\"MFS Massachusetts Inv Gr Stk A\",\"Columbia Select Large Cap Growth Inst\",\"Vanguard Mega Cap Growth ETF\",\"Vanguard Growth Index Investor\",\"Calvert Equity A\",\"Ivy Large Cap Growth A\",\"Putnam Growth Opportunities A\",\"Brown Advisory Flexible Equity Inv\",\"MFS Growth B\",\"TCW Select Equities I\",\"Putnam Sustainable Leaders A\",\"JPMorgan Growth Advantage A\",\"Pioneer Disciplined Growth A\",\"Akre Focus Instl\",\"BNY Mellon Appreciation Investor\",\"Glenmede Quant US Large Cap Gr Eq\",\"Gabelli Growth AAA\",\"Edgewood Growth Instl\",\"Weitz Value Investor\",\"Invesco BuyBack Achievers ETF\",\"BNY Mellon Sustainable US Eq Fd Z\",\"Vanguard FTSE Social Index I\",\"Pioneer Fundamental Growth A\",\"Invesco S&P 500\\u00ae Quality ETF\",\"American Century Sustainable Equity A\",\"Nicholas\",\"Nuveen Winslow Large-Cap Growth ESG I\",\"Vanguard US Growth Investor\",\"MainStay Winslow Large Cap Growth A\",\"Parnassus Endeavor Investor\",\"Harbor Capital Appreciation Instl\",\"Weitz Partners Value Investor\",\"JHFunds2 Capital Appreciation NAV\",\"SEI Large Cap Growth F (SIMT)\",\"Amana Growth Investor\",\"JHancock US Global Leaders Growth A\",\"PGIM Jennison Focused Growth Z\",\"Calvert US Large Cap Core Rspnb Idx I\",\"PGIM Jennison Growth A\",\"TIAA-CREF Quant Large-Cap Growth Instl\",\"AMG Managers Montag & Caldwell Growth N\",\"State Street Instl US Equity Inv\",\"GE RSP US Equity\",\"iShares MSCI USA ESG Select ETF\",\"PACE Large Co Growth Equity P\",\"Fidelity\\u00ae Independence\",\"Fidelity\\u00ae Disciplined Equity\",\"Invesco Oppenheimer Main Street A\",\"MFS Massachusetts Investors Tr A\",\"Nuveen Santa Barbara Dividend Growth I\",\"Diamond Hill Large Cap A\",\"GMO Quality IV\",\"Lazard US Equity Concentrated Instl\",\"VALIC Company II U.S. Socially Rspnb\",\"Domini Impact Equity Investor\",\"Carillon ClariVest Capital Apprec A\",\"TIAA-CREF Social Choice Eq Instl\",\"Pioneer Core Equity A\",\"Fidelity\\u00ae Focused Stock\",\"iShares MSCI KLD 400 Social ETF\",\"Hartford Stock HLS IA\",\"Fidelity\\u00ae Magellan\\u00ae\",\"Pioneer A\",\"Vanguard Dividend Growth Inv\",\"Green Century Equity Individual Investor\",\"TIAA-CREF Large-Cap Growth Inst\",\"Parnassus Core Equity Investor\",\"Nicholas Equity Income I\",\"MassMutual Select Growth Opps R5\",\"Touchstone Large Cap Focused A\",\"American Century Disciplined Growth I\",\"Parnassus Mid Cap Growth Investor\",\"ClearBridge Appreciation A\",\"Invesco Oppenheimer Rising Dividends A\",\"Pioneer Disciplined Value A\",\"MainStay MacKay Growth A\",\"Victory Diversified Stock A\",\"MassMutual Select Equity Opports R5\",\"JPMorgan Intrepid Growth I\",\"American Century NT Equity Growth G\",\"Invesco Charter A\",\"MFS Blended Research Core Equity I\",\"Fidelity\\u00ae Dividend Growth\",\"Columbia Select Large Cap Equity Inst\",\"ClearBridge Large Cap Value I\",\"Hartford Dividend and Growth HLS IA\",\"GMO US Equity III\",\"Fidelity Advisor\\u00ae Dividend Growth I\",\"Sterling Capital Special Opps Inst\",\"American Century Equity Growth Inv\",\"BNY Mellon US Equity I\",\"Hartford Dividend and Growth Y\",\"Wells Fargo Large Cap Core Inst\",\"Columbia Dividend Income Inst\",\"GuideMark\\u00ae Large Cap Core Service\",\"Vanguard PRIMECAP Core Inv\",\"USAA Growth\",\"Ave Maria Rising Dividend\",\"Russell Inv Sustainable Equity E\",\"Touchstone Focused Y\",\"Olstein All Cap Value C\",\"PRIMECAP Odyssey Stock\",\"Delaware US Growth A\",\"First Trust Capital Strength ETF\",\"Smead Value Investor\",\"Neuberger Berman Sustainable Eq Investor\",\"Goldman Sachs Rising Dividend Gr A\",\"Sterling Capital Equity Income Instl\",\"American Beacon Bridgeway Lg Cp Val R5\",\"Dodge & Cox Stock\",\"Invesco Dynamic Large Cap Growth ETF\",\"AB Equity Income A\",\"Delaware Growth Equity A\",\"Fidelity\\u00ae Value Discovery\",\"American Century Income and Growth Inv\",\"FMI Large Cap Investor\",\"VALIC Company I Dividend Value\",\"Glenmede Quant US Large Cap Core Eq\",\"Sound Shore Investor\",\"Carillon Eagle Growth & Income A\",\"Fidelity\\u00ae Blue Chip Value\",\"Nuveen Large-Cap Value I\",\"Torray\",\"AIG Focused Dividend Strategy A\",\"AMG Yacktman Focused N\",\"AMG Yacktman I\",\"SPDR\\u00ae S&P 500 ETF Trust\"],\"P_over_E_Forward\":{\"__ndarray__\":\"16NwPQpXPUDNzMzMzIw1QNejcD0KFzpACtejcD0KLkCamZmZmZk3QIXrUbgehTdAMzMzMzPzO0CkcD0K12M2QM3MzMzMTChA4XoUrkfhJkAK16NwPYorQClcj8L1aD1AzczMzMwMO0DsUbgehas+QM3MzMzMzC9A9ihcj8J1PUA9CtejcL0lQOxRuB6FayZAhetRuB6FOEBcj8L1KJwzQMP1KFyPwjJAH4XrUbheMUApXI/C9WgzQArXo3A9SjBAZmZmZmbmKEDXo3A9Cpc0QI/C9ShcDy1A7FG4HoUrMED2KFyPwvUuQPYoXI/CdTxA9ihcj8K1NEAUrkfhepQyQMP1KFyPwipAcT0K16NwMUCuR+F6FC46QD0K16NwPS9ASOF6FK6HN0BmZmZmZuYtQClcj8L1KDJA7FG4HoUrOEDXo3A9CrdAQArXo3A9ijRA4XoUrkehMEDXo3A9Ctc2QClcj8L1KDtA7FG4HoWrNUBmZmZmZuYkQI/C9ShczzlAhetRuB6FIkCF61G4HgU+QDMzMzMzszNAPQrXo3C9IEBI4XoUrgcxQPYoXI/C9TRAj8L1KFzPMEB7FK5H4boxQBSuR+F6FCRA7FG4HoVrJUAzMzMzMzMxQGZmZmZmZjFAKVyPwvUoJEDhehSuR2E1QB+F61G4Hi9AUrgehesRNUAzMzMzMzM+QD0K16NwfTRASOF6FK4HMUDD9Shcj0I5QFyPwvUonDpAUrgehevRMUBmZmZmZmYuQFK4HoXrETFAAAAAAAAAAAD2KFyPwvUkQM3MzMzMTDBAuB6F61G4LkB7FK5H4To1QHsUrkfhejJACtejcD2KKkBcj8L1KFw8QOxRuB6FazZApHA9CtcjOECuR+F6FC4uQK5H4XoUri1AUrgehetRL0A9CtejcL0sQD0K16Nw/TBAexSuR+H6PUD2KFyPwrUzQM3MzMzMLEFASOF6FK7HKEA9CtejcL04QI/C9Shcjy9A7FG4HoVrKkAUrkfhehQqQI/C9ShcjypAUrgehevRMEAfhetRuJ4uQB+F61G43jdACtejcD3KOUAAAAAAAMAyQArXo3A9CjBA16NwPQpXO0DXo3A9Clc6QLgehetRODFAzczMzMxMI0DXo3A9CtclQPYoXI/C9TBAj8L1KFzPNEDNzMzMzEwmQBSuR+F6lClAUrgehetRKUA9CtejcL0uQD0K16NwvSpAH4XrUbieN0Bcj8L1KFwjQHE9Ctej8CxACtejcD0KMEBcj8L1KFwmQBSuR+F61DZAzczMzMxMJ0DXo3A9ClcyQKRwPQrXIzBAXI/C9SjcJEBmZmZmZmYmQBSuR+F6lCVA4XoUrkchNkDsUbgehWsoQKRwPQrXIzVA\",\"dtype\":\"float64\",\"shape\":[129]},\"Projected EPS Growth (%)\":{\"__ndarray__\":\"j8L1KFwPL0B7FK5H4folQHE9CtejcCtAZmZmZmbmJEAAAAAAAIApQBSuR+F6FClAzczMzMxMJ0BI4XoUrkcgQBSuR+F6lCFAPQrXo3A9HEBxPQrXo/AjQNejcD0KVyxApHA9CtcjLUDNzMzMzEwuQFK4HoXr0SNACtejcD2KKUBI4XoUrkciQHsUrkfh+iJAFK5H4XoUJ0D2KFyPwvUjQBSuR+F6FCVAhetRuB6FIEDD9Shcj8IlQAAAAAAAACRAZmZmZmbmIEAK16NwPQoYQClcj8L1qCFAuB6F61E4IkBcj8L1KNwhQGZmZmZmZipAUrgehetRK0ApXI/C9SgiQK5H4XoULiNAcT0K16NwKECkcD0K16MpQOF6FK5H4RpAzczMzMxMJUAzMzMzM7MgQEjhehSuxyVACtejcD2KJkCamZmZmZkwQBSuR+F6FClArkfhehSuI0CamZmZmRkjQClcj8L1KClAUrgehevRIUAAAAAAAAAhQArXo3A9iipAmpmZmZmZH0CamZmZmRkoQB+F61G4HiVA7FG4HoVrIEAK16NwPQokQHE9CtejcCFAzczMzMxMKEC4HoXrUbgiQArXo3A9CiNArkfhehSuH0BmZmZmZuYiQClcj8L1qCNAMzMzMzOzIEB7FK5H4XohQM3MzMzMzB1Aw/UoXI/CIED2KFyPwvUuQNejcD0K1yFAAAAAAAAAIkCkcD0K1yMsQD0K16NwvShAj8L1KFyPI0CamZmZmRkhQHE9Ctej8CRAAAAAAAAAAAAfhetRuJ4gQB+F61G4HiBAPQrXo3A9I0BSuB6F61EnQDMzMzMzsyVAXI/C9ShcKEC4HoXrUTgtQFK4HoXrUSlAMzMzMzOzKkA9CtejcD0fQB+F61G4HiJAAAAAAAAAHkDNzMzMzMwgQKRwPQrXoyJA16NwPQrXLkBcj8L1KFwkQPYoXI/C9SxAAAAAAAAAI0AAAAAAAAArQArXo3A9iiVA9ihcj8J1IEAfhetRuJ4hQAAAAAAAAB9A4XoUrkdhI0AzMzMzMzMjQAAAAAAAACpAZmZmZmbmK0Bcj8L1KNwkQJqZmZmZGSVAFK5H4XqULEAAAAAAAIArQAAAAAAAAChAj8L1KFyPIkCPwvUoXI8iQK5H4XoUriNAXI/C9SjcIUCF61G4HoUjQK5H4XoULiBAexSuR+H6IkC4HoXrUTgjQIXrUbgeBSBASOF6FK5HJ0AK16NwPYoiQJqZmZmZmSFAhetRuB6FGkBcj8L1KFweQK5H4XoULiNAzczMzMzMJEAfhetRuB4oQD0K16NwPSNA7FG4HoVrJUBmZmZmZuYgQK5H4XoUrhxAZmZmZmZmKEC4HoXrUbgXQHsUrkfheiFA\",\"dtype\":\"float64\",\"shape\":[129]},\"Projected_EPS_Growth_left_parenthesis_percent_right_parenthesis\":{\"__ndarray__\":\"j8L1KFwPL0B7FK5H4folQHE9CtejcCtAZmZmZmbmJEAAAAAAAIApQBSuR+F6FClAzczMzMxMJ0BI4XoUrkcgQBSuR+F6lCFAPQrXo3A9HEBxPQrXo/AjQNejcD0KVyxApHA9CtcjLUDNzMzMzEwuQFK4HoXr0SNACtejcD2KKUBI4XoUrkciQHsUrkfh+iJAFK5H4XoUJ0D2KFyPwvUjQBSuR+F6FCVAhetRuB6FIEDD9Shcj8IlQAAAAAAAACRAZmZmZmbmIEAK16NwPQoYQClcj8L1qCFAuB6F61E4IkBcj8L1KNwhQGZmZmZmZipAUrgehetRK0ApXI/C9SgiQK5H4XoULiNAcT0K16NwKECkcD0K16MpQOF6FK5H4RpAzczMzMxMJUAzMzMzM7MgQEjhehSuxyVACtejcD2KJkCamZmZmZkwQBSuR+F6FClArkfhehSuI0CamZmZmRkjQClcj8L1KClAUrgehevRIUAAAAAAAAAhQArXo3A9iipAmpmZmZmZH0CamZmZmRkoQB+F61G4HiVA7FG4HoVrIEAK16NwPQokQHE9CtejcCFAzczMzMxMKEC4HoXrUbgiQArXo3A9CiNArkfhehSuH0BmZmZmZuYiQClcj8L1qCNAMzMzMzOzIEB7FK5H4XohQM3MzMzMzB1Aw/UoXI/CIED2KFyPwvUuQNejcD0K1yFAAAAAAAAAIkCkcD0K1yMsQD0K16NwvShAj8L1KFyPI0CamZmZmRkhQHE9Ctej8CRAAAAAAAAAAAAfhetRuJ4gQB+F61G4HiBAPQrXo3A9I0BSuB6F61EnQDMzMzMzsyVAXI/C9ShcKEC4HoXrUTgtQFK4HoXrUSlAMzMzMzOzKkA9CtejcD0fQB+F61G4HiJAAAAAAAAAHkDNzMzMzMwgQKRwPQrXoyJA16NwPQrXLkBcj8L1KFwkQPYoXI/C9SxAAAAAAAAAI0AAAAAAAAArQArXo3A9iiVA9ihcj8J1IEAfhetRuJ4hQAAAAAAAAB9A4XoUrkdhI0AzMzMzMzMjQAAAAAAAACpAZmZmZmbmK0Bcj8L1KNwkQJqZmZmZGSVAFK5H4XqULEAAAAAAAIArQAAAAAAAAChAj8L1KFyPIkCPwvUoXI8iQK5H4XoUriNAXI/C9SjcIUCF61G4HoUjQK5H4XoULiBAexSuR+H6IkC4HoXrUTgjQIXrUbgeBSBASOF6FK5HJ0AK16NwPYoiQJqZmZmZmSFAhetRuB6FGkBcj8L1KFweQK5H4XoULiNAzczMzMzMJEAfhetRuB4oQD0K16NwPSNA7FG4HoVrJUBmZmZmZuYgQK5H4XoUrhxAZmZmZmZmKEC4HoXrUbgXQHsUrkfheiFA\",\"dtype\":\"float64\",\"shape\":[129]},\"Returns\":{\"__ndarray__\":\"cGPyIgbSuj8Qt4aGjaywPx92cQjiCbg/gALLwdrCmT9gypEmx/7AP5Al3mu60MA/YIwgPjk4rz/wFkW1VF6zP7Bn+9XVoLs/D9t79HJfvz9BWQ5RuxC9P2BQdan/F7A/wNher+5BtT8Qhvcesv29P7+BPym5pqI/YORdktm1xD//H3Lzr5RAP9DdMZirpbw/IEt1V5tZtj+wDVyz72vCP2BPSGBjDLI/sJOYgwhgwD8AuHaNQgenP6+hyJ8+LsA/r2UpNgkyuT+ovYlhpA3APwBaSJrogbw/AKiYmYYLrD+hTOKznmmnPxB/8VSg0Lk/XxlUzrkvpT8wCb6ppNyxP8CP88q1NLY/v4jxhxnRsT9A8pmBMzqnP/AGtPPZ5LE/oGhph46dsz9/QZWnDY6xP6CmGbzAyLU/EDxV8ANnuj9/za51ZSK5P4ABv6X8164/oDIve++0kr/BwOFvBbuTPyB1X/IAGKc/oCouoiwZuz8fT/7grFKkP1ATryx4DrA/X0xMi0wIsT8gnEYfz0KsP4G7lTony7A/UDJvhng/tD8PMmkMsvazP0AFA7dSXpk/MLc6pwy7sT9QSagctVi4PyDlyGrl8q8/wRjdRolIrz9QoX8S4AW1P2AHZFEcHbU/kMjI5jAStz+wpONVL+S7PzCVOZ0HSLk/wLhQi4gtqD/AOxKNBSKTv0A8CUVTe7Y/ISuzUD2Yuz+A2o7p2Fe3P7DSUPVmTrE/QZGlrTAspT+AEeLh9cGbP6Bmkh3o4qY/UIfhXiGftT9AO1zEpVyjP1+7bcE1DLQ/oPISq8S5pD+Ajn+RkJiPvyCUsz2lFKY/QADqh0Zglz/A37UkK3OUP0BXPrcrIbw/gKOU314Fmz8AJ8wFDip4P+BWrqonsrY/AEj7rPfumz+AEpB9CYCbP6DcAJYk/7M/AE23v/HIlz//kJgqlJSUP4G1ADCul6o/4ICKFAPrqz+g2TDsTA2sPwA+97giCa4/QExau/a2pz/ASnZkevq0P+BSeoTrOrM/b5gyO9squT+gCv//b022Px8nAHdgKrM/AEpHtG78rD8xJnmVuoGyP3AocJneB7U/YI/y5aDWrz+xOQIj7r26P0Au9E/+0Ko/gb9mimUqvT+Bw4XjZgS7P+DvAb0EVa8/f/zKGn6OhL/h4CNdqoOuP1EaT6T0srU/sLnqop+Vsj9IzLsqFGHBP+BSy5zxvKU/YCtYEobstD+Avs7TC962P19pbkSap68/Iex/YZJsoT/fqeBQpOeqPyHmPcN3+7k/gRDlYo2cpD+/gW0KV0CvPzA4EgnazLM/oMhM9mQpoT+wyVOLkeSwP1+17RaOJK0/gD+39ENyiT+CBKSqFdqeP3/xhiDnu7w/\",\"dtype\":\"float64\",\"shape\":[129]},\"color\":{\"__ndarray__\":\"16NwPQpXPUDNzMzMzIw1QNejcD0KFzpACtejcD0KLkCamZmZmZk3QIXrUbgehTdAMzMzMzPzO0CkcD0K12M2QM3MzMzMTChA4XoUrkfhJkAK16NwPYorQClcj8L1aD1AzczMzMwMO0DsUbgehas+QM3MzMzMzC9A9ihcj8J1PUA9CtejcL0lQOxRuB6FayZAhetRuB6FOEBcj8L1KJwzQMP1KFyPwjJAH4XrUbheMUApXI/C9WgzQArXo3A9SjBAZmZmZmbmKEDXo3A9Cpc0QI/C9ShcDy1A7FG4HoUrMED2KFyPwvUuQPYoXI/CdTxA9ihcj8K1NEAUrkfhepQyQMP1KFyPwipAcT0K16NwMUCuR+F6FC46QD0K16NwPS9ASOF6FK6HN0BmZmZmZuYtQClcj8L1KDJA7FG4HoUrOEDXo3A9CrdAQArXo3A9ijRA4XoUrkehMEDXo3A9Ctc2QClcj8L1KDtA7FG4HoWrNUBmZmZmZuYkQI/C9ShczzlAhetRuB6FIkCF61G4HgU+QDMzMzMzszNAPQrXo3C9IEBI4XoUrgcxQPYoXI/C9TRAj8L1KFzPMEB7FK5H4boxQBSuR+F6FCRA7FG4HoVrJUAzMzMzMzMxQGZmZmZmZjFAKVyPwvUoJEDhehSuR2E1QB+F61G4Hi9AUrgehesRNUAzMzMzMzM+QD0K16NwfTRASOF6FK4HMUDD9Shcj0I5QFyPwvUonDpAUrgehevRMUBmZmZmZmYuQFK4HoXrETFAAAAAAAAAAAD2KFyPwvUkQM3MzMzMTDBAuB6F61G4LkB7FK5H4To1QHsUrkfhejJACtejcD2KKkBcj8L1KFw8QOxRuB6FazZApHA9CtcjOECuR+F6FC4uQK5H4XoUri1AUrgehetRL0A9CtejcL0sQD0K16Nw/TBAexSuR+H6PUD2KFyPwrUzQM3MzMzMLEFASOF6FK7HKEA9CtejcL04QI/C9Shcjy9A7FG4HoVrKkAUrkfhehQqQI/C9ShcjypAUrgehevRMEAfhetRuJ4uQB+F61G43jdACtejcD3KOUAAAAAAAMAyQArXo3A9CjBA16NwPQpXO0DXo3A9Clc6QLgehetRODFAzczMzMxMI0DXo3A9CtclQPYoXI/C9TBAj8L1KFzPNEDNzMzMzEwmQBSuR+F6lClAUrgehetRKUA9CtejcL0uQD0K16NwvSpAH4XrUbieN0Bcj8L1KFwjQHE9Ctej8CxACtejcD0KMEBcj8L1KFwmQBSuR+F61DZAzczMzMxMJ0DXo3A9ClcyQKRwPQrXIzBAXI/C9SjcJEBmZmZmZmYmQBSuR+F6lCVA4XoUrkchNkDsUbgehWsoQKRwPQrXIzVA\",\"dtype\":\"float64\",\"shape\":[129]}},\"selected\":{\"id\":\"3010\"},\"selection_policy\":{\"id\":\"3034\"}},\"id\":\"3009\",\"type\":\"ColumnDataSource\"},{\"attributes\":{},\"id\":\"2988\",\"type\":\"BasicTicker\"},{\"attributes\":{\"axis_label\":\"Morningstar Rating\",\"bounds\":\"auto\",\"formatter\":{\"id\":\"3186\"},\"major_label_orientation\":\"horizontal\",\"ticker\":{\"id\":\"3126\"}},\"id\":\"3125\",\"type\":\"LinearAxis\"},{\"attributes\":{},\"id\":\"1337\",\"type\":\"UnionRenderers\"},{\"attributes\":{\"fill_color\":{\"value\":\"orange\"},\"line_color\":{\"value\":\"#1f77b4\"},\"size\":{\"units\":\"screen\",\"value\":6},\"x\":{\"field\":\"x\"},\"y\":{\"field\":\"y\"}},\"id\":\"1302\",\"type\":\"Circle\"},{\"attributes\":{\"fill_alpha\":{\"value\":0.1},\"fill_color\":{\"value\":\"orange\"},\"line_alpha\":{\"value\":0.1},\"line_color\":{\"value\":\"#1f77b4\"},\"size\":{\"units\":\"screen\",\"value\":6},\"x\":{\"field\":\"x\"},\"y\":{\"field\":\"y\"}},\"id\":\"1303\",\"type\":\"Circle\"},{\"attributes\":{\"fill_alpha\":{\"value\":0.1},\"fill_color\":{\"field\":\"color\",\"transform\":{\"id\":\"3008\"}},\"line_alpha\":{\"value\":0.1},\"line_color\":{\"field\":\"color\",\"transform\":{\"id\":\"3008\"}},\"size\":{\"units\":\"screen\",\"value\":5.477225575051661},\"x\":{\"field\":\"Returns\"},\"y\":{\"field\":\"Projected EPS Growth (%)\"}},\"id\":\"3013\",\"type\":\"Scatter\"},{\"attributes\":{\"css_classes\":[\"markdown\"],\"margin\":[5,5,5,5],\"name\":\"Markdown02978\",\"text\":\"&lt;p&gt;Summary&lt;/p&gt;\"},\"id\":\"2874\",\"type\":\"panel.models.markup.HTML\"},{\"attributes\":{\"axis\":{\"id\":\"2991\"},\"dimension\":1,\"grid_line_color\":null,\"ticker\":null},\"id\":\"2994\",\"type\":\"Grid\"},{\"attributes\":{\"data_source\":{\"id\":\"3068\"},\"glyph\":{\"id\":\"3071\"},\"hover_glyph\":null,\"muted_glyph\":{\"id\":\"3073\"},\"nonselection_glyph\":{\"id\":\"3072\"},\"selection_glyph\":null,\"view\":{\"id\":\"3075\"}},\"id\":\"3074\",\"type\":\"GlyphRenderer\"},{\"attributes\":{\"callback\":null,\"tooltips\":[[\"index\",\"$index\"],[\"Returns\",\"@x{00.0%}\"],[\"P/E Forward\",\"@y\"]]},\"id\":\"1266\",\"type\":\"HoverTool\"},{\"attributes\":{},\"id\":\"3019\",\"type\":\"BasicTicker\"},{\"attributes\":{\"axis_label\":\"Returns\",\"bounds\":\"auto\",\"formatter\":{\"id\":\"3022\"},\"major_label_orientation\":\"horizontal\",\"ticker\":{\"id\":\"2988\"}},\"id\":\"2987\",\"type\":\"LinearAxis\"},{\"attributes\":{},\"id\":\"1245\",\"type\":\"PanTool\"},{\"attributes\":{\"bottom_units\":\"screen\",\"fill_alpha\":0.5,\"fill_color\":\"lightgrey\",\"left_units\":\"screen\",\"level\":\"overlay\",\"line_alpha\":1.0,\"line_color\":\"black\",\"line_dash\":[4,4],\"line_width\":2,\"render_mode\":\"css\",\"right_units\":\"screen\",\"top_units\":\"screen\"},\"id\":\"1254\",\"type\":\"BoxAnnotation\"},{\"attributes\":{},\"id\":\"1354\",\"type\":\"UnionRenderers\"},{\"attributes\":{},\"id\":\"3055\",\"type\":\"SaveTool\"},{\"attributes\":{},\"id\":\"3078\",\"type\":\"BasicTickFormatter\"},{\"attributes\":{\"margin\":[0,0,0,0],\"tabs\":[{\"id\":\"2912\"},{\"id\":\"2972\"},{\"id\":\"3109\"},{\"id\":\"3210\"}]},\"id\":\"2872\",\"type\":\"Tabs\"},{\"attributes\":{\"children\":[{\"id\":\"1226\"},{\"id\":\"3108\"}],\"margin\":[0,0,0,0],\"name\":\"Row02969\"},\"id\":\"3090\",\"type\":\"Row\"},{\"attributes\":{\"overlay\":{\"id\":\"1254\"}},\"id\":\"1246\",\"type\":\"BoxZoomTool\"},{\"attributes\":{\"label\":{\"value\":\"Projected EPS Growth (%)\"},\"renderers\":[{\"id\":\"1304\"}]},\"id\":\"1318\",\"type\":\"LegendItem\"},{\"attributes\":{\"children\":[{\"id\":\"2974\"},{\"id\":\"2978\"},{\"id\":\"3035\"},{\"id\":\"3090\"}],\"margin\":[0,0,0,0],\"name\":\"Column02993\"},\"id\":\"2973\",\"type\":\"Column\"},{\"attributes\":{},\"id\":\"3123\",\"type\":\"CategoricalScale\"},{\"attributes\":{},\"id\":\"3069\",\"type\":\"Selection\"},{\"attributes\":{},\"id\":\"3203\",\"type\":\"UnionRenderers\"},{\"attributes\":{},\"id\":\"1247\",\"type\":\"SaveTool\"},{\"attributes\":{\"fill_color\":{\"value\":\"green\"},\"line_color\":{\"value\":\"#1f77b4\"},\"size\":{\"units\":\"screen\",\"value\":6},\"x\":{\"field\":\"x\"},\"y\":{\"field\":\"y\"}},\"id\":\"1286\",\"type\":\"Circle\"},{\"attributes\":{\"overlay\":{\"id\":\"2944\"}},\"id\":\"2942\",\"type\":\"BoxZoomTool\"},{\"attributes\":{\"overlay\":{\"id\":\"3060\"}},\"id\":\"3058\",\"type\":\"BoxZoomTool\"},{\"attributes\":{\"_render_count\":0,\"config\":null,\"data\":[{\"labels\":[\"Large Blend\",\"Large Growth\",\"Large Value\"],\"textinfo\":\"label+percent\",\"type\":\"pie\"}],\"data_sources\":[{\"id\":\"3088\"}],\"layout\":{\"template\":{\"data\":{\"bar\":[{\"error_x\":{\"color\":\"#2a3f5f\"},\"error_y\":{\"color\":\"#2a3f5f\"},\"marker\":{\"line\":{\"color\":\"#E5ECF6\",\"width\":0.5}},\"type\":\"bar\"}],\"barpolar\":[{\"marker\":{\"line\":{\"color\":\"#E5ECF6\",\"width\":0.5}},\"type\":\"barpolar\"}],\"carpet\":[{\"aaxis\":{\"endlinecolor\":\"#2a3f5f\",\"gridcolor\":\"white\",\"linecolor\":\"white\",\"minorgridcolor\":\"white\",\"startlinecolor\":\"#2a3f5f\"},\"baxis\":{\"endlinecolor\":\"#2a3f5f\",\"gridcolor\":\"white\",\"linecolor\":\"white\",\"minorgridcolor\":\"white\",\"startlinecolor\":\"#2a3f5f\"},\"type\":\"carpet\"}],\"choropleth\":[{\"colorbar\":{\"outlinewidth\":0,\"ticks\":\"\"},\"type\":\"choropleth\"}],\"contour\":[{\"colorbar\":{\"outlinewidth\":0,\"ticks\":\"\"},\"colorscale\":[[0.0,\"#0d0887\"],[0.1111111111111111,\"#46039f\"],[0.2222222222222222,\"#7201a8\"],[0.3333333333333333,\"#9c179e\"],[0.4444444444444444,\"#bd3786\"],[0.5555555555555556,\"#d8576b\"],[0.6666666666666666,\"#ed7953\"],[0.7777777777777778,\"#fb9f3a\"],[0.8888888888888888,\"#fdca26\"],[1.0,\"#f0f921\"]],\"type\":\"contour\"}],\"contourcarpet\":[{\"colorbar\":{\"outlinewidth\":0,\"ticks\":\"\"},\"type\":\"contourcarpet\"}],\"heatmap\":[{\"colorbar\":{\"outlinewidth\":0,\"ticks\":\"\"},\"colorscale\":[[0.0,\"#0d0887\"],[0.1111111111111111,\"#46039f\"],[0.2222222222222222,\"#7201a8\"],[0.3333333333333333,\"#9c179e\"],[0.4444444444444444,\"#bd3786\"],[0.5555555555555556,\"#d8576b\"],[0.6666666666666666,\"#ed7953\"],[0.7777777777777778,\"#fb9f3a\"],[0.8888888888888888,\"#fdca26\"],[1.0,\"#f0f921\"]],\"type\":\"heatmap\"}],\"heatmapgl\":[{\"colorbar\":{\"outlinewidth\":0,\"ticks\":\"\"},\"colorscale\":[[0.0,\"#0d0887\"],[0.1111111111111111,\"#46039f\"],[0.2222222222222222,\"#7201a8\"],[0.3333333333333333,\"#9c179e\"],[0.4444444444444444,\"#bd3786\"],[0.5555555555555556,\"#d8576b\"],[0.6666666666666666,\"#ed7953\"],[0.7777777777777778,\"#fb9f3a\"],[0.8888888888888888,\"#fdca26\"],[1.0,\"#f0f921\"]],\"type\":\"heatmapgl\"}],\"histogram\":[{\"marker\":{\"colorbar\":{\"outlinewidth\":0,\"ticks\":\"\"}},\"type\":\"histogram\"}],\"histogram2d\":[{\"colorbar\":{\"outlinewidth\":0,\"ticks\":\"\"},\"colorscale\":[[0.0,\"#0d0887\"],[0.1111111111111111,\"#46039f\"],[0.2222222222222222,\"#7201a8\"],[0.3333333333333333,\"#9c179e\"],[0.4444444444444444,\"#bd3786\"],[0.5555555555555556,\"#d8576b\"],[0.6666666666666666,\"#ed7953\"],[0.7777777777777778,\"#fb9f3a\"],[0.8888888888888888,\"#fdca26\"],[1.0,\"#f0f921\"]],\"type\":\"histogram2d\"}],\"histogram2dcontour\":[{\"colorbar\":{\"outlinewidth\":0,\"ticks\":\"\"},\"colorscale\":[[0.0,\"#0d0887\"],[0.1111111111111111,\"#46039f\"],[0.2222222222222222,\"#7201a8\"],[0.3333333333333333,\"#9c179e\"],[0.4444444444444444,\"#bd3786\"],[0.5555555555555556,\"#d8576b\"],[0.6666666666666666,\"#ed7953\"],[0.7777777777777778,\"#fb9f3a\"],[0.8888888888888888,\"#fdca26\"],[1.0,\"#f0f921\"]],\"type\":\"histogram2dcontour\"}],\"mesh3d\":[{\"colorbar\":{\"outlinewidth\":0,\"ticks\":\"\"},\"type\":\"mesh3d\"}],\"parcoords\":[{\"line\":{\"colorbar\":{\"outlinewidth\":0,\"ticks\":\"\"}},\"type\":\"parcoords\"}],\"pie\":[{\"automargin\":true,\"type\":\"pie\"}],\"scatter\":[{\"marker\":{\"colorbar\":{\"outlinewidth\":0,\"ticks\":\"\"}},\"type\":\"scatter\"}],\"scatter3d\":[{\"line\":{\"colorbar\":{\"outlinewidth\":0,\"ticks\":\"\"}},\"marker\":{\"colorbar\":{\"outlinewidth\":0,\"ticks\":\"\"}},\"type\":\"scatter3d\"}],\"scattercarpet\":[{\"marker\":{\"colorbar\":{\"outlinewidth\":0,\"ticks\":\"\"}},\"type\":\"scattercarpet\"}],\"scattergeo\":[{\"marker\":{\"colorbar\":{\"outlinewidth\":0,\"ticks\":\"\"}},\"type\":\"scattergeo\"}],\"scattergl\":[{\"marker\":{\"colorbar\":{\"outlinewidth\":0,\"ticks\":\"\"}},\"type\":\"scattergl\"}],\"scattermapbox\":[{\"marker\":{\"colorbar\":{\"outlinewidth\":0,\"ticks\":\"\"}},\"type\":\"scattermapbox\"}],\"scatterpolar\":[{\"marker\":{\"colorbar\":{\"outlinewidth\":0,\"ticks\":\"\"}},\"type\":\"scatterpolar\"}],\"scatterpolargl\":[{\"marker\":{\"colorbar\":{\"outlinewidth\":0,\"ticks\":\"\"}},\"type\":\"scatterpolargl\"}],\"scatterternary\":[{\"marker\":{\"colorbar\":{\"outlinewidth\":0,\"ticks\":\"\"}},\"type\":\"scatterternary\"}],\"surface\":[{\"colorbar\":{\"outlinewidth\":0,\"ticks\":\"\"},\"colorscale\":[[0.0,\"#0d0887\"],[0.1111111111111111,\"#46039f\"],[0.2222222222222222,\"#7201a8\"],[0.3333333333333333,\"#9c179e\"],[0.4444444444444444,\"#bd3786\"],[0.5555555555555556,\"#d8576b\"],[0.6666666666666666,\"#ed7953\"],[0.7777777777777778,\"#fb9f3a\"],[0.8888888888888888,\"#fdca26\"],[1.0,\"#f0f921\"]],\"type\":\"surface\"}],\"table\":[{\"cells\":{\"fill\":{\"color\":\"#EBF0F8\"},\"line\":{\"color\":\"white\"}},\"header\":{\"fill\":{\"color\":\"#C8D4E3\"},\"line\":{\"color\":\"white\"}},\"type\":\"table\"}]},\"layout\":{\"annotationdefaults\":{\"arrowcolor\":\"#2a3f5f\",\"arrowhead\":0,\"arrowwidth\":1},\"coloraxis\":{\"colorbar\":{\"outlinewidth\":0,\"ticks\":\"\"}},\"colorscale\":{\"diverging\":[[0,\"#8e0152\"],[0.1,\"#c51b7d\"],[0.2,\"#de77ae\"],[0.3,\"#f1b6da\"],[0.4,\"#fde0ef\"],[0.5,\"#f7f7f7\"],[0.6,\"#e6f5d0\"],[0.7,\"#b8e186\"],[0.8,\"#7fbc41\"],[0.9,\"#4d9221\"],[1,\"#276419\"]],\"sequential\":[[0.0,\"#0d0887\"],[0.1111111111111111,\"#46039f\"],[0.2222222222222222,\"#7201a8\"],[0.3333333333333333,\"#9c179e\"],[0.4444444444444444,\"#bd3786\"],[0.5555555555555556,\"#d8576b\"],[0.6666666666666666,\"#ed7953\"],[0.7777777777777778,\"#fb9f3a\"],[0.8888888888888888,\"#fdca26\"],[1.0,\"#f0f921\"]],\"sequentialminus\":[[0.0,\"#0d0887\"],[0.1111111111111111,\"#46039f\"],[0.2222222222222222,\"#7201a8\"],[0.3333333333333333,\"#9c179e\"],[0.4444444444444444,\"#bd3786\"],[0.5555555555555556,\"#d8576b\"],[0.6666666666666666,\"#ed7953\"],[0.7777777777777778,\"#fb9f3a\"],[0.8888888888888888,\"#fdca26\"],[1.0,\"#f0f921\"]]},\"colorway\":[\"#636efa\",\"#EF553B\",\"#00cc96\",\"#ab63fa\",\"#FFA15A\",\"#19d3f3\",\"#FF6692\",\"#B6E880\",\"#FF97FF\",\"#FECB52\"],\"font\":{\"color\":\"#2a3f5f\"},\"geo\":{\"bgcolor\":\"white\",\"lakecolor\":\"white\",\"landcolor\":\"#E5ECF6\",\"showlakes\":true,\"showland\":true,\"subunitcolor\":\"white\"},\"hoverlabel\":{\"align\":\"left\"},\"hovermode\":\"closest\",\"mapbox\":{\"style\":\"light\"},\"paper_bgcolor\":\"white\",\"plot_bgcolor\":\"#E5ECF6\",\"polar\":{\"angularaxis\":{\"gridcolor\":\"white\",\"linecolor\":\"white\",\"ticks\":\"\"},\"bgcolor\":\"#E5ECF6\",\"radialaxis\":{\"gridcolor\":\"white\",\"linecolor\":\"white\",\"ticks\":\"\"}},\"scene\":{\"xaxis\":{\"backgroundcolor\":\"#E5ECF6\",\"gridcolor\":\"white\",\"gridwidth\":2,\"linecolor\":\"white\",\"showbackground\":true,\"ticks\":\"\",\"zerolinecolor\":\"white\"},\"yaxis\":{\"backgroundcolor\":\"#E5ECF6\",\"gridcolor\":\"white\",\"gridwidth\":2,\"linecolor\":\"white\",\"showbackground\":true,\"ticks\":\"\",\"zerolinecolor\":\"white\"},\"zaxis\":{\"backgroundcolor\":\"#E5ECF6\",\"gridcolor\":\"white\",\"gridwidth\":2,\"linecolor\":\"white\",\"showbackground\":true,\"ticks\":\"\",\"zerolinecolor\":\"white\"}},\"shapedefaults\":{\"line\":{\"color\":\"#2a3f5f\"}},\"ternary\":{\"aaxis\":{\"gridcolor\":\"white\",\"linecolor\":\"white\",\"ticks\":\"\"},\"baxis\":{\"gridcolor\":\"white\",\"linecolor\":\"white\",\"ticks\":\"\"},\"bgcolor\":\"#E5ECF6\",\"caxis\":{\"gridcolor\":\"white\",\"linecolor\":\"white\",\"ticks\":\"\"}},\"title\":{\"x\":0.05},\"xaxis\":{\"automargin\":true,\"gridcolor\":\"white\",\"linecolor\":\"white\",\"ticks\":\"\",\"title\":{\"standoff\":15},\"zerolinecolor\":\"white\",\"zerolinewidth\":2},\"yaxis\":{\"automargin\":true,\"gridcolor\":\"white\",\"linecolor\":\"white\",\"ticks\":\"\",\"title\":{\"standoff\":15},\"zerolinecolor\":\"white\",\"zerolinewidth\":2}}}},\"margin\":[5,5,5,5],\"name\":\"Plotly02962\",\"viewport_update_throttle\":200},\"id\":\"3089\",\"type\":\"panel.models.plotly.PlotlyPlot\"},{\"attributes\":{\"axis\":{\"id\":\"3051\"},\"dimension\":1,\"grid_line_color\":null,\"ticker\":null},\"id\":\"3054\",\"type\":\"Grid\"},{\"attributes\":{\"fill_alpha\":{\"value\":0.1},\"fill_color\":{\"value\":\"#1f77b3\"},\"line_alpha\":{\"value\":0.1},\"top\":{\"field\":\"Average_Risk\"},\"width\":{\"value\":0.8},\"x\":{\"field\":\"Category\"}},\"id\":\"3072\",\"type\":\"VBar\"},{\"attributes\":{\"overlay\":{\"id\":\"1253\"}},\"id\":\"1248\",\"type\":\"BoxSelectTool\"},{\"attributes\":{\"fill_color\":{\"value\":\"white\"},\"line_color\":{\"value\":\"#1f77b4\"},\"size\":{\"units\":\"screen\",\"value\":8},\"x\":{\"field\":\"x\"},\"y\":{\"field\":\"y\"}},\"id\":\"1271\",\"type\":\"Circle\"},{\"attributes\":{},\"id\":\"3034\",\"type\":\"UnionRenderers\"},{\"attributes\":{\"children\":[{\"id\":\"3039\"},{\"id\":\"3089\"}],\"margin\":[0,0,0,0],\"name\":\"Row02964\"},\"id\":\"3035\",\"type\":\"Row\"},{\"attributes\":{},\"id\":\"3087\",\"type\":\"UnionRenderers\"},{\"attributes\":{\"overlay\":{\"id\":\"1255\"}},\"id\":\"1249\",\"type\":\"LassoSelectTool\"},{\"attributes\":{\"source\":{\"id\":\"2952\"}},\"id\":\"2959\",\"type\":\"CDSView\"},{\"attributes\":{},\"id\":\"3052\",\"type\":\"BasicTicker\"},{\"attributes\":{\"data_source\":{\"id\":\"1301\"},\"glyph\":{\"id\":\"1302\"},\"hover_glyph\":null,\"muted_glyph\":null,\"nonselection_glyph\":{\"id\":\"1303\"},\"selection_glyph\":null,\"view\":{\"id\":\"1305\"}},\"id\":\"1304\",\"type\":\"GlyphRenderer\"},{\"attributes\":{\"end\":13.174,\"reset_end\":13.174,\"reset_start\":0.8859999999999999,\"start\":0.8859999999999999,\"tags\":[[[\"Morningstar Rating\",\"Morningstar Rating\",null]]]},\"id\":\"3114\",\"type\":\"Range1d\"},{\"attributes\":{},\"id\":\"3059\",\"type\":\"ResetTool\"},{\"attributes\":{\"data\":{\"x\":{\"__ndarray__\":\"YORdktm1xD+wDVyz72vCP0jMuyoUYcE/YMqRJsf+wD+QJd5rutDAP7CTmIMIYMA/r6HInz4uwD+ovYlhpA3APw/be/RyX78/EIb3HrL9vT+Bv2aKZSq9P0FZDlG7EL0/f/GGIOe7vD/Q3TGYq6W8PwBaSJrogbw/QFc+tyshvD+wpONVL+S7P7Bn+9XVoLs/ISuzUD2Yuz+gKi6iLBm7Pw==\",\"dtype\":\"float64\",\"shape\":[20]},\"y\":{\"__ndarray__\":\"9ihcj8J1PUBcj8L1KJwzQD0K16NwvS5AmpmZmZmZN0CF61G4HoU3QB+F61G4XjFACtejcD1KMEDXo3A9Cpc0QOF6FK5H4SZA7FG4HoWrPkDNzMzMzEwjQArXo3A9iitApHA9CtcjNUDsUbgehWsmQI/C9ShcDy1A7FG4HoVrNkDhehSuR2E1QM3MzMzMTChASOF6FK4HMUDsUbgehas1QA==\",\"dtype\":\"float64\",\"shape\":[20]}},\"selected\":{\"id\":\"1316\"},\"selection_policy\":{\"id\":\"1317\"}},\"id\":\"1285\",\"type\":\"ColumnDataSource\"},{\"attributes\":{\"axis_label\":\"ESG Score\",\"bounds\":\"auto\",\"formatter\":{\"id\":\"3188\"},\"major_label_orientation\":\"horizontal\",\"ticker\":{\"id\":\"3130\"}},\"id\":\"3129\",\"type\":\"CategoricalAxis\"},{\"attributes\":{\"child\":{\"id\":\"2873\"},\"name\":\"Column02982\",\"title\":\"Introduction\"},\"id\":\"2912\",\"type\":\"Panel\"},{\"attributes\":{\"children\":[{\"id\":\"2874\"},{\"id\":\"2875\"},{\"id\":\"2879\"},{\"id\":\"1226\"}],\"margin\":[0,0,0,0],\"name\":\"Column02982\"},\"id\":\"2873\",\"type\":\"Column\"},{\"attributes\":{\"align\":null,\"below\":[{\"id\":\"2987\"}],\"center\":[{\"id\":\"2990\"},{\"id\":\"2994\"}],\"left\":[{\"id\":\"2991\"}],\"margin\":null,\"min_border_bottom\":10,\"min_border_left\":10,\"min_border_right\":10,\"min_border_top\":10,\"plot_height\":300,\"plot_width\":1000,\"renderers\":[{\"id\":\"3017\"}],\"right\":[{\"id\":\"3020\"}],\"sizing_mode\":\"fixed\",\"title\":{\"id\":\"2979\"},\"toolbar\":{\"id\":\"3001\"},\"x_range\":{\"id\":\"2919\"},\"x_scale\":{\"id\":\"2983\"},\"y_range\":{\"id\":\"2976\"},\"y_scale\":{\"id\":\"2985\"}},\"id\":\"2978\",\"subtype\":\"Figure\",\"type\":\"Plot\"},{\"attributes\":{\"overlay\":{\"id\":\"1256\"}},\"id\":\"1250\",\"type\":\"PolySelectTool\"},{\"attributes\":{},\"id\":\"1229\",\"type\":\"DataRange1d\"},{\"attributes\":{},\"id\":\"1252\",\"type\":\"ResetTool\"},{\"attributes\":{},\"id\":\"3076\",\"type\":\"CategoricalTickFormatter\"},{\"attributes\":{},\"id\":\"3126\",\"type\":\"BasicTicker\"},{\"attributes\":{\"callback\":null},\"id\":\"1251\",\"type\":\"TapTool\"},{\"attributes\":{\"active_drag\":\"auto\",\"active_inspect\":\"auto\",\"active_multi\":null,\"active_scroll\":\"auto\",\"active_tap\":\"auto\",\"tools\":[{\"id\":\"3038\"},{\"id\":\"3055\"},{\"id\":\"3056\"},{\"id\":\"3057\"},{\"id\":\"3058\"},{\"id\":\"3059\"}]},\"id\":\"3061\",\"type\":\"Toolbar\"},{\"attributes\":{\"axis\":{\"id\":\"3125\"},\"grid_line_color\":null,\"ticker\":null},\"id\":\"3128\",\"type\":\"Grid\"},{\"attributes\":{\"data\":{\"x\":{\"__ndarray__\":\"YORdktm1xD+wDVyz72vCP0jMuyoUYcE/YMqRJsf+wD+QJd5rutDAP7CTmIMIYMA/r6HInz4uwD+ovYlhpA3APw/be/RyX78/EIb3HrL9vT+Bv2aKZSq9P0FZDlG7EL0/f/GGIOe7vD/Q3TGYq6W8PwBaSJrogbw/QFc+tyshvD+wpONVL+S7P7Bn+9XVoLs/ISuzUD2Yuz+gKi6iLBm7Pw==\",\"dtype\":\"float64\",\"shape\":[20]},\"y\":{\"__ndarray__\":\"a1pZ+hEuMEBj1T+IpsgsQDBvxYKvJytANsxDLBeOKkCxGotII0YqQMNmnk0NlilAoXyp2UFIKUBWOGfYUBUpQCTDAM+RgihAvGAxKDNuJ0CdRSBUH8kmQLs1U1cStSZAq2xpkcxyJkBK9eYObmEmQFCGiLh9RSZAKrQoJ+r5JUCq2Bn7RMolQAJpLA+nlSVAsvkL5++OJUBNEbTeqislQA==\",\"dtype\":\"float64\",\"shape\":[20]}},\"selected\":{\"id\":\"1298\"},\"selection_policy\":{\"id\":\"1299\"}},\"id\":\"1270\",\"type\":\"ColumnDataSource\"},{\"attributes\":{\"axis\":{\"id\":\"3129\"},\"dimension\":1,\"grid_line_color\":null,\"ticker\":null},\"id\":\"3131\",\"type\":\"Grid\"},{\"attributes\":{\"bottom_units\":\"screen\",\"fill_alpha\":0.5,\"fill_color\":\"lightgrey\",\"left_units\":\"screen\",\"level\":\"overlay\",\"line_alpha\":1.0,\"line_color\":\"black\",\"line_dash\":[4,4],\"line_width\":2,\"render_mode\":\"css\",\"right_units\":\"screen\",\"top_units\":\"screen\"},\"id\":\"3000\",\"type\":\"BoxAnnotation\"},{\"attributes\":{\"text\":\"\",\"text_color\":{\"value\":\"black\"},\"text_font_size\":{\"value\":\"12pt\"}},\"id\":\"2979\",\"type\":\"Title\"},{\"attributes\":{\"fill_color\":{\"value\":\"blue\"},\"line_color\":{\"value\":\"#1f77b4\"},\"size\":{\"units\":\"screen\",\"value\":6},\"x\":{\"field\":\"x\"},\"y\":{\"field\":\"y\"}},\"id\":\"1320\",\"type\":\"Circle\"},{\"attributes\":{},\"id\":\"2939\",\"type\":\"SaveTool\"},{\"attributes\":{\"data\":{\"x\":{\"__ndarray__\":\"YORdktm1xD+wDVyz72vCP0jMuyoUYcE/YMqRJsf+wD+QJd5rutDAP7CTmIMIYMA/r6HInz4uwD+ovYlhpA3APw/be/RyX78/EIb3HrL9vT+Bv2aKZSq9P0FZDlG7EL0/f/GGIOe7vD/Q3TGYq6W8PwBaSJrogbw/QFc+tyshvD+wpONVL+S7P7Bn+9XVoLs/ISuzUD2Yuz+gKi6iLBm7Pw==\",\"dtype\":\"float64\",\"shape\":[20]},\"y\":{\"__ndarray__\":\"AAAAAADAOEApXI/C9ag4QGZmZmZmpjhAFK5H4XqUOEBI4XoUroc4QIXrUbgehThAKVyPwvVoOEDhehSuR2E4QB+F61G4XjhAzczMzMxMOEDhehSuRyE4QJqZmZmZGThAmpmZmZkZOECamZmZmRk4QAAAAAAAADhAPQrXo3D9N0B7FK5H4fo3QHsUrkfh+jdAexSuR+H6N0CuR+F6FO43QA==\",\"dtype\":\"float64\",\"shape\":[20]}},\"selected\":{\"id\":\"1353\"},\"selection_policy\":{\"id\":\"1354\"}},\"id\":\"1319\",\"type\":\"ColumnDataSource\"},{\"attributes\":{},\"id\":\"2940\",\"type\":\"PanTool\"},{\"attributes\":{},\"id\":\"2962\",\"type\":\"BasicTickFormatter\"},{\"attributes\":{\"callback\":null,\"renderers\":[{\"id\":\"3074\"}],\"tags\":[\"hv_created\"],\"tooltips\":[[\"Category\",\"@{Category}\"],[\"Average Risk\",\"@{Average_Risk}\"]]},\"id\":\"3038\",\"type\":\"HoverTool\"},{\"attributes\":{\"data\":{\"x0\":[[\"E\",-0.2],[\"S\",-0.2],[\"G\",-0.2]],\"x1\":[[\"E\",0.2],[\"S\",0.2],[\"G\",0.2]],\"y0\":[5.68,12.15,9.01],\"y1\":[5.68,12.15,9.01]},\"selected\":{\"id\":\"3208\"},\"selection_policy\":{\"id\":\"3209\"}},\"id\":\"3180\",\"type\":\"ColumnDataSource\"},{\"attributes\":{\"children\":[{\"id\":\"2922\"}],\"margin\":[0,0,0,0],\"name\":\"Row02956\"},\"id\":\"2918\",\"type\":\"Row\"},{\"attributes\":{\"fill_color\":{\"value\":\"#1f77b3\"},\"top\":{\"field\":\"Average_Risk\"},\"width\":{\"value\":0.8},\"x\":{\"field\":\"Category\"}},\"id\":\"3071\",\"type\":\"VBar\"},{\"attributes\":{\"css_classes\":[\"markdown\"],\"margin\":[5,5,5,5],\"name\":\"Markdown02986\",\"text\":\"&lt;p&gt;Funds metrics and categories&lt;/p&gt;\"},\"id\":\"2974\",\"type\":\"panel.models.markup.HTML\"},{\"attributes\":{\"_render_count\":0,\"config\":null,\"data\":[{\"hovertemplate\":\"x=%{x}<br>Annual Std Dev=%{y}<br>Returns=%{marker.size}<extra></extra>\",\"legendgroup\":\"\",\"marker\":{\"color\":\"#636efa\",\"sizemode\":\"area\",\"sizeref\":0.0004044990455344855,\"symbol\":\"circle\"},\"mode\":\"markers\",\"name\":\"\",\"showlegend\":false,\"type\":\"scatter\",\"xaxis\":\"x\",\"yaxis\":\"y\"}],\"data_sources\":[{\"id\":\"2878\"}],\"layout\":{\"legend\":{\"itemsizing\":\"constant\",\"tracegroupgap\":0},\"template\":{\"data\":{\"bar\":[{\"error_x\":{\"color\":\"#2a3f5f\"},\"error_y\":{\"color\":\"#2a3f5f\"},\"marker\":{\"line\":{\"color\":\"#E5ECF6\",\"width\":0.5}},\"type\":\"bar\"}],\"barpolar\":[{\"marker\":{\"line\":{\"color\":\"#E5ECF6\",\"width\":0.5}},\"type\":\"barpolar\"}],\"carpet\":[{\"aaxis\":{\"endlinecolor\":\"#2a3f5f\",\"gridcolor\":\"white\",\"linecolor\":\"white\",\"minorgridcolor\":\"white\",\"startlinecolor\":\"#2a3f5f\"},\"baxis\":{\"endlinecolor\":\"#2a3f5f\",\"gridcolor\":\"white\",\"linecolor\":\"white\",\"minorgridcolor\":\"white\",\"startlinecolor\":\"#2a3f5f\"},\"type\":\"carpet\"}],\"choropleth\":[{\"colorbar\":{\"outlinewidth\":0,\"ticks\":\"\"},\"type\":\"choropleth\"}],\"contour\":[{\"colorbar\":{\"outlinewidth\":0,\"ticks\":\"\"},\"colorscale\":[[0.0,\"#0d0887\"],[0.1111111111111111,\"#46039f\"],[0.2222222222222222,\"#7201a8\"],[0.3333333333333333,\"#9c179e\"],[0.4444444444444444,\"#bd3786\"],[0.5555555555555556,\"#d8576b\"],[0.6666666666666666,\"#ed7953\"],[0.7777777777777778,\"#fb9f3a\"],[0.8888888888888888,\"#fdca26\"],[1.0,\"#f0f921\"]],\"type\":\"contour\"}],\"contourcarpet\":[{\"colorbar\":{\"outlinewidth\":0,\"ticks\":\"\"},\"type\":\"contourcarpet\"}],\"heatmap\":[{\"colorbar\":{\"outlinewidth\":0,\"ticks\":\"\"},\"colorscale\":[[0.0,\"#0d0887\"],[0.1111111111111111,\"#46039f\"],[0.2222222222222222,\"#7201a8\"],[0.3333333333333333,\"#9c179e\"],[0.4444444444444444,\"#bd3786\"],[0.5555555555555556,\"#d8576b\"],[0.6666666666666666,\"#ed7953\"],[0.7777777777777778,\"#fb9f3a\"],[0.8888888888888888,\"#fdca26\"],[1.0,\"#f0f921\"]],\"type\":\"heatmap\"}],\"heatmapgl\":[{\"colorbar\":{\"outlinewidth\":0,\"ticks\":\"\"},\"colorscale\":[[0.0,\"#0d0887\"],[0.1111111111111111,\"#46039f\"],[0.2222222222222222,\"#7201a8\"],[0.3333333333333333,\"#9c179e\"],[0.4444444444444444,\"#bd3786\"],[0.5555555555555556,\"#d8576b\"],[0.6666666666666666,\"#ed7953\"],[0.7777777777777778,\"#fb9f3a\"],[0.8888888888888888,\"#fdca26\"],[1.0,\"#f0f921\"]],\"type\":\"heatmapgl\"}],\"histogram\":[{\"marker\":{\"colorbar\":{\"outlinewidth\":0,\"ticks\":\"\"}},\"type\":\"histogram\"}],\"histogram2d\":[{\"colorbar\":{\"outlinewidth\":0,\"ticks\":\"\"},\"colorscale\":[[0.0,\"#0d0887\"],[0.1111111111111111,\"#46039f\"],[0.2222222222222222,\"#7201a8\"],[0.3333333333333333,\"#9c179e\"],[0.4444444444444444,\"#bd3786\"],[0.5555555555555556,\"#d8576b\"],[0.6666666666666666,\"#ed7953\"],[0.7777777777777778,\"#fb9f3a\"],[0.8888888888888888,\"#fdca26\"],[1.0,\"#f0f921\"]],\"type\":\"histogram2d\"}],\"histogram2dcontour\":[{\"colorbar\":{\"outlinewidth\":0,\"ticks\":\"\"},\"colorscale\":[[0.0,\"#0d0887\"],[0.1111111111111111,\"#46039f\"],[0.2222222222222222,\"#7201a8\"],[0.3333333333333333,\"#9c179e\"],[0.4444444444444444,\"#bd3786\"],[0.5555555555555556,\"#d8576b\"],[0.6666666666666666,\"#ed7953\"],[0.7777777777777778,\"#fb9f3a\"],[0.8888888888888888,\"#fdca26\"],[1.0,\"#f0f921\"]],\"type\":\"histogram2dcontour\"}],\"mesh3d\":[{\"colorbar\":{\"outlinewidth\":0,\"ticks\":\"\"},\"type\":\"mesh3d\"}],\"parcoords\":[{\"line\":{\"colorbar\":{\"outlinewidth\":0,\"ticks\":\"\"}},\"type\":\"parcoords\"}],\"pie\":[{\"automargin\":true,\"type\":\"pie\"}],\"scatter\":[{\"marker\":{\"colorbar\":{\"outlinewidth\":0,\"ticks\":\"\"}},\"type\":\"scatter\"}],\"scatter3d\":[{\"line\":{\"colorbar\":{\"outlinewidth\":0,\"ticks\":\"\"}},\"marker\":{\"colorbar\":{\"outlinewidth\":0,\"ticks\":\"\"}},\"type\":\"scatter3d\"}],\"scattercarpet\":[{\"marker\":{\"colorbar\":{\"outlinewidth\":0,\"ticks\":\"\"}},\"type\":\"scattercarpet\"}],\"scattergeo\":[{\"marker\":{\"colorbar\":{\"outlinewidth\":0,\"ticks\":\"\"}},\"type\":\"scattergeo\"}],\"scattergl\":[{\"marker\":{\"colorbar\":{\"outlinewidth\":0,\"ticks\":\"\"}},\"type\":\"scattergl\"}],\"scattermapbox\":[{\"marker\":{\"colorbar\":{\"outlinewidth\":0,\"ticks\":\"\"}},\"type\":\"scattermapbox\"}],\"scatterpolar\":[{\"marker\":{\"colorbar\":{\"outlinewidth\":0,\"ticks\":\"\"}},\"type\":\"scatterpolar\"}],\"scatterpolargl\":[{\"marker\":{\"colorbar\":{\"outlinewidth\":0,\"ticks\":\"\"}},\"type\":\"scatterpolargl\"}],\"scatterternary\":[{\"marker\":{\"colorbar\":{\"outlinewidth\":0,\"ticks\":\"\"}},\"type\":\"scatterternary\"}],\"surface\":[{\"colorbar\":{\"outlinewidth\":0,\"ticks\":\"\"},\"colorscale\":[[0.0,\"#0d0887\"],[0.1111111111111111,\"#46039f\"],[0.2222222222222222,\"#7201a8\"],[0.3333333333333333,\"#9c179e\"],[0.4444444444444444,\"#bd3786\"],[0.5555555555555556,\"#d8576b\"],[0.6666666666666666,\"#ed7953\"],[0.7777777777777778,\"#fb9f3a\"],[0.8888888888888888,\"#fdca26\"],[1.0,\"#f0f921\"]],\"type\":\"surface\"}],\"table\":[{\"cells\":{\"fill\":{\"color\":\"#EBF0F8\"},\"line\":{\"color\":\"white\"}},\"header\":{\"fill\":{\"color\":\"#C8D4E3\"},\"line\":{\"color\":\"white\"}},\"type\":\"table\"}]},\"layout\":{\"annotationdefaults\":{\"arrowcolor\":\"#2a3f5f\",\"arrowhead\":0,\"arrowwidth\":1},\"coloraxis\":{\"colorbar\":{\"outlinewidth\":0,\"ticks\":\"\"}},\"colorscale\":{\"diverging\":[[0,\"#8e0152\"],[0.1,\"#c51b7d\"],[0.2,\"#de77ae\"],[0.3,\"#f1b6da\"],[0.4,\"#fde0ef\"],[0.5,\"#f7f7f7\"],[0.6,\"#e6f5d0\"],[0.7,\"#b8e186\"],[0.8,\"#7fbc41\"],[0.9,\"#4d9221\"],[1,\"#276419\"]],\"sequential\":[[0.0,\"#0d0887\"],[0.1111111111111111,\"#46039f\"],[0.2222222222222222,\"#7201a8\"],[0.3333333333333333,\"#9c179e\"],[0.4444444444444444,\"#bd3786\"],[0.5555555555555556,\"#d8576b\"],[0.6666666666666666,\"#ed7953\"],[0.7777777777777778,\"#fb9f3a\"],[0.8888888888888888,\"#fdca26\"],[1.0,\"#f0f921\"]],\"sequentialminus\":[[0.0,\"#0d0887\"],[0.1111111111111111,\"#46039f\"],[0.2222222222222222,\"#7201a8\"],[0.3333333333333333,\"#9c179e\"],[0.4444444444444444,\"#bd3786\"],[0.5555555555555556,\"#d8576b\"],[0.6666666666666666,\"#ed7953\"],[0.7777777777777778,\"#fb9f3a\"],[0.8888888888888888,\"#fdca26\"],[1.0,\"#f0f921\"]]},\"colorway\":[\"#636efa\",\"#EF553B\",\"#00cc96\",\"#ab63fa\",\"#FFA15A\",\"#19d3f3\",\"#FF6692\",\"#B6E880\",\"#FF97FF\",\"#FECB52\"],\"font\":{\"color\":\"#2a3f5f\"},\"geo\":{\"bgcolor\":\"white\",\"lakecolor\":\"white\",\"landcolor\":\"#E5ECF6\",\"showlakes\":true,\"showland\":true,\"subunitcolor\":\"white\"},\"hoverlabel\":{\"align\":\"left\"},\"hovermode\":\"closest\",\"mapbox\":{\"style\":\"light\"},\"paper_bgcolor\":\"white\",\"plot_bgcolor\":\"#E5ECF6\",\"polar\":{\"angularaxis\":{\"gridcolor\":\"white\",\"linecolor\":\"white\",\"ticks\":\"\"},\"bgcolor\":\"#E5ECF6\",\"radialaxis\":{\"gridcolor\":\"white\",\"linecolor\":\"white\",\"ticks\":\"\"}},\"scene\":{\"xaxis\":{\"backgroundcolor\":\"#E5ECF6\",\"gridcolor\":\"white\",\"gridwidth\":2,\"linecolor\":\"white\",\"showbackground\":true,\"ticks\":\"\",\"zerolinecolor\":\"white\"},\"yaxis\":{\"backgroundcolor\":\"#E5ECF6\",\"gridcolor\":\"white\",\"gridwidth\":2,\"linecolor\":\"white\",\"showbackground\":true,\"ticks\":\"\",\"zerolinecolor\":\"white\"},\"zaxis\":{\"backgroundcolor\":\"#E5ECF6\",\"gridcolor\":\"white\",\"gridwidth\":2,\"linecolor\":\"white\",\"showbackground\":true,\"ticks\":\"\",\"zerolinecolor\":\"white\"}},\"shapedefaults\":{\"line\":{\"color\":\"#2a3f5f\"}},\"ternary\":{\"aaxis\":{\"gridcolor\":\"white\",\"linecolor\":\"white\",\"ticks\":\"\"},\"baxis\":{\"gridcolor\":\"white\",\"linecolor\":\"white\",\"ticks\":\"\"},\"bgcolor\":\"#E5ECF6\",\"caxis\":{\"gridcolor\":\"white\",\"linecolor\":\"white\",\"ticks\":\"\"}},\"title\":{\"x\":0.05},\"xaxis\":{\"automargin\":true,\"gridcolor\":\"white\",\"linecolor\":\"white\",\"ticks\":\"\",\"title\":{\"standoff\":15},\"zerolinecolor\":\"white\",\"zerolinewidth\":2},\"yaxis\":{\"automargin\":true,\"gridcolor\":\"white\",\"linecolor\":\"white\",\"ticks\":\"\",\"title\":{\"standoff\":15},\"zerolinecolor\":\"white\",\"zerolinewidth\":2}}},\"title\":{\"text\":\"Relationship Between Investment Performance and Annual Std Dev for Top 20 Funds\"},\"xaxis\":{\"anchor\":\"y\",\"domain\":[0.0,1.0],\"title\":{\"text\":\"x\"}},\"yaxis\":{\"anchor\":\"x\",\"domain\":[0.0,1.0],\"title\":{\"text\":\"Annual Std Dev\"}}},\"margin\":[5,5,5,5],\"name\":\"Plotly02942\",\"viewport\":{\"xaxis.range\":[-1.4767092708600975,20.403553054511494],\"yaxis.range\":[0.12506778624452716,0.18976401395738027]},\"viewport_update_throttle\":200},\"id\":\"2879\",\"type\":\"panel.models.plotly.PlotlyPlot\"},{\"attributes\":{\"end\":1.9788627450980392,\"reset_end\":1.9788627450980392,\"reset_start\":0.0,\"tags\":[[[\"Average Risk\",\"Average Risk\",null]]]},\"id\":\"3037\",\"type\":\"Range1d\"},{\"attributes\":{\"source\":{\"id\":\"3150\"}},\"id\":\"3155\",\"type\":\"CDSView\"},{\"attributes\":{\"client_comm_id\":\"1085e696c3444aa2bca69b0b46563a0b\",\"comm_id\":\"fe1585ddca8c4153bc68316b53e58b5e\",\"plot_id\":\"2872\"},\"id\":\"3424\",\"type\":\"panel.models.comm_manager.CommManager\"},{\"attributes\":{\"fill_color\":{\"field\":\"color\",\"transform\":{\"id\":\"3008\"}},\"line_color\":{\"field\":\"color\",\"transform\":{\"id\":\"3008\"}},\"size\":{\"units\":\"screen\",\"value\":5.477225575051661},\"x\":{\"field\":\"Returns\"},\"y\":{\"field\":\"Projected EPS Growth (%)\"}},\"id\":\"3015\",\"type\":\"Scatter\"},{\"attributes\":{\"source\":{\"id\":\"3168\"}},\"id\":\"3173\",\"type\":\"CDSView\"},{\"attributes\":{\"end\":18.26,\"reset_end\":18.26,\"reset_start\":-1.6600000000000001,\"start\":-1.6600000000000001,\"tags\":[[[\"Projected EPS Growth (%)\",\"Projected EPS Growth (%)\",null]]]},\"id\":\"2976\",\"type\":\"Range1d\"},{\"attributes\":{\"text\":\"Average Risk per Fund Category\",\"text_color\":{\"value\":\"black\"},\"text_font_size\":{\"value\":\"12pt\"}},\"id\":\"3040\",\"type\":\"Title\"},{\"attributes\":{},\"id\":\"3046\",\"type\":\"LinearScale\"},{\"attributes\":{\"data\":{\"bottom\":{\"__ndarray__\":\"XI/C9ShcEEDhehSuR+EmQIXrUbgehSBA\",\"dtype\":\"float64\",\"shape\":[3]},\"index\":[\"E\",\"S\",\"G\"],\"top\":{\"__ndarray__\":\"rkfhehSuC0AK16NwPQomQAAAAAAAACBA\",\"dtype\":\"float64\",\"shape\":[3]}},\"selected\":{\"id\":\"3198\"},\"selection_policy\":{\"id\":\"3199\"}},\"id\":\"3150\",\"type\":\"ColumnDataSource\"},{\"attributes\":{\"data\":{\"Average_Risk\":{\"__ndarray__\":\"X19fX19f/z9u27Zt27b9P3sUrkfhevw/\",\"dtype\":\"float64\",\"shape\":[3]},\"Category\":[\"Large Blend\",\"Large Value\",\"Large Growth\"]},\"selected\":{\"id\":\"3069\"},\"selection_policy\":{\"id\":\"3087\"}},\"id\":\"3068\",\"type\":\"ColumnDataSource\"},{\"attributes\":{},\"id\":\"3198\",\"type\":\"Selection\"},{\"attributes\":{\"child\":{\"id\":\"2913\"},\"name\":\"Column02985\",\"title\":\"Investment Information\"},\"id\":\"2972\",\"type\":\"Panel\"},{\"attributes\":{\"child\":{\"id\":\"2973\"},\"name\":\"Column02993\",\"title\":\"Fundamental analysis\"},\"id\":\"3109\",\"type\":\"Panel\"},{\"attributes\":{},\"id\":\"1353\",\"type\":\"Selection\"},{\"attributes\":{},\"id\":\"3199\",\"type\":\"UnionRenderers\"},{\"attributes\":{\"child\":{\"id\":\"3110\"},\"name\":\"Column02996\",\"title\":\"ESG Metrics\"},\"id\":\"3210\",\"type\":\"Panel\"},{\"attributes\":{\"bar_line_color\":{\"value\":\"black\"},\"color_mapper\":{\"id\":\"3008\"},\"formatter\":{\"id\":\"3027\"},\"label_standoff\":8,\"location\":[0,0],\"major_tick_line_color\":\"black\",\"ticker\":{\"id\":\"3019\"},\"title\":\"P/E Forward\"},\"id\":\"3020\",\"type\":\"ColorBar\"},{\"attributes\":{\"align\":null,\"below\":[{\"id\":\"3048\"}],\"center\":[{\"id\":\"3050\"},{\"id\":\"3054\"}],\"left\":[{\"id\":\"3051\"}],\"margin\":null,\"min_border_bottom\":10,\"min_border_left\":10,\"min_border_right\":10,\"min_border_top\":10,\"plot_height\":400,\"plot_width\":700,\"renderers\":[{\"id\":\"3074\"}],\"sizing_mode\":\"fixed\",\"title\":{\"id\":\"3040\"},\"toolbar\":{\"id\":\"3061\"},\"x_range\":{\"id\":\"3036\"},\"x_scale\":{\"id\":\"3044\"},\"y_range\":{\"id\":\"3037\"},\"y_scale\":{\"id\":\"3046\"}},\"id\":\"3039\",\"subtype\":\"Figure\",\"type\":\"Plot\"},{\"attributes\":{\"source\":{\"id\":\"3009\"}},\"id\":\"3018\",\"type\":\"CDSView\"},{\"attributes\":{\"below\":[{\"id\":\"1237\"}],\"center\":[{\"id\":\"1240\"},{\"id\":\"1244\"},{\"id\":\"1283\"}],\"left\":[{\"id\":\"1241\"}],\"renderers\":[{\"id\":\"1273\"},{\"id\":\"1288\"},{\"id\":\"1304\"},{\"id\":\"1322\"}],\"title\":{\"id\":\"1227\"},\"toolbar\":{\"id\":\"1257\"},\"x_range\":{\"id\":\"1229\"},\"x_scale\":{\"id\":\"1233\"},\"y_range\":{\"id\":\"1231\"},\"y_scale\":{\"id\":\"1235\"}},\"id\":\"1226\",\"subtype\":\"Figure\",\"type\":\"Plot\"},{\"attributes\":{\"css_classes\":[\"markdown\"],\"margin\":[5,5,5,5],\"name\":\"Markdown02983\",\"text\":\"&lt;p&gt;Performance analysis&lt;/p&gt;\"},\"id\":\"2914\",\"type\":\"panel.models.markup.HTML\"},{\"attributes\":{\"callback\":null,\"renderers\":[{\"id\":\"3017\"}],\"tags\":[\"hv_created\"],\"tooltips\":[[\"Returns\",\"@{Returns}\"],[\"Projected EPS Growth (%)\",\"@{Projected_EPS_Growth_left_parenthesis_percent_right_parenthesis}\"],[\"P/E Forward\",\"@{P_over_E_Forward}\"],[\"Name\",\"@{Name}\"]]},\"id\":\"2977\",\"type\":\"HoverTool\"},{\"attributes\":{\"data\":{\"$schema\":\"https://vega.github.io/schema/vega-lite/v4.8.1.json\",\"config\":{\"view\":{\"continuousHeight\":300,\"continuousWidth\":400}},\"data\":{\"name\":\"data-c93a3c027f22be49586f75d38b9635f2\"},\"datasets\":{},\"encoding\":{\"color\":{\"condition\":{\"test\":\"(datum.Ticker === 'SPX_index')\",\"value\":\"orange\"},\"value\":\"steelblue\"},\"x\":{\"field\":\"Returns\",\"type\":\"quantitative\"},\"y\":{\"field\":\"Ticker\",\"sort\":\"-x\",\"type\":\"nominal\"}},\"mark\":\"bar\",\"width\":600},\"data_sources\":{\"data-c93a3c027f22be49586f75d38b9635f2\":{\"id\":\"2916\"}},\"height\":322,\"margin\":[5,5,30,5],\"name\":\"Vega02948\",\"width\":422},\"id\":\"2917\",\"type\":\"panel.models.vega.VegaPlot\"},{\"attributes\":{},\"id\":\"3044\",\"type\":\"CategoricalScale\"},{\"attributes\":{\"axis_label\":\"Category\",\"bounds\":\"auto\",\"formatter\":{\"id\":\"3076\"},\"major_label_orientation\":\"horizontal\",\"ticker\":{\"id\":\"3049\"}},\"id\":\"3048\",\"type\":\"CategoricalAxis\"},{\"attributes\":{},\"id\":\"3197\",\"type\":\"UnionRenderers\"},{\"attributes\":{\"data\":{\"Returns\":{\"__ndarray__\":\"YORdktm1xD+wDVyz72vCP0jMuyoUYcE/YMqRJsf+wD+QJd5rutDAP7CTmIMIYMA/r6HInz4uwD+ovYlhpA3APw/be/RyX78/EIb3HrL9vT+Bv2aKZSq9P0FZDlG7EL0/f/GGIOe7vD/Q3TGYq6W8PwBaSJrogbw/QFc+tyshvD+wpONVL+S7P7Bn+9XVoLs/ISuzUD2Yuz+gKi6iLBm7Pw==\",\"dtype\":\"float64\",\"shape\":[20]},\"Ticker\":[\"AKRIX\",\"EGFIX\",\"PWB\",\"MGK\",\"VIGRX\",\"PKW\",\"VFTNX\",\"SPHQ\",\"BIAFX\",\"VHIAX\",\"FTCS\",\"MEGBX\",\"SPX_index\",\"GTLLX\",\"AFDAX\",\"JPGSX\",\"DSI\",\"POGAX\",\"GCEQX\",\"SUSA\"],\"index\":[0,1,2,3,4,5,6,7,8,9,10,11,12,13,14,15,16,17,18,19]},\"selected\":{\"id\":\"3240\"},\"selection_policy\":{\"id\":\"3241\"}},\"id\":\"2916\",\"type\":\"ColumnDataSource\"},{\"attributes\":{},\"id\":\"3202\",\"type\":\"Selection\"},{\"attributes\":{\"axis_label\":\"Average Risk\",\"bounds\":\"auto\",\"formatter\":{\"id\":\"3078\"},\"major_label_orientation\":\"horizontal\",\"ticker\":{\"id\":\"3052\"}},\"id\":\"3051\",\"type\":\"LinearAxis\"},{\"attributes\":{\"axis\":{\"id\":\"3048\"},\"grid_line_color\":null,\"ticker\":null},\"id\":\"3050\",\"type\":\"Grid\"},{\"attributes\":{\"fill_alpha\":{\"value\":0.2},\"fill_color\":{\"field\":\"color\",\"transform\":{\"id\":\"3008\"}},\"line_alpha\":{\"value\":0.2},\"line_color\":{\"field\":\"color\",\"transform\":{\"id\":\"3008\"}},\"size\":{\"units\":\"screen\",\"value\":5.477225575051661},\"x\":{\"field\":\"Returns\"},\"y\":{\"field\":\"Projected EPS Growth (%)\"}},\"id\":\"3016\",\"type\":\"Scatter\"},{\"attributes\":{},\"id\":\"3213\",\"type\":\"Selection\"},{\"attributes\":{\"fill_color\":{\"field\":\"color\",\"transform\":{\"id\":\"3008\"}},\"line_color\":{\"field\":\"color\",\"transform\":{\"id\":\"3008\"}},\"size\":{\"units\":\"screen\",\"value\":5.477225575051661},\"x\":{\"field\":\"Returns\"},\"y\":{\"field\":\"Projected EPS Growth (%)\"}},\"id\":\"3014\",\"type\":\"Scatter\"},{\"attributes\":{},\"id\":\"3049\",\"type\":\"CategoricalTicker\"},{\"attributes\":{\"data_source\":{\"id\":\"3009\"},\"glyph\":{\"id\":\"3012\"},\"hover_glyph\":{\"id\":\"3015\"},\"muted_glyph\":{\"id\":\"3016\"},\"nonselection_glyph\":{\"id\":\"3013\"},\"selection_glyph\":{\"id\":\"3014\"},\"view\":{\"id\":\"3018\"}},\"id\":\"3017\",\"type\":\"GlyphRenderer\"},{\"attributes\":{},\"id\":\"3186\",\"type\":\"BasicTickFormatter\"},{\"attributes\":{\"fill_alpha\":{\"value\":0.1},\"fill_color\":{\"value\":\"#1f77b3\"},\"line_alpha\":{\"value\":0.1},\"line_color\":{\"value\":\"#1f77b3\"},\"size\":{\"units\":\"screen\",\"value\":5.477225575051661},\"x\":{\"field\":\"Returns\"},\"y\":{\"field\":\"Annual Std Dev\"}},\"id\":\"2956\",\"type\":\"Scatter\"},{\"attributes\":{\"x0\":{\"field\":\"y0\"},\"x1\":{\"field\":\"y1\"},\"y0\":{\"field\":\"x0\"},\"y1\":{\"field\":\"x1\"}},\"id\":\"3182\",\"type\":\"Segment\"},{\"attributes\":{\"children\":[{\"id\":\"2877\"}],\"margin\":[0,0,0,0],\"name\":\"Row02950\"},\"id\":\"2875\",\"type\":\"Row\"},{\"attributes\":{\"source\":{\"id\":\"3180\"}},\"id\":\"3185\",\"type\":\"CDSView\"},{\"attributes\":{},\"id\":\"3188\",\"type\":\"CategoricalTickFormatter\"},{\"attributes\":{\"bottom_units\":\"screen\",\"fill_alpha\":0.5,\"fill_color\":\"lightgrey\",\"left_units\":\"screen\",\"level\":\"overlay\",\"line_alpha\":1.0,\"line_color\":\"black\",\"line_dash\":[4,4],\"line_width\":2,\"render_mode\":\"css\",\"right_units\":\"screen\",\"top_units\":\"screen\"},\"id\":\"3060\",\"type\":\"BoxAnnotation\"},{\"attributes\":{\"line_alpha\":{\"value\":0.1},\"x0\":{\"field\":\"y0\"},\"x1\":{\"field\":\"y1\"},\"y0\":{\"field\":\"x0\"},\"y1\":{\"field\":\"x1\"}},\"id\":\"3183\",\"type\":\"Segment\"},{\"attributes\":{\"data\":{\"$schema\":\"https://vega.github.io/schema/vega-lite/v4.8.1.json\",\"config\":{\"view\":{\"continuousHeight\":300,\"continuousWidth\":400}},\"data\":{\"name\":\"data-c93a3c027f22be49586f75d38b9635f2\"},\"datasets\":{},\"encoding\":{\"color\":{\"condition\":{\"test\":\"(datum.Ticker === 'SPX_index')\",\"value\":\"orange\"},\"value\":\"steelblue\"},\"x\":{\"field\":\"Returns\",\"type\":\"quantitative\"},\"y\":{\"field\":\"Ticker\",\"sort\":\"-x\",\"type\":\"nominal\"}},\"mark\":\"bar\",\"width\":600},\"data_sources\":{\"data-c93a3c027f22be49586f75d38b9635f2\":{\"id\":\"2876\"}},\"height\":322,\"margin\":[5,5,30,5],\"name\":\"Vega02948\",\"width\":422},\"id\":\"2877\",\"type\":\"panel.models.vega.VegaPlot\"},{\"attributes\":{\"data_source\":{\"id\":\"3180\"},\"glyph\":{\"id\":\"3182\"},\"hover_glyph\":null,\"muted_glyph\":null,\"nonselection_glyph\":{\"id\":\"3183\"},\"selection_glyph\":null,\"view\":{\"id\":\"3185\"}},\"id\":\"3184\",\"type\":\"GlyphRenderer\"},{\"attributes\":{\"fill_color\":{\"value\":\"#1f77b3\"},\"height\":{\"value\":0.7},\"left\":{\"field\":\"top\"},\"right\":{\"field\":\"bottom\"},\"y\":{\"field\":\"index\"}},\"id\":\"3152\",\"type\":\"HBar\"},{\"attributes\":{\"children\":[{\"id\":\"3111\"},{\"id\":\"3112\"}],\"margin\":[0,0,0,0],\"name\":\"Column02996\"},\"id\":\"3110\",\"type\":\"Column\"},{\"attributes\":{\"source\":{\"id\":\"3144\"}},\"id\":\"3149\",\"type\":\"CDSView\"},{\"attributes\":{},\"id\":\"2953\",\"type\":\"Selection\"},{\"attributes\":{\"align\":null,\"below\":[{\"id\":\"2931\"}],\"center\":[{\"id\":\"2934\"},{\"id\":\"2938\"}],\"left\":[{\"id\":\"2935\"}],\"margin\":null,\"min_border_bottom\":10,\"min_border_left\":10,\"min_border_right\":10,\"min_border_top\":10,\"plot_height\":300,\"plot_width\":700,\"renderers\":[{\"id\":\"2958\"}],\"sizing_mode\":\"fixed\",\"title\":{\"id\":\"2923\"},\"toolbar\":{\"id\":\"2945\"},\"x_range\":{\"id\":\"2919\"},\"x_scale\":{\"id\":\"2927\"},\"y_range\":{\"id\":\"2920\"},\"y_scale\":{\"id\":\"2929\"}},\"id\":\"2922\",\"subtype\":\"Figure\",\"type\":\"Plot\"},{\"attributes\":{\"children\":[{\"id\":\"2917\"}],\"margin\":[0,0,0,0],\"name\":\"Row02950\"},\"id\":\"2915\",\"type\":\"Row\"},{\"attributes\":{\"data_source\":{\"id\":\"3150\"},\"glyph\":{\"id\":\"3152\"},\"hover_glyph\":null,\"muted_glyph\":null,\"nonselection_glyph\":{\"id\":\"3153\"},\"selection_glyph\":null,\"view\":{\"id\":\"3155\"}},\"id\":\"3154\",\"type\":\"GlyphRenderer\"},{\"attributes\":{\"x0\":{\"field\":\"y0\"},\"x1\":{\"field\":\"y1\"},\"y0\":{\"field\":\"x0\"},\"y1\":{\"field\":\"x1\"}},\"id\":\"3170\",\"type\":\"Segment\"},{\"attributes\":{\"margin\":[5,5,5,5],\"name\":\"Str02970\",\"text\":\"&lt;pre&gt;AxesSubplot(0.125,0.125;0.775x0.755)&lt;/pre&gt;\"},\"id\":\"3113\",\"type\":\"panel.models.markup.HTML\"},{\"attributes\":{\"data_source\":{\"id\":\"3144\"},\"glyph\":{\"id\":\"3146\"},\"hover_glyph\":null,\"muted_glyph\":null,\"nonselection_glyph\":{\"id\":\"3147\"},\"selection_glyph\":null,\"view\":{\"id\":\"3149\"}},\"id\":\"3148\",\"type\":\"GlyphRenderer\"},{\"attributes\":{\"children\":[{\"id\":\"3113\"},{\"id\":\"3116\"}],\"margin\":[0,0,0,0],\"name\":\"Row02977\"},\"id\":\"3112\",\"type\":\"Row\"},{\"attributes\":{\"fill_color\":{\"value\":\"black\"},\"x\":{\"field\":\"Morningstar_Rating\"},\"y\":{\"field\":\"index\"}},\"id\":\"3146\",\"type\":\"Circle\"},{\"attributes\":{\"axis_label\":\"Returns\",\"bounds\":\"auto\",\"formatter\":{\"id\":\"2960\"},\"major_label_orientation\":\"horizontal\",\"ticker\":{\"id\":\"2932\"}},\"id\":\"2931\",\"type\":\"LinearAxis\"},{\"attributes\":{},\"id\":\"3208\",\"type\":\"Selection\"},{\"attributes\":{\"axis\":{\"id\":\"2935\"},\"dimension\":1,\"grid_line_color\":null,\"ticker\":null},\"id\":\"2938\",\"type\":\"Grid\"},{\"attributes\":{\"children\":[{\"id\":\"2914\"},{\"id\":\"2915\"},{\"id\":\"2918\"}],\"margin\":[0,0,0,0],\"name\":\"Column02985\"},\"id\":\"2913\",\"type\":\"Column\"},{\"attributes\":{},\"id\":\"2929\",\"type\":\"LinearScale\"},{\"attributes\":{\"line_alpha\":{\"value\":0.1},\"x0\":{\"field\":\"y0\"},\"x1\":{\"field\":\"y1\"},\"y0\":{\"field\":\"x0\"},\"y1\":{\"field\":\"x1\"}},\"id\":\"3177\",\"type\":\"Segment\"},{\"attributes\":{\"css_classes\":[\"markdown\"],\"margin\":[5,5,5,5],\"name\":\"Markdown02994\",\"text\":\"&lt;p&gt;ESG Analysis&lt;/p&gt;\"},\"id\":\"3111\",\"type\":\"panel.models.markup.HTML\"},{\"attributes\":{},\"id\":\"3207\",\"type\":\"UnionRenderers\"},{\"attributes\":{\"data\":{\"marker.size\":[{\"__ndarray__\":\"YORdktm1xD+wDVyz72vCP0jMuyoUYcE/YMqRJsf+wD+QJd5rutDAP7CTmIMIYMA/r6HInz4uwD+ovYlhpA3APw/be/RyX78/EIb3HrL9vT+Bv2aKZSq9P0FZDlG7EL0/f/GGIOe7vD/Q3TGYq6W8PwBaSJrogbw/QFc+tyshvD+wpONVL+S7P7Bn+9XVoLs/ISuzUD2Yuz+gKi6iLBm7Pw==\",\"dtype\":\"float64\",\"shape\":[20]}],\"x\":[[\"AKRIX\",\"EGFIX\",\"PWB\",\"MGK\",\"VIGRX\",\"PKW\",\"VFTNX\",\"SPHQ\",\"BIAFX\",\"VHIAX\",\"FTCS\",\"MEGBX\",\"SPX_index\",\"GTLLX\",\"AFDAX\",\"JPGSX\",\"DSI\",\"POGAX\",\"GCEQX\",\"SUSA\"]],\"y\":[{\"__ndarray__\":\"azFG2MLpwD9AeHIaV9PFP22Es33RAcQ/Q9hIw1Vvwz947mVm8MDDPxk+9pUPWsI/c5j4kEScwz/ZLRSy477BP1oWePGNTsM/+3BxEV11xz/Q6+Xr6gPDP0Mlvl9KrsQ/7z5OteiRwj9gE4mm8TjGP5EZ+CVC+8I/vbV7wDrlxD84pa3+0WvCP/bGHcgEIsY/dQ6Pyq2Owj/DSb+eiFrCPw==\",\"dtype\":\"float64\",\"shape\":[20]}]},\"selected\":{\"id\":\"3213\"},\"selection_policy\":{\"id\":\"3214\"}},\"id\":\"2878\",\"type\":\"ColumnDataSource\"},{\"attributes\":{\"line_alpha\":{\"value\":0.1},\"x0\":{\"field\":\"y0\"},\"x1\":{\"field\":\"y1\"},\"y0\":{\"field\":\"x0\"},\"y1\":{\"field\":\"x1\"}},\"id\":\"3171\",\"type\":\"Segment\"},{\"attributes\":{\"data\":{\"values\":[[51,50,28]]},\"selected\":{\"id\":\"3253\"},\"selection_policy\":{\"id\":\"3254\"}},\"id\":\"3088\",\"type\":\"ColumnDataSource\"},{\"attributes\":{\"data\":{\"bottom\":{\"__ndarray__\":\"rkfhehSuC0AK16NwPQomQAAAAAAAACBA\",\"dtype\":\"float64\",\"shape\":[3]},\"index\":[\"E\",\"S\",\"G\"],\"top\":{\"__ndarray__\":\"AAAAAAAABkB7FK5H4fokQLgehetRuB5A\",\"dtype\":\"float64\",\"shape\":[3]}},\"selected\":{\"id\":\"3200\"},\"selection_policy\":{\"id\":\"3201\"}},\"id\":\"3156\",\"type\":\"ColumnDataSource\"},{\"attributes\":{\"x0\":{\"field\":\"y0\"},\"x1\":{\"field\":\"y1\"},\"y0\":{\"field\":\"x0\"},\"y1\":{\"field\":\"x1\"}},\"id\":\"3176\",\"type\":\"Segment\"},{\"attributes\":{\"axis\":{\"id\":\"2931\"},\"grid_line_color\":null,\"ticker\":null},\"id\":\"2934\",\"type\":\"Grid\"},{\"attributes\":{\"fill_alpha\":{\"value\":0.1},\"fill_color\":{\"value\":\"black\"},\"line_alpha\":{\"value\":0.1},\"x\":{\"field\":\"Morningstar_Rating\"},\"y\":{\"field\":\"index\"}},\"id\":\"3147\",\"type\":\"Circle\"},{\"attributes\":{\"axis_label\":\"Annual Std Dev\",\"bounds\":\"auto\",\"formatter\":{\"id\":\"2962\"},\"major_label_orientation\":\"horizontal\",\"ticker\":{\"id\":\"2936\"}},\"id\":\"2935\",\"type\":\"LinearAxis\"},{\"attributes\":{},\"id\":\"2936\",\"type\":\"BasicTicker\"},{\"attributes\":{\"format\":\"0.0%\"},\"id\":\"1268\",\"type\":\"NumeralTickFormatter\"},{\"attributes\":{\"callback\":null,\"renderers\":[{\"id\":\"2958\"}],\"tags\":[\"hv_created\"],\"tooltips\":[[\"Returns\",\"@{Returns}\"],[\"Annual Std Dev\",\"@{Annual_Std_Dev}\"],[\"Ticker\",\"@{Ticker}\"]]},\"id\":\"2921\",\"type\":\"HoverTool\"},{\"attributes\":{\"text\":\"Relationship Between Investment Performance and Annual Std Dev for Top 20 Funds\",\"text_color\":{\"value\":\"black\"},\"text_font_size\":{\"value\":\"12pt\"}},\"id\":\"2923\",\"type\":\"Title\"},{\"attributes\":{},\"id\":\"2932\",\"type\":\"BasicTicker\"},{\"attributes\":{\"data\":{\"Annual Std Dev\":{\"__ndarray__\":\"azFG2MLpwD9AeHIaV9PFP22Es33RAcQ/Q9hIw1Vvwz947mVm8MDDPxk+9pUPWsI/c5j4kEScwz/ZLRSy477BP1oWePGNTsM/+3BxEV11xz/Q6+Xr6gPDP0Mlvl9KrsQ/7z5OteiRwj9gE4mm8TjGP5EZ+CVC+8I/vbV7wDrlxD84pa3+0WvCP/bGHcgEIsY/dQ6Pyq2Owj/DSb+eiFrCPw==\",\"dtype\":\"float64\",\"shape\":[20]},\"Annual_Std_Dev\":{\"__ndarray__\":\"azFG2MLpwD9AeHIaV9PFP22Es33RAcQ/Q9hIw1Vvwz947mVm8MDDPxk+9pUPWsI/c5j4kEScwz/ZLRSy477BP1oWePGNTsM/+3BxEV11xz/Q6+Xr6gPDP0Mlvl9KrsQ/7z5OteiRwj9gE4mm8TjGP5EZ+CVC+8I/vbV7wDrlxD84pa3+0WvCP/bGHcgEIsY/dQ6Pyq2Owj/DSb+eiFrCPw==\",\"dtype\":\"float64\",\"shape\":[20]},\"Returns\":{\"__ndarray__\":\"YORdktm1xD+wDVyz72vCP0jMuyoUYcE/YMqRJsf+wD+QJd5rutDAP7CTmIMIYMA/r6HInz4uwD+ovYlhpA3APw/be/RyX78/EIb3HrL9vT+Bv2aKZSq9P0FZDlG7EL0/f/GGIOe7vD/Q3TGYq6W8PwBaSJrogbw/QFc+tyshvD+wpONVL+S7P7Bn+9XVoLs/ISuzUD2Yuz+gKi6iLBm7Pw==\",\"dtype\":\"float64\",\"shape\":[20]},\"Ticker\":[\"AKRIX\",\"EGFIX\",\"PWB\",\"MGK\",\"VIGRX\",\"PKW\",\"VFTNX\",\"SPHQ\",\"BIAFX\",\"VHIAX\",\"FTCS\",\"MEGBX\",\"SPX_index\",\"GTLLX\",\"AFDAX\",\"JPGSX\",\"DSI\",\"POGAX\",\"GCEQX\",\"SUSA\"]},\"selected\":{\"id\":\"2953\"},\"selection_policy\":{\"id\":\"2971\"}},\"id\":\"2952\",\"type\":\"ColumnDataSource\"},{\"attributes\":{\"active_drag\":\"auto\",\"active_inspect\":\"auto\",\"active_multi\":null,\"active_scroll\":\"auto\",\"active_tap\":\"auto\",\"tools\":[{\"id\":\"2921\"},{\"id\":\"2939\"},{\"id\":\"2940\"},{\"id\":\"2941\"},{\"id\":\"2942\"},{\"id\":\"2943\"}]},\"id\":\"2945\",\"type\":\"Toolbar\"},{\"attributes\":{\"factors\":[\"Large Blend\",\"Large Value\",\"Large Growth\"],\"tags\":[[[\"Category\",\"Category\",null]]]},\"id\":\"3036\",\"type\":\"FactorRange\"},{\"attributes\":{},\"id\":\"3121\",\"type\":\"LinearScale\"},{\"attributes\":{\"data\":{\"Morningstar_Rating\":{\"__ndarray__\":\"pHA9CtcjIUAfhetRuB4iQD0K16NwvSBACtejcD2KIkCPwvUoXI8ZQJqZmZmZmSJAuB6F61G4IkB7FK5H4XoiQA==\",\"dtype\":\"float64\",\"shape\":[8]},\"index\":[\"S\",\"S\",\"S\",\"G\",\"G\",\"G\",\"G\",\"G\"]},\"selected\":{\"id\":\"3196\"},\"selection_policy\":{\"id\":\"3197\"}},\"id\":\"3144\",\"type\":\"ColumnDataSource\"},{\"attributes\":{\"fill_alpha\":{\"value\":0.1},\"fill_color\":{\"value\":\"#1f77b3\"},\"height\":{\"value\":0.7},\"left\":{\"field\":\"top\"},\"line_alpha\":{\"value\":0.1},\"right\":{\"field\":\"bottom\"},\"y\":{\"field\":\"index\"}},\"id\":\"3153\",\"type\":\"HBar\"},{\"attributes\":{\"data\":{\"$schema\":\"https://vega.github.io/schema/vega-lite/v4.8.1.json\",\"config\":{\"view\":{\"continuousHeight\":300,\"continuousWidth\":400}},\"data\":{\"name\":\"data-07b7d2f59176f155178905a5e6dd2087\"},\"datasets\":{},\"encoding\":{\"color\":{\"condition\":{\"test\":\"(datum.Ticker === 'SPX_index')\",\"value\":\"orange\"},\"value\":\"steelblue\"},\"x\":{\"field\":\"Sharpe Ratio\",\"type\":\"quantitative\"},\"y\":{\"field\":\"Ticker\",\"sort\":\"-x\",\"type\":\"nominal\"}},\"mark\":\"bar\",\"width\":600},\"data_sources\":{\"data-07b7d2f59176f155178905a5e6dd2087\":{\"id\":\"3107\"}},\"height\":322,\"margin\":[5,5,30,5],\"name\":\"Vega02967\",\"width\":422},\"id\":\"3108\",\"type\":\"panel.models.vega.VegaPlot\"},{\"attributes\":{\"data\":{\"Returns\":{\"__ndarray__\":\"YORdktm1xD+wDVyz72vCP0jMuyoUYcE/YMqRJsf+wD+QJd5rutDAP7CTmIMIYMA/r6HInz4uwD+ovYlhpA3APw/be/RyX78/EIb3HrL9vT+Bv2aKZSq9P0FZDlG7EL0/f/GGIOe7vD/Q3TGYq6W8PwBaSJrogbw/QFc+tyshvD+wpONVL+S7P7Bn+9XVoLs/ISuzUD2Yuz+gKi6iLBm7Pw==\",\"dtype\":\"float64\",\"shape\":[20]},\"Ticker\":[\"AKRIX\",\"EGFIX\",\"PWB\",\"MGK\",\"VIGRX\",\"PKW\",\"VFTNX\",\"SPHQ\",\"BIAFX\",\"VHIAX\",\"FTCS\",\"MEGBX\",\"SPX_index\",\"GTLLX\",\"AFDAX\",\"JPGSX\",\"DSI\",\"POGAX\",\"GCEQX\",\"SUSA\"],\"index\":[0,1,2,3,4,5,6,7,8,9,10,11,12,13,14,15,16,17,18,19]},\"selected\":{\"id\":\"3226\"},\"selection_policy\":{\"id\":\"3227\"}},\"id\":\"2876\",\"type\":\"ColumnDataSource\"},{\"attributes\":{},\"id\":\"3209\",\"type\":\"UnionRenderers\"},{\"attributes\":{\"data_source\":{\"id\":\"3168\"},\"glyph\":{\"id\":\"3170\"},\"hover_glyph\":null,\"muted_glyph\":null,\"nonselection_glyph\":{\"id\":\"3171\"},\"selection_glyph\":null,\"view\":{\"id\":\"3173\"}},\"id\":\"3172\",\"type\":\"GlyphRenderer\"},{\"attributes\":{\"source\":{\"id\":\"3174\"}},\"id\":\"3179\",\"type\":\"CDSView\"},{\"attributes\":{\"data_source\":{\"id\":\"3174\"},\"glyph\":{\"id\":\"3176\"},\"hover_glyph\":null,\"muted_glyph\":null,\"nonselection_glyph\":{\"id\":\"3177\"},\"selection_glyph\":null,\"view\":{\"id\":\"3179\"}},\"id\":\"3178\",\"type\":\"GlyphRenderer\"},{\"attributes\":{},\"id\":\"2927\",\"type\":\"LinearScale\"}],\"root_ids\":[\"2872\",\"3424\"]},\"title\":\"Bokeh Application\",\"version\":\"2.0.1\"}};\n",
       "  var render_items = [{\"docid\":\"41a898a2-ee98-47ae-b42b-789f16cdc02e\",\"root_ids\":[\"2872\"],\"roots\":{\"2872\":\"13f35291-b6ac-466d-a3da-ad2a305561f7\"}}];\n",
       "  root.Bokeh.embed.embed_items_notebook(docs_json, render_items);\n",
       "  }\n",
       "if (root.Bokeh !== undefined) {\n",
       "    embed_document(root);\n",
       "  } else {\n",
       "    var attempts = 0;\n",
       "    var timer = setInterval(function(root) {\n",
       "      if (root.Bokeh !== undefined) {\n",
       "        clearInterval(timer);\n",
       "        embed_document(root);\n",
       "      } else if (document.readyState == \"complete\") {\n",
       "        attempts++;\n",
       "        if (attempts > 100) {\n",
       "          clearInterval(timer);\n",
       "          console.log(\"Bokeh: ERROR: Unable to run BokehJS code because BokehJS library is missing\");\n",
       "        }\n",
       "      }\n",
       "    }, 10, root)\n",
       "  }\n",
       "})(window);</script>"
      ],
      "text/plain": [
       "Tabs\n",
       "    [0] Column\n",
       "        [0] Markdown(str)\n",
       "        [1] Row\n",
       "            [0] Vega(Chart)\n",
       "        [2] Plotly(Figure, viewport={'xaxis.range': [-1.476709...})\n",
       "        [3] Bokeh(Figure)\n",
       "    [1] Column\n",
       "        [0] Markdown(str)\n",
       "        [1] Row\n",
       "            [0] Vega(Chart)\n",
       "        [2] Row\n",
       "            [0] HoloViews(Scatter)\n",
       "    [2] Column\n",
       "        [0] Markdown(str)\n",
       "        [1] HoloViews(Scatter)\n",
       "        [2] Row\n",
       "            [0] HoloViews(Bars)\n",
       "            [1] Plotly(Figure)\n",
       "        [3] Row\n",
       "            [0] Bokeh(Figure)\n",
       "            [1] Vega(Chart)\n",
       "    [3] Column\n",
       "        [0] Markdown(str)\n",
       "        [1] Row\n",
       "            [0] Str(AxesSubplot)\n",
       "            [1] HoloViews(BoxWhisker)"
      ]
     },
     "execution_count": 60,
     "metadata": {
      "application/vnd.holoviews_exec.v0+json": {
       "id": "2872"
      }
     },
     "output_type": "execute_result"
    }
   ],
   "source": [
    "# Create rows\n",
    "row_performance = pn.Row(top_performer_table)\n",
    "row_performance_analysis = pn.Row(top_20_ret_std_df_plot)\n",
    "row_risk = pn.Row(risk_plot, Fund_category_plot)\n",
    "row_ratios = pn.Row(p, top_sharpe_ratio)\n",
    "row_ESG = pn.Row(ax1, ESG_plot)\n",
    "\n",
    "# Create columns\n",
    "column_intro = pn.Column(\"Summary\", row_performance, pane_total, p)\n",
    "column = pn.Column(\"Performance analysis\",row_performance, row_performance_analysis)\n",
    "column_metrics_risk = pn.Column(\"Funds metrics and categories\", performance_plot, row_risk,row_ratios)\n",
    "column_ESG = pn.Column (\"ESG Analysis\", row_ESG)\n",
    "\n",
    "tabs = pn.Tabs(\n",
    "    (\"Introduction\", column_intro),\n",
    "    (\"Investment Information\", column),\n",
    "    (\"Fundamental analysis\", column_metrics_risk),\n",
    "    (\"ESG Metrics\", column_ESG)\n",
    "    \n",
    ")\n",
    "tabs"
   ]
  },
  {
   "cell_type": "markdown",
   "metadata": {},
   "source": []
  },
  {
   "cell_type": "code",
   "execution_count": null,
   "metadata": {},
   "outputs": [],
   "source": []
  }
 ],
 "metadata": {
  "kernelspec": {
   "display_name": "Python 3",
   "language": "python",
   "name": "python3"
  },
  "language_info": {
   "codemirror_mode": {
    "name": "ipython",
    "version": 3
   },
   "file_extension": ".py",
   "mimetype": "text/x-python",
   "name": "python",
   "nbconvert_exporter": "python",
   "pygments_lexer": "ipython3",
   "version": "3.7.7"
  }
 },
 "nbformat": 4,
 "nbformat_minor": 4
}
